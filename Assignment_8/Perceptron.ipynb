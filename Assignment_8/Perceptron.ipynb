{
 "cells": [
  {
   "cell_type": "markdown",
   "metadata": {
    "id": "y3cWwlbatGdm"
   },
   "source": [
    "# Mustererkennung/Machine Learning - Assignment 8\n",
    "\n"
   ]
  },
  {
   "cell_type": "code",
<<<<<<< HEAD
   "execution_count": 119,
=======
   "execution_count": 4,
>>>>>>> 3ca6e95387beda107206d618bbcda091887b55ab
   "metadata": {
    "ExecuteTime": {
     "end_time": "2018-12-11T12:46:51.443420Z",
     "start_time": "2018-12-11T12:46:50.570749Z"
    },
    "id": "luPsF5SptGdt"
   },
   "outputs": [],
   "source": [
    "import numpy as np\n",
    "import pandas as pd\n",
    "from sklearn.model_selection import train_test_split\n",
    "from sklearn.utils import shuffle\n",
    "import matplotlib.pyplot as plt\n",
    "import seaborn as sns\n",
    "from sklearn.datasets import load_iris\n",
    "from statistics import mean\n",
    "import random\n",
    "from numpy import linalg as LA\n",
    "from sklearn import decomposition\n",
    "%matplotlib inline"
   ]
  },
  {
   "cell_type": "markdown",
   "metadata": {},
   "source": [
<<<<<<< HEAD
=======
    "**Load data**"
   ]
  },
  {
   "cell_type": "code",
   "execution_count": 5,
   "metadata": {},
   "outputs": [],
   "source": [
    "# Load the IRIS dataset\n",
    "iris = load_iris()\n",
    "X_iris = iris.data\n",
    "y_iris = iris.target\n",
    "names = iris.target_names\n",
    "feature_names = iris.feature_names"
   ]
  },
  {
   "cell_type": "markdown",
   "metadata": {
    "id": "8WaByN8YtGdx"
   },
   "source": [
    "#### Splitting the data into training/test and according to their class memberships"
   ]
  },
  {
   "cell_type": "code",
   "execution_count": 6,
   "metadata": {},
   "outputs": [],
   "source": [
    "X_train, X_test, y_train, y_test = train_test_split(X_iris, y_iris, test_size=0.2, random_state=None, stratify=y_iris)\n",
    "\n",
    "# data for training perceptron to distinguish between setosa and virginica/versicolour\n",
    "X_train_setosa = X_train[np.where(y_train==0)]\n",
    "X_train_versicolor = X_train[np.where(y_train==1)]\n",
    "X_train_virginica = X_train[np.where(y_train==2)]\n",
    "X_train_versicolor_virginica = np.concatenate((X_train_versicolor,X_train_virginica))\n",
    "y_train_versicolor_virginica = np.array([1]*X_train_versicolor.shape[0] + [0]*X_train_virginica.shape[0])\n",
    "\n",
    "# data to test perceptron's performance to separate setosa from virginica/versicolour\n",
    "# set setosa to positive class, versicolour/virginica to negative\n",
    "y_test_setosa_vs_rest = (y_test == 0).astype(int)\n",
    "\n",
    "\n",
    "# data to test perceptron's performance to separate versicolour from virginica\n",
    "# make versicolour the positive class\n",
    "X_test_versicolor_virginica = X_test[np.where(y_test!=0)]\n",
    "y_test_versicolor_virginica = y_test[np.where(y_test!=0)]\n",
    "y_test_versicolor_virginica = (y_test_versicolor_virginica == 1).astype(int)\n"
   ]
  },
  {
   "cell_type": "markdown",
   "metadata": {},
   "source": [
>>>>>>> 3ca6e95387beda107206d618bbcda091887b55ab
    "## Exercise 1: Perceptron\n",
    "Implement the Perceptron algorithm using Python (incl. Numpy etc.) and use it on the Iris-dataset. Train the algorithm to seperate Setosa from Versicolour and Virginica"
   ]
  },
  {
   "cell_type": "code",
<<<<<<< HEAD
   "execution_count": 127,
=======
   "execution_count": 7,
>>>>>>> 3ca6e95387beda107206d618bbcda091887b55ab
   "metadata": {},
   "outputs": [],
   "source": [
    "class Perceptron:\n",
    "    def __init__(self, threshold):\n",
    "        self.threshold = threshold\n",
    "        self.w_hat = None\n",
    "        \n",
    "    def center_data(self, P_X, N_X):\n",
    "        \"\"\"This function substracts the mean from the training data and returns the seperate positive/negative sets.\"\"\"\n",
    "        m = np.mean(np.concatenate((P_X, N_X)), axis=0)\n",
    "        return P_X-m, N_X-m\n",
    "    \n",
    "    def train(self, P_X, N_X):\n",
    "        \"\"\"\n",
    "        The train function uses the pocket perceptron training algorithm, where the input P_X, N_X\n",
    "        are the separated positive and negative datasets respectively.\n",
    "        The algorithm is trained on the mean-centered dataset.\n",
    "        \"\"\"\n",
    "        # center data\n",
    "        P_centered, N_centered = self.center_data(P_X, N_X)\n",
    "        # initialize w_hat\n",
    "        self.w_hat = np.average(P_centered, axis=0)\n",
    "        print('Initialize weights:', self.w_hat)\n",
    "        w = self.w_hat\n",
    "        while np.linalg.norm(self.w_hat - w) <= self.threshold:\n",
    "            w = self.w_hat\n",
    "            # select random vector v in NUP\n",
    "            # randomly choose if taking from N or from P\n",
    "            tmp = np.random.choice([0,1])\n",
    "            # if v in P\n",
    "            if tmp == 1:\n",
    "                v = np.random.choice(range(P_centered.shape[0]))\n",
    "                v = P_centered[v,:]\n",
    "                # if projection of v onto w is positive, continue,\n",
    "                # else update w_hat with v\n",
    "                if w @ v <= 0:\n",
    "                    self.w_hat = w + v # Possibility: introduce learning rate = (true label(1/0) - predictions (0/1))\n",
    "            # if v in N\n",
    "            else:\n",
    "                v = np.random.choice(range(N_centered.shape[0]))\n",
    "                v = N_centered[v,:]                \n",
    "                # if projection of v onto w is negative, continue,\n",
    "                # else update w_hat with v\n",
    "                if w @ v >= 0:\n",
    "                    self.w_hat = w - v\n",
    "        print('Final weights:', self.w_hat)\n",
    "    \n",
    "    def predict(self, X):\n",
    "        \"\"\"This function returns the predicted labels using the heaviside step function.\"\"\"\n",
    "        m = np.mean(X, axis=0)\n",
    "        X_centered = X-m\n",
    "        Y_pred = (X_centered@self.w_hat > 0).astype(int)\n",
    "        return Y_pred\n",
    "    \n",
    "    \n",
    "    def accuracy(self, labels, predictions):\n",
    "        \"\"\"This function calculates the binary class accuracy for given true/predicted labels\"\"\"\n",
    "        return np.mean(labels == predictions)"
   ]
  },
  {
   "cell_type": "markdown",
   "metadata": {},
   "source": [
    "## Load data"
   ]
  },
  {
   "cell_type": "code",
   "execution_count": 128,
   "metadata": {},
   "outputs": [],
   "source": [
    "# https://vitalflux.com/convert-sklearn-dataset-pandas-dataframe/\n",
    "\n",
    "# Load the IRIS dataset\n",
    "iris = load_iris()\n",
    "X = iris.data\n",
    "y = iris.target\n",
    "names = iris.target_names"
   ]
  },
  {
   "cell_type": "markdown",
   "metadata": {
    "id": "8WaByN8YtGdx"
   },
   "source": [
    "#### Splitting the data into training/test and according to their class memberships"
   ]
  },
  {
   "cell_type": "code",
   "execution_count": 139,
   "metadata": {},
   "outputs": [],
   "source": [
    "X_train, X_test, y_train, y_test = train_test_split(X, y, test_size=0.2, random_state=None, stratify=y)\n",
    "\n",
    "X_train_setosa = X_train[np.where(y_train==0)]\n",
    "X_train_versicolor = X_train[np.where(y_train==1)]\n",
    "X_train_virginica = X_train[np.where(y_train==2)]\n",
    "\n",
    "# data for training perceptron to distinguish between setosa and virginica/versicolour\n",
    "X_train_versicolor_virginica = np.concatenate((X_train_versicolor,X_train_virginica))\n",
    "# data to test perceptron's performance to separate setosa from virginica/versicolour\n",
    "# set setosa to positive class, versicolour/virginica to negative\n",
    "y_test_setosa_vs_rest = (y_test == 0).astype(int)\n",
    "\n",
    "# data to test perceptron's performance to separate versicolour from virginica\n",
    "# make versicolour the positive class\n",
    "X_test_versicolor_virginica = X_test[np.where(y_test!=0)]\n",
    "y_test_versicolor_virginica = y_test[np.where(y_test!=0)]\n",
    "y_test_versicolor_virginica = (y_test_versicolor_virginica == 1).astype(int)\n",
    "\n",
    "\n",
    "# data for training perceptron to distinguish between ...\n",
    "X_train_setosa_versicolor = np.concatenate((X_train_setosa,X_train_versicolor))\n",
    "# data to test perceptron's performance to separate ...\n",
    "# set ... to positive class, setosa/... to negative\n",
    "y_test_virginica_vs_rest = (y_test == 2).astype(int)"
   ]
  },
  {
   "cell_type": "markdown",
   "metadata": {},
   "source": [
    "**Train single perceptron to distinguish between setosa vs versicolour and virginica:**"
   ]
  },
  {
   "cell_type": "code",
<<<<<<< HEAD
   "execution_count": 140,
=======
   "execution_count": 8,
>>>>>>> 3ca6e95387beda107206d618bbcda091887b55ab
   "metadata": {},
   "outputs": [],
   "source": [
    "Single_Perceptron = Perceptron(0.001)"
   ]
  },
  {
   "cell_type": "code",
<<<<<<< HEAD
   "execution_count": 141,
=======
   "execution_count": 9,
>>>>>>> 3ca6e95387beda107206d618bbcda091887b55ab
   "metadata": {},
   "outputs": [
    {
     "name": "stdout",
     "output_type": "stream",
     "text": [
<<<<<<< HEAD
      "Initialize weights: [-0.84333333  0.34333333 -2.27833333 -0.95083333]\n",
      "Final weights: [ 0.0725  0.985  -1.8375 -0.7575]\n"
=======
      "Initialize weights: [-0.86083333  0.38583333 -2.30416667 -0.94083333]\n",
      "Final weights: [-0.0125  1.135  -1.8375 -0.755 ]\n"
>>>>>>> 3ca6e95387beda107206d618bbcda091887b55ab
     ]
    }
   ],
   "source": [
    "Single_Perceptron.train(X_train_setosa, X_train_versicolor_virginica)"
   ]
  },
  {
   "cell_type": "markdown",
   "metadata": {},
   "source": [
    "**Evaluate performance**"
   ]
  },
  {
   "cell_type": "code",
<<<<<<< HEAD
   "execution_count": 142,
   "metadata": {},
   "outputs": [],
   "source": [
    "y_pred = Single_Perceptron.predict(X_test)"
=======
   "execution_count": 10,
   "metadata": {},
   "outputs": [],
   "source": [
    "pca = decomposition.PCA(n_components=2)\n",
    "# center training data to have perceptron weight vector with respect to zero mean\n",
    "X_centered = X_train - X_train.mean(axis=0)\n",
    "pca.fit(np.concatenate((X_centered,[Single_Perceptron.w_hat])))\n",
    "X = pca.fit_transform(np.concatenate((X_centered,[Single_Perceptron.w_hat])))"
>>>>>>> 3ca6e95387beda107206d618bbcda091887b55ab
   ]
  },
  {
   "cell_type": "code",
<<<<<<< HEAD
   "execution_count": 143,
   "metadata": {},
   "outputs": [
    {
     "name": "stdout",
     "output_type": "stream",
     "text": [
      "Accuracy: 1.0\n"
     ]
    }
   ],
   "source": [
    "print('Accuracy:',Single_Perceptron.accuracy(y_test_setosa_vs_rest, y_pred))"
   ]
  },
  {
   "cell_type": "code",
   "execution_count": 144,
=======
   "execution_count": 11,
>>>>>>> 3ca6e95387beda107206d618bbcda091887b55ab
   "metadata": {},
   "outputs": [
    {
     "data": {
<<<<<<< HEAD
=======
      "image/png": "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\n",
>>>>>>> 3ca6e95387beda107206d618bbcda091887b55ab
      "text/plain": [
       "array([0, 1, 0, 0, 0, 1, 0, 0, 0, 1, 0, 0, 0, 0, 1, 0, 1, 0, 1, 0, 0, 0,\n",
       "       0, 1, 1, 1, 1, 0, 0, 0])"
      ]
     },
     "execution_count": 144,
     "metadata": {},
     "output_type": "execute_result"
    }
   ],
   "source": [
    "y_pred"
   ]
  },
  {
   "cell_type": "code",
   "execution_count": 146,
   "metadata": {},
   "outputs": [
    {
     "data": {
      "text/plain": [
       "array([0, 1, 0, 0, 0, 1, 0, 0, 0, 1, 0, 0, 0, 0, 1, 0, 1, 0, 1, 0, 0, 0,\n",
       "       0, 1, 1, 1, 1, 0, 0, 0])"
      ]
     },
     "execution_count": 146,
     "metadata": {},
     "output_type": "execute_result"
    }
   ],
   "source": [
    "y_test_setosa_vs_rest"
   ]
  },
  {
   "cell_type": "markdown",
   "metadata": {},
   "source": [
    "**Visualize training data and learned weight vector**"
   ]
  },
  {
   "cell_type": "code",
<<<<<<< HEAD
   "execution_count": 147,
=======
   "execution_count": 12,
>>>>>>> 3ca6e95387beda107206d618bbcda091887b55ab
   "metadata": {},
   "outputs": [],
   "source": [
    "from sklearn import decomposition\n",
    "pca = decomposition.PCA(n_components=2)\n",
    "# center training data to have perceptron weight vector with respect to zero mean\n",
    "X_centered = X_train - X_train.mean(axis=0)\n",
    "pca.fit(np.concatenate((X_centered,[Single_Perceptron.w_hat])))\n",
    "X = pca.fit_transform(np.concatenate((X_centered,[Single_Perceptron.w_hat])))"
   ]
  },
  {
   "cell_type": "code",
<<<<<<< HEAD
   "execution_count": 148,
   "metadata": {},
   "outputs": [
    {
     "data": {
      "image/png": "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\n",
      "text/plain": [
       "<Figure size 576x360 with 1 Axes>"
      ]
     },
     "metadata": {
      "needs_background": "light"
     },
     "output_type": "display_data"
    }
   ],
   "source": [
    "fig, ax = plt.subplots(1, figsize=(8,5))\n",
    "data = X[:-1,:]- X[:-1,:].mean(axis=0)\n",
    "for i in range(len(names)):\n",
    "    ax.scatter(data[np.where(y_train==i),0], data[np.where(y_train==i),1], label=names[i])\n",
    "ax.plot(X[:-1,:].mean(axis=0)[0],X[:-1,:].mean(axis=0)[1],c='red', marker='s', label='center')\n",
    "tail = X[:-1,:].mean(axis=0)\n",
    "ax.quiver(*tail,X[-1,0], X[-1,1], scale=15, label='w') \n",
    "ax.legend()\n",
    "ax.set_title('Training data and orthogonal weight vector')\n",
    "ax.set_xlabel('PC1')\n",
    "ax.set_ylabel('PC2')\n",
    "plt.show()"
=======
   "execution_count": 13,
   "metadata": {},
   "outputs": [
    {
     "name": "stdout",
     "output_type": "stream",
     "text": [
      "Accuracy of Setosa vs Virginica/Versicolor: 1.0\n"
     ]
    }
   ],
   "source": [
    "print('Accuracy of Setosa vs Virginica/Versicolor:',Single_Perceptron.accuracy(y_test_setosa_vs_rest, y_pred))"
   ]
  },
  {
   "cell_type": "markdown",
   "metadata": {},
   "source": [
    "## (a) What happens if you use the algorithm to seperate Versicolour from Virginica? (Evaluate multiple runs)"
>>>>>>> 3ca6e95387beda107206d618bbcda091887b55ab
   ]
  },
  {
   "cell_type": "markdown",
   "metadata": {},
   "source": [
    "#### Using newly trained Perceptrons"
   ]
  },
  {
   "cell_type": "code",
<<<<<<< HEAD
   "execution_count": 149,
   "metadata": {},
   "outputs": [],
   "source": [
    "y_pred_versicolour_vs_virginica = Single_Perceptron.predict(X_test_versicolor_virginica)"
=======
   "execution_count": 14,
   "metadata": {},
   "outputs": [],
   "source": [
    "%%capture\n",
    "acc_list = []\n",
    "for i in range(100):\n",
    "    clf_versicolor_virginica = Perceptron(threshold = 0.001)\n",
    "    clf_versicolor_virginica.train(X_train_versicolor, X_train_virginica) # versicolor is the positive class\n",
    "\n",
    "    y_pred_versicolor_virginica = clf_versicolor_virginica.predict(X_test_versicolor_virginica)\n",
    "\n",
    "    acc_list.append(clf_versicolor_virginica.accuracy(y_test_versicolor_virginica, y_pred_versicolor_virginica))"
>>>>>>> 3ca6e95387beda107206d618bbcda091887b55ab
   ]
  },
  {
   "cell_type": "code",
<<<<<<< HEAD
   "execution_count": 150,
   "metadata": {},
=======
   "execution_count": 15,
   "metadata": {
    "scrolled": true
   },
>>>>>>> 3ca6e95387beda107206d618bbcda091887b55ab
   "outputs": [
    {
     "name": "stdout",
     "output_type": "stream",
     "text": [
      "Versicolor vs Virginica mean accuracy: 0.8760000000000001\n"
     ]
    }
   ],
   "source": [
    "print(\"Versicolor vs Virginica mean accuracy:\", np.mean(acc_list))"
   ]
  },
  {
<<<<<<< HEAD
   "cell_type": "code",
   "execution_count": 151,
   "metadata": {},
   "outputs": [
    {
     "data": {
      "text/plain": [
       "(array([0, 1]), array([10, 10]))"
      ]
     },
     "execution_count": 151,
     "metadata": {},
     "output_type": "execute_result"
    }
   ],
=======
   "cell_type": "markdown",
   "metadata": {},
>>>>>>> 3ca6e95387beda107206d618bbcda091887b55ab
   "source": [
    "**Visualize Versicolor and Virginica training data and learned weight vector**"
   ]
  },
  {
   "cell_type": "code",
<<<<<<< HEAD
   "execution_count": 152,
=======
   "execution_count": 16,
>>>>>>> 3ca6e95387beda107206d618bbcda091887b55ab
   "metadata": {},
   "outputs": [
    {
     "data": {
      "image/png": "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\n",
      "text/plain": [
       "<Figure size 576x360 with 1 Axes>"
      ]
     },
<<<<<<< HEAD
     "execution_count": 152,
     "metadata": {},
     "output_type": "execute_result"
=======
     "metadata": {
      "needs_background": "light"
     },
     "output_type": "display_data"
>>>>>>> 3ca6e95387beda107206d618bbcda091887b55ab
    }
   ],
   "source": [
    "pca_a = decomposition.PCA(n_components=2)\n",
    "X_centered_a = X_train_versicolor_virginica - X_train_versicolor_virginica.mean(axis=0)\n",
    "X_a = pca_a.fit_transform(np.concatenate((X_centered,[Single_Perceptron.w_hat])))\n",
    "fig, ax = plt.subplots(1, figsize=(8,5))\n",
    "data_a = X_a[:-1,:]- X_a[:-1,:].mean(axis=0)\n",
    "for i in range(2):\n",
    "    ax.scatter(data_a[np.where(y_train_versicolor_virginica==i),0], data_a[np.where(y_train_versicolor_virginica==i),1], label=names[i+1])\n",
    "ax.plot(X_a[:-1,:].mean(axis=0)[0],X_a[:-1,:].mean(axis=0)[1],c='red', marker='s', label='center')\n",
    "tail_a = X_a[:-1,:].mean(axis=0)\n",
    "ax.quiver(*tail_a,X_a[-1,0], X_a[-1,1], scale=15, label='w') \n",
    "ax.legend()\n",
    "ax.set_title('Versicolor and Virginica PCA and orthogonal weight vector')\n",
    "ax.set_xlabel('PC1')\n",
    "ax.set_ylabel('PC2')\n",
    "plt.show()"
   ]
  },
  {
   "cell_type": "markdown",
   "metadata": {},
   "source": [
<<<<<<< HEAD
    "**Result**\n",
    "\n",
    "Applying a perceptron classifier trained to separate setosa flowers from virginica and versicolour to predict species for an unlabelled set of only versicolours and virginicas leads to a classification performance equal to random guessing. The orthogonal vector w was trained to produce negative projections for versicolour and virginica which it actually did as shown by the label count in the returned prediction array. <br>\n",
    "Yet, we forced the perceptron to consider one class as positive that it naturally was leaerned to consider as negative. This way, only that half of the test data produced good evaluation results, that was labelled to be negative.\n",
    "\n"
=======
    "#### Result:\n",
    "No idea what is problematic with this prediction?\n",
    "The 2D PCA does not look pretty, but versicolor and virginica are apparently pretty well classifiable in 4D"
>>>>>>> 3ca6e95387beda107206d618bbcda091887b55ab
   ]
  },
  {
   "cell_type": "markdown",
   "metadata": {},
   "source": [
<<<<<<< HEAD
    "**(b) Find a way to solve the problem and obtain the accuracy.**\n",
    "\n",
    "Our implementation works only for binary classification problems. \n",
    "If we wanted to only separate versicolour from virginica, we could train an additional perceptron on a set containing only feature data of these two species. In application, a test flower is classified based on the combined output from two perceptrons: (1) setosa vs rest (1/0) and (2) virginica vs rest (1/0).\n",
    "If (1) returns 1, the label is setosa. If (1) returns 0 and (2) returns 1, the label is virginica, else versicolor.\n",
    "The second Perceptron needs to be trained with virginica being the positive class, as versicolor is not linearly separable from the two other species (see https://chart-studio.plotly.com/~amilworks/80.embed).\n",
    "\n",
    "**Train single perceptron to distinguish between versicolor vs setosa and virginica**"
=======
    "## (b) Find a way to solve the problem and obtain the accuracy."
>>>>>>> 3ca6e95387beda107206d618bbcda091887b55ab
   ]
  },
  {
   "cell_type": "code",
<<<<<<< HEAD
   "execution_count": 153,
   "metadata": {},
   "outputs": [],
   "source": [
    "Single_Perceptron2 = Perceptron(0.001)"
   ]
  },
  {
   "cell_type": "code",
   "execution_count": 154,
   "metadata": {},
   "outputs": [
    {
     "name": "stdout",
     "output_type": "stream",
     "text": [
      "Initialize weights: [ 0.75666667 -0.07666667  1.75666667  0.81166667]\n",
      "Final weights: [ 0.9725 -0.035   0.9975  0.505 ]\n"
     ]
    }
   ],
   "source": [
    "Single_Perceptron2.train(X_train_virginica, X_train_setosa_versicolor)"
   ]
  },
  {
   "cell_type": "code",
   "execution_count": 155,
   "metadata": {},
   "outputs": [],
   "source": [
    "y_pred2 = Single_Perceptron2.predict(X_test)"
   ]
  },
  {
   "cell_type": "code",
   "execution_count": 156,
   "metadata": {},
   "outputs": [
    {
     "name": "stdout",
     "output_type": "stream",
     "text": [
      "Accuracy: 0.3333333333333333\n"
     ]
    }
   ],
   "source": [
    "print('Accuracy:',Single_Perceptron2.accuracy(y_test_virginica_vs_rest, y_pred2))"
   ]
  },
  {
   "cell_type": "markdown",
   "metadata": {},
   "source": [
    "**Combine predictions**"
   ]
  },
  {
   "cell_type": "code",
   "execution_count": 103,
   "metadata": {},
   "outputs": [],
   "source": [
    "final_pred = []\n",
    "for elem in zip(y_pred,y_pred2):\n",
    "    if elem[0] == 1:\n",
    "        final_pred.append(0)\n",
    "    else:\n",
    "        if elem[1] == 0:\n",
    "            final_pred.append(1)\n",
    "        else:\n",
    "            final_pred.append(2)"
   ]
  },
  {
   "cell_type": "code",
   "execution_count": 104,
   "metadata": {},
   "outputs": [
    {
     "name": "stdout",
     "output_type": "stream",
     "text": [
      "Accuracy: 0.3333333333333333\n"
     ]
    }
   ],
   "source": [
    "print('Accuracy:', np.mean(y_test==final_pred))"
=======
   "execution_count": 17,
   "metadata": {},
   "outputs": [],
   "source": [
    "#????"
>>>>>>> 3ca6e95387beda107206d618bbcda091887b55ab
   ]
  },
  {
   "cell_type": "markdown",
   "metadata": {},
   "source": [
    "## Excercise 2: Multilayer-Perceptron (MLP)\n",
    "Implement a class that builds an MLP with both variable depth D (number of layers) and variable number of neurons ni for each layer i = 1,...,D."
   ]
  },
  {
   "cell_type": "code",
   "execution_count": 18,
   "metadata": {},
   "outputs": [],
   "source": [
    "class MLP:\n",
    "    def __init__(self, threshold, depth, layer_width):\n",
    "        \"\"\"\n",
    "        This constructor sets random network weights and checks if the input depth matches the provided layers.\n",
    "        \"\"\"\n",
    "        self.threshold = threshold\n",
    "        self.depth = depth\n",
    "        if not len(layer_width) == (depth + 1):\n",
    "            raise Exception(\"'layer_width' needs to be of length 'depth' + 1\")  \n",
    "        self.layer_width = layer_width\n",
    "        self.network_weights = []\n",
    "        self.network_biases = []\n",
    "        width_prev = self.layer_width[0]\n",
    "        for width in self.layer_width[1:]:\n",
    "            self.network_weights.append(np.random.randn(width_prev, width)* np.sqrt(1. / width_prev))\n",
    "            self.network_biases.append(np.zeros((1, width)))\n",
    "            width_prev = width\n",
    "    \n",
    "    def heaviside(self, X):\n",
    "        \"\"\"This Function is a tiny implementation of the heaviside step function.\"\"\"\n",
    "        return (X > 0).astype(int)\n",
    "    \n",
    "    def iterate_trough_network(self, X):\n",
    "        \"\"\"This Function passes the input X through all weights and returns the prediction vector.\"\"\"\n",
    "        X_i = X.copy()\n",
    "        for i in range(self.depth):\n",
    "            z_i = X_i @ self.network_weights[i] + self.network_biases[i]\n",
    "            X_i = self.heaviside(z_i)\n",
    "        return X_i\n",
    "    \n",
    "    def train(self, X):\n",
    "        \"\"\"The train function will be implemented in Assignment 9.\"\"\"\n",
    "        raise Exception(\"The train function will be implemented in Assignment 9!!!\")\n",
    "    \n",
    "    def predict(self, X):\n",
    "        \"\"\"This function passes the input X to the iteration function.\"\"\"\n",
    "        return (self.iterate_trough_network(X)).ravel()\n",
    "    \n",
    "    def accuracy(self, labels, predictions):\n",
    "        \"\"\"This function calculates the binary class accuracy for given true/predicted labels.\"\"\"\n",
    "        return np.mean(labels == predictions)"
   ]
  },
  {
   "cell_type": "markdown",
   "metadata": {},
   "source": [
    "### Produce outputs on the ZIP- Dataset."
   ]
  },
  {
   "cell_type": "markdown",
   "metadata": {},
   "source": [
    "#### Load the Zip Dataset"
   ]
  },
  {
   "cell_type": "code",
   "execution_count": 19,
   "metadata": {},
   "outputs": [],
   "source": [
    "path_to_train = 'zip.train'\n",
    "path_to_test = 'zip.test'\n",
    "training_data = np.array(pd.read_csv(path_to_train, sep=' ', header=None))\n",
    "test_data = np.array(pd.read_csv(path_to_test, sep =' ',header=None))\n",
    "\n",
    "X_train_zip, y_train_zip = training_data[:,1:-1], training_data[:,0]\n",
    "X_test_zip, y_test_zip = test_data[:,1:], test_data[:,0]\n",
    "\n",
    "# We only want to classify two different digits. You can choose which digits you want to classify youself\n",
    "\n",
    "X_train_zip = X_train_zip[np.logical_or(y_train_zip == 0, y_train_zip == 1)]\n",
    "y_train_zip = y_train_zip[np.logical_or(y_train_zip == 0, y_train_zip == 1)]\n",
    "\n",
    "X_test_zip = X_test_zip[np.logical_or(y_test_zip == 0, y_test_zip == 1)]\n",
    "y_test_zip = y_test_zip[np.logical_or(y_test_zip == 0, y_test_zip == 1)]"
   ]
  },
  {
   "cell_type": "code",
   "execution_count": 20,
   "metadata": {},
   "outputs": [
    {
     "data": {
      "text/plain": [
       "(2199, 256)"
      ]
     },
     "execution_count": 20,
     "metadata": {},
     "output_type": "execute_result"
    }
   ],
   "source": [
    "X_train_zip.shape"
   ]
  },
  {
   "cell_type": "markdown",
   "metadata": {},
   "source": [
    "#### Classify the Zip-Dataset with the random initial weights"
   ]
  },
  {
   "cell_type": "code",
   "execution_count": 21,
   "metadata": {},
   "outputs": [],
   "source": [
    "mlp_network = MLP(threshold=0.01, depth=2, layer_width=[X_train_zip.shape[1], 10, 1])"
   ]
  },
  {
   "cell_type": "code",
   "execution_count": 22,
   "metadata": {},
   "outputs": [
    {
     "name": "stdout",
     "output_type": "stream",
     "text": [
      "(256, 10)\n",
      "(10, 1)\n",
      "(1, 10)\n",
      "(1, 1)\n"
     ]
    }
   ],
   "source": [
    "print(mlp_network.network_weights[0].shape)\n",
    "print(mlp_network.network_weights[1].shape)\n",
    "print(mlp_network.network_biases[0].shape)\n",
    "print(mlp_network.network_biases[1].shape)"
   ]
  },
  {
   "cell_type": "code",
   "execution_count": 23,
   "metadata": {},
   "outputs": [],
   "source": [
    "y_pred_mlp = mlp_network.predict(X_train_zip)"
   ]
  },
  {
   "cell_type": "code",
   "execution_count": 24,
   "metadata": {},
   "outputs": [
    {
     "data": {
      "text/plain": [
       "0.11732605729877217"
      ]
     },
     "execution_count": 24,
     "metadata": {},
     "output_type": "execute_result"
    }
   ],
   "source": [
    "mlp_network.accuracy(y_train_zip, y_pred_mlp)"
   ]
  },
  {
   "cell_type": "code",
   "execution_count": 25,
   "metadata": {},
   "outputs": [
    {
     "data": {
      "text/plain": [
       "(array([0, 1]), array([1235,  964], dtype=int64))"
      ]
     },
     "execution_count": 25,
     "metadata": {},
     "output_type": "execute_result"
    }
   ],
   "source": [
    "np.unique(y_pred_mlp, return_counts=True)"
   ]
  },
  {
   "cell_type": "code",
   "execution_count": 26,
   "metadata": {},
   "outputs": [
    {
     "data": {
      "text/plain": [
       "(array([0., 1.]), array([1194, 1005], dtype=int64))"
      ]
     },
     "execution_count": 26,
     "metadata": {},
     "output_type": "execute_result"
    }
   ],
   "source": [
    "np.unique(y_train_zip, return_counts=True)"
   ]
  },
  {
   "cell_type": "markdown",
   "metadata": {},
   "source": [
    "#### Get a mean accuracy over multiple runs"
   ]
  },
  {
   "cell_type": "code",
   "execution_count": 27,
   "metadata": {},
   "outputs": [
    {
     "name": "stdout",
     "output_type": "stream",
     "text": [
      "Mean Acc over 100 runs, with random weights is: 0.47591177808094576\n"
     ]
    }
   ],
   "source": [
    "acc_list_mlp = []\n",
    "n_runs = 100\n",
    "for i in range(n_runs):\n",
    "    mlp_network = MLP(threshold=0.01, depth=2, layer_width=[X_train_zip.shape[1], 10, 1])\n",
    "    y_pred_loop = mlp_network.predict(X_train_zip)\n",
    "    acc_list_mlp.append(mlp_network.accuracy(y_train_zip, y_pred_loop))\n",
    "print(\"Mean Acc over\", n_runs, \"runs, with random weights is:\", np.mean(acc_list_mlp))"
   ]
  },
  {
   "cell_type": "markdown",
   "metadata": {},
   "source": [
    "### Result:\n",
    "Without any training, the predictions of the MLP are pretty much random at an accuracy of 50%"
   ]
  }
 ],
 "metadata": {
  "colab": {
   "name": "Perceptron.ipynb",
   "provenance": [],
   "toc_visible": true
  },
  "kernelspec": {
   "display_name": "Python 3",
   "language": "python",
   "name": "python3"
  },
  "language_info": {
   "codemirror_mode": {
    "name": "ipython",
    "version": 3
   },
   "file_extension": ".py",
   "mimetype": "text/x-python",
   "name": "python",
   "nbconvert_exporter": "python",
   "pygments_lexer": "ipython3",
   "version": "3.6.10"
  }
 },
 "nbformat": 4,
 "nbformat_minor": 1
}
