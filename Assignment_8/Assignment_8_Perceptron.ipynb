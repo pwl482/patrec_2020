{
 "cells": [
  {
   "cell_type": "markdown",
   "metadata": {
    "id": "y3cWwlbatGdm"
   },
   "source": [
    "# Mustererkennung/Machine Learning - Assignment 8\n",
    "\n"
   ]
  },
  {
   "cell_type": "code",
   "execution_count": 1,
   "metadata": {
    "ExecuteTime": {
     "end_time": "2018-12-11T12:46:51.443420Z",
     "start_time": "2018-12-11T12:46:50.570749Z"
    },
    "id": "luPsF5SptGdt"
   },
   "outputs": [],
   "source": [
    "import numpy as np\n",
    "import pandas as pd\n",
    "from sklearn.model_selection import train_test_split\n",
    "from sklearn.utils import shuffle\n",
    "import matplotlib.pyplot as plt\n",
    "import seaborn as sns\n",
    "from sklearn.datasets import load_iris\n",
    "from statistics import mean\n",
    "import random\n",
    "from numpy import linalg as LA\n",
    "from sklearn import decomposition\n",
    "%matplotlib inline"
   ]
  },
  {
   "cell_type": "markdown",
   "metadata": {},
   "source": [
    "**Load data**"
   ]
  },
  {
   "cell_type": "code",
   "execution_count": 2,
   "metadata": {},
   "outputs": [],
   "source": [
    "# Load the IRIS dataset\n",
    "iris = load_iris()\n",
    "X_iris = iris.data\n",
    "y_iris = iris.target\n",
    "names = iris.target_names\n",
    "feature_names = iris.feature_names"
   ]
  },
  {
   "cell_type": "markdown",
   "metadata": {
    "id": "8WaByN8YtGdx"
   },
   "source": [
    "#### Splitting the data into training/test and according to their class memberships"
   ]
  },
  {
   "cell_type": "code",
   "execution_count": 76,
   "metadata": {},
   "outputs": [],
   "source": [
    "X_train, X_test, y_train, y_test = train_test_split(X_iris, y_iris, test_size=0.2, random_state=None, stratify=y_iris)\n",
    "\n",
    "# data for training perceptron to distinguish between setosa and virginica/versicolour\n",
    "X_train_setosa = X_train[np.where(y_train==0)]\n",
    "X_train_versicolor = X_train[np.where(y_train==1)]\n",
    "X_train_virginica = X_train[np.where(y_train==2)]\n",
    "X_train_versicolor_virginica = np.concatenate((X_train_versicolor,X_train_virginica))\n",
    "y_train_versicolor_virginica = np.array([1]*X_train_versicolor.shape[0] + [0]*X_train_virginica.shape[0])\n",
    "\n",
    "# data to test perceptron's performance to separate setosa from virginica/versicolour\n",
    "# set setosa to positive class, versicolour/virginica to negative\n",
    "y_test_setosa_vs_rest = (y_test == 0).astype(int)\n",
    "\n",
    "\n",
    "# data to test perceptron's performance to separate versicolour from virginica\n",
    "# make versicolour the positive class\n",
    "X_test_versicolor_virginica = X_test[np.where(y_test!=0)]\n",
    "y_test_versicolor_virginica = y_test[np.where(y_test!=0)]\n",
    "y_test_versicolor_virginica = (y_test_versicolor_virginica == 1).astype(int)\n"
   ]
  },
  {
   "cell_type": "markdown",
   "metadata": {},
   "source": [
    "## Exercise 1: Perceptron\n",
    "Implement the Perceptron algorithm using Python (incl. Numpy etc.) and use it on the Iris-dataset. Train the algorithm to seperate Setosa from Versicolour and Virginica"
   ]
  },
  {
   "cell_type": "code",
   "execution_count": 4,
   "metadata": {},
   "outputs": [],
   "source": [
    "class Perceptron:\n",
    "    def __init__(self, threshold):\n",
    "        self.threshold = threshold\n",
    "        self.w_hat = None\n",
    "        \n",
    "    def center_data(self, P_X, N_X):\n",
    "        \"\"\"This function substracts the mean from the training data and returns the seperate positive/negative sets.\"\"\"\n",
    "        m = np.mean(np.concatenate((P_X, N_X)), axis=0)\n",
    "        return P_X-m, N_X-m\n",
    "    \n",
    "    def train(self, P_X, N_X):\n",
    "        \"\"\"\n",
    "        The train function uses the pocket perceptron training algorithm, where the input P_X, N_X\n",
    "        are the separated positive and negative datasets respectively.\n",
    "        The algorithm is trained on the mean-centered dataset.\n",
    "        \"\"\"\n",
    "        # center data\n",
    "        P_centered, N_centered = self.center_data(P_X, N_X)\n",
    "        # initialize w_hat\n",
    "        self.w_hat = np.average(P_centered, axis=0)\n",
    "        print('Initialize weights:', self.w_hat)\n",
    "        w = self.w_hat\n",
    "        while np.linalg.norm(self.w_hat - w) <= self.threshold:\n",
    "            w = self.w_hat\n",
    "            # select random vector v in NUP\n",
    "            # randomly choose if taking from N or from P\n",
    "            tmp = np.random.choice([0,1])\n",
    "            # if v in P\n",
    "            if tmp == 1:\n",
    "                v = np.random.choice(range(P_centered.shape[0]))\n",
    "                v = P_centered[v,:]\n",
    "                # if projection of v onto w is positive, continue,\n",
    "                # else update w_hat with v\n",
    "                if w @ v <= 0:\n",
    "                    self.w_hat = w + v\n",
    "            # if v in N\n",
    "            else:\n",
    "                v = np.random.choice(range(N_centered.shape[0]))\n",
    "                v = N_centered[v,:]                \n",
    "                # if projection of v onto w is negative, continue,\n",
    "                # else update w_hat with v\n",
    "                if w @ v >= 0:\n",
    "                    self.w_hat = w - v\n",
    "        print('Final weights:', self.w_hat)\n",
    "    \n",
    "    def predict(self, X):\n",
    "        \"\"\"This function returns the predicted labels using the heaviside step function.\"\"\"\n",
    "        m = np.mean(X, axis=0)\n",
    "        X_centered = X-m\n",
    "        Y_pred = (X_centered@self.w_hat > 0).astype(int)\n",
    "        return Y_pred\n",
    "    \n",
    "    \n",
    "    def accuracy(self, labels, predictions):\n",
    "        \"\"\"This function calculates the binary class accuracy for given true/predicted labels\"\"\"\n",
    "        return np.mean(labels == predictions)"
   ]
  },
  {
   "cell_type": "markdown",
   "metadata": {},
   "source": [
    "**Train single perceptron to distinguish between setosa vs versicolour and virginica:**\n",
    "\n",
    "Train Perceptron on setosa (P) and versicolor+virginica (N)"
   ]
  },
  {
   "cell_type": "code",
   "execution_count": 37,
   "metadata": {},
   "outputs": [],
   "source": [
    "Single_Perceptron = Perceptron(0.001)"
   ]
  },
  {
   "cell_type": "code",
   "execution_count": 38,
   "metadata": {},
   "outputs": [
    {
     "name": "stdout",
     "output_type": "stream",
     "text": [
      "Initialize weights: [-0.82583333  0.36916667 -2.31       -0.94583333]\n",
      "Final weights: [-0.68    0.825  -2.05   -0.7625]\n"
     ]
    }
   ],
   "source": [
    "Single_Perceptron.train(X_train_setosa, X_train_versicolor_virginica)"
   ]
  },
  {
   "cell_type": "markdown",
   "metadata": {},
   "source": [
    "**Evaluate performance**"
   ]
  },
  {
   "cell_type": "code",
   "execution_count": 41,
   "metadata": {},
   "outputs": [],
   "source": [
    "y_pred = Single_Perceptron.predict(X_test)"
   ]
  },
  {
   "cell_type": "code",
   "execution_count": 42,
   "metadata": {},
   "outputs": [
    {
     "name": "stdout",
     "output_type": "stream",
     "text": [
      "Accuracy of Setosa vs Virginica/Versicolor: 0.9333333333333333\n"
     ]
    }
   ],
   "source": [
    "print('Accuracy of Setosa vs Virginica/Versicolor:',Single_Perceptron.accuracy(y_test_setosa_vs_rest, y_pred))"
   ]
  },
  {
   "cell_type": "markdown",
   "metadata": {},
   "source": [
    "**Visualize training data and learned weight vector**\n",
    "\n",
    "Plot centered training data together with learned weight vector."
   ]
  },
  {
   "cell_type": "code",
   "execution_count": 43,
   "metadata": {},
   "outputs": [],
   "source": [
    "pca = decomposition.PCA(n_components=2)\n",
    "# center training data to have perceptron weight vector with respect to zero mean\n",
    "X_centered = X_train - X_train.mean(axis=0)\n",
    "pca.fit(np.concatenate((X_centered,[Single_Perceptron.w_hat])))\n",
    "X = pca.fit_transform(np.concatenate((X_centered,[Single_Perceptron.w_hat])))"
   ]
  },
  {
   "cell_type": "code",
   "execution_count": 44,
   "metadata": {},
   "outputs": [
    {
     "data": {
      "image/png": "[encoded data removed]",
      "text/plain": [
       "<Figure size 576x360 with 1 Axes>"
      ]
     },
     "metadata": {
      "needs_background": "light"
     },
     "output_type": "display_data"
    }
   ],
   "source": [
    "fig, ax = plt.subplots(1, figsize=(8,5))\n",
    "data = X[:-1,:]- X[:-1,:].mean(axis=0)\n",
    "for i in range(len(names)):\n",
    "    ax.scatter(data[np.where(y_train==i),0], data[np.where(y_train==i),1], label=names[i])\n",
    "ax.plot(X[:-1,:].mean(axis=0)[0],X[:-1,:].mean(axis=0)[1],c='red', marker='s', label='center')\n",
    "tail = X[:-1,:].mean(axis=0)\n",
    "ax.quiver(*tail,X[-1,0], X[-1,1], scale=15, label='w') \n",
    "ax.legend()\n",
    "ax.set_title('Training data and orthogonal weight vector')\n",
    "ax.set_xlabel('PC1')\n",
    "ax.set_ylabel('PC2')\n",
    "plt.show()"
   ]
  },
  {
   "cell_type": "markdown",
   "metadata": {},
   "source": [
    "## (a) What happens if you use the algorithm to seperate Versicolour from Virginica? (Evaluate multiple runs)"
   ]
  },
  {
   "cell_type": "markdown",
   "metadata": {},
   "source": [
    "**Training one perceptron on versicolor (P) and virginica (N)**"
   ]
  },
  {
   "cell_type": "code",
   "execution_count": 77,
   "metadata": {},
   "outputs": [],
   "source": [
    "test = Perceptron(0.001)"
   ]
  },
  {
   "cell_type": "code",
   "execution_count": 78,
   "metadata": {},
   "outputs": [
    {
     "name": "stdout",
     "output_type": "stream",
     "text": [
      "Initialize weights: [-0.27125 -0.105   -0.5825  -0.36125]\n",
      "Final weights: [ 0.4025  0.1125 -0.57   -0.5525]\n"
     ]
    }
   ],
   "source": [
    "test.train(X_train_versicolor, X_train_virginica)"
   ]
  },
  {
   "cell_type": "code",
   "execution_count": 79,
   "metadata": {},
   "outputs": [],
   "source": [
    "y_test = test.predict(X_test_versicolor_virginica)"
   ]
  },
  {
   "cell_type": "code",
   "execution_count": 80,
   "metadata": {},
   "outputs": [
    {
     "name": "stdout",
     "output_type": "stream",
     "text": [
      "Versicolor vs Virginica accuracy for one trained perceptron: 1.0\n"
     ]
    }
   ],
   "source": [
    "print(\"Versicolor vs Virginica accuracy for one trained perceptron:\", test.accuracy(y_test, y_test_versicolor_virginica))"
   ]
  },
  {
   "cell_type": "markdown",
   "metadata": {},
   "source": [
    "**Visualize versicolor and virginica training data and learned weight vector**\n",
    "\n",
    "Plot centered training data and learned weight vector."
   ]
  },
  {
   "cell_type": "code",
   "execution_count": 85,
   "metadata": {},
   "outputs": [
    {
     "data": {
      "image/png": "[encoded data removed]",
      "text/plain": [
       "<Figure size 576x360 with 1 Axes>"
      ]
     },
     "metadata": {
      "needs_background": "light"
     },
     "output_type": "display_data"
    }
   ],
   "source": [
    "pca_a = decomposition.PCA(n_components=2)\n",
    "X_centered_a = X_train_versicolor_virginica - X_train_versicolor_virginica.mean(axis=0)\n",
    "X_a = pca_a.fit_transform(np.concatenate((X_centered_a,[test.w_hat])))\n",
    "fig, ax = plt.subplots(1, figsize=(8,5))\n",
    "data_a = X_a[:-1,:]- X_a[:-1,:].mean(axis=0)\n",
    "for i in range(2):\n",
    "    ax.scatter(data_a[np.where(y_train_versicolor_virginica==i),0], data_a[np.where(y_train_versicolor_virginica==i),1], label=names[i+1])\n",
    "ax.plot(X_a[:-1,:].mean(axis=0)[0],X_a[:-1,:].mean(axis=0)[1],c='red', marker='s', label='center')\n",
    "tail_a = X_a[:-1,:].mean(axis=0)\n",
    "ax.quiver(*tail_a,X_a[-1,0], X_a[-1,1], scale=10, label='w') \n",
    "ax.legend()\n",
    "ax.set_title('Versicolor and Virginica PCA and orthogonal weight vector')\n",
    "ax.set_xlabel('PC1')\n",
    "ax.set_ylabel('PC2')\n",
    "plt.show()"
   ]
  },
  {
   "cell_type": "markdown",
   "metadata": {},
   "source": [
    "**Train multiple perceptrons and report mean accuracy**"
   ]
  },
  {
   "cell_type": "code",
   "execution_count": 87,
   "metadata": {},
   "outputs": [],
   "source": [
    "%%capture\n",
    "acc_list = []\n",
    "for i in range(1):\n",
    "    clf_versicolor_virginica = Perceptron(threshold = 0.001)\n",
    "    clf_versicolor_virginica.train(X_train_versicolor, X_train_virginica) # versicolor is the positive class\n",
    "\n",
    "    y_pred_versicolor_virginica = clf_versicolor_virginica.predict(X_test_versicolor_virginica)\n",
    "\n",
    "acc_list.append(clf_versicolor_virginica.accuracy(y_test_versicolor_virginica, y_pred_versicolor_virginica))"
   ]
  },
  {
   "cell_type": "code",
   "execution_count": 88,
   "metadata": {
    "scrolled": true
   },
   "outputs": [
    {
     "name": "stdout",
     "output_type": "stream",
     "text": [
      "Versicolor vs Virginica mean accuracy: 1.0\n"
     ]
    }
   ],
   "source": [
    "print(\"Versicolor vs Virginica mean accuracy:\", np.mean(acc_list))"
   ]
  },
  {
   "cell_type": "markdown",
   "metadata": {},
   "source": [
    "## (b) Find a way to solve the problem and obtain the accuracy."
   ]
  },
  {
   "cell_type": "markdown",
   "metadata": {},
   "source": [
    "**Result from (a):**\n",
    "\n",
    "No idea what is problematic with this prediction. The perceptorn trained on versicolor and virginica shows very high accuracy in separating the two species. The 2d visualization of versicolor and virginica might show the two species not being linearly separable, but the classification accuracy shown before proves otherwise. Apparently, in 4D the two classes are well separable."
   ]
  },
  {
   "cell_type": "markdown",
   "metadata": {},
   "source": [
    "## Excercise 2: Multilayer-Perceptron (MLP)\n",
    "Implement a class that builds an MLP with both variable depth D (number of layers) and variable number of neurons ni for each layer i = 1,...,D."
   ]
  },
  {
   "cell_type": "code",
   "execution_count": 17,
   "metadata": {},
   "outputs": [],
   "source": [
    "class MLP:\n",
    "    def __init__(self, threshold, depth, layer_width):\n",
    "        \"\"\"\n",
    "        This constructor sets random network weights and checks if the input depth matches the provided layers.\n",
    "        \"\"\"\n",
    "        self.threshold = threshold\n",
    "        self.depth = depth\n",
    "        if not len(layer_width) == (depth + 1):\n",
    "            raise Exception(\"'layer_width' needs to be of length 'depth' + 1\")  \n",
    "        self.layer_width = layer_width\n",
    "        self.network_weights = []\n",
    "        self.network_biases = []\n",
    "        width_prev = self.layer_width[0]\n",
    "        for width in self.layer_width[1:]:\n",
    "            self.network_weights.append(np.random.randn(width_prev, width)* np.sqrt(1. / width_prev))\n",
    "            self.network_biases.append(np.zeros((1, width)))\n",
    "            width_prev = width\n",
    "    \n",
    "    def heaviside(self, X):\n",
    "        \"\"\"This Function is a tiny implementation of the heaviside step function.\"\"\"\n",
    "        return (X > 0).astype(int)\n",
    "    \n",
    "    def iterate_trough_network(self, X):\n",
    "        \"\"\"This Function passes the input X through all weights and returns the prediction vector.\"\"\"\n",
    "        X_i = X.copy()\n",
    "        for i in range(self.depth):\n",
    "            z_i = X_i @ self.network_weights[i] + self.network_biases[i]\n",
    "            X_i = self.heaviside(z_i)\n",
    "        return X_i\n",
    "    \n",
    "    def train(self, X):\n",
    "        \"\"\"The train function will be implemented in Assignment 9.\"\"\"\n",
    "        raise Exception(\"The train function will be implemented in Assignment 9!!!\")\n",
    "    \n",
    "    def predict(self, X):\n",
    "        \"\"\"This function passes the input X to the iteration function.\"\"\"\n",
    "        return (self.iterate_trough_network(X)).ravel()\n",
    "    \n",
    "    def accuracy(self, labels, predictions):\n",
    "        \"\"\"This function calculates the binary class accuracy for given true/predicted labels.\"\"\"\n",
    "        return np.mean(labels == predictions)"
   ]
  },
  {
   "cell_type": "markdown",
   "metadata": {},
   "source": [
    "### Produce outputs on the ZIP- Dataset."
   ]
  },
  {
   "cell_type": "markdown",
   "metadata": {},
   "source": [
    "#### Load the Zip Dataset"
   ]
  },
  {
   "cell_type": "code",
   "execution_count": 19,
   "metadata": {},
   "outputs": [],
   "source": [
    "path_to_train = '/Users/Eva/Downloads/zip.train'\n",
    "path_to_test = '/Users/Eva/Downloads/zip.test'\n",
    "training_data = np.array(pd.read_csv(path_to_train, sep=' ', header=None))\n",
    "test_data = np.array(pd.read_csv(path_to_test, sep =' ',header=None))\n",
    "\n",
    "X_train_zip, y_train_zip = training_data[:,1:-1], training_data[:,0]\n",
    "X_test_zip, y_test_zip = test_data[:,1:], test_data[:,0]\n",
    "\n",
    "# We only want to classify two different digits. You can choose which digits you want to classify youself\n",
    "\n",
    "X_train_zip = X_train_zip[np.logical_or(y_train_zip == 0, y_train_zip == 1)]\n",
    "y_train_zip = y_train_zip[np.logical_or(y_train_zip == 0, y_train_zip == 1)]\n",
    "\n",
    "X_test_zip = X_test_zip[np.logical_or(y_test_zip == 0, y_test_zip == 1)]\n",
    "y_test_zip = y_test_zip[np.logical_or(y_test_zip == 0, y_test_zip == 1)]"
   ]
  },
  {
   "cell_type": "code",
   "execution_count": 20,
   "metadata": {},
   "outputs": [
    {
     "data": {
      "text/plain": [
       "(2199, 256)"
      ]
     },
     "execution_count": 20,
     "metadata": {},
     "output_type": "execute_result"
    }
   ],
   "source": [
    "X_train_zip.shape"
   ]
  },
  {
   "cell_type": "markdown",
   "metadata": {},
   "source": [
    "#### Classify the Zip-Dataset with the random initial weights"
   ]
  },
  {
   "cell_type": "code",
   "execution_count": 21,
   "metadata": {},
   "outputs": [],
   "source": [
    "mlp_network = MLP(threshold=0.01, depth=2, layer_width=[X_train_zip.shape[1], 10, 1])"
   ]
  },
  {
   "cell_type": "code",
   "execution_count": 22,
   "metadata": {},
   "outputs": [
    {
     "name": "stdout",
     "output_type": "stream",
     "text": [
      "(256, 10)\n",
      "(10, 1)\n",
      "(1, 10)\n",
      "(1, 1)\n"
     ]
    }
   ],
   "source": [
    "print(mlp_network.network_weights[0].shape)\n",
    "print(mlp_network.network_weights[1].shape)\n",
    "print(mlp_network.network_biases[0].shape)\n",
    "print(mlp_network.network_biases[1].shape)"
   ]
  },
  {
   "cell_type": "code",
   "execution_count": 23,
   "metadata": {},
   "outputs": [],
   "source": [
    "y_pred_mlp = mlp_network.predict(X_train_zip)"
   ]
  },
  {
   "cell_type": "code",
   "execution_count": 24,
   "metadata": {},
   "outputs": [
    {
     "data": {
      "text/plain": [
       "0.43019554342883126"
      ]
     },
     "execution_count": 24,
     "metadata": {},
     "output_type": "execute_result"
    }
   ],
   "source": [
    "mlp_network.accuracy(y_train_zip, y_pred_mlp)"
   ]
  },
  {
   "cell_type": "code",
   "execution_count": 25,
   "metadata": {},
   "outputs": [
    {
     "data": {
      "text/plain": [
       "(array([0, 1]), array([1937,  262]))"
      ]
     },
     "execution_count": 25,
     "metadata": {},
     "output_type": "execute_result"
    }
   ],
   "source": [
    "np.unique(y_pred_mlp, return_counts=True)"
   ]
  },
  {
   "cell_type": "code",
   "execution_count": 26,
   "metadata": {},
   "outputs": [
    {
     "data": {
      "text/plain": [
       "(array([0., 1.]), array([1194, 1005]))"
      ]
     },
     "execution_count": 26,
     "metadata": {},
     "output_type": "execute_result"
    }
   ],
   "source": [
    "np.unique(y_train_zip, return_counts=True)"
   ]
  },
  {
   "cell_type": "markdown",
   "metadata": {},
   "source": [
    "#### Get a mean accuracy over multiple runs"
   ]
  },
  {
   "cell_type": "code",
   "execution_count": 27,
   "metadata": {},
   "outputs": [
    {
     "name": "stdout",
     "output_type": "stream",
     "text": [
      "Mean Acc over 100 runs, with random weights is: 0.5153387903592542\n"
     ]
    }
   ],
   "source": [
    "acc_list_mlp = []\n",
    "n_runs = 100\n",
    "for i in range(n_runs):\n",
    "    mlp_network = MLP(threshold=0.01, depth=2, layer_width=[X_train_zip.shape[1], 10, 1])\n",
    "    y_pred_loop = mlp_network.predict(X_train_zip)\n",
    "    acc_list_mlp.append(mlp_network.accuracy(y_train_zip, y_pred_loop))\n",
    "print(\"Mean Acc over\", n_runs, \"runs, with random weights is:\", np.mean(acc_list_mlp))"
   ]
  },
  {
   "cell_type": "markdown",
   "metadata": {},
   "source": [
    "### Result:\n",
    "Without any training, the predictions of the MLP are pretty much random at an accuracy of 50%"
   ]
  }
 ],
 "metadata": {
  "colab": {
   "name": "Perceptron.ipynb",
   "provenance": [],
   "toc_visible": true
  },
  "kernelspec": {
   "display_name": "Python 3",
   "language": "python",
   "name": "python3"
  },
  "language_info": {
   "codemirror_mode": {
    "name": "ipython",
    "version": 3
   },
   "file_extension": ".py",
   "mimetype": "text/x-python",
   "name": "python",
   "nbconvert_exporter": "python",
   "pygments_lexer": "ipython3",
   "version": "3.8.5"
  }
 },
 "nbformat": 4,
 "nbformat_minor": 4
}
