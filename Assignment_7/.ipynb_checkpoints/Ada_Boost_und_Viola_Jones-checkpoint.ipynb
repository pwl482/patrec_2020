{
 "cells": [
  {
   "cell_type": "code",
   "execution_count": 24,
   "metadata": {},
   "outputs": [],
   "source": [
    "import numpy as np\n",
    "import pandas as pd\n",
    "import matplotlib.pyplot as plt\n",
    "from sklearn.model_selection import train_test_split\n",
    "from collections import defaultdict\n",
    "from skimage.data import lfw_subset\n",
    "import matplotlib.patches as patches"
   ]
  },
  {
   "cell_type": "markdown",
   "metadata": {},
   "source": [
    "# Excercise 1. AdaBoost\n",
    "Implement AdaBoost using Python (incl. Numpy etc.) and use it on the SPAM-Dataset\n",
    ".\n",
    "The weak classifiers should be decision stumps (i.e. decision trees with one node).\n"
   ]
  },
  {
   "cell_type": "markdown",
   "metadata": {},
   "source": [
    "### Import the spambase dataset"
   ]
  },
  {
   "cell_type": "code",
   "execution_count": 3,
   "metadata": {},
   "outputs": [],
   "source": [
    "data = np.array(pd.read_csv('/Users/Eva/Downloads/spambase.data', header=None))\n",
    "\n",
    "X = data[:,:-1] # features\n",
    "y = data[:,-1] # Last column is label\n",
    "\n",
    "X_train, X_test, y_train, y_test = train_test_split(X, y, random_state=0, shuffle=True, stratify=y)\n",
    "\n",
    "df_names = pd.read_csv('/Users/Eva/Downloads/spambase.names', header=None, names=[\"feature_names\"], skiprows=32)\n",
    "df_names[\"feature_names\"] = df_names[\"feature_names\"].str.replace(\":  *continuous.\", \"\", regex=True)"
   ]
  },
  {
   "cell_type": "code",
   "execution_count": 4,
   "metadata": {},
   "outputs": [
    {
     "data": {
      "text/plain": [
       "((3450, 57), (1151, 57), (3450,), (1151,))"
      ]
     },
     "execution_count": 4,
     "metadata": {},
     "output_type": "execute_result"
    }
   ],
   "source": [
    "X_train.shape, X_test.shape, y_train.shape, y_test.shape"
   ]
  },
  {
   "cell_type": "markdown",
   "metadata": {},
   "source": [
    "### Use the Tree Implementation from Week 6"
   ]
  },
  {
   "cell_type": "code",
   "execution_count": 5,
   "metadata": {},
   "outputs": [],
   "source": [
    "class ClassificationTree():\n",
    "\n",
    "\n",
    "    def __init__(self, node_min_size=2, tree_max_depth=None, post_pruning=True):\n",
    "        \"\"\"\n",
    "        If no maximum depth is defined, the nodes are split while they contain at least node_min_size many points.\n",
    "        If maximum depth is defined, nodes are split further until they contain less than node_min_size many points or\n",
    "        have reached the maximum number of allowed split levels.\n",
    "        \"\"\"\n",
    "        self.depth = 1\n",
    "        self.node_min_size = node_min_size\n",
    "        self.tree_max_depth = tree_max_depth\n",
    "        self.prune = 0\n",
    "        self.post_pruning = post_pruning\n",
    "        self.feature_importances = defaultdict(int)\n",
    "        \n",
    "    ################ Tree building ################\n",
    "    \n",
    "    def split_data(self, X, j, v):\n",
    "        \"\"\"\n",
    "        Split data X at variable with index j and splitting point v.\n",
    "        \"\"\"\n",
    "        split_left = X[np.where(X[:,j]<=v)]\n",
    "        split_right = X[np.where(X[:,j]>v)]\n",
    "        return split_left, split_right\n",
    "\n",
    "    \n",
    "    def gini_index(self, groups):\n",
    "        \"\"\"\n",
    "        Calculate gini index for a data set splitted on a certain variable and splitting point.\n",
    "        groups: two subsets that result from splitting a data set\n",
    "        y: associated class labels\n",
    "        \"\"\"\n",
    "        gini = 0\n",
    "        if type(groups[0]) == np.ndarray:\n",
    "            n = sum(map(len,groups))\n",
    "            # get class proportions for each split group\n",
    "            for group in groups:\n",
    "                size = float(len(group))\n",
    "                y = group[:,-1]\n",
    "                if size == 0:\n",
    "                    continue    \n",
    "                score = 0\n",
    "                # sum class proportions within one split groups as sum(p_mk*(1-p_mk))\n",
    "                for c in set(y):\n",
    "                    proportions = np.count_nonzero(y==c)/size\n",
    "                    score += proportions*(1-proportions)\n",
    "                # sum \"inversely squared\" class proportions per split group in weighted sum (weighted by proportion of group size)\n",
    "                gini += score * size/n\n",
    "        else:\n",
    "            size = len(groups)\n",
    "            for c in set(groups):\n",
    "                proportions = groups.count(c)/size\n",
    "                gini += proportions*(1-proportions)\n",
    "        return gini\n",
    "\n",
    "\n",
    "    def split_node(self, data):\n",
    "        \"\"\"\n",
    "        Find optimal split for a given node \"node\" and class labels \"y\" that minimizes the loss function (gini index).\n",
    "        \"\"\"\n",
    "        split_var, split_point, split_gini, groups = 9999, 9999, 9999, None\n",
    "        # for every candidate split X*p* calculate gini index and select split which minimizes the score\n",
    "        for j in range(data.shape[1]-1):\n",
    "            candidate_p = np.unique(X[:,j])\n",
    "            for v in candidate_p:\n",
    "                split_groups = self.split_data(data, j, v)\n",
    "                s = self.gini_index(split_groups) \n",
    "                if s < split_gini: \n",
    "                    split_var, split_point, split_gini, groups = j, v, s, split_groups\n",
    "        return {'split_var': split_var, 'split_point': split_point, 'split_gini': split_gini, 'groups': groups}\n",
    "\n",
    "\n",
    "    def make_leaf(self, node_labels):\n",
    "        \"\"\"\n",
    "        Convert node \"node\" to leaf by assigning it the majority vote of labels \"y\".\n",
    "        \"\"\"\n",
    "        leaf_labels = list(node_labels)\n",
    "        return {'label': max(set(leaf_labels), key=leaf_labels.count), 'class_sizes': [leaf_labels.count(c) for c in set(leaf_labels)]} \n",
    "\n",
    "    \n",
    "    def grow(self, node):\n",
    "        \"\"\"\n",
    "        Recusively split nodes until stopping criteria are fulfilled,\n",
    "        i.e. a node has too little data points in its region to be splitted further or the the has\n",
    "        reached its maximum allowd depth.\n",
    "        \"\"\"\n",
    "        left, right = node['groups']\n",
    "        del(node['groups'])\n",
    "        # Check for empty nodes (pruned in post-processing)\n",
    "        if not left.any() or not right.any():\n",
    "            node['left'] = node['right'] = self.make_leaf(np.r_[left[:,-1], right[:,-1]])\n",
    "            return None\n",
    "        # Check for max depth\n",
    "        if self.tree_max_depth:\n",
    "            if self.depth >= self.tree_max_depth:\n",
    "                node['left'] = self.make_leaf(left[:,-1])\n",
    "                node['right'] = self.make_leaf(right[:,-1])\n",
    "                return None\n",
    "        # Check left node size\n",
    "        if len(left) <= self.node_min_size-1:\n",
    "            node['left'] = self.make_leaf(left[:,-1])\n",
    "        else:\n",
    "            node['left'] = self.split_node(left)\n",
    "            self.depth += 1\n",
    "            self.grow(node['left'])\n",
    "        # Check right node size\n",
    "        if len(right) <= self.node_min_size:\n",
    "            node['right'] = self.make_leaf(right[:,-1])\n",
    "        else:\n",
    "            node['right'] = self.split_node(right)\n",
    "            self.depth += 1\n",
    "            self.grow(node['right'])\n",
    "        return None\n",
    "    \n",
    "    ################ Post-Pruning ################\n",
    "    \n",
    "    def check_twin_leaves(self, subtree):\n",
    "        \"\"\"\n",
    "        Prune tree while there still are twin leaves\n",
    "        \"\"\"\n",
    "        if not 'label' in subtree.keys():  \n",
    "            if 'label' in subtree['left'].keys() and 'label' in subtree['right'].keys():\n",
    "                if subtree['left']['label'] == subtree['right']['label']:\n",
    "                    self.prune += 1\n",
    "            else:\n",
    "                self.check_twin_leaves(subtree['left'])\n",
    "                self.check_twin_leaves(subtree['right'])\n",
    "\n",
    "    def prune_tree(self, subtree):\n",
    "        \"\"\"\n",
    "        If a node results in leaves of the same label, remove leaves and make node to leaf\n",
    "        \"\"\"\n",
    "        # check if A is node or leaf\n",
    "        if not 'label' in subtree.keys():  \n",
    "            # at least one subtree B1, B2 has to be a node\n",
    "            if not 'label' in subtree['left'].keys() or not 'label' in subtree['right'].keys():\n",
    "                # prune left subtree B1?\n",
    "                if not 'label' in subtree['left'].keys():\n",
    "                    tmp = subtree['left']\n",
    "                    # check if node has two leaves\n",
    "                    if 'label' in tmp['left'] and 'label' in tmp['right']:\n",
    "                        if tmp['left']['label'] == tmp['right']['label'] :\n",
    "                            subtree['left'] = {'label': tmp['left']['label'], 'class_sizes':list(map(sum,list(zip(tmp['left']['class_sizes'],tmp['right']['class_sizes']))))}\n",
    "                            self.prune -= 1\n",
    "                            # if B2 is a leaf, decrement depth\n",
    "                            if 'label' in subtree['right'].keys():\n",
    "                                self.depth -= 1\n",
    "                    else:\n",
    "                        self.prune_tree(tmp)\n",
    "                # prune right subtree B2?           \n",
    "                if not 'label' in subtree['right'].keys():\n",
    "                    tmp = subtree['right']\n",
    "                    # check if node has two leaves\n",
    "                    if 'label' in tmp['left'] and 'label' in tmp['right']:\n",
    "                        if tmp['left']['label'] == tmp['right']['label'] :\n",
    "                            subtree['right'] = {'label': tmp['left']['label'], 'class_sizes':list(map(sum,list(zip(tmp['left']['class_sizes'],tmp['right']['class_sizes']))))}\n",
    "                            self.prune -= 1\n",
    "                            # if B2 is a leaf, decrement depth\n",
    "                            if 'label' in subtree['left'].keys():\n",
    "                                self.depth -= 1\n",
    "                    else:\n",
    "                        self.prune_tree(tmp)\n",
    "\n",
    "    ################ Build tree from data  ################\n",
    "    \n",
    "    def grow_tree(self, X, y):\n",
    "        \"\"\"\n",
    "        Grow a decision tree for feature data X with class labels y that has at most tree_max_depth many levels\n",
    "        and at least node_mins_size many data points that support each leaf prediction.\n",
    "        \"\"\"\n",
    "        print('Build tree from data')\n",
    "        if X.shape[0] <= self.node_min_size:\n",
    "            raise Exception(\"Data set is too small to build a tree!\")\n",
    "        root = self.split_node(np.c_[X,y])\n",
    "        self.grow(root)\n",
    "        if self.post_pruning:\n",
    "            print('Post-pruning')\n",
    "            self.check_twin_leaves(root)\n",
    "            while self.prune >= 1:\n",
    "                self.prune_tree(root)\n",
    "                self.check_twin_leaves(root)\n",
    "        print('Feature importances')\n",
    "        for i in range(X.shape[1]):\n",
    "            self.get_feature_importance(root,i)\n",
    "        f = float(sum(self.feature_importances.values()))\n",
    "        for k,v in self.feature_importances.items():\n",
    "            self.feature_importances[k] = v/f\n",
    "        return root   \n",
    "            \n",
    "    ################ Classification ################\n",
    "    \n",
    "    def get_label(self, test, subtree):\n",
    "        \"\"\"\n",
    "        Process data query through the decision tree and retrieve resulting leaf label.\n",
    "        \"\"\"\n",
    "        if not 'label' in subtree.keys():\n",
    "            if test[subtree['split_var']] <= subtree['split_point']:\n",
    "                subtree = subtree['left']\n",
    "                return self.get_label(test, subtree)\n",
    "            else:\n",
    "                subtree = subtree['right']\n",
    "                return self.get_label(test, subtree)\n",
    "        else:\n",
    "            return subtree['label']\n",
    "        \n",
    "        \n",
    "    def predict(self, tree, X):\n",
    "        \"\"\"\n",
    "        Predict class labels for data set X.\n",
    "        \"\"\"\n",
    "        y_pred = []\n",
    "        for item in X:\n",
    "            y_pred.append(self.get_label(item, tree))\n",
    "        return y_pred\n",
    "    \n",
    "    ################ Evaluation ################\n",
    "    \n",
    "    def calculate_accuracy(self, true_y, pred_y, classes):\n",
    "        \"\"\"\n",
    "        Calculate accuracy for a classified set.\n",
    "        \"\"\"\n",
    "        class_sum = 0\n",
    "        for class_num in classes:\n",
    "            val_sum = 0\n",
    "            for true_val, pred_val in zip(true_y, pred_y): \n",
    "                if class_num == true_val:\n",
    "                    if true_val == pred_val:\n",
    "                        val_sum += 1\n",
    "            class_sum += val_sum\n",
    "        return class_sum / len(true_y)\n",
    "    \n",
    "    def get_feature_importance(self, subtree, var):\n",
    "        \"\"\"\n",
    "        This Function gets the gini loss from all subtree nodes.\n",
    "        Possible TODO in the Future: weight scores by probability to reach respective node, i.e. node size/data size\n",
    "        \"\"\"\n",
    "        if not 'label' in subtree.keys():\n",
    "            if subtree['split_var'] == var:\n",
    "                if 'class_sizes' in subtree['left'].keys():\n",
    "                    ginil = self.gini_index(subtree['left']['class_sizes'])\n",
    "                else: \n",
    "                    ginil = subtree['left']['split_gini']\n",
    "                if 'class_sizes' in subtree['right'].keys():\n",
    "                    ginir = self.gini_index(subtree['right']['class_sizes'])\n",
    "                else:\n",
    "                    ginir = subtree['right']['split_gini']\n",
    "                self.feature_importances[var] += subtree['split_var']-(ginir+ginil)\n",
    "\n",
    "            self.get_feature_importance(subtree['left'], var)\n",
    "            self.get_feature_importance(subtree['right'], var)\n"
   ]
  },
  {
   "cell_type": "markdown",
   "metadata": {},
   "source": [
    "### Implement Ada-Boost"
   ]
  },
  {
   "cell_type": "code",
   "execution_count": 6,
   "metadata": {},
   "outputs": [],
   "source": [
    "class Ada_Boost:\n",
    "    def __init__(self, n_predictors, tree_depth=1):\n",
    "        self.n_predictors = n_predictors\n",
    "        self.tree_depth = tree_depth\n",
    "        self.classifier_list = []\n",
    "        \n",
    "    def calculate_Em(self, sample_weights, y_train, y_pred):\n",
    "        \"\"\"\n",
    "        Calculate normalized misclassification error using data weights.\n",
    "        \"\"\"\n",
    "        return np.sum(sample_weights * (y_train != y_pred).astype(int)) / np.sum(sample_weights)\n",
    "        \n",
    "    \n",
    "    def train_ada_boost(self, X_train, y_train):\n",
    "        \"\"\"\n",
    "        Implements the Ada-Boost algorithm on Decision Trees of a set depth.\n",
    "        \"\"\"\n",
    "        N = X_train.shape[0]\n",
    "        #1) initialize wi\n",
    "        sample_weights = np.array([1 / N] * N)\n",
    "        #2) for m in {1,...,M}\n",
    "        for m in range(self.n_predictors):\n",
    "            # resample X_train and y_train according to the weights, to train the classifier on the resampled sets\n",
    "            choices = np.random.choice(np.arange(N), N, p=sample_weights, replace=True)\n",
    "            X_resampled = X_train[choices]\n",
    "            y_resampled = y_train[choices]\n",
    "            # 2a) train a classifier on the weighted X_resampled and y_resampled\n",
    "            classifier = ClassificationTree(tree_max_depth=self.tree_depth, post_pruning=False)\n",
    "            tree = classifier.grow_tree(X_resampled, y_resampled)\n",
    "            y_train_pred = classifier.predict(tree, X_train)\n",
    "            # 2b) compute the classification error Em\n",
    "            classification_error = self.calculate_Em(sample_weights, y_train, y_train_pred)\n",
    "            # 2c) compute classifier weight alpha\n",
    "            classifier_weight = 0.5 * np.log((1 - classification_error) / classification_error)\n",
    "            self.classifier_list.append((classifier_weight, tree, classifier))\n",
    "            # 2d) recompute sample weights and normalize them\n",
    "            sample_weights = sample_weights * np.exp(-1 * classifier_weight * y_train * y_train_pred)\n",
    "            sample_weights = sample_weights / np.sum(sample_weights)\n",
    "        \n",
    "    def predict(self, X_test):\n",
    "        \"\"\"\n",
    "        Returns the ensemble model output (average weighted by predictor weights assigned during training)\n",
    "        \"\"\"\n",
    "        X_m = np.array([am * np.array(classifier.predict(tree, X_test)) for am, tree, classifier in self.classifier_list])\n",
    "        return np.sign(np.sum(X_m, axis=0))"
   ]
  },
  {
   "cell_type": "markdown",
   "metadata": {},
   "source": [
    "### Change the labels to -1/1"
   ]
  },
  {
   "cell_type": "code",
   "execution_count": 7,
   "metadata": {},
   "outputs": [],
   "source": [
    "y_train_changed = np.where(y_train==0, -1.0, 1.0)\n",
    "y_test_changed = np.where(y_test==0, -1.0, 1.0)"
   ]
  },
  {
   "cell_type": "code",
   "execution_count": 8,
   "metadata": {},
   "outputs": [
    {
     "data": {
      "text/plain": [
       "(array([-1.,  1.]), array([2091, 1359]))"
      ]
     },
     "execution_count": 8,
     "metadata": {},
     "output_type": "execute_result"
    }
   ],
   "source": [
    "np.unique(y_train_changed, return_counts=True)"
   ]
  },
  {
   "cell_type": "markdown",
   "metadata": {},
   "source": [
    "### Use Ada-Boost on the Spambase Dataset"
   ]
  },
  {
   "cell_type": "code",
   "execution_count": 9,
   "metadata": {},
   "outputs": [
    {
     "name": "stdout",
     "output_type": "stream",
     "text": [
      "Build tree from data\n",
      "Feature importances\n",
      "Build tree from data\n",
      "Feature importances\n",
      "Build tree from data\n",
      "Feature importances\n",
      "Build tree from data\n",
      "Feature importances\n",
      "Build tree from data\n",
      "Feature importances\n",
      "Build tree from data\n",
      "Feature importances\n",
      "Build tree from data\n",
      "Feature importances\n",
      "Build tree from data\n",
      "Feature importances\n",
      "Build tree from data\n",
      "Feature importances\n",
      "Build tree from data\n",
      "Feature importances\n"
     ]
    }
   ],
   "source": [
    "ada = Ada_Boost(n_predictors = 10, tree_depth = 1)\n",
    "ada.train_ada_boost(X_train, y_train_changed)"
   ]
  },
  {
   "cell_type": "code",
   "execution_count": 10,
   "metadata": {},
   "outputs": [],
   "source": [
    "# ada.classifier_list"
   ]
  },
  {
   "cell_type": "code",
   "execution_count": 11,
   "metadata": {},
   "outputs": [
    {
     "name": "stdout",
     "output_type": "stream",
     "text": [
      "(1151,)\n"
     ]
    },
    {
     "data": {
      "text/plain": [
       "(array([-1.,  1.]), array([708, 443]))"
      ]
     },
     "execution_count": 11,
     "metadata": {},
     "output_type": "execute_result"
    }
   ],
   "source": [
    "y_pred = ada.predict(X_test)\n",
    "print(y_pred.shape)\n",
    "np.unique(y_pred, return_counts=True)"
   ]
  },
  {
   "cell_type": "markdown",
   "metadata": {},
   "source": [
    "## (a) Print a confusion matrix."
   ]
  },
  {
   "cell_type": "code",
   "execution_count": 12,
   "metadata": {},
   "outputs": [],
   "source": [
    "def calculate_confusion_matrix(y_true, y_pred, class_label_list):\n",
    "    \"\"\"\n",
    "    Returns a confusion matrix (ndarray) for all class labels given in class_label_list.\n",
    "    The order of class_label_list is preserved.\n",
    "    The first returned dimension(rows) are the predicted labels, the second one(columns) are the true labels.\n",
    "    \"\"\"\n",
    "    confusion_matrix = []\n",
    "    for class_label_pred in class_label_list:\n",
    "        class_row = []\n",
    "        for class_label_true in class_label_list:\n",
    "            bool_pred = (y_pred == class_label_pred)\n",
    "            bool_true = (y_true == class_label_true)\n",
    "            occurrences = np.sum(np.logical_and(bool_pred, bool_true))\n",
    "            class_row.append(occurrences)\n",
    "        confusion_matrix.append(class_row)\n",
    "    return np.array(confusion_matrix)\n",
    "\n",
    "def display_confusion_matrix(y_pred, y_true, class_label_list):\n",
    "    \"\"\"Returns a labeled pandas DataFrame made from a confusion matrix (ndarray)\"\"\"\n",
    "    confusion_matrix = calculate_confusion_matrix(y_pred, y_true, class_label_list)\n",
    "    pred_labels = [\"pred: \" + str(x) for x in class_label_list]\n",
    "    true_labels = [\"true: \" + str(x) for x in class_label_list]\n",
    "    return pd.DataFrame(confusion_matrix, index=pred_labels, columns=true_labels)"
   ]
  },
  {
   "cell_type": "code",
   "execution_count": 13,
   "metadata": {},
   "outputs": [],
   "source": [
    "def calculate_accuracy(true_y, pred_y, classes):\n",
    "        \"\"\"\n",
    "        Calculate accuracy for a classified set.\n",
    "        \"\"\"\n",
    "        class_sum = 0\n",
    "        for class_num in classes:\n",
    "            val_sum = 0\n",
    "            for true_val, pred_val in zip(true_y, pred_y): \n",
    "                if class_num == true_val:\n",
    "                    if true_val == pred_val:\n",
    "                        val_sum += 1\n",
    "            class_sum += val_sum\n",
    "        return class_sum / len(true_y)"
   ]
  },
  {
   "cell_type": "code",
   "execution_count": 14,
   "metadata": {
    "scrolled": false
   },
   "outputs": [
    {
     "data": {
      "text/html": [
       "<div>\n",
       "<style scoped>\n",
       "    .dataframe tbody tr th:only-of-type {\n",
       "        vertical-align: middle;\n",
       "    }\n",
       "\n",
       "    .dataframe tbody tr th {\n",
       "        vertical-align: top;\n",
       "    }\n",
       "\n",
       "    .dataframe thead th {\n",
       "        text-align: right;\n",
       "    }\n",
       "</style>\n",
       "<table border=\"1\" class=\"dataframe\">\n",
       "  <thead>\n",
       "    <tr style=\"text-align: right;\">\n",
       "      <th></th>\n",
       "      <th>true: 1.0</th>\n",
       "      <th>true: -1.0</th>\n",
       "    </tr>\n",
       "  </thead>\n",
       "  <tbody>\n",
       "    <tr>\n",
       "      <th>pred: 1.0</th>\n",
       "      <td>394</td>\n",
       "      <td>49</td>\n",
       "    </tr>\n",
       "    <tr>\n",
       "      <th>pred: -1.0</th>\n",
       "      <td>60</td>\n",
       "      <td>648</td>\n",
       "    </tr>\n",
       "  </tbody>\n",
       "</table>\n",
       "</div>"
      ],
      "text/plain": [
       "            true: 1.0  true: -1.0\n",
       "pred: 1.0         394          49\n",
       "pred: -1.0         60         648"
      ]
     },
     "execution_count": 14,
     "metadata": {},
     "output_type": "execute_result"
    }
   ],
   "source": [
    "display_confusion_matrix(y_test_changed, y_pred, np.unique(y_test_changed)[::-1])"
   ]
  },
  {
   "cell_type": "code",
   "execution_count": 15,
   "metadata": {
    "scrolled": true
   },
   "outputs": [
    {
     "data": {
      "text/plain": [
       "0.9052997393570807"
      ]
     },
     "execution_count": 15,
     "metadata": {},
     "output_type": "execute_result"
    }
   ],
   "source": [
    "calculate_accuracy(y_test_changed, y_pred, np.unique(y_test_changed)[::-1])"
   ]
  },
  {
   "cell_type": "markdown",
   "metadata": {},
   "source": [
    "## (b) Is AdaBoost better when using stronger weak learners? Why or why not? Compare your results to using depth-2 decision trees."
   ]
  },
  {
   "cell_type": "code",
   "execution_count": 18,
   "metadata": {},
   "outputs": [
    {
     "name": "stdout",
     "output_type": "stream",
     "text": [
      "Build tree from data\n",
      "Feature importances\n",
      "Build tree from data\n",
      "Feature importances\n",
      "Build tree from data\n",
      "Feature importances\n",
      "Build tree from data\n",
      "Feature importances\n",
      "Build tree from data\n",
      "Feature importances\n",
      "Build tree from data\n",
      "Feature importances\n",
      "Build tree from data\n",
      "Feature importances\n",
      "Build tree from data\n",
      "Feature importances\n",
      "Build tree from data\n",
      "Feature importances\n",
      "Build tree from data\n",
      "Feature importances\n"
     ]
    },
    {
     "data": {
      "text/plain": [
       "(array([-1.,  1.]), array([701, 450], dtype=int64))"
      ]
     },
     "execution_count": 18,
     "metadata": {},
     "output_type": "execute_result"
    }
   ],
   "source": [
    "ada_depth2 = Ada_Boost(n_predictors = 10, tree_depth = 2)\n",
    "ada_depth2.train_ada_boost(X_train, y_train_changed)\n",
    "y_pred_depth2 = ada_depth2.predict(X_test)\n",
    "np.unique(y_pred_depth2, return_counts=True)"
   ]
  },
  {
   "cell_type": "code",
   "execution_count": 19,
   "metadata": {
    "scrolled": false
   },
   "outputs": [
    {
     "data": {
      "text/html": [
       "<div>\n",
       "<style scoped>\n",
       "    .dataframe tbody tr th:only-of-type {\n",
       "        vertical-align: middle;\n",
       "    }\n",
       "\n",
       "    .dataframe tbody tr th {\n",
       "        vertical-align: top;\n",
       "    }\n",
       "\n",
       "    .dataframe thead th {\n",
       "        text-align: right;\n",
       "    }\n",
       "</style>\n",
       "<table border=\"1\" class=\"dataframe\">\n",
       "  <thead>\n",
       "    <tr style=\"text-align: right;\">\n",
       "      <th></th>\n",
       "      <th>true: 1.0</th>\n",
       "      <th>true: -1.0</th>\n",
       "    </tr>\n",
       "  </thead>\n",
       "  <tbody>\n",
       "    <tr>\n",
       "      <th>pred: 1.0</th>\n",
       "      <td>419</td>\n",
       "      <td>31</td>\n",
       "    </tr>\n",
       "    <tr>\n",
       "      <th>pred: -1.0</th>\n",
       "      <td>35</td>\n",
       "      <td>666</td>\n",
       "    </tr>\n",
       "  </tbody>\n",
       "</table>\n",
       "</div>"
      ],
      "text/plain": [
       "            true: 1.0  true: -1.0\n",
       "pred: 1.0         419          31\n",
       "pred: -1.0         35         666"
      ]
     },
     "execution_count": 19,
     "metadata": {},
     "output_type": "execute_result"
    }
   ],
   "source": [
    "display_confusion_matrix(y_test_changed, y_pred_depth2, np.unique(y_test_changed)[::-1])"
   ]
  },
  {
   "cell_type": "code",
   "execution_count": 20,
   "metadata": {},
   "outputs": [
    {
     "data": {
      "text/plain": [
       "0.9426585577758471"
      ]
     },
     "execution_count": 20,
     "metadata": {},
     "output_type": "execute_result"
    }
   ],
   "source": [
    "calculate_accuracy(y_test_changed, y_pred_depth2, np.unique(y_test_changed)[::-1])"
   ]
  },
  {
   "cell_type": "markdown",
   "metadata": {},
   "source": [
    "### Result:\n",
    "In this example, the stronger decision trees of depth 2 are slightly better at classifying than the weaker depth 1 trees, but that might just be the case, because the number of predictors chosen here is quite small (for runtime reasons), so having a better individual fit of each classifier gives the better bias-variance tradeoff here, than trying to rely on the mass of weak depth-1 classifiers. Regardless of our result here, in general, ensemble methods combine weak learners into a strong learner, whereas they show degraded performance when using strong individual learners."
   ]
  },
  {
   "cell_type": "markdown",
   "metadata": {},
   "source": [
    "# Excercise 2 (Bonus). Viola-Jones Face Detection\n",
    "Implement the Viola-Jones algorithm (without the cascade mechanism) ..."
   ]
  },
  {
   "cell_type": "code",
   "execution_count": 16,
   "metadata": {},
   "outputs": [],
   "source": [
    "class Viola_Jones:\n",
    "    def __init__(self, image_shapes, n_predictors=200):\n",
    "        self.n_predictors = n_predictors\n",
    "        self.shape_i, self.shape_j = image_shapes\n",
    "        self.classifier_list = []\n",
    "    \n",
    "    def create_integral_images(self, X_train, shape_i, shape_j):\n",
    "        \"\"\"\n",
    "        A function that generates integral images as a list of 2-d numpy arrays from 1-d flattened images.\n",
    "        \"\"\"\n",
    "        integral_images = []\n",
    "        for image in X_train:\n",
    "            integral_image = np.zeros((shape_i, shape_j))\n",
    "            for i in range(shape_i):\n",
    "                for j in range(shape_j):\n",
    "                    # array s stores integral pixel sum of current row\n",
    "                    s = [0]\n",
    "                    # for first row, update current sum by pixel value of current column j\n",
    "                    if i == 0:\n",
    "                        integral_image[i][j] = np.sum(integral_image[i][:j]) + image[j]\n",
    "                    # for remaining rows, update sum by pixel value of current column j\n",
    "                    # and compute integral sum at position i,j by adding updated row sum to the integral sum of i-1,j\n",
    "                    else:\n",
    "                        s_i_j = s[-1] + image[j * (i+1)]\n",
    "                        integral_image[i][j] = integral_image[i-1][j] + s_i_j\n",
    "                        s.append(s_i_j)\n",
    "            integral_images.append(integral_image)\n",
    "        return integral_images\n",
    "    \n",
    "    def f2_rect_feature(self, image, i1, j1):\n",
    "        \"\"\"\n",
    "        This function calculates the 2-rect feature value from an integral image with the upper left corner at (i1,j1).\n",
    "        We defined the 2-rect feature to have size 10x6 (light and dark block: 10x3 each).\n",
    "        Subtract integral sum of dark area(s) from the integral sum of light area(s).\n",
    "        \"\"\"\n",
    "        neg_area = image[i1+3,j1+10] + image[i1,j1] - image[i1+3,j1] - image[i1,j1+10]\n",
    "        pos_area = image[i1+6,j1+10] + image[i1+3,j1] - image[i1+6,j1] - image[i1+3,j1+10]\n",
    "        return np.sum(pos_area) - np.sum(neg_area)\n",
    "    \n",
    "    def f3_rect_feature(self, image, i1, j1):\n",
    "        \"\"\"\n",
    "        This function calculates the 3-rect feature value from an integral image with the upper left corner at (i1,j1).\n",
    "        We defined the 3-rect feature to have size 9x5 (light and dark blocks: 3x5 each).\n",
    "        Subtract integral sum of dark area(s) from the integral sum of light area(s).\n",
    "        \"\"\"\n",
    "        neg_area1 = image[i1+5,j1+3] + image[i1,j1] - image[i1+5,j1] - image[i1,j1+3]\n",
    "        pos_area = image[i1+5,j1+6] + image[i1,j1+3] - image[i1+5,j1] - image[i1,j1+6]\n",
    "        neg_area2 = image[i1+5,j1+9] + image[i1,j1+6] - image[i1+5,j1] - image[i1,j1+9]\n",
    "        return np.sum(pos_area) - np.sum(neg_area1) - np.sum(neg_area2)\n",
    "    \n",
    "    def f4_rect_feature(self, image, i1, j1):\n",
    "        \"\"\"\n",
    "        This function calculates the 4-rect feature value from an integral image with the upper left corner at (i1,j1).\n",
    "        We defined the 4-rect feature to have size  4x4(light and dark blocks: 2x2 each).\n",
    "        Subtract integral sum of dark area(s) from the integral sum of light area(s).\n",
    "        \"\"\"\n",
    "        pos_area1 = image[i1+2,j1+2] + image[i1,j1] - image[i1+2,j1] - image[i1,j1+2]\n",
    "        neg_area1 = image[i1+2,j1+4] + image[i1,j1+2] - image[i1+2,j1+2] - image[i1,j1+4]\n",
    "        neg_area2 = image[i1+4,j1+2] + image[i1+2,j1] - image[i1+4,j1] - image[i1+2,j1+2]\n",
    "        pos_area2 = image[i1+4,j1+4] + image[i1+2,j1+2] - image[i1+4,j1+2] - image[i1+2,j1+4]\n",
    "        return np.sum(pos_area1) + np.sum(pos_area2) - np.sum(neg_area1) - np.sum(neg_area2)\n",
    "    \n",
    "    def create_feature_matrix(self, integral_images, shape_i, shape_j):\n",
    "        \"\"\"\n",
    "        This function calculates the feature values of all possible 2/3/4-rect features\n",
    "        over all integral images and all possible upper left corner positions (represents \n",
    "        shifting each feature through each training image).\n",
    "        The output is a flattened vector of feature values per integral image as a matrix.\n",
    "                dim = images x number of times each feature was evaluated in the image \n",
    "        <=>     dim = images x features*(image_width-fetaure_width)*(image_height-feature_height)\n",
    "        \"\"\"\n",
    "        features = [self.f2_rect_feature, self.f3_rect_feature, self.f4_rect_feature]\n",
    "        feature_heights_widths = [(6,10), (5,9), (4,4)] #EVA: aren't the features sizes 10x6 and 9x5?\n",
    "        feature_matrix = []\n",
    "        for image in integral_images:\n",
    "            image_feature_values = []\n",
    "            for feature_func, (height, width) in zip(features, feature_heights_widths):\n",
    "                for i in range(shape_i - height):\n",
    "                    for j in range(shape_j - width):\n",
    "                        image_feature_values.append(feature_func(image, i, j))\n",
    "            feature_matrix.append(np.array(image_feature_values))\n",
    "        return np.array(feature_matrix)\n",
    "        \n",
    "    def calculate_Ej(self, sample_weights, y_train, y_pred):\n",
    "        \"\"\"\n",
    "        This function calculates the misclassification error. \n",
    "        \"\"\"\n",
    "        # EVA: Shouldn't we use the normalized Ej? => No, this is standard AdaBoost, in Viola Jones the weights are\n",
    "        # renormalized before training instead so no normalization is needed for calculating the misclassification\n",
    "        return np.sum(sample_weights * (y_train != y_pred).astype(int)) \n",
    "    \n",
    "    def get_h_j_predictions(self, p_j, theta_j, feature_column_j):\n",
    "        \"\"\"\n",
    "        This function returns the predicted labels for a distinct parity p_j, cutoffs theta_j and a feature j.\n",
    "        \"\"\"\n",
    "        # EVA:  Doesn't it have to be just '<' (lecture slides)\n",
    "        return (p_j * feature_column_j <= p_j * theta_j).astype(int)\n",
    "    \n",
    "    def get_optimal_h_j(self, feature_matrix, labels, sample_weights):\n",
    "        \"\"\"\n",
    "        This function tests all possible features j, parities p_j and cutoffs theta_j\n",
    "        and returns the one set with minimal Error E_j.\n",
    "        \"\"\"\n",
    "        min_Ej = np.inf\n",
    "        min_j = np.inf\n",
    "        min_p_j = np.inf\n",
    "        min_theta_j = np.inf\n",
    "        min_y_pred = None\n",
    "        # Train and evaluate a weak classifier for every possible combination of feature type and position \n",
    "        # using decision stumps of depth 1\n",
    "        for j in range(feature_matrix.shape[1]):\n",
    "            feature_column_j = feature_matrix[:, j]\n",
    "            sorted_col = np.sort(feature_column_j)\n",
    "            # EVA: Wouldn't it be more efficient to iterate over set(sorted_col)?\n",
    "            # test every value for feature j that was calculcated on the training set as threshold\n",
    "            for theta_j in sorted_col:\n",
    "                y_pred_neg = self.get_h_j_predictions(-1, theta_j, feature_column_j)\n",
    "                y_pred_pos = self.get_h_j_predictions(1, theta_j, feature_column_j)\n",
    "                \n",
    "                # theta_j is supposed to partition images into no face (left, ≤) and faces (right, >)\n",
    "                left_partition_pos = np.where(feature_column_j <= theta_j)\n",
    "                L_neg = np.sum(sample_weights[np.where(labels[left_partition_pos] == 0)])\n",
    "                L_pos = np.sum(sample_weights[np.where(labels[left_partition_pos] == 1)])\n",
    "                e_neg = L_pos + np.sum(sample_weights[np.where(labels == 0)]) - L_neg\n",
    "                e_pos = L_neg + np.sum(sample_weights[np.where(labels == 1)]) - L_pos\n",
    "                # EVA: Shouldn't this be the other way around?? Currently, if correctly classified weight sum is larger,\n",
    "                # the predictions get inverted and the classifier is evaluated as bad-performig (high error).\n",
    "                # if weight sum of correctly classified images is larger, then return inverted labels as predictions\n",
    "                # for all images and set new parity = -1\n",
    "                if e_neg < e_pos:\n",
    "                    y_pred = y_pred_neg\n",
    "                    p_j = -1\n",
    "                # if weight sum of falsely classified images is larger or equal, then return actual labels as predictions\n",
    "                # and set new parity = 1\n",
    "                else:\n",
    "                    y_pred = y_pred_pos\n",
    "                    p_j = 1\n",
    "                # compute tmp misclassification error based on threshold properties\n",
    "                temp_Ej = self.calculate_Ej(sample_weights, labels, y_pred)\n",
    "                # test if minimum error, update best performing fetaure and associated parity, threshold and predictions\n",
    "                if temp_Ej < min_Ej:\n",
    "                    min_Ej = temp_Ej\n",
    "                    min_j = j\n",
    "                    min_p_j = p_j\n",
    "                    min_theta_j = theta_j\n",
    "                    min_y_pred = y_pred\n",
    "        return (min_Ej, min_j, min_p_j, min_theta_j, min_y_pred)\n",
    "    \n",
    "    def train_viola_jones(self, X_train, y_train):\n",
    "        \"\"\"\n",
    "        Implements the Viola-Jones main training loop.\n",
    "        \"\"\"\n",
    "        if len(np.unique(y_train)) != 2 and 0 in np.unique(y_train) and 1 in np.unique(y_train):\n",
    "            raise Exception(\"Only labels 0 and 1 allowed!!!\")\n",
    "        (label1, label2), (count1, count2) = np.unique(y_train, return_counts=True)\n",
    "        N = X_train.shape[0]\n",
    "        # 0) create integral images\n",
    "        integral_images = self.create_integral_images(X_train, self.shape_i, self.shape_j)\n",
    "        # 0.5) calculate features from integral images\n",
    "        feature_matrix = self.create_feature_matrix(integral_images, self.shape_i, self.shape_j)\n",
    "        # 1) initialize wi (for each label, normalize by count in training set)\n",
    "        # EVA: Doesn't Viola Jones normalize by double count?...but then again, some implementations just normalize \n",
    "        # by N=|training set|, so it should be fine\n",
    "        sample_weights = np.where(y_train==label1, 1 / count1, 1 / count2)     \n",
    "        # 2) for m in {1,...,M}\n",
    "        for m in range(self.n_predictors):\n",
    "            print(\"train classifier m:\", m)\n",
    "            # 2a) re-normalize weights\n",
    "            sample_weights = sample_weights / np.sum(sample_weights)\n",
    "            # 2b) train j classifiers on the weighted X_resampled and y_resampled   \n",
    "            # EVA: where are X_train/Y_train resampled?\n",
    "            min_Ej, min_j, min_p_j, min_theta_j, min_y_pred = self.get_optimal_h_j(feature_matrix, y_train, sample_weights)\n",
    "            # 2b) compute the minimum classification error Em from all Ej\n",
    "            classification_error = min_Ej\n",
    "            # 2c) compute classifier weight alpha without 0.5\n",
    "            classifier_weight = np.log((1 - classification_error) / classification_error)\n",
    "            self.classifier_list.append((classifier_weight, min_j, min_p_j, min_theta_j))\n",
    "            # 2d) recompute sample weights\n",
    "            beta_t = classification_error / (1- classification_error)\n",
    "            sample_weights = sample_weights * np.power(beta_t, (y_train == min_y_pred).astype(int))\n",
    "        print(\"--training done--\")\n",
    "        \n",
    "    def predict(self, X_test, cutoff=0.5):\n",
    "        \"\"\"\n",
    "        3) returns the ensemble model output from features on the created integral images\n",
    "        \"\"\"\n",
    "        # 3.1) create integral images\n",
    "        integral_images = self.create_integral_images(X_test, self.shape_i, self.shape_j)\n",
    "        # 3.2) calculate features from integral images\n",
    "        feature_matrix = self.create_feature_matrix(integral_images, self.shape_i, self.shape_j)\n",
    "        X_m = np.array([am * self.get_h_j_predictions(p_j, theta_j, feature_matrix[:, j]) for am, j, p_j, theta_j in self.classifier_list if j != np.inf])\n",
    "        a_m = np.array([am for am, j, p_j, theta_j in self.classifier_list])\n",
    "        print(\"--prediction done--\")\n",
    "        return (np.sum(X_m, axis=0) >= cutoff * np.sum(a_m, axis=0)).astype(int)"
   ]
  },
  {
   "cell_type": "markdown",
   "metadata": {},
   "source": [
    "... and use it on a LFW-Face-subset to classify faces.\n",
    "\n",
    "\n",
    "**a) Visualize the top ten face classifiers (features).**"
   ]
  },
  {
   "cell_type": "markdown",
   "metadata": {},
   "source": [
    "**I**\n",
    "\n",
    "EVA: Use lfw subset to learn distinguishing faces from non-faces instead of teaching the model to separate two different faces which is more of a face recognition task than a face detection task."
   ]
  },
  {
   "cell_type": "code",
   "execution_count": 37,
   "metadata": {},
   "outputs": [
    {
     "name": "stdout",
     "output_type": "stream",
     "text": [
      "(5,)\n"
     ]
    },
    {
     "data": {
      "image/png": "[encoded data removed]",
      "text/plain": [
       "<Figure size 1440x432 with 5 Axes>"
      ]
     },
     "metadata": {
      "needs_background": "light"
     },
     "output_type": "display_data"
    }
   ],
   "source": [
    "# 100 faces and 100 non-faces in 25x25 images\n",
    "images = lfw_subset()\n",
    "y = np.array([1] * 100 + [0] * 100)\n",
    "\n",
    "def show_faces(X):\n",
    "    num_samples = 5\n",
    "    indices = np.random.choice(range(len(X)), num_samples)\n",
    "    print(indices.shape)\n",
    "    sample_digits = X[indices]\n",
    "\n",
    "    fig = plt.figure(figsize=(20, 6))\n",
    "\n",
    "    for i in range(num_samples):\n",
    "        ax = plt.subplot(3, 7.5, i + 1)\n",
    "        #img = sample_digits[i].reshape((h, w))\n",
    "        img = sample_digits[i]\n",
    "        plt.imshow(img, cmap='gray')\n",
    "        plt.axis('off')\n",
    "show_faces(images)"
   ]
  },
  {
   "cell_type": "code",
   "execution_count": 39,
   "metadata": {},
   "outputs": [],
   "source": [
    "X_train_face, X_test_face, y_train_face, y_test_face = train_test_split(images, y, random_state=0, shuffle=True, stratify=y)"
   ]
  },
  {
   "cell_type": "code",
   "execution_count": null,
   "metadata": {},
   "outputs": [],
   "source": [
    "images[0]"
   ]
  },
  {
   "cell_type": "code",
   "execution_count": 50,
   "metadata": {},
   "outputs": [
    {
     "name": "stdout",
     "output_type": "stream",
     "text": [
      "train classifier m: 0\n",
      "train classifier m: 1\n",
      "train classifier m: 2\n",
      "train classifier m: 3\n",
      "train classifier m: 4\n",
      "train classifier m: 5\n",
      "train classifier m: 6\n",
      "train classifier m: 7\n",
      "train classifier m: 8\n",
      "train classifier m: 9\n",
      "--training done--\n"
     ]
    }
   ],
   "source": [
    "# EVA: Don't the images need to be converted to gray scale values for training and testing?\n",
    "violajones = Viola_Jones(image_shapes=(25,25), n_predictors=10)\n",
    "X_train = np.array([x.ravel() for x in X_train_face])\n",
    "violajones.train_viola_jones(X_train, y_train_face)"
   ]
  },
  {
   "cell_type": "code",
   "execution_count": 52,
   "metadata": {},
   "outputs": [
    {
     "name": "stdout",
     "output_type": "stream",
     "text": [
      "--prediction done--\n"
     ]
    },
    {
     "data": {
      "text/plain": [
       "array([0, 0, 0, 0, 0, 1, 0, 0, 1, 1, 1, 1, 0, 1, 0, 1, 0, 1, 1, 0, 0, 1,\n",
       "       0, 1, 0, 1, 1, 0, 1, 0, 0, 1, 0, 1, 0, 1, 0, 0, 1, 1, 0, 1, 1, 0,\n",
       "       0, 0, 1, 0, 1, 1])"
      ]
     },
     "execution_count": 52,
     "metadata": {},
     "output_type": "execute_result"
    }
   ],
   "source": [
    "X_test = np.array([x.ravel() for x in X_test_face])\n",
    "y_pred_face = violajones.predict(X_test)\n",
    "y_pred_face"
   ]
  },
  {
   "cell_type": "code",
   "execution_count": 54,
   "metadata": {},
   "outputs": [
    {
     "data": {
      "text/plain": [
       "0.98"
      ]
     },
     "execution_count": 54,
     "metadata": {},
     "output_type": "execute_result"
    }
   ],
   "source": [
    "calculate_accuracy(y_test_face, y_pred_face, np.array([0,1]))"
   ]
  },
  {
   "cell_type": "code",
   "execution_count": 55,
   "metadata": {},
   "outputs": [
    {
     "data": {
      "text/html": [
       "<div>\n",
       "<style scoped>\n",
       "    .dataframe tbody tr th:only-of-type {\n",
       "        vertical-align: middle;\n",
       "    }\n",
       "\n",
       "    .dataframe tbody tr th {\n",
       "        vertical-align: top;\n",
       "    }\n",
       "\n",
       "    .dataframe thead th {\n",
       "        text-align: right;\n",
       "    }\n",
       "</style>\n",
       "<table border=\"1\" class=\"dataframe\">\n",
       "  <thead>\n",
       "    <tr style=\"text-align: right;\">\n",
       "      <th></th>\n",
       "      <th>true: 0</th>\n",
       "      <th>true: 1</th>\n",
       "    </tr>\n",
       "  </thead>\n",
       "  <tbody>\n",
       "    <tr>\n",
       "      <th>pred: 0</th>\n",
       "      <td>25</td>\n",
       "      <td>1</td>\n",
       "    </tr>\n",
       "    <tr>\n",
       "      <th>pred: 1</th>\n",
       "      <td>0</td>\n",
       "      <td>24</td>\n",
       "    </tr>\n",
       "  </tbody>\n",
       "</table>\n",
       "</div>"
      ],
      "text/plain": [
       "         true: 0  true: 1\n",
       "pred: 0       25        1\n",
       "pred: 1        0       24"
      ]
     },
     "execution_count": 55,
     "metadata": {},
     "output_type": "execute_result"
    }
   ],
   "source": [
    "display_confusion_matrix(y_test_face, y_pred_face, np.array([0,1]))"
   ]
  },
  {
   "cell_type": "code",
   "execution_count": 56,
   "metadata": {},
   "outputs": [
    {
     "data": {
      "text/plain": [
       "[(2.639057329615259, 608, -1, 0.551633954048163),\n",
       " (2.5649493574615367, 301, 1, -6.862745210528391),\n",
       " (2.03688192726104, 989, -1, 0.3934641480445862),\n",
       " (2.2718861061052387, 754, -1, 0.19869279861450195),\n",
       " (1.9686879563128454, 209, 1, -0.16339868307113647),\n",
       " (1.9591729027087472, 104, -1, 0.25098023004829884),\n",
       " (2.1523473315596116, 1028, -1, 0.24575158953667575),\n",
       " (2.2661230990506587, 317, 1, -3.8183006402105106),\n",
       " (2.20317084066453, 251, 1, -0.014379113912582397),\n",
       " (2.0978501482317595, 921, 1, -0.684967175126074)]"
      ]
     },
     "execution_count": 56,
     "metadata": {},
     "output_type": "execute_result"
    }
   ],
   "source": [
    "# Next: get ten top classifiers and visualize them on a sample\n",
    "violajones.classifier_list # (clf weight, feature value, parity, classification threshold)"
   ]
  },
  {
   "cell_type": "markdown",
   "metadata": {},
   "source": [
    "**II**\n",
    "\n",
    "**We now train and test a Viola Jones model on images of the faces of two people in the lfw dataset. One could also use faces of this dataset and non-face images of another dataset for training which would be aligned to the intended use of Viola-Jones.**\n"
   ]
  },
  {
   "cell_type": "code",
   "execution_count": 17,
   "metadata": {},
   "outputs": [
    {
     "name": "stdout",
     "output_type": "stream",
     "text": [
      "Total dataset size:\n",
      "n_samples: 1288\n",
      "n_features: 1850\n",
      "n_classes: 7\n",
      "image_height: 50\n",
      "image_width: 37\n",
      "(5,)\n"
     ]
    },
    {
     "data": {
      "image/png": "[encoded data removed]",
      "text/plain": [
       "<Figure size 1440x432 with 5 Axes>"
      ]
     },
     "metadata": {
      "needs_background": "light"
     },
     "output_type": "display_data"
    }
   ],
   "source": [
    "from sklearn.datasets import fetch_lfw_people\n",
    "\n",
    "lfw_people = fetch_lfw_people(min_faces_per_person=70, resize=0.4)\n",
    "\n",
    "# introspect the images arrays to find the shapes (for plotting)\n",
    "n_samples, h, w = lfw_people.images.shape\n",
    "\n",
    "# for machine learning we use the 2 data directly (as relative pixel\n",
    "# positions info is ignored by this model)\n",
    "X_faces = lfw_people.data\n",
    "n_features = X_faces.shape[1]\n",
    "\n",
    "# the label to predict is the id of the person\n",
    "y_faces = lfw_people.target\n",
    "target_names = lfw_people.target_names\n",
    "n_classes = target_names.shape[0]\n",
    "\n",
    "print(\"Total dataset size:\")\n",
    "print(\"n_samples: %d\" % n_samples)\n",
    "print(\"n_features: %d\" % n_features)\n",
    "print(\"n_classes: %d\" % n_classes)\n",
    "print(\"image_height: %d\" % h)\n",
    "print(\"image_width: %d\" % w)\n",
    "\n",
    "\n",
    "def show_faces(X):\n",
    "    num_samples = 5\n",
    "    indices = np.random.choice(range(len(X)), num_samples)\n",
    "    print(indices.shape)\n",
    "    sample_digits = X[indices]\n",
    "\n",
    "    fig = plt.figure(figsize=(20, 6))\n",
    "\n",
    "    for i in range(num_samples):\n",
    "        ax = plt.subplot(3, 7.5, i + 1)\n",
    "        img = sample_digits[i].reshape((h, w))\n",
    "        plt.imshow(img, cmap='gray')\n",
    "        plt.axis('off')\n",
    "show_faces(X_faces)"
   ]
  },
  {
   "cell_type": "code",
   "execution_count": 20,
   "metadata": {},
   "outputs": [],
   "source": [
    "# X_sub = np.concatenate((X_faces[:100],np.array([np.random.randint(255, size=(h*w))] * 100)))\n",
    "X_sub = np.concatenate((X_faces[np.where(y_faces == 0)],X_faces[np.where(y_faces == 1)]))\n",
    "# y_sub = np.array([1]*100 + [0]*100)\n",
    "y_sub = np.concatenate((y_faces[np.where(y_faces == 0)],y_faces[np.where(y_faces == 1)]))\n",
    "X_train_face, X_test_face, y_train_face, y_test_face = train_test_split(X_sub, y_sub, random_state=0, shuffle=True, stratify=y_sub)"
   ]
  },
  {
   "cell_type": "code",
   "execution_count": 21,
   "metadata": {
    "scrolled": false
   },
   "outputs": [
    {
     "name": "stdout",
     "output_type": "stream",
     "text": [
      "train classifier m: 0\n",
      "train classifier m: 1\n",
      "train classifier m: 2\n",
      "train classifier m: 3\n",
      "train classifier m: 4\n",
      "train classifier m: 5\n",
      "train classifier m: 6\n",
      "train classifier m: 7\n",
      "train classifier m: 8\n",
      "train classifier m: 9\n",
      "--training done--\n"
     ]
    }
   ],
   "source": [
    "violajones = Viola_Jones(image_shapes=(h,w), n_predictors=10)\n",
    "violajones.train_viola_jones(X_train_face, y_train_face)"
   ]
  },
  {
   "cell_type": "code",
   "execution_count": 26,
   "metadata": {},
   "outputs": [
    {
     "name": "stdout",
     "output_type": "stream",
     "text": [
      "generate integral images...\n",
      "generate feature matrix...\n",
      "--prediction done--\n"
     ]
    },
    {
     "data": {
      "text/plain": [
       "array([1, 1, 0, 0, 0, 1, 1, 1, 1, 1, 1, 1, 1, 1, 1, 1, 1, 1, 1, 1, 1, 1,\n",
       "       1, 1, 1, 1, 0, 1, 1, 1, 1, 0, 1, 1, 1, 1, 0, 0, 1, 1, 0, 1, 1, 0,\n",
       "       1, 1, 1, 0, 1, 1, 1, 0, 1, 1, 1, 1, 0, 0, 1, 1, 0, 0, 1, 0, 0, 0,\n",
       "       0, 0, 0, 1, 1, 1, 1, 1, 1, 1, 1, 1, 1])"
      ]
     },
     "execution_count": 26,
     "metadata": {},
     "output_type": "execute_result"
    }
   ],
   "source": [
    "y_pred_face = violajones.predict(X_test_face)\n",
    "y_pred_face"
   ]
  },
  {
   "cell_type": "code",
   "execution_count": 27,
   "metadata": {
    "scrolled": false
   },
   "outputs": [
    {
     "data": {
      "text/html": [
       "<div>\n",
       "<style scoped>\n",
       "    .dataframe tbody tr th:only-of-type {\n",
       "        vertical-align: middle;\n",
       "    }\n",
       "\n",
       "    .dataframe tbody tr th {\n",
       "        vertical-align: top;\n",
       "    }\n",
       "\n",
       "    .dataframe thead th {\n",
       "        text-align: right;\n",
       "    }\n",
       "</style>\n",
       "<table border=\"1\" class=\"dataframe\">\n",
       "  <thead>\n",
       "    <tr style=\"text-align: right;\">\n",
       "      <th></th>\n",
       "      <th>true: 1</th>\n",
       "      <th>true: 0</th>\n",
       "    </tr>\n",
       "  </thead>\n",
       "  <tbody>\n",
       "    <tr>\n",
       "      <th>pred: 1</th>\n",
       "      <td>50</td>\n",
       "      <td>8</td>\n",
       "    </tr>\n",
       "    <tr>\n",
       "      <th>pred: 0</th>\n",
       "      <td>10</td>\n",
       "      <td>11</td>\n",
       "    </tr>\n",
       "  </tbody>\n",
       "</table>\n",
       "</div>"
      ],
      "text/plain": [
       "         true: 1  true: 0\n",
       "pred: 1       50        8\n",
       "pred: 0       10       11"
      ]
     },
     "execution_count": 27,
     "metadata": {},
     "output_type": "execute_result"
    }
   ],
   "source": [
    "display_confusion_matrix(y_test_face, y_pred_face, np.unique(y_test_face)[::-1])"
   ]
  },
  {
   "cell_type": "code",
   "execution_count": 28,
   "metadata": {
    "scrolled": true
   },
   "outputs": [
    {
     "data": {
      "text/plain": [
       "0.7721518987341772"
      ]
     },
     "execution_count": 28,
     "metadata": {},
     "output_type": "execute_result"
    }
   ],
   "source": [
    "calculate_accuracy(y_test_face, y_pred_face, np.unique(y_test_face)[::-1])"
   ]
  },
  {
   "cell_type": "markdown",
   "metadata": {},
   "source": [
    "## (a) Visualize the top ten face classifiers.\n",
    "Here we just take the ten first classifier/features used by the Viola-Jones boosting and visualize them."
   ]
  },
  {
   "cell_type": "code",
   "execution_count": 29,
   "metadata": {},
   "outputs": [
    {
     "data": {
      "text/plain": [
       "[(1.1856818007987044, 187, -1, -43.33349609375),\n",
       " (1.101168796874956, 3790, -1, 53.66667175292969),\n",
       " (1.106574867809197, 1144, 1, 30.333328247070312),\n",
       " (1.0597045904940228, 3163, 1, 56.66668701171875),\n",
       " (1.1469473630691074, 3266, 1, 48.33335876464844),\n",
       " (1.1019649925085722, 3778, 1, -18.333351135253906),\n",
       " (1.2089168286272334, 3, -1, -76.33333587646484),\n",
       " (0.9465446024062849, 55, 1, -2.3333206176757812),\n",
       " (0.9690171240892828, 750, 1, 4.666656494140625),\n",
       " (0.8939424411447898, 329, 1, -130.33333587646484)]"
      ]
     },
     "execution_count": 29,
     "metadata": {},
     "output_type": "execute_result"
    }
   ],
   "source": [
    "# [am, j, p_j, theta_j]\n",
    "violajones.classifier_list"
   ]
  },
  {
   "cell_type": "code",
   "execution_count": 30,
   "metadata": {},
   "outputs": [
    {
     "data": {
      "text/plain": [
       "(50, 37)"
      ]
     },
     "execution_count": 30,
     "metadata": {},
     "output_type": "execute_result"
    }
   ],
   "source": [
    "violajones.shape_i, violajones.shape_j"
   ]
  },
  {
   "cell_type": "code",
   "execution_count": 31,
   "metadata": {},
   "outputs": [
    {
     "name": "stdout",
     "output_type": "stream",
     "text": [
      "[ 187 3790 1144 3163 3266 3778    3   55  750  329]\n"
     ]
    }
   ],
   "source": [
    "feature_cols = np.array(violajones.classifier_list)[:,1].astype(int)\n",
    "print(feature_cols)"
   ]
  },
  {
   "cell_type": "markdown",
   "metadata": {},
   "source": [
    "Extract again, which rect-feature and at what position the feature at position j was:"
   ]
  },
  {
   "cell_type": "code",
   "execution_count": 32,
   "metadata": {},
   "outputs": [
    {
     "data": {
      "text/plain": [
       "[(2, 0, 3),\n",
       " (2, 2, 1),\n",
       " (2, 6, 25),\n",
       " (2, 12, 5),\n",
       " (2, 27, 21),\n",
       " (2, 42, 10),\n",
       " (4, 21, 22),\n",
       " (4, 24, 26),\n",
       " (4, 40, 10),\n",
       " (4, 40, 22)]"
      ]
     },
     "execution_count": 32,
     "metadata": {},
     "output_type": "execute_result"
    }
   ],
   "source": [
    "features = [2, 3, 4]\n",
    "feature_heights_widths = [(6,10), (5,9), (4,4)]\n",
    "feature_counter = 0\n",
    "used_features = []\n",
    "for feature_shape, (height, width) in zip(features, feature_heights_widths):\n",
    "    for i in range(violajones.shape_i - height):\n",
    "        for j in range(violajones.shape_j - width):\n",
    "            if feature_counter in feature_cols:\n",
    "                used_features.append((feature_shape, i, j))\n",
    "            feature_counter += 1\n",
    "# [(2/3/4-rect, i, j)] where (i,j) is the upper left corner of the feature\n",
    "used_features"
   ]
  },
  {
   "cell_type": "code",
   "execution_count": 34,
   "metadata": {},
   "outputs": [
    {
     "data": {
      "image/png": "[encoded data removed]",
      "text/plain": [
       "<Figure size 1440x432 with 10 Axes>"
      ]
     },
     "metadata": {
      "needs_background": "light"
     },
     "output_type": "display_data"
    }
   ],
   "source": [
    "num_samples = len(used_features)\n",
    "indices = np.random.choice(range(len(X_test_face)), num_samples)\n",
    "sample_digits = X_test_face[indices]\n",
    "\n",
    "fig = plt.figure(figsize=(20, 6))\n",
    "\n",
    "for i in range(num_samples):\n",
    "    ax = plt.subplot(num_samples // 5, 5, i + 1)\n",
    "    img = sample_digits[i].reshape((h, w))\n",
    "    plt.imshow(img, cmap='gray')\n",
    "    plt.axis('off')\n",
    "    rect, bottom, left = used_features[i]\n",
    "    if rect == 2:\n",
    "        rect = patches.Rectangle((left,bottom+3),10,3,linewidth=1, fill=True, color=\"white\")\n",
    "        ax.add_patch(rect)\n",
    "        rect = patches.Rectangle((left,bottom),10,3,linewidth=1, fill=True, color=\"black\")\n",
    "        ax.add_patch(rect)\n",
    "    elif rect == 3:\n",
    "        rect = patches.Rectangle((left,bottom),3,5,linewidth=1, fill=True, color=\"black\")\n",
    "        ax.add_patch(rect)\n",
    "        rect = patches.Rectangle((left+3,bottom),3,5,linewidth=1, fill=True, color=\"white\")\n",
    "        ax.add_patch(rect)\n",
    "        rect = patches.Rectangle((left+6,bottom),3,5,linewidth=1, fill=True, color=\"black\")\n",
    "        ax.add_patch(rect)\n",
    "    elif rect == 4:\n",
    "        rect = patches.Rectangle((left,bottom),2,2,linewidth=1, fill=True, color=\"white\")\n",
    "        ax.add_patch(rect)\n",
    "        rect = patches.Rectangle((left+2,bottom),2,2,linewidth=1, fill=True, color=\"black\")\n",
    "        ax.add_patch(rect)\n",
    "        rect = patches.Rectangle((left,bottom+2),2,2,linewidth=1, fill=True, color=\"black\")\n",
    "        ax.add_patch(rect)\n",
    "        rect = patches.Rectangle((left+2,bottom+2),2,2,linewidth=1, fill=True, color=\"white\")\n",
    "        ax.add_patch(rect)\n",
    "    ax.title.set_text(\"Feature {} at: (\".format(i+1) + str(left) + \", \" + str(bottom) + \")\")\n",
    "plt.show()"
   ]
  },
  {
   "cell_type": "markdown",
   "metadata": {},
   "source": [
    "# Excercise 3 (Bonus). Cascade-Classification\n",
    "Implement a cascade algorithm to classify faces in a picture of your choice (there should be\n",
    "more than a face on your image, e.g. skimage.data.astronaut())"
   ]
  },
  {
   "cell_type": "code",
   "execution_count": 5,
   "metadata": {},
   "outputs": [],
   "source": [
    "class CascadeClassifier:\n",
    "    def __init__(self, image_shapes, fpr_reduction, tpr_reduction, fpr_target):\n",
    "        self.image_shapes = image_shapes\n",
    "        self.fpr_target = fpr_target\n",
    "        self.fpr_reduction = fpr_reduction\n",
    "        self.tpr_reduction = tpr_reduction\n",
    "        self.C_i_list = None\n",
    "    \n",
    "    def calculate_cm(self, y_true, y_pred):\n",
    "        fp = np.sum((y_pred == 1) & (y_true == 0))\n",
    "        tp = np.sum((y_pred == 1) & (y_true == 1))\n",
    "        fn = np.sum((y_pred == 0) & (y_true == 1))\n",
    "        tn = np.sum((y_pred == 0) & (y_true == 0))\n",
    "        return tp, fp, fn, tn\n",
    "\n",
    "    def calculate_tpr(self, tp, fp, fn, tn):\n",
    "        return (tp)/(tp + fn)\n",
    "\n",
    "    def calculate_fpr(self, tp, fp, fn, tn):\n",
    "        return (fp)/(fp + tn)\n",
    "    \n",
    "    def train_cascade(self, X_train, X_val, y_train, y_val):\n",
    "        F_i = 1\n",
    "        D_i = 1\n",
    "        i = 0\n",
    "        n_i = 0\n",
    "        self.C_i_list = []\n",
    "        while F_i > self.fpr_target:\n",
    "            i += 1\n",
    "            F_prev = F_i\n",
    "            D_prev = D_i\n",
    "            print(\"Cascade i =\", i)\n",
    "            # n_i = 0 <- moved up because it just wastes iterations by searching small n's again\n",
    "            C_i = None\n",
    "            # '<' <- in the slides is wrong, the algorithm would never enter this loop if the condition \n",
    "            # was F_i < self.fpr_reduction * F_prev because F_i = F_prev and self.fpr_reduction is a value smaller 1\n",
    "            while F_i > self.fpr_reduction * F_prev: \n",
    "                n_i += 1\n",
    "                print(\"    F_i loop, n_i =\", n_i)\n",
    "                print(\"    F_i:\",F_i, \">\", self.fpr_reduction * F_prev)\n",
    "                C_i = Viola_Jones(image_shapes=self.image_shapes, n_predictors=n_i)\n",
    "                C_i.train_viola_jones(X_train, y_train)\n",
    "                cutoff_C_i = 0.5\n",
    "                y_pred_i = C_i.predict(X_val, cutoff=cutoff_C_i)\n",
    "                tp, fp, fn, tn = self.calculate_cm(y_val, y_pred_i)\n",
    "                D_i = self.calculate_tpr(tp, fp, fn, tn)\n",
    "                #F_i = self.calculate_fpr(tp, fp, fn, tn)\n",
    "                while D_i <= self.tpr_reduction * D_prev and cutoff_C_i > 0.1:\n",
    "                    print(\"        D_i:\",D_i, \"<=\", self.tpr_reduction * D_prev)\n",
    "                    cutoff_C_i -= 0.1\n",
    "                    print(\"        cutoff:\", cutoff_C_i)\n",
    "                    y_pred_i = C_i.predict(X_val, cutoff=cutoff_C_i)\n",
    "                    tp, fp, fn, tn = self.calculate_cm(y_val, y_pred_i)\n",
    "                    D_i = self.calculate_tpr(tp, fp, fn, tn)\n",
    "                    print(\"        D_i test:\",D_i, \">\", self.tpr_reduction * D_prev, \"is\", D_i > self.tpr_reduction * D_prev)\n",
    "                    if D_i > self.tpr_reduction * D_prev:\n",
    "                        F_i = self.calculate_fpr(tp, fp, fn, tn)\n",
    "                print(\"    D_i:\", D_i, \"F_i:\", F_i)\n",
    "            if not C_i is None:\n",
    "                self.C_i_list.append((cutoff_C_i, C_i))\n",
    "    \n",
    "    def predict_cascade(self, X_test):\n",
    "        y_pred = np.ones(len(X_test))\n",
    "        for cutoff_C_i, C_i in self.C_i_list:\n",
    "            y_pred = C_i.predict(X_test[np.where(y_pred == 1)], cutoff=cutoff_C_i)\n",
    "        return y_pred"
   ]
  },
  {
   "cell_type": "code",
   "execution_count": 46,
   "metadata": {},
   "outputs": [
    {
     "data": {
      "text/plain": [
       "<matplotlib.image.AxesImage at 0x1c67f08a278>"
      ]
     },
     "execution_count": 46,
     "metadata": {},
     "output_type": "execute_result"
    },
    {
     "data": {
      "image/png": "[encoded data removed]",
      "text/plain": [
       "<Figure size 432x288 with 1 Axes>"
      ]
     },
     "metadata": {
      "needs_background": "light"
     },
     "output_type": "display_data"
    }
   ],
   "source": [
    "# not used for now, no idea how one would label this or create training/test sets from this\n",
    "from skimage import data\n",
    "from skimage import color\n",
    "astronaut = color.rgb2gray(data.astronaut())\n",
    "plt.imshow(astronaut, cmap='gray')"
   ]
  },
  {
   "cell_type": "code",
   "execution_count": 6,
   "metadata": {},
   "outputs": [],
   "source": [
    "X_train_cascade, X_val_cascade, y_train_cascade, y_val_cascade = train_test_split(X_train_face, y_train_face, random_state=0, shuffle=True, stratify=y_train_face)"
   ]
  },
  {
   "cell_type": "code",
   "execution_count": 7,
   "metadata": {
    "scrolled": true
   },
   "outputs": [
    {
     "name": "stdout",
     "output_type": "stream",
     "text": [
      "Cascade i = 1\n",
      "    F_i loop, n_i = 1\n",
      "    F_i: 1 > 0.8\n",
      "train classifier m: 0\n",
      "--training done--\n",
      "--prediction done--\n",
      "        D_i: 0.7727272727272727 <= 0.95\n",
      "        cutoff: 0.4\n",
      "--prediction done--\n",
      "        D_i test: 0.7727272727272727 > 0.95 is False\n",
      "        D_i: 0.7727272727272727 <= 0.95\n",
      "        cutoff: 0.30000000000000004\n",
      "--prediction done--\n",
      "        D_i test: 0.7727272727272727 > 0.95 is False\n",
      "        D_i: 0.7727272727272727 <= 0.95\n",
      "        cutoff: 0.20000000000000004\n",
      "--prediction done--\n",
      "        D_i test: 0.7727272727272727 > 0.95 is False\n",
      "        D_i: 0.7727272727272727 <= 0.95\n",
      "        cutoff: 0.10000000000000003\n",
      "--prediction done--\n",
      "        D_i test: 0.7727272727272727 > 0.95 is False\n",
      "        D_i: 0.7727272727272727 <= 0.95\n",
      "        cutoff: 2.7755575615628914e-17\n",
      "--prediction done--\n",
      "        D_i test: 0.7727272727272727 > 0.95 is False\n",
      "    D_i: 0.7727272727272727 F_i: 1\n",
      "    F_i loop, n_i = 2\n",
      "    F_i: 1 > 0.8\n",
      "train classifier m: 0\n",
      "train classifier m: 1\n",
      "--training done--\n",
      "--prediction done--\n",
      "        D_i: 0.7727272727272727 <= 0.95\n",
      "        cutoff: 0.4\n",
      "--prediction done--\n",
      "        D_i test: 0.9772727272727273 > 0.95 is True\n",
      "    D_i: 0.9772727272727273 F_i: 0.7333333333333333\n",
      "Cascade i = 2\n",
      "    F_i loop, n_i = 3\n",
      "    F_i: 0.7333333333333333 > 0.5866666666666667\n",
      "train classifier m: 0\n",
      "train classifier m: 1\n",
      "train classifier m: 2\n",
      "--training done--\n",
      "--prediction done--\n",
      "        D_i: 0.7272727272727273 <= 0.9284090909090909\n",
      "        cutoff: 0.4\n",
      "--prediction done--\n",
      "        D_i test: 0.7272727272727273 > 0.9284090909090909 is False\n",
      "        D_i: 0.7272727272727273 <= 0.9284090909090909\n",
      "        cutoff: 0.30000000000000004\n",
      "--prediction done--\n",
      "        D_i test: 0.9772727272727273 > 0.9284090909090909 is True\n",
      "    D_i: 0.9772727272727273 F_i: 0.7333333333333333\n",
      "    F_i loop, n_i = 4\n",
      "    F_i: 0.7333333333333333 > 0.5866666666666667\n",
      "train classifier m: 0\n",
      "train classifier m: 1\n",
      "train classifier m: 2\n",
      "train classifier m: 3\n",
      "--training done--\n",
      "--prediction done--\n",
      "        D_i: 0.7727272727272727 <= 0.9284090909090909\n",
      "        cutoff: 0.4\n",
      "--prediction done--\n",
      "        D_i test: 0.8409090909090909 > 0.9284090909090909 is False\n",
      "        D_i: 0.8409090909090909 <= 0.9284090909090909\n",
      "        cutoff: 0.30000000000000004\n",
      "--prediction done--\n",
      "        D_i test: 0.8409090909090909 > 0.9284090909090909 is False\n",
      "        D_i: 0.8409090909090909 <= 0.9284090909090909\n",
      "        cutoff: 0.20000000000000004\n",
      "--prediction done--\n",
      "        D_i test: 1.0 > 0.9284090909090909 is True\n",
      "    D_i: 1.0 F_i: 0.8\n",
      "    F_i loop, n_i = 5\n",
      "    F_i: 0.8 > 0.5866666666666667\n",
      "train classifier m: 0\n",
      "train classifier m: 1\n",
      "train classifier m: 2\n",
      "train classifier m: 3\n",
      "train classifier m: 4\n",
      "--training done--\n",
      "--prediction done--\n",
      "        D_i: 0.7954545454545454 <= 0.9284090909090909\n",
      "        cutoff: 0.4\n",
      "--prediction done--\n",
      "        D_i test: 0.9090909090909091 > 0.9284090909090909 is False\n",
      "        D_i: 0.9090909090909091 <= 0.9284090909090909\n",
      "        cutoff: 0.30000000000000004\n",
      "--prediction done--\n",
      "        D_i test: 0.9545454545454546 > 0.9284090909090909 is True\n",
      "    D_i: 0.9545454545454546 F_i: 0.6666666666666666\n",
      "    F_i loop, n_i = 6\n",
      "    F_i: 0.6666666666666666 > 0.5866666666666667\n",
      "train classifier m: 0\n",
      "train classifier m: 1\n",
      "train classifier m: 2\n",
      "train classifier m: 3\n",
      "train classifier m: 4\n",
      "train classifier m: 5\n",
      "--training done--\n",
      "--prediction done--\n",
      "        D_i: 0.8636363636363636 <= 0.9284090909090909\n",
      "        cutoff: 0.4\n",
      "--prediction done--\n",
      "        D_i test: 0.8863636363636364 > 0.9284090909090909 is False\n",
      "        D_i: 0.8863636363636364 <= 0.9284090909090909\n",
      "        cutoff: 0.30000000000000004\n",
      "--prediction done--\n",
      "        D_i test: 1.0 > 0.9284090909090909 is True\n",
      "    D_i: 1.0 F_i: 0.7333333333333333\n",
      "    F_i loop, n_i = 7\n",
      "    F_i: 0.7333333333333333 > 0.5866666666666667\n",
      "train classifier m: 0\n",
      "train classifier m: 1\n",
      "train classifier m: 2\n",
      "train classifier m: 3\n",
      "train classifier m: 4\n",
      "train classifier m: 5\n",
      "train classifier m: 6\n",
      "--training done--\n",
      "--prediction done--\n",
      "        D_i: 0.8181818181818182 <= 0.9284090909090909\n",
      "        cutoff: 0.4\n",
      "--prediction done--\n",
      "        D_i test: 0.9090909090909091 > 0.9284090909090909 is False\n",
      "        D_i: 0.9090909090909091 <= 0.9284090909090909\n",
      "        cutoff: 0.30000000000000004\n",
      "--prediction done--\n",
      "        D_i test: 0.9090909090909091 > 0.9284090909090909 is False\n",
      "        D_i: 0.9090909090909091 <= 0.9284090909090909\n",
      "        cutoff: 0.20000000000000004\n",
      "--prediction done--\n",
      "        D_i test: 1.0 > 0.9284090909090909 is True\n",
      "    D_i: 1.0 F_i: 0.8666666666666667\n",
      "    F_i loop, n_i = 8\n",
      "    F_i: 0.8666666666666667 > 0.5866666666666667\n",
      "train classifier m: 0\n",
      "train classifier m: 1\n",
      "train classifier m: 2\n",
      "train classifier m: 3\n",
      "train classifier m: 4\n",
      "train classifier m: 5\n",
      "train classifier m: 6\n",
      "train classifier m: 7\n",
      "--training done--\n",
      "--prediction done--\n",
      "        D_i: 0.9090909090909091 <= 0.9284090909090909\n",
      "        cutoff: 0.4\n",
      "--prediction done--\n",
      "        D_i test: 0.9090909090909091 > 0.9284090909090909 is False\n",
      "        D_i: 0.9090909090909091 <= 0.9284090909090909\n",
      "        cutoff: 0.30000000000000004\n",
      "--prediction done--\n",
      "        D_i test: 1.0 > 0.9284090909090909 is True\n",
      "    D_i: 1.0 F_i: 0.8\n",
      "    F_i loop, n_i = 9\n",
      "    F_i: 0.8 > 0.5866666666666667\n",
      "train classifier m: 0\n",
      "train classifier m: 1\n",
      "train classifier m: 2\n",
      "train classifier m: 3\n",
      "train classifier m: 4\n",
      "train classifier m: 5\n",
      "train classifier m: 6\n",
      "train classifier m: 7\n",
      "train classifier m: 8\n",
      "--training done--\n",
      "--prediction done--\n",
      "        D_i: 0.8863636363636364 <= 0.9284090909090909\n",
      "        cutoff: 0.4\n",
      "--prediction done--\n",
      "        D_i test: 0.9318181818181818 > 0.9284090909090909 is True\n",
      "    D_i: 0.9318181818181818 F_i: 0.5333333333333333\n",
      "Cascade i = 3\n",
      "    F_i loop, n_i = 10\n",
      "    F_i: 0.5333333333333333 > 0.4266666666666667\n",
      "train classifier m: 0\n",
      "train classifier m: 1\n",
      "train classifier m: 2\n",
      "train classifier m: 3\n",
      "train classifier m: 4\n",
      "train classifier m: 5\n",
      "train classifier m: 6\n",
      "train classifier m: 7\n",
      "train classifier m: 8\n",
      "train classifier m: 9\n",
      "--training done--\n",
      "--prediction done--\n",
      "    D_i: 0.8863636363636364 F_i: 0.5333333333333333\n",
      "    F_i loop, n_i = 11\n",
      "    F_i: 0.5333333333333333 > 0.4266666666666667\n",
      "train classifier m: 0\n",
      "train classifier m: 1\n",
      "train classifier m: 2\n",
      "train classifier m: 3\n",
      "train classifier m: 4\n",
      "train classifier m: 5\n",
      "train classifier m: 6\n",
      "train classifier m: 7\n",
      "train classifier m: 8\n",
      "train classifier m: 9\n",
      "train classifier m: 10\n",
      "--training done--\n",
      "--prediction done--\n",
      "        D_i: 0.8636363636363636 <= 0.8852272727272726\n",
      "        cutoff: 0.4\n",
      "--prediction done--\n",
      "        D_i test: 0.9772727272727273 > 0.8852272727272726 is True\n",
      "    D_i: 0.9772727272727273 F_i: 0.5333333333333333\n",
      "    F_i loop, n_i = 12\n",
      "    F_i: 0.5333333333333333 > 0.4266666666666667\n",
      "train classifier m: 0\n",
      "train classifier m: 1\n",
      "train classifier m: 2\n",
      "train classifier m: 3\n",
      "train classifier m: 4\n",
      "train classifier m: 5\n",
      "train classifier m: 6\n",
      "train classifier m: 7\n",
      "train classifier m: 8\n",
      "train classifier m: 9\n",
      "train classifier m: 10\n",
      "train classifier m: 11\n",
      "--training done--\n",
      "--prediction done--\n",
      "        D_i: 0.8636363636363636 <= 0.8852272727272726\n",
      "        cutoff: 0.4\n",
      "--prediction done--\n",
      "        D_i test: 0.9772727272727273 > 0.8852272727272726 is True\n",
      "    D_i: 0.9772727272727273 F_i: 0.6\n",
      "    F_i loop, n_i = 13\n",
      "    F_i: 0.6 > 0.4266666666666667\n",
      "train classifier m: 0\n",
      "train classifier m: 1\n",
      "train classifier m: 2\n",
      "train classifier m: 3\n",
      "train classifier m: 4\n",
      "train classifier m: 5\n",
      "train classifier m: 6\n",
      "train classifier m: 7\n",
      "train classifier m: 8\n",
      "train classifier m: 9\n",
      "train classifier m: 10\n",
      "train classifier m: 11\n",
      "train classifier m: 12\n",
      "--training done--\n",
      "--prediction done--\n",
      "        D_i: 0.8409090909090909 <= 0.8852272727272726\n",
      "        cutoff: 0.4\n",
      "--prediction done--\n",
      "        D_i test: 0.9090909090909091 > 0.8852272727272726 is True\n",
      "    D_i: 0.9090909090909091 F_i: 0.4\n",
      "Cascade i = 4\n",
      "    F_i loop, n_i = 14\n",
      "    F_i: 0.4 > 0.32000000000000006\n",
      "train classifier m: 0\n",
      "train classifier m: 1\n",
      "train classifier m: 2\n",
      "train classifier m: 3\n",
      "train classifier m: 4\n",
      "train classifier m: 5\n",
      "train classifier m: 6\n",
      "train classifier m: 7\n",
      "train classifier m: 8\n",
      "train classifier m: 9\n",
      "train classifier m: 10\n",
      "train classifier m: 11\n",
      "train classifier m: 12\n",
      "train classifier m: 13\n",
      "--training done--\n",
      "--prediction done--\n",
      "    D_i: 0.8636363636363636 F_i: 0.4\n",
      "    F_i loop, n_i = 15\n",
      "    F_i: 0.4 > 0.32000000000000006\n"
     ]
    },
    {
     "name": "stdout",
     "output_type": "stream",
     "text": [
      "train classifier m: 0\n",
      "train classifier m: 1\n",
      "train classifier m: 2\n",
      "train classifier m: 3\n",
      "train classifier m: 4\n",
      "train classifier m: 5\n",
      "train classifier m: 6\n",
      "train classifier m: 7\n",
      "train classifier m: 8\n",
      "train classifier m: 9\n",
      "train classifier m: 10\n",
      "train classifier m: 11\n",
      "train classifier m: 12\n",
      "train classifier m: 13\n",
      "train classifier m: 14\n",
      "--training done--\n",
      "--prediction done--\n",
      "    D_i: 0.8636363636363636 F_i: 0.4\n",
      "    F_i loop, n_i = 16\n",
      "    F_i: 0.4 > 0.32000000000000006\n",
      "train classifier m: 0\n",
      "train classifier m: 1\n",
      "train classifier m: 2\n",
      "train classifier m: 3\n",
      "train classifier m: 4\n",
      "train classifier m: 5\n",
      "train classifier m: 6\n",
      "train classifier m: 7\n",
      "train classifier m: 8\n",
      "train classifier m: 9\n",
      "train classifier m: 10\n",
      "train classifier m: 11\n",
      "train classifier m: 12\n",
      "train classifier m: 13\n",
      "train classifier m: 14\n",
      "train classifier m: 15\n",
      "--training done--\n",
      "--prediction done--\n",
      "    D_i: 0.8636363636363636 F_i: 0.4\n",
      "    F_i loop, n_i = 17\n",
      "    F_i: 0.4 > 0.32000000000000006\n",
      "train classifier m: 0\n",
      "train classifier m: 1\n",
      "train classifier m: 2\n",
      "train classifier m: 3\n",
      "train classifier m: 4\n",
      "train classifier m: 5\n",
      "train classifier m: 6\n",
      "train classifier m: 7\n",
      "train classifier m: 8\n",
      "train classifier m: 9\n",
      "train classifier m: 10\n",
      "train classifier m: 11\n",
      "train classifier m: 12\n",
      "train classifier m: 13\n",
      "train classifier m: 14\n",
      "train classifier m: 15\n",
      "train classifier m: 16\n",
      "--training done--\n",
      "--prediction done--\n",
      "    D_i: 0.8636363636363636 F_i: 0.4\n",
      "    F_i loop, n_i = 18\n",
      "    F_i: 0.4 > 0.32000000000000006\n",
      "train classifier m: 0\n",
      "train classifier m: 1\n",
      "train classifier m: 2\n",
      "train classifier m: 3\n",
      "train classifier m: 4\n",
      "train classifier m: 5\n",
      "train classifier m: 6\n",
      "train classifier m: 7\n",
      "train classifier m: 8\n",
      "train classifier m: 9\n",
      "train classifier m: 10\n",
      "train classifier m: 11\n",
      "train classifier m: 12\n",
      "train classifier m: 13\n",
      "train classifier m: 14\n",
      "train classifier m: 15\n",
      "train classifier m: 16\n",
      "train classifier m: 17\n",
      "--training done--\n",
      "--prediction done--\n",
      "    D_i: 0.8636363636363636 F_i: 0.4\n",
      "    F_i loop, n_i = 19\n",
      "    F_i: 0.4 > 0.32000000000000006\n",
      "train classifier m: 0\n",
      "train classifier m: 1\n",
      "train classifier m: 2\n",
      "train classifier m: 3\n",
      "train classifier m: 4\n",
      "train classifier m: 5\n",
      "train classifier m: 6\n",
      "train classifier m: 7\n",
      "train classifier m: 8\n",
      "train classifier m: 9\n",
      "train classifier m: 10\n",
      "train classifier m: 11\n",
      "train classifier m: 12\n",
      "train classifier m: 13\n",
      "train classifier m: 14\n",
      "train classifier m: 15\n",
      "train classifier m: 16\n",
      "train classifier m: 17\n",
      "train classifier m: 18\n",
      "--training done--\n",
      "--prediction done--\n",
      "    D_i: 0.8636363636363636 F_i: 0.4\n",
      "    F_i loop, n_i = 20\n",
      "    F_i: 0.4 > 0.32000000000000006\n",
      "train classifier m: 0\n",
      "train classifier m: 1\n",
      "train classifier m: 2\n"
     ]
    },
    {
     "ename": "KeyboardInterrupt",
     "evalue": "",
     "output_type": "error",
     "traceback": [
      "\u001b[1;31m---------------------------------------------------------------------------\u001b[0m",
      "\u001b[1;31mKeyboardInterrupt\u001b[0m                         Traceback (most recent call last)",
      "\u001b[1;32m<ipython-input-7-e061b3da2d66>\u001b[0m in \u001b[0;36m<module>\u001b[1;34m\u001b[0m\n\u001b[0;32m      1\u001b[0m \u001b[0mCC\u001b[0m \u001b[1;33m=\u001b[0m \u001b[0mCascadeClassifier\u001b[0m\u001b[1;33m(\u001b[0m\u001b[1;33m(\u001b[0m\u001b[0mh\u001b[0m\u001b[1;33m,\u001b[0m\u001b[0mw\u001b[0m\u001b[1;33m)\u001b[0m\u001b[1;33m,\u001b[0m \u001b[1;36m0.8\u001b[0m\u001b[1;33m,\u001b[0m \u001b[1;36m0.95\u001b[0m\u001b[1;33m,\u001b[0m \u001b[1;36m0.2\u001b[0m\u001b[1;33m)\u001b[0m\u001b[1;33m\u001b[0m\u001b[1;33m\u001b[0m\u001b[0m\n\u001b[1;32m----> 2\u001b[1;33m \u001b[0mCC\u001b[0m\u001b[1;33m.\u001b[0m\u001b[0mtrain_cascade\u001b[0m\u001b[1;33m(\u001b[0m\u001b[0mX_train_cascade\u001b[0m\u001b[1;33m,\u001b[0m \u001b[0mX_val_cascade\u001b[0m\u001b[1;33m,\u001b[0m \u001b[0my_train_cascade\u001b[0m\u001b[1;33m,\u001b[0m \u001b[0my_val_cascade\u001b[0m\u001b[1;33m)\u001b[0m\u001b[1;33m\u001b[0m\u001b[1;33m\u001b[0m\u001b[0m\n\u001b[0m",
      "\u001b[1;32m<ipython-input-5-4bcf74796bfe>\u001b[0m in \u001b[0;36mtrain_cascade\u001b[1;34m(self, X_train, X_val, y_train, y_val)\u001b[0m\n\u001b[0;32m     40\u001b[0m                 \u001b[0mprint\u001b[0m\u001b[1;33m(\u001b[0m\u001b[1;34m\"    F_i:\"\u001b[0m\u001b[1;33m,\u001b[0m\u001b[0mF_i\u001b[0m\u001b[1;33m,\u001b[0m \u001b[1;34m\">\"\u001b[0m\u001b[1;33m,\u001b[0m \u001b[0mself\u001b[0m\u001b[1;33m.\u001b[0m\u001b[0mfpr_reduction\u001b[0m \u001b[1;33m*\u001b[0m \u001b[0mF_prev\u001b[0m\u001b[1;33m)\u001b[0m\u001b[1;33m\u001b[0m\u001b[1;33m\u001b[0m\u001b[0m\n\u001b[0;32m     41\u001b[0m                 \u001b[0mC_i\u001b[0m \u001b[1;33m=\u001b[0m \u001b[0mViola_Jones\u001b[0m\u001b[1;33m(\u001b[0m\u001b[0mimage_shapes\u001b[0m\u001b[1;33m=\u001b[0m\u001b[0mself\u001b[0m\u001b[1;33m.\u001b[0m\u001b[0mimage_shapes\u001b[0m\u001b[1;33m,\u001b[0m \u001b[0mn_predictors\u001b[0m\u001b[1;33m=\u001b[0m\u001b[0mn_i\u001b[0m\u001b[1;33m)\u001b[0m\u001b[1;33m\u001b[0m\u001b[1;33m\u001b[0m\u001b[0m\n\u001b[1;32m---> 42\u001b[1;33m                 \u001b[0mC_i\u001b[0m\u001b[1;33m.\u001b[0m\u001b[0mtrain_viola_jones\u001b[0m\u001b[1;33m(\u001b[0m\u001b[0mX_train\u001b[0m\u001b[1;33m,\u001b[0m \u001b[0my_train\u001b[0m\u001b[1;33m)\u001b[0m\u001b[1;33m\u001b[0m\u001b[1;33m\u001b[0m\u001b[0m\n\u001b[0m\u001b[0;32m     43\u001b[0m                 \u001b[0mcutoff_C_i\u001b[0m \u001b[1;33m=\u001b[0m \u001b[1;36m0.5\u001b[0m\u001b[1;33m\u001b[0m\u001b[1;33m\u001b[0m\u001b[0m\n\u001b[0;32m     44\u001b[0m                 \u001b[0my_pred_i\u001b[0m \u001b[1;33m=\u001b[0m \u001b[0mC_i\u001b[0m\u001b[1;33m.\u001b[0m\u001b[0mpredict\u001b[0m\u001b[1;33m(\u001b[0m\u001b[0mX_val\u001b[0m\u001b[1;33m,\u001b[0m \u001b[0mcutoff\u001b[0m\u001b[1;33m=\u001b[0m\u001b[0mcutoff_C_i\u001b[0m\u001b[1;33m)\u001b[0m\u001b[1;33m\u001b[0m\u001b[1;33m\u001b[0m\u001b[0m\n",
      "\u001b[1;32m<ipython-input-2-c60b61b89621>\u001b[0m in \u001b[0;36mtrain_viola_jones\u001b[1;34m(self, X_train, y_train)\u001b[0m\n\u001b[0;32m    138\u001b[0m             \u001b[0msample_weights\u001b[0m \u001b[1;33m=\u001b[0m \u001b[0msample_weights\u001b[0m \u001b[1;33m/\u001b[0m \u001b[0mnp\u001b[0m\u001b[1;33m.\u001b[0m\u001b[0msum\u001b[0m\u001b[1;33m(\u001b[0m\u001b[0msample_weights\u001b[0m\u001b[1;33m)\u001b[0m\u001b[1;33m\u001b[0m\u001b[1;33m\u001b[0m\u001b[0m\n\u001b[0;32m    139\u001b[0m             \u001b[1;31m# 2b) train j classifiers on the weighted X_resampled and y_resampled\u001b[0m\u001b[1;33m\u001b[0m\u001b[1;33m\u001b[0m\u001b[1;33m\u001b[0m\u001b[0m\n\u001b[1;32m--> 140\u001b[1;33m             \u001b[0mmin_Ej\u001b[0m\u001b[1;33m,\u001b[0m \u001b[0mmin_j\u001b[0m\u001b[1;33m,\u001b[0m \u001b[0mmin_p_j\u001b[0m\u001b[1;33m,\u001b[0m \u001b[0mmin_theta_j\u001b[0m\u001b[1;33m,\u001b[0m \u001b[0mmin_y_pred\u001b[0m \u001b[1;33m=\u001b[0m \u001b[0mself\u001b[0m\u001b[1;33m.\u001b[0m\u001b[0mget_optimal_h_j\u001b[0m\u001b[1;33m(\u001b[0m\u001b[0mfeature_matrix\u001b[0m\u001b[1;33m,\u001b[0m \u001b[0my_train\u001b[0m\u001b[1;33m,\u001b[0m \u001b[0msample_weights\u001b[0m\u001b[1;33m)\u001b[0m\u001b[1;33m\u001b[0m\u001b[1;33m\u001b[0m\u001b[0m\n\u001b[0m\u001b[0;32m    141\u001b[0m             \u001b[1;31m# 2b) compute the minimum classification error Em from all Ej\u001b[0m\u001b[1;33m\u001b[0m\u001b[1;33m\u001b[0m\u001b[1;33m\u001b[0m\u001b[0m\n\u001b[0;32m    142\u001b[0m             \u001b[0mclassification_error\u001b[0m \u001b[1;33m=\u001b[0m \u001b[0mmin_Ej\u001b[0m\u001b[1;33m\u001b[0m\u001b[1;33m\u001b[0m\u001b[0m\n",
      "\u001b[1;32m<ipython-input-2-c60b61b89621>\u001b[0m in \u001b[0;36mget_optimal_h_j\u001b[1;34m(self, feature_matrix, labels, sample_weights)\u001b[0m\n\u001b[0;32m    109\u001b[0m                     \u001b[0my_pred\u001b[0m \u001b[1;33m=\u001b[0m \u001b[0my_pred_pos\u001b[0m\u001b[1;33m\u001b[0m\u001b[1;33m\u001b[0m\u001b[0m\n\u001b[0;32m    110\u001b[0m                     \u001b[0mp_j\u001b[0m \u001b[1;33m=\u001b[0m \u001b[1;36m1\u001b[0m\u001b[1;33m\u001b[0m\u001b[1;33m\u001b[0m\u001b[0m\n\u001b[1;32m--> 111\u001b[1;33m                 \u001b[0mtemp_Ej\u001b[0m \u001b[1;33m=\u001b[0m \u001b[0mself\u001b[0m\u001b[1;33m.\u001b[0m\u001b[0mcalculate_Ej\u001b[0m\u001b[1;33m(\u001b[0m\u001b[0msample_weights\u001b[0m\u001b[1;33m,\u001b[0m \u001b[0mlabels\u001b[0m\u001b[1;33m,\u001b[0m \u001b[0my_pred\u001b[0m\u001b[1;33m)\u001b[0m\u001b[1;33m\u001b[0m\u001b[1;33m\u001b[0m\u001b[0m\n\u001b[0m\u001b[0;32m    112\u001b[0m                 \u001b[1;32mif\u001b[0m \u001b[0mtemp_Ej\u001b[0m \u001b[1;33m<\u001b[0m \u001b[0mmin_Ej\u001b[0m\u001b[1;33m:\u001b[0m\u001b[1;33m\u001b[0m\u001b[1;33m\u001b[0m\u001b[0m\n\u001b[0;32m    113\u001b[0m                     \u001b[0mmin_Ej\u001b[0m \u001b[1;33m=\u001b[0m \u001b[0mtemp_Ej\u001b[0m\u001b[1;33m\u001b[0m\u001b[1;33m\u001b[0m\u001b[0m\n",
      "\u001b[1;32m<ipython-input-2-c60b61b89621>\u001b[0m in \u001b[0;36mcalculate_Ej\u001b[1;34m(self, sample_weights, y_train, y_pred)\u001b[0m\n\u001b[0;32m     73\u001b[0m         \u001b[0mThis\u001b[0m \u001b[0mfunction\u001b[0m \u001b[0mcalculates\u001b[0m \u001b[0mthe\u001b[0m \u001b[0mclassifier\u001b[0m \u001b[0merror\u001b[0m\u001b[1;33m.\u001b[0m\u001b[1;33m\u001b[0m\u001b[1;33m\u001b[0m\u001b[0m\n\u001b[0;32m     74\u001b[0m         \"\"\"\n\u001b[1;32m---> 75\u001b[1;33m         \u001b[1;32mreturn\u001b[0m \u001b[0mnp\u001b[0m\u001b[1;33m.\u001b[0m\u001b[0msum\u001b[0m\u001b[1;33m(\u001b[0m\u001b[0msample_weights\u001b[0m \u001b[1;33m*\u001b[0m \u001b[1;33m(\u001b[0m\u001b[0my_train\u001b[0m \u001b[1;33m!=\u001b[0m \u001b[0my_pred\u001b[0m\u001b[1;33m)\u001b[0m\u001b[1;33m.\u001b[0m\u001b[0mastype\u001b[0m\u001b[1;33m(\u001b[0m\u001b[0mint\u001b[0m\u001b[1;33m)\u001b[0m\u001b[1;33m)\u001b[0m\u001b[1;33m\u001b[0m\u001b[1;33m\u001b[0m\u001b[0m\n\u001b[0m\u001b[0;32m     76\u001b[0m \u001b[1;33m\u001b[0m\u001b[0m\n\u001b[0;32m     77\u001b[0m     \u001b[1;32mdef\u001b[0m \u001b[0mget_h_j_predictions\u001b[0m\u001b[1;33m(\u001b[0m\u001b[0mself\u001b[0m\u001b[1;33m,\u001b[0m \u001b[0mp_j\u001b[0m\u001b[1;33m,\u001b[0m \u001b[0mtheta_j\u001b[0m\u001b[1;33m,\u001b[0m \u001b[0mfeature_column_j\u001b[0m\u001b[1;33m)\u001b[0m\u001b[1;33m:\u001b[0m\u001b[1;33m\u001b[0m\u001b[1;33m\u001b[0m\u001b[0m\n",
      "\u001b[1;31mKeyboardInterrupt\u001b[0m: "
     ]
    }
   ],
   "source": [
    "CC = CascadeClassifier((h,w), 0.8, 0.95, 0.2)\n",
    "CC.train_cascade(X_train_cascade, X_val_cascade, y_train_cascade, y_val_cascade)"
   ]
  },
  {
   "cell_type": "code",
   "execution_count": null,
   "metadata": {},
   "outputs": [],
   "source": [
    "clf_list = CC.C_i_list"
   ]
  },
  {
   "cell_type": "code",
   "execution_count": null,
   "metadata": {},
   "outputs": [],
   "source": [
    "# CC = CascadeClassifier((h,w), 0.8, 0.9, 0.2)\n",
    "# CC.C_i_list = clf_list"
   ]
  },
  {
   "cell_type": "code",
   "execution_count": null,
   "metadata": {},
   "outputs": [],
   "source": [
    "y_pred_cascade = CC.predict_cascade(X_test_face)\n",
    "y_pred_cascade"
   ]
  },
  {
   "cell_type": "code",
   "execution_count": 27,
   "metadata": {
    "scrolled": false
   },
   "outputs": [
    {
     "data": {
      "text/html": [
       "<div>\n",
       "<style scoped>\n",
       "    .dataframe tbody tr th:only-of-type {\n",
       "        vertical-align: middle;\n",
       "    }\n",
       "\n",
       "    .dataframe tbody tr th {\n",
       "        vertical-align: top;\n",
       "    }\n",
       "\n",
       "    .dataframe thead th {\n",
       "        text-align: right;\n",
       "    }\n",
       "</style>\n",
       "<table border=\"1\" class=\"dataframe\">\n",
       "  <thead>\n",
       "    <tr style=\"text-align: right;\">\n",
       "      <th></th>\n",
       "      <th>true: 1</th>\n",
       "      <th>true: 0</th>\n",
       "    </tr>\n",
       "  </thead>\n",
       "  <tbody>\n",
       "    <tr>\n",
       "      <th>pred: 1</th>\n",
       "      <td>50</td>\n",
       "      <td>8</td>\n",
       "    </tr>\n",
       "    <tr>\n",
       "      <th>pred: 0</th>\n",
       "      <td>10</td>\n",
       "      <td>11</td>\n",
       "    </tr>\n",
       "  </tbody>\n",
       "</table>\n",
       "</div>"
      ],
      "text/plain": [
       "         true: 1  true: 0\n",
       "pred: 1       50        8\n",
       "pred: 0       10       11"
      ]
     },
     "execution_count": 27,
     "metadata": {},
     "output_type": "execute_result"
    }
   ],
   "source": [
    "display_confusion_matrix(y_test_face, y_pred_cascade, np.unique(y_test_face)[::-1])"
   ]
  },
  {
   "cell_type": "code",
   "execution_count": 28,
   "metadata": {
    "scrolled": true
   },
   "outputs": [
    {
     "data": {
      "text/plain": [
       "0.7721518987341772"
      ]
     },
     "execution_count": 28,
     "metadata": {},
     "output_type": "execute_result"
    }
   ],
   "source": [
    "calculate_accuracy(y_test_face, y_pred_cascade, np.unique(y_test_face)[::-1])"
   ]
  }
 ],
 "metadata": {
  "kernelspec": {
   "display_name": "Python 3",
   "language": "python",
   "name": "python3"
  },
  "language_info": {
   "codemirror_mode": {
    "name": "ipython",
    "version": 3
   },
   "file_extension": ".py",
   "mimetype": "text/x-python",
   "name": "python",
   "nbconvert_exporter": "python",
   "pygments_lexer": "ipython3",
   "version": "3.7.6"
  }
 },
 "nbformat": 4,
 "nbformat_minor": 2
}
