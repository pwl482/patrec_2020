{
 "cells": [
  {
   "cell_type": "markdown",
   "metadata": {},
   "source": [
    "# Exercise 1\n",
    "Add Backpropagation to your MLP and train the model on the ZIP-Dataset."
   ]
  },
  {
   "cell_type": "code",
   "execution_count": null,
   "metadata": {},
   "outputs": [],
   "source": [
    "import numpy as np\n",
    "import pandas as pd\n",
    "from sklearn.model_selection import train_test_split\n",
    "from sklearn.utils import shuffle\n",
    "import matplotlib.pyplot as plt\n",
    "import seaborn as sns\n",
    "from sklearn.datasets import load_iris\n",
    "from statistics import mean\n",
    "import random\n",
    "from numpy import linalg as LA\n",
    "from sklearn import decomposition\n",
    "%matplotlib inline"
   ]
  },
  {
   "cell_type": "markdown",
   "metadata": {},
   "source": [
    "Using MLP class from assignment 8:\n",
    "\n",
    "- MLP with both variable depth D (number of layers) and variable number of neurons ni for each layer i = 1,...,D."
   ]
  },
  {
   "cell_type": "code",
   "execution_count": 1,
   "metadata": {},
   "outputs": [],
   "source": [
    "class MLP:\n",
    "    def __init__(self, threshold, depth, layer_width):\n",
    "        \"\"\"\n",
    "        This constructor sets random network weights and checks if the input depth matches the provided layers.\n",
    "        \"\"\"\n",
    "        self.threshold = threshold\n",
    "        self.depth = depth\n",
    "        if not len(layer_width) == (depth + 1):\n",
    "            raise Exception(\"'layer_width' needs to be of length 'depth' + 1\")  \n",
    "        self.layer_width = layer_width\n",
    "        self.network_weights = []\n",
    "        self.network_biases = []\n",
    "        width_prev = self.layer_width[0]\n",
    "        for width in self.layer_width[1:]:\n",
    "            self.network_weights.append(np.random.randn(width_prev, width)* np.sqrt(1. / width_prev))\n",
    "            self.network_biases.append(np.zeros((1, width)))\n",
    "            width_prev = width\n",
    "    \n",
    "    def heaviside(self, X):\n",
    "        \"\"\"This Function is a tiny implementation of the heaviside step function.\"\"\"\n",
    "        return (X > 0).astype(int)\n",
    "    \n",
    "    def iterate_trough_network(self, X):\n",
    "        \"\"\"This Function passes the input X through all weights and returns the prediction vector.\"\"\"\n",
    "        X_i = X.copy()\n",
    "        for i in range(self.depth):\n",
    "            z_i = X_i @ self.network_weights[i] + self.network_biases[i]\n",
    "            X_i = self.heaviside(z_i)\n",
    "        return X_i\n",
    "    \n",
    "    def train(self, X):\n",
    "        \"\"\"The train function will be implemented in Assignment 9.\"\"\"\n",
    "        raise Exception(\"The train function will be implemented in Assignment 9!!!\")\n",
    "    \n",
    "    def predict(self, X):\n",
    "        \"\"\"This function passes the input X to the iteration function.\"\"\"\n",
    "        return (self.iterate_trough_network(X)).ravel()\n",
    "    \n",
    "    def accuracy(self, labels, predictions):\n",
    "        \"\"\"This function calculates the binary class accuracy for given true/predicted labels.\"\"\"\n",
    "        return np.mean(labels == predictions)"
   ]
  },
  {
   "cell_type": "markdown",
   "metadata": {},
   "source": [
    "**Load ZIP data set**"
   ]
  },
  {
   "cell_type": "code",
   "execution_count": null,
   "metadata": {},
   "outputs": [],
   "source": [
    "path_to_train = 'zip.train'\n",
    "path_to_test = 'zip.test'\n",
    "training_data = np.array(pd.read_csv(path_to_train, sep=' ', header=None))\n",
    "test_data = np.array(pd.read_csv(path_to_test, sep =' ',header=None))\n",
    "\n",
    "X_train_zip, y_train_zip = training_data[:,1:-1], training_data[:,0]\n",
    "X_test_zip, y_test_zip = test_data[:,1:], test_data[:,0]\n",
    "\n",
    "# We only want to classify two different digits. You can choose which digits you want to classify youself\n",
    "\n",
    "X_train_zip = X_train_zip[np.logical_or(y_train_zip == 0, y_train_zip == 1)]\n",
    "y_train_zip = y_train_zip[np.logical_or(y_train_zip == 0, y_train_zip == 1)]\n",
    "\n",
    "X_test_zip = X_test_zip[np.logical_or(y_test_zip == 0, y_test_zip == 1)]\n",
    "y_test_zip = y_test_zip[np.logical_or(y_test_zip == 0, y_test_zip == 1)]"
   ]
  },
  {
   "cell_type": "markdown",
   "metadata": {},
   "source": [
    "#### Classify the Zip-Dataset with the random initial weights"
   ]
  },
  {
   "cell_type": "code",
   "execution_count": 21,
   "metadata": {},
   "outputs": [],
   "source": [
    "mlp_network = MLP(threshold=0.01, depth=2, layer_width=[X_train_zip.shape[1], 10, 1])"
   ]
  },
  {
   "cell_type": "code",
   "execution_count": 22,
   "metadata": {},
   "outputs": [
    {
     "name": "stdout",
     "output_type": "stream",
     "text": [
      "(256, 10)\n",
      "(10, 1)\n",
      "(1, 10)\n",
      "(1, 1)\n"
     ]
    }
   ],
   "source": [
    "print(mlp_network.network_weights[0].shape)\n",
    "print(mlp_network.network_weights[1].shape)\n",
    "print(mlp_network.network_biases[0].shape)\n",
    "print(mlp_network.network_biases[1].shape)"
   ]
  },
  {
   "cell_type": "code",
   "execution_count": 23,
   "metadata": {},
   "outputs": [],
   "source": [
    "y_pred_mlp = mlp_network.predict(X_train_zip)"
   ]
  },
  {
   "cell_type": "code",
   "execution_count": 24,
   "metadata": {},
   "outputs": [
    {
     "data": {
      "text/plain": [
       "0.296043656207367"
      ]
     },
     "execution_count": 24,
     "metadata": {},
     "output_type": "execute_result"
    }
   ],
   "source": [
    "mlp_network.accuracy(y_train_zip, y_pred_mlp)"
   ]
  },
  {
   "cell_type": "code",
   "execution_count": 25,
   "metadata": {},
   "outputs": [
    {
     "data": {
      "text/plain": [
       "(array([0, 1]), array([1622,  577], dtype=int64))"
      ]
     },
     "execution_count": 25,
     "metadata": {},
     "output_type": "execute_result"
    }
   ],
   "source": [
    "np.unique(y_pred_mlp, return_counts=True)"
   ]
  },
  {
   "cell_type": "code",
   "execution_count": 26,
   "metadata": {},
   "outputs": [
    {
     "data": {
      "text/plain": [
       "(array([0., 1.]), array([1194, 1005], dtype=int64))"
      ]
     },
     "execution_count": 26,
     "metadata": {},
     "output_type": "execute_result"
    }
   ],
   "source": [
    "np.unique(y_train_zip, return_counts=True)"
   ]
  },
  {
   "cell_type": "markdown",
   "metadata": {},
   "source": [
    "#### Get a mean accuracy over multiple runs"
   ]
  },
  {
   "cell_type": "code",
   "execution_count": 27,
   "metadata": {},
   "outputs": [
    {
     "name": "stdout",
     "output_type": "stream",
     "text": [
      "Mean Acc over 100 runs, with random weights is: 0.49954524783992726\n"
     ]
    }
   ],
   "source": [
    "acc_list_mlp = []\n",
    "n_runs = 100\n",
    "for i in range(n_runs):\n",
    "    mlp_network = MLP(threshold=0.01, depth=2, layer_width=[X_train_zip.shape[1], 10, 1])\n",
    "    y_pred_loop = mlp_network.predict(X_train_zip)\n",
    "    acc_list_mlp.append(mlp_network.accuracy(y_train_zip, y_pred_loop))\n",
    "print(\"Mean Acc over\", n_runs, \"runs, with random weights is:\", np.mean(acc_list_mlp))"
   ]
  },
  {
   "cell_type": "markdown",
   "metadata": {},
   "source": [
    "### (a) Optimize width (the number of neurons in a hidden layer; it is usually the same for all of them) and depth of the network. Try to find a setting that trains in a reasonable time. Plot the loss."
   ]
  },
  {
   "cell_type": "code",
   "execution_count": null,
   "metadata": {},
   "outputs": [],
   "source": []
  },
  {
   "cell_type": "markdown",
   "metadata": {},
   "source": [
    "### (b) Show some digits that are classified incorrectly."
   ]
  },
  {
   "cell_type": "code",
   "execution_count": null,
   "metadata": {},
   "outputs": [],
   "source": []
  },
  {
   "cell_type": "markdown",
   "metadata": {},
   "source": [
    "### (c) Plot your first weight layer as a grayscale image."
   ]
  },
  {
   "cell_type": "code",
   "execution_count": null,
   "metadata": {},
   "outputs": [],
   "source": []
  }
 ],
 "metadata": {
  "kernelspec": {
   "display_name": "Python 3",
   "language": "python",
   "name": "python3"
  },
  "language_info": {
   "codemirror_mode": {
    "name": "ipython",
    "version": 3
   },
   "file_extension": ".py",
   "mimetype": "text/x-python",
   "name": "python",
   "nbconvert_exporter": "python",
   "pygments_lexer": "ipython3",
   "version": "3.7.6"
  }
 },
 "nbformat": 4,
 "nbformat_minor": 4
}
