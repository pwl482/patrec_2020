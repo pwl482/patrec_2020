{
 "cells": [
  {
   "cell_type": "code",
   "execution_count": 1,
   "metadata": {},
   "outputs": [],
   "source": [
    "import sys\n",
    "from collections import OrderedDict\n",
    "import numpy as np\n",
    "import torch\n",
    "import torch.nn as nn\n",
    "import torch.nn.functional as F\n",
    "import torch.optim as optim\n",
    "from torch.nn import Parameter\n",
    "from torch.autograd import grad\n",
    "from torch.utils.data import Dataset, DataLoader\n",
    "from typing import Union, Tuple\n",
    "\n",
    "import pickle as pk\n",
    "\n",
    "from torchsummary import summary\n",
    "import torchvision\n",
    "import torchvision.transforms as transforms\n",
    "import torchvision.datasets as datasets\n",
    "\n",
    "import matplotlib.pyplot as plt"
   ]
  },
  {
   "cell_type": "code",
   "execution_count": 2,
   "metadata": {},
   "outputs": [
    {
     "data": {
      "text/plain": [
       "True"
      ]
     },
     "execution_count": 2,
     "metadata": {},
     "output_type": "execute_result"
    }
   ],
   "source": [
    "torch.cuda.is_available()"
   ]
  },
  {
   "cell_type": "markdown",
   "metadata": {},
   "source": [
    "# Load the Mnist Dataset"
   ]
  },
  {
   "cell_type": "code",
   "execution_count": 5,
   "metadata": {},
   "outputs": [],
   "source": [
    "DataPath = r\"D:\\PatternRecognition_Data\"\n",
    "\n",
    "train_data = datasets.MNIST(DataPath, train=True, download=True, transform=transforms.ToTensor())\n",
    "train_loader = DataLoader(train_data, batch_size=len(train_data))\n",
    "batch = next(iter(train_loader))\n",
    "x, y = batch\n",
    "mean, std = torch.mean(x), torch.std(x)\n",
    "transform = transforms.Compose([\n",
    "                                 transforms.ToTensor(),\n",
    "                                 transforms.Normalize((mean,), (std,))\n",
    "])\n",
    "\n",
    "batch_size = 32\n",
    "trainset = datasets.MNIST(root=DataPath, train=True, download=True, transform=transform)\n",
    "train_loader = torch.utils.data.DataLoader(trainset, batch_size=batch_size, shuffle=True)\n",
    "\n",
    "testset = datasets.MNIST(root=DataPath, train=False, download=True, transform=transform)\n",
    "test_loader = torch.utils.data.DataLoader(testset, batch_size=batch_size, shuffle=True)"
   ]
  },
  {
   "cell_type": "code",
   "execution_count": 6,
   "metadata": {},
   "outputs": [
    {
     "data": {
      "text/plain": [
       "torch.Size([32, 1, 28, 28])"
      ]
     },
     "execution_count": 6,
     "metadata": {},
     "output_type": "execute_result"
    }
   ],
   "source": [
    "next(iter(train_loader))[0].shape"
   ]
  },
  {
   "cell_type": "markdown",
   "metadata": {},
   "source": [
    "# Autoencoder Network Implementation"
   ]
  },
  {
   "cell_type": "code",
   "execution_count": 83,
   "metadata": {},
   "outputs": [],
   "source": [
    "class Autoencoder(nn.Module):\n",
    "  def __init__(self, latent_width):\n",
    "    # Initialize as subclass of nn.Module inheriting all its functions\n",
    "    super(Autoencoder, self).__init__()\n",
    "    encode = [nn.Conv2d(in_channels=1, out_channels=16, kernel_size=3, stride=2, padding=1),\n",
    "              nn.LeakyReLU(),\n",
    "              nn.BatchNorm2d(16),\n",
    "              nn.Conv2d(in_channels=16, out_channels=32, kernel_size=3, stride=2, padding=1),\n",
    "              nn.LeakyReLU(),\n",
    "              nn.BatchNorm2d(32)]\n",
    "    decode = [nn.ConvTranspose2d(in_channels=32, out_channels=16, kernel_size=2, stride=2, padding=0),\n",
    "              nn.LeakyReLU(),\n",
    "              nn.BatchNorm2d(16),\n",
    "              nn.ConvTranspose2d(in_channels=16, out_channels=1, kernel_size=2, stride=2, padding=0),\n",
    "              nn.LeakyReLU(),\n",
    "              nn.BatchNorm2d(1)]\n",
    "    self.encoder = nn.Sequential(*encode)\n",
    "    self.encoder_end = nn.Linear(32 * 7 * 7, latent_width)\n",
    "    self.decoder_start = nn.Linear(latent_width, 32 * 7 * 7)\n",
    "    self.decoder = nn.Sequential(*decode)\n",
    "                                           \n",
    "\n",
    "  def forward(self, x):\n",
    "    z = self.encoder(x)\n",
    "    z = self.encoder_end(z.reshape([z.shape[0],-1]))\n",
    "    y = self.decoder_start(z)\n",
    "    y = self.decoder(y.reshape([y.shape[0],32,7,7]))\n",
    "    return y"
   ]
  },
  {
   "cell_type": "code",
   "execution_count": 32,
   "metadata": {},
   "outputs": [],
   "source": [
    "def train(\n",
    "    model: nn.Module, \n",
    "    optimizer: optim.Optimizer, \n",
    "    data: Union[DataLoader, Tuple[DataLoader]], \n",
    "    max_epochs: int, \n",
    "    cuda=True):\n",
    "    \"\"\"\n",
    "    Train a NN 'model' on 'data' in 'max_epochs' many epochs using 'optimizer' optimization method.\n",
    "    \"\"\"\n",
    "  \n",
    "    use_test = False\n",
    "    if isinstance(data, DataLoader):\n",
    "        train_loader = data\n",
    "    elif isinstance(data, tuple):\n",
    "        if len(data) == 2:\n",
    "            train_loader, test_loader = data\n",
    "            if not isinstance(train_loader, DataLoader):\n",
    "                raise TypeError(f'Expected 1st entry of type DataLoader, but got {type(train_loader)}!')\n",
    "            if not isinstance(test_loader, DataLoader):\n",
    "                raise TypeError(f'Expected 2nd entry of type DataLoader, but got {type(test_loader)}!')\n",
    "            use_test = True\n",
    "        else:\n",
    "            raise ValueError(f'Expected tuple of length 2, but got {len(data)}!')\n",
    "  \n",
    "    criterion = nn.MSELoss()\n",
    "    model.train()\n",
    "    losses = []\n",
    "    batch_total = len(train_loader)\n",
    "\n",
    "    for epoch in range(max_epochs):\n",
    "        samples_total = 0\n",
    "        samples_correct = 0\n",
    "        for batch_idx, batch in enumerate(train_loader):\n",
    "            x, y = batch\n",
    "            if cuda:\n",
    "                x, y = x.cuda(), y.cuda()\n",
    "            output = model(x)\n",
    "            loss = criterion(output, x)\n",
    "            loss.backward()\n",
    "            optimizer.step()\n",
    "            losses.append(loss.item())\n",
    "\n",
    "            if batch_idx % 50 == 0:\n",
    "                sys.stdout.write(f'\\rEpoch: {epoch}/{max_epochs} Step: {batch_idx}/{batch_total} Loss: {loss.item():.6f}')\n",
    "    return losses"
   ]
  },
  {
   "cell_type": "code",
   "execution_count": 87,
   "metadata": {},
   "outputs": [
    {
     "name": "stdout",
     "output_type": "stream",
     "text": [
      "----------------------------------------------------------------\n",
      "        Layer (type)               Output Shape         Param #\n",
      "================================================================\n",
      "            Conv2d-1           [-1, 16, 14, 14]             160\n",
      "         LeakyReLU-2           [-1, 16, 14, 14]               0\n",
      "       BatchNorm2d-3           [-1, 16, 14, 14]              32\n",
      "            Conv2d-4             [-1, 32, 7, 7]           4,640\n",
      "         LeakyReLU-5             [-1, 32, 7, 7]               0\n",
      "       BatchNorm2d-6             [-1, 32, 7, 7]              64\n",
      "            Linear-7                  [-1, 100]         156,900\n",
      "            Linear-8                 [-1, 1568]         158,368\n",
      "   ConvTranspose2d-9           [-1, 16, 14, 14]           2,064\n",
      "        LeakyReLU-10           [-1, 16, 14, 14]               0\n",
      "      BatchNorm2d-11           [-1, 16, 14, 14]              32\n",
      "  ConvTranspose2d-12            [-1, 1, 28, 28]              65\n",
      "        LeakyReLU-13            [-1, 1, 28, 28]               0\n",
      "      BatchNorm2d-14            [-1, 1, 28, 28]               2\n",
      "================================================================\n",
      "Total params: 322,327\n",
      "Trainable params: 322,327\n",
      "Non-trainable params: 0\n",
      "----------------------------------------------------------------\n",
      "Input size (MB): 0.00\n",
      "Forward/backward pass size (MB): 0.21\n",
      "Params size (MB): 1.23\n",
      "Estimated Total Size (MB): 1.44\n",
      "----------------------------------------------------------------\n"
     ]
    }
   ],
   "source": [
    "autoenc_model = Autoencoder(latent_width=100)\n",
    "summary(autoenc_model, input_size=(1, 28, 28), device='cpu')"
   ]
  },
  {
   "cell_type": "code",
   "execution_count": 88,
   "metadata": {},
   "outputs": [
    {
     "name": "stdout",
     "output_type": "stream",
     "text": [
      "Epoch: 9/10 Step: 1850/1875 Loss: 0.137239"
     ]
    }
   ],
   "source": [
    "autoenc_model = Autoencoder(latent_width=100)\n",
    "autoenc_model = autoenc_model.cuda()\n",
    "autoenc_optim = optim.Adam(autoenc_model.parameters(), lr=1e-5)\n",
    "autoenc_losses = train(autoenc_model, autoenc_optim, (train_loader, test_loader), max_epochs=10)"
   ]
  },
  {
   "cell_type": "code",
   "execution_count": 89,
   "metadata": {},
   "outputs": [
    {
     "data": {
      "text/plain": [
       "[<matplotlib.lines.Line2D at 0x24a1e8b37f0>]"
      ]
     },
     "execution_count": 89,
     "metadata": {},
     "output_type": "execute_result"
    },
    {
     "data": {
      "image/png": "[encoded data removed]",
      "text/plain": [
       "<Figure size 432x288 with 1 Axes>"
      ]
     },
     "metadata": {
      "needs_background": "light"
     },
     "output_type": "display_data"
    }
   ],
   "source": [
    "plt.plot(autoenc_losses)"
   ]
  },
  {
   "cell_type": "code",
   "execution_count": 96,
   "metadata": {},
   "outputs": [
    {
     "data": {
      "image/png": "[encoded data removed]",
      "text/plain": [
       "<Figure size 360x1080 with 10 Axes>"
      ]
     },
     "metadata": {
      "needs_background": "light"
     },
     "output_type": "display_data"
    }
   ],
   "source": [
    "x, y = next(iter(train_loader))\n",
    "# img_block = autoenc_model.decoder(torch.rand(32,16,7,7))\n",
    "img_block = autoenc_model(x[:5].cuda())\n",
    "\n",
    "fig = plt.figure(figsize=(5, 15))\n",
    "columns = 2\n",
    "rows = 5\n",
    "counter = 0\n",
    "for x, img in zip(x[:5],img_block):\n",
    "    img_new = img[0].detach().cpu().numpy()\n",
    "    fig.add_subplot(rows, columns, counter+1)\n",
    "    plt.imshow(x[0], cmap=\"gray\")\n",
    "    counter += 1\n",
    "    plt.title(\"True\")\n",
    "    fig.add_subplot(rows, columns, counter+1)\n",
    "    plt.imshow(img_new, cmap=\"gray\")\n",
    "    plt.title(\"Reconstruction\")\n",
    "    counter += 1\n",
    "plt.show()"
   ]
  },
  {
   "cell_type": "markdown",
   "metadata": {},
   "source": [
    "# Variational Autoencoder Network Implementation"
   ]
  },
  {
   "cell_type": "code",
   "execution_count": null,
   "metadata": {},
   "outputs": [],
   "source": []
  }
 ],
 "metadata": {
  "kernelspec": {
   "display_name": "Python 3",
   "language": "python",
   "name": "python3"
  },
  "language_info": {
   "codemirror_mode": {
    "name": "ipython",
    "version": 3
   },
   "file_extension": ".py",
   "mimetype": "text/x-python",
   "name": "python",
   "nbconvert_exporter": "python",
   "pygments_lexer": "ipython3",
   "version": "3.6.10"
  }
 },
 "nbformat": 4,
 "nbformat_minor": 4
}
