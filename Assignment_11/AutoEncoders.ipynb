{
  "nbformat": 4,
  "nbformat_minor": 0,
  "metadata": {
    "kernelspec": {
      "display_name": "Python 3",
      "language": "python",
      "name": "python3"
    },
    "language_info": {
      "codemirror_mode": {
        "name": "ipython",
        "version": 3
      },
      "file_extension": ".py",
      "mimetype": "text/x-python",
      "name": "python",
      "nbconvert_exporter": "python",
      "pygments_lexer": "ipython3",
      "version": "3.6.10"
    },
    "colab": {
      "name": "AutoEncoders.ipynb",
      "provenance": [],
      "collapsed_sections": []
    },
    "accelerator": "GPU",
    "widgets": {
      "application/vnd.jupyter.widget-state+json": {
        "3237c47841f74ac28c65d02e742086f5": {
          "model_module": "@jupyter-widgets/controls",
          "model_name": "HBoxModel",
          "state": {
            "_view_name": "HBoxView",
            "_dom_classes": [],
            "_model_name": "HBoxModel",
            "_view_module": "@jupyter-widgets/controls",
            "_model_module_version": "1.5.0",
            "_view_count": null,
            "_view_module_version": "1.5.0",
            "box_style": "",
            "layout": "IPY_MODEL_c3c1574071ac49d293f0a4fb57aae3c8",
            "_model_module": "@jupyter-widgets/controls",
            "children": [
              "IPY_MODEL_3a588a79c04546499fc4b9c49ba3c7d6",
              "IPY_MODEL_e669d8ee003d4a918239b874bb3279b9"
            ]
          }
        },
        "c3c1574071ac49d293f0a4fb57aae3c8": {
          "model_module": "@jupyter-widgets/base",
          "model_name": "LayoutModel",
          "state": {
            "_view_name": "LayoutView",
            "grid_template_rows": null,
            "right": null,
            "justify_content": null,
            "_view_module": "@jupyter-widgets/base",
            "overflow": null,
            "_model_module_version": "1.2.0",
            "_view_count": null,
            "flex_flow": null,
            "width": null,
            "min_width": null,
            "border": null,
            "align_items": null,
            "bottom": null,
            "_model_module": "@jupyter-widgets/base",
            "top": null,
            "grid_column": null,
            "overflow_y": null,
            "overflow_x": null,
            "grid_auto_flow": null,
            "grid_area": null,
            "grid_template_columns": null,
            "flex": null,
            "_model_name": "LayoutModel",
            "justify_items": null,
            "grid_row": null,
            "max_height": null,
            "align_content": null,
            "visibility": null,
            "align_self": null,
            "height": null,
            "min_height": null,
            "padding": null,
            "grid_auto_rows": null,
            "grid_gap": null,
            "max_width": null,
            "order": null,
            "_view_module_version": "1.2.0",
            "grid_template_areas": null,
            "object_position": null,
            "object_fit": null,
            "grid_auto_columns": null,
            "margin": null,
            "display": null,
            "left": null
          }
        },
        "3a588a79c04546499fc4b9c49ba3c7d6": {
          "model_module": "@jupyter-widgets/controls",
          "model_name": "FloatProgressModel",
          "state": {
            "_view_name": "ProgressView",
            "style": "IPY_MODEL_a8c71f6f956c44c980ae3e71628fea6b",
            "_dom_classes": [],
            "description": "",
            "_model_name": "FloatProgressModel",
            "bar_style": "success",
            "max": 1,
            "_view_module": "@jupyter-widgets/controls",
            "_model_module_version": "1.5.0",
            "value": 1,
            "_view_count": null,
            "_view_module_version": "1.5.0",
            "orientation": "horizontal",
            "min": 0,
            "description_tooltip": null,
            "_model_module": "@jupyter-widgets/controls",
            "layout": "IPY_MODEL_1e1640a2ba894e72b192e9ff6e01d99f"
          }
        },
        "e669d8ee003d4a918239b874bb3279b9": {
          "model_module": "@jupyter-widgets/controls",
          "model_name": "HTMLModel",
          "state": {
            "_view_name": "HTMLView",
            "style": "IPY_MODEL_29272b8ed4854aea87f033bc92366a67",
            "_dom_classes": [],
            "description": "",
            "_model_name": "HTMLModel",
            "placeholder": "​",
            "_view_module": "@jupyter-widgets/controls",
            "_model_module_version": "1.5.0",
            "value": " 9920512/? [00:03&lt;00:00, 3224449.42it/s]",
            "_view_count": null,
            "_view_module_version": "1.5.0",
            "description_tooltip": null,
            "_model_module": "@jupyter-widgets/controls",
            "layout": "IPY_MODEL_db027f8a50924b8eaa2e5a3979c7bf7e"
          }
        },
        "a8c71f6f956c44c980ae3e71628fea6b": {
          "model_module": "@jupyter-widgets/controls",
          "model_name": "ProgressStyleModel",
          "state": {
            "_view_name": "StyleView",
            "_model_name": "ProgressStyleModel",
            "description_width": "initial",
            "_view_module": "@jupyter-widgets/base",
            "_model_module_version": "1.5.0",
            "_view_count": null,
            "_view_module_version": "1.2.0",
            "bar_color": null,
            "_model_module": "@jupyter-widgets/controls"
          }
        },
        "1e1640a2ba894e72b192e9ff6e01d99f": {
          "model_module": "@jupyter-widgets/base",
          "model_name": "LayoutModel",
          "state": {
            "_view_name": "LayoutView",
            "grid_template_rows": null,
            "right": null,
            "justify_content": null,
            "_view_module": "@jupyter-widgets/base",
            "overflow": null,
            "_model_module_version": "1.2.0",
            "_view_count": null,
            "flex_flow": null,
            "width": null,
            "min_width": null,
            "border": null,
            "align_items": null,
            "bottom": null,
            "_model_module": "@jupyter-widgets/base",
            "top": null,
            "grid_column": null,
            "overflow_y": null,
            "overflow_x": null,
            "grid_auto_flow": null,
            "grid_area": null,
            "grid_template_columns": null,
            "flex": null,
            "_model_name": "LayoutModel",
            "justify_items": null,
            "grid_row": null,
            "max_height": null,
            "align_content": null,
            "visibility": null,
            "align_self": null,
            "height": null,
            "min_height": null,
            "padding": null,
            "grid_auto_rows": null,
            "grid_gap": null,
            "max_width": null,
            "order": null,
            "_view_module_version": "1.2.0",
            "grid_template_areas": null,
            "object_position": null,
            "object_fit": null,
            "grid_auto_columns": null,
            "margin": null,
            "display": null,
            "left": null
          }
        },
        "29272b8ed4854aea87f033bc92366a67": {
          "model_module": "@jupyter-widgets/controls",
          "model_name": "DescriptionStyleModel",
          "state": {
            "_view_name": "StyleView",
            "_model_name": "DescriptionStyleModel",
            "description_width": "",
            "_view_module": "@jupyter-widgets/base",
            "_model_module_version": "1.5.0",
            "_view_count": null,
            "_view_module_version": "1.2.0",
            "_model_module": "@jupyter-widgets/controls"
          }
        },
        "db027f8a50924b8eaa2e5a3979c7bf7e": {
          "model_module": "@jupyter-widgets/base",
          "model_name": "LayoutModel",
          "state": {
            "_view_name": "LayoutView",
            "grid_template_rows": null,
            "right": null,
            "justify_content": null,
            "_view_module": "@jupyter-widgets/base",
            "overflow": null,
            "_model_module_version": "1.2.0",
            "_view_count": null,
            "flex_flow": null,
            "width": null,
            "min_width": null,
            "border": null,
            "align_items": null,
            "bottom": null,
            "_model_module": "@jupyter-widgets/base",
            "top": null,
            "grid_column": null,
            "overflow_y": null,
            "overflow_x": null,
            "grid_auto_flow": null,
            "grid_area": null,
            "grid_template_columns": null,
            "flex": null,
            "_model_name": "LayoutModel",
            "justify_items": null,
            "grid_row": null,
            "max_height": null,
            "align_content": null,
            "visibility": null,
            "align_self": null,
            "height": null,
            "min_height": null,
            "padding": null,
            "grid_auto_rows": null,
            "grid_gap": null,
            "max_width": null,
            "order": null,
            "_view_module_version": "1.2.0",
            "grid_template_areas": null,
            "object_position": null,
            "object_fit": null,
            "grid_auto_columns": null,
            "margin": null,
            "display": null,
            "left": null
          }
        },
        "25733e81a9b34d33b8bdd8d1237b1f44": {
          "model_module": "@jupyter-widgets/controls",
          "model_name": "HBoxModel",
          "state": {
            "_view_name": "HBoxView",
            "_dom_classes": [],
            "_model_name": "HBoxModel",
            "_view_module": "@jupyter-widgets/controls",
            "_model_module_version": "1.5.0",
            "_view_count": null,
            "_view_module_version": "1.5.0",
            "box_style": "",
            "layout": "IPY_MODEL_620c5e8dc77545938221f560d48e783c",
            "_model_module": "@jupyter-widgets/controls",
            "children": [
              "IPY_MODEL_4d3b47afad324698b3a468abb7fe9584",
              "IPY_MODEL_d33ecfa61a3a42ee8530f28b43eb4699"
            ]
          }
        },
        "620c5e8dc77545938221f560d48e783c": {
          "model_module": "@jupyter-widgets/base",
          "model_name": "LayoutModel",
          "state": {
            "_view_name": "LayoutView",
            "grid_template_rows": null,
            "right": null,
            "justify_content": null,
            "_view_module": "@jupyter-widgets/base",
            "overflow": null,
            "_model_module_version": "1.2.0",
            "_view_count": null,
            "flex_flow": null,
            "width": null,
            "min_width": null,
            "border": null,
            "align_items": null,
            "bottom": null,
            "_model_module": "@jupyter-widgets/base",
            "top": null,
            "grid_column": null,
            "overflow_y": null,
            "overflow_x": null,
            "grid_auto_flow": null,
            "grid_area": null,
            "grid_template_columns": null,
            "flex": null,
            "_model_name": "LayoutModel",
            "justify_items": null,
            "grid_row": null,
            "max_height": null,
            "align_content": null,
            "visibility": null,
            "align_self": null,
            "height": null,
            "min_height": null,
            "padding": null,
            "grid_auto_rows": null,
            "grid_gap": null,
            "max_width": null,
            "order": null,
            "_view_module_version": "1.2.0",
            "grid_template_areas": null,
            "object_position": null,
            "object_fit": null,
            "grid_auto_columns": null,
            "margin": null,
            "display": null,
            "left": null
          }
        },
        "4d3b47afad324698b3a468abb7fe9584": {
          "model_module": "@jupyter-widgets/controls",
          "model_name": "FloatProgressModel",
          "state": {
            "_view_name": "ProgressView",
            "style": "IPY_MODEL_55e880b3bb444722ac40ea79446f633b",
            "_dom_classes": [],
            "description": "",
            "_model_name": "FloatProgressModel",
            "bar_style": "success",
            "max": 1,
            "_view_module": "@jupyter-widgets/controls",
            "_model_module_version": "1.5.0",
            "value": 1,
            "_view_count": null,
            "_view_module_version": "1.5.0",
            "orientation": "horizontal",
            "min": 0,
            "description_tooltip": null,
            "_model_module": "@jupyter-widgets/controls",
            "layout": "IPY_MODEL_83179eead33f47e4a547bc2bdfe089b7"
          }
        },
        "d33ecfa61a3a42ee8530f28b43eb4699": {
          "model_module": "@jupyter-widgets/controls",
          "model_name": "HTMLModel",
          "state": {
            "_view_name": "HTMLView",
            "style": "IPY_MODEL_7a2c1d43a079478dbbc8564b5aa14939",
            "_dom_classes": [],
            "description": "",
            "_model_name": "HTMLModel",
            "placeholder": "​",
            "_view_module": "@jupyter-widgets/controls",
            "_model_module_version": "1.5.0",
            "value": " 32768/? [00:01&lt;00:00, 19105.52it/s]",
            "_view_count": null,
            "_view_module_version": "1.5.0",
            "description_tooltip": null,
            "_model_module": "@jupyter-widgets/controls",
            "layout": "IPY_MODEL_4314dc33485e4d4ebb99384d67325afd"
          }
        },
        "55e880b3bb444722ac40ea79446f633b": {
          "model_module": "@jupyter-widgets/controls",
          "model_name": "ProgressStyleModel",
          "state": {
            "_view_name": "StyleView",
            "_model_name": "ProgressStyleModel",
            "description_width": "initial",
            "_view_module": "@jupyter-widgets/base",
            "_model_module_version": "1.5.0",
            "_view_count": null,
            "_view_module_version": "1.2.0",
            "bar_color": null,
            "_model_module": "@jupyter-widgets/controls"
          }
        },
        "83179eead33f47e4a547bc2bdfe089b7": {
          "model_module": "@jupyter-widgets/base",
          "model_name": "LayoutModel",
          "state": {
            "_view_name": "LayoutView",
            "grid_template_rows": null,
            "right": null,
            "justify_content": null,
            "_view_module": "@jupyter-widgets/base",
            "overflow": null,
            "_model_module_version": "1.2.0",
            "_view_count": null,
            "flex_flow": null,
            "width": null,
            "min_width": null,
            "border": null,
            "align_items": null,
            "bottom": null,
            "_model_module": "@jupyter-widgets/base",
            "top": null,
            "grid_column": null,
            "overflow_y": null,
            "overflow_x": null,
            "grid_auto_flow": null,
            "grid_area": null,
            "grid_template_columns": null,
            "flex": null,
            "_model_name": "LayoutModel",
            "justify_items": null,
            "grid_row": null,
            "max_height": null,
            "align_content": null,
            "visibility": null,
            "align_self": null,
            "height": null,
            "min_height": null,
            "padding": null,
            "grid_auto_rows": null,
            "grid_gap": null,
            "max_width": null,
            "order": null,
            "_view_module_version": "1.2.0",
            "grid_template_areas": null,
            "object_position": null,
            "object_fit": null,
            "grid_auto_columns": null,
            "margin": null,
            "display": null,
            "left": null
          }
        },
        "7a2c1d43a079478dbbc8564b5aa14939": {
          "model_module": "@jupyter-widgets/controls",
          "model_name": "DescriptionStyleModel",
          "state": {
            "_view_name": "StyleView",
            "_model_name": "DescriptionStyleModel",
            "description_width": "",
            "_view_module": "@jupyter-widgets/base",
            "_model_module_version": "1.5.0",
            "_view_count": null,
            "_view_module_version": "1.2.0",
            "_model_module": "@jupyter-widgets/controls"
          }
        },
        "4314dc33485e4d4ebb99384d67325afd": {
          "model_module": "@jupyter-widgets/base",
          "model_name": "LayoutModel",
          "state": {
            "_view_name": "LayoutView",
            "grid_template_rows": null,
            "right": null,
            "justify_content": null,
            "_view_module": "@jupyter-widgets/base",
            "overflow": null,
            "_model_module_version": "1.2.0",
            "_view_count": null,
            "flex_flow": null,
            "width": null,
            "min_width": null,
            "border": null,
            "align_items": null,
            "bottom": null,
            "_model_module": "@jupyter-widgets/base",
            "top": null,
            "grid_column": null,
            "overflow_y": null,
            "overflow_x": null,
            "grid_auto_flow": null,
            "grid_area": null,
            "grid_template_columns": null,
            "flex": null,
            "_model_name": "LayoutModel",
            "justify_items": null,
            "grid_row": null,
            "max_height": null,
            "align_content": null,
            "visibility": null,
            "align_self": null,
            "height": null,
            "min_height": null,
            "padding": null,
            "grid_auto_rows": null,
            "grid_gap": null,
            "max_width": null,
            "order": null,
            "_view_module_version": "1.2.0",
            "grid_template_areas": null,
            "object_position": null,
            "object_fit": null,
            "grid_auto_columns": null,
            "margin": null,
            "display": null,
            "left": null
          }
        },
        "7e01c4d612d6415fab0af8b9e2bf3266": {
          "model_module": "@jupyter-widgets/controls",
          "model_name": "HBoxModel",
          "state": {
            "_view_name": "HBoxView",
            "_dom_classes": [],
            "_model_name": "HBoxModel",
            "_view_module": "@jupyter-widgets/controls",
            "_model_module_version": "1.5.0",
            "_view_count": null,
            "_view_module_version": "1.5.0",
            "box_style": "",
            "layout": "IPY_MODEL_310dee0f68344a7db1a97e0003ee9012",
            "_model_module": "@jupyter-widgets/controls",
            "children": [
              "IPY_MODEL_dfddbfb87626480cbd5b5586c2cf8784",
              "IPY_MODEL_390090e6d88b4837ae353ae524dabc76"
            ]
          }
        },
        "310dee0f68344a7db1a97e0003ee9012": {
          "model_module": "@jupyter-widgets/base",
          "model_name": "LayoutModel",
          "state": {
            "_view_name": "LayoutView",
            "grid_template_rows": null,
            "right": null,
            "justify_content": null,
            "_view_module": "@jupyter-widgets/base",
            "overflow": null,
            "_model_module_version": "1.2.0",
            "_view_count": null,
            "flex_flow": null,
            "width": null,
            "min_width": null,
            "border": null,
            "align_items": null,
            "bottom": null,
            "_model_module": "@jupyter-widgets/base",
            "top": null,
            "grid_column": null,
            "overflow_y": null,
            "overflow_x": null,
            "grid_auto_flow": null,
            "grid_area": null,
            "grid_template_columns": null,
            "flex": null,
            "_model_name": "LayoutModel",
            "justify_items": null,
            "grid_row": null,
            "max_height": null,
            "align_content": null,
            "visibility": null,
            "align_self": null,
            "height": null,
            "min_height": null,
            "padding": null,
            "grid_auto_rows": null,
            "grid_gap": null,
            "max_width": null,
            "order": null,
            "_view_module_version": "1.2.0",
            "grid_template_areas": null,
            "object_position": null,
            "object_fit": null,
            "grid_auto_columns": null,
            "margin": null,
            "display": null,
            "left": null
          }
        },
        "dfddbfb87626480cbd5b5586c2cf8784": {
          "model_module": "@jupyter-widgets/controls",
          "model_name": "FloatProgressModel",
          "state": {
            "_view_name": "ProgressView",
            "style": "IPY_MODEL_f88f572900a54c42a9c11fe25b34c678",
            "_dom_classes": [],
            "description": "",
            "_model_name": "FloatProgressModel",
            "bar_style": "success",
            "max": 1,
            "_view_module": "@jupyter-widgets/controls",
            "_model_module_version": "1.5.0",
            "value": 1,
            "_view_count": null,
            "_view_module_version": "1.5.0",
            "orientation": "horizontal",
            "min": 0,
            "description_tooltip": null,
            "_model_module": "@jupyter-widgets/controls",
            "layout": "IPY_MODEL_743c75b64f574ba0b56887f722ca92da"
          }
        },
        "390090e6d88b4837ae353ae524dabc76": {
          "model_module": "@jupyter-widgets/controls",
          "model_name": "HTMLModel",
          "state": {
            "_view_name": "HTMLView",
            "style": "IPY_MODEL_8b69c186a2aa4914b3107afb407df358",
            "_dom_classes": [],
            "description": "",
            "_model_name": "HTMLModel",
            "placeholder": "​",
            "_view_module": "@jupyter-widgets/controls",
            "_model_module_version": "1.5.0",
            "value": " 1654784/? [00:01&lt;00:00, 1411622.26it/s]",
            "_view_count": null,
            "_view_module_version": "1.5.0",
            "description_tooltip": null,
            "_model_module": "@jupyter-widgets/controls",
            "layout": "IPY_MODEL_90896e7857474edb9fda2896a0c8d2cb"
          }
        },
        "f88f572900a54c42a9c11fe25b34c678": {
          "model_module": "@jupyter-widgets/controls",
          "model_name": "ProgressStyleModel",
          "state": {
            "_view_name": "StyleView",
            "_model_name": "ProgressStyleModel",
            "description_width": "initial",
            "_view_module": "@jupyter-widgets/base",
            "_model_module_version": "1.5.0",
            "_view_count": null,
            "_view_module_version": "1.2.0",
            "bar_color": null,
            "_model_module": "@jupyter-widgets/controls"
          }
        },
        "743c75b64f574ba0b56887f722ca92da": {
          "model_module": "@jupyter-widgets/base",
          "model_name": "LayoutModel",
          "state": {
            "_view_name": "LayoutView",
            "grid_template_rows": null,
            "right": null,
            "justify_content": null,
            "_view_module": "@jupyter-widgets/base",
            "overflow": null,
            "_model_module_version": "1.2.0",
            "_view_count": null,
            "flex_flow": null,
            "width": null,
            "min_width": null,
            "border": null,
            "align_items": null,
            "bottom": null,
            "_model_module": "@jupyter-widgets/base",
            "top": null,
            "grid_column": null,
            "overflow_y": null,
            "overflow_x": null,
            "grid_auto_flow": null,
            "grid_area": null,
            "grid_template_columns": null,
            "flex": null,
            "_model_name": "LayoutModel",
            "justify_items": null,
            "grid_row": null,
            "max_height": null,
            "align_content": null,
            "visibility": null,
            "align_self": null,
            "height": null,
            "min_height": null,
            "padding": null,
            "grid_auto_rows": null,
            "grid_gap": null,
            "max_width": null,
            "order": null,
            "_view_module_version": "1.2.0",
            "grid_template_areas": null,
            "object_position": null,
            "object_fit": null,
            "grid_auto_columns": null,
            "margin": null,
            "display": null,
            "left": null
          }
        },
        "8b69c186a2aa4914b3107afb407df358": {
          "model_module": "@jupyter-widgets/controls",
          "model_name": "DescriptionStyleModel",
          "state": {
            "_view_name": "StyleView",
            "_model_name": "DescriptionStyleModel",
            "description_width": "",
            "_view_module": "@jupyter-widgets/base",
            "_model_module_version": "1.5.0",
            "_view_count": null,
            "_view_module_version": "1.2.0",
            "_model_module": "@jupyter-widgets/controls"
          }
        },
        "90896e7857474edb9fda2896a0c8d2cb": {
          "model_module": "@jupyter-widgets/base",
          "model_name": "LayoutModel",
          "state": {
            "_view_name": "LayoutView",
            "grid_template_rows": null,
            "right": null,
            "justify_content": null,
            "_view_module": "@jupyter-widgets/base",
            "overflow": null,
            "_model_module_version": "1.2.0",
            "_view_count": null,
            "flex_flow": null,
            "width": null,
            "min_width": null,
            "border": null,
            "align_items": null,
            "bottom": null,
            "_model_module": "@jupyter-widgets/base",
            "top": null,
            "grid_column": null,
            "overflow_y": null,
            "overflow_x": null,
            "grid_auto_flow": null,
            "grid_area": null,
            "grid_template_columns": null,
            "flex": null,
            "_model_name": "LayoutModel",
            "justify_items": null,
            "grid_row": null,
            "max_height": null,
            "align_content": null,
            "visibility": null,
            "align_self": null,
            "height": null,
            "min_height": null,
            "padding": null,
            "grid_auto_rows": null,
            "grid_gap": null,
            "max_width": null,
            "order": null,
            "_view_module_version": "1.2.0",
            "grid_template_areas": null,
            "object_position": null,
            "object_fit": null,
            "grid_auto_columns": null,
            "margin": null,
            "display": null,
            "left": null
          }
        },
        "61e99750e0bc4336b7681807231a14af": {
          "model_module": "@jupyter-widgets/controls",
          "model_name": "HBoxModel",
          "state": {
            "_view_name": "HBoxView",
            "_dom_classes": [],
            "_model_name": "HBoxModel",
            "_view_module": "@jupyter-widgets/controls",
            "_model_module_version": "1.5.0",
            "_view_count": null,
            "_view_module_version": "1.5.0",
            "box_style": "",
            "layout": "IPY_MODEL_404f110f962e412a92abccf019ddad0b",
            "_model_module": "@jupyter-widgets/controls",
            "children": [
              "IPY_MODEL_2c92482bcf2c40c7bdc1a89a4786827f",
              "IPY_MODEL_f2ef5d2f08af4270b8cadddd538c321e"
            ]
          }
        },
        "404f110f962e412a92abccf019ddad0b": {
          "model_module": "@jupyter-widgets/base",
          "model_name": "LayoutModel",
          "state": {
            "_view_name": "LayoutView",
            "grid_template_rows": null,
            "right": null,
            "justify_content": null,
            "_view_module": "@jupyter-widgets/base",
            "overflow": null,
            "_model_module_version": "1.2.0",
            "_view_count": null,
            "flex_flow": null,
            "width": null,
            "min_width": null,
            "border": null,
            "align_items": null,
            "bottom": null,
            "_model_module": "@jupyter-widgets/base",
            "top": null,
            "grid_column": null,
            "overflow_y": null,
            "overflow_x": null,
            "grid_auto_flow": null,
            "grid_area": null,
            "grid_template_columns": null,
            "flex": null,
            "_model_name": "LayoutModel",
            "justify_items": null,
            "grid_row": null,
            "max_height": null,
            "align_content": null,
            "visibility": null,
            "align_self": null,
            "height": null,
            "min_height": null,
            "padding": null,
            "grid_auto_rows": null,
            "grid_gap": null,
            "max_width": null,
            "order": null,
            "_view_module_version": "1.2.0",
            "grid_template_areas": null,
            "object_position": null,
            "object_fit": null,
            "grid_auto_columns": null,
            "margin": null,
            "display": null,
            "left": null
          }
        },
        "2c92482bcf2c40c7bdc1a89a4786827f": {
          "model_module": "@jupyter-widgets/controls",
          "model_name": "FloatProgressModel",
          "state": {
            "_view_name": "ProgressView",
            "style": "IPY_MODEL_21f5600f639449e7aa980ee9a0d9d1fa",
            "_dom_classes": [],
            "description": "",
            "_model_name": "FloatProgressModel",
            "bar_style": "success",
            "max": 1,
            "_view_module": "@jupyter-widgets/controls",
            "_model_module_version": "1.5.0",
            "value": 1,
            "_view_count": null,
            "_view_module_version": "1.5.0",
            "orientation": "horizontal",
            "min": 0,
            "description_tooltip": null,
            "_model_module": "@jupyter-widgets/controls",
            "layout": "IPY_MODEL_44dc06f4ba244e9a8838fe441939f4d3"
          }
        },
        "f2ef5d2f08af4270b8cadddd538c321e": {
          "model_module": "@jupyter-widgets/controls",
          "model_name": "HTMLModel",
          "state": {
            "_view_name": "HTMLView",
            "style": "IPY_MODEL_77944b6c0e46475ba205a453e563bce6",
            "_dom_classes": [],
            "description": "",
            "_model_name": "HTMLModel",
            "placeholder": "​",
            "_view_module": "@jupyter-widgets/controls",
            "_model_module_version": "1.5.0",
            "value": " 8192/? [00:00&lt;00:00, 17625.04it/s]",
            "_view_count": null,
            "_view_module_version": "1.5.0",
            "description_tooltip": null,
            "_model_module": "@jupyter-widgets/controls",
            "layout": "IPY_MODEL_dc16bd5c69d14862b376723c48a85e4b"
          }
        },
        "21f5600f639449e7aa980ee9a0d9d1fa": {
          "model_module": "@jupyter-widgets/controls",
          "model_name": "ProgressStyleModel",
          "state": {
            "_view_name": "StyleView",
            "_model_name": "ProgressStyleModel",
            "description_width": "initial",
            "_view_module": "@jupyter-widgets/base",
            "_model_module_version": "1.5.0",
            "_view_count": null,
            "_view_module_version": "1.2.0",
            "bar_color": null,
            "_model_module": "@jupyter-widgets/controls"
          }
        },
        "44dc06f4ba244e9a8838fe441939f4d3": {
          "model_module": "@jupyter-widgets/base",
          "model_name": "LayoutModel",
          "state": {
            "_view_name": "LayoutView",
            "grid_template_rows": null,
            "right": null,
            "justify_content": null,
            "_view_module": "@jupyter-widgets/base",
            "overflow": null,
            "_model_module_version": "1.2.0",
            "_view_count": null,
            "flex_flow": null,
            "width": null,
            "min_width": null,
            "border": null,
            "align_items": null,
            "bottom": null,
            "_model_module": "@jupyter-widgets/base",
            "top": null,
            "grid_column": null,
            "overflow_y": null,
            "overflow_x": null,
            "grid_auto_flow": null,
            "grid_area": null,
            "grid_template_columns": null,
            "flex": null,
            "_model_name": "LayoutModel",
            "justify_items": null,
            "grid_row": null,
            "max_height": null,
            "align_content": null,
            "visibility": null,
            "align_self": null,
            "height": null,
            "min_height": null,
            "padding": null,
            "grid_auto_rows": null,
            "grid_gap": null,
            "max_width": null,
            "order": null,
            "_view_module_version": "1.2.0",
            "grid_template_areas": null,
            "object_position": null,
            "object_fit": null,
            "grid_auto_columns": null,
            "margin": null,
            "display": null,
            "left": null
          }
        },
        "77944b6c0e46475ba205a453e563bce6": {
          "model_module": "@jupyter-widgets/controls",
          "model_name": "DescriptionStyleModel",
          "state": {
            "_view_name": "StyleView",
            "_model_name": "DescriptionStyleModel",
            "description_width": "",
            "_view_module": "@jupyter-widgets/base",
            "_model_module_version": "1.5.0",
            "_view_count": null,
            "_view_module_version": "1.2.0",
            "_model_module": "@jupyter-widgets/controls"
          }
        },
        "dc16bd5c69d14862b376723c48a85e4b": {
          "model_module": "@jupyter-widgets/base",
          "model_name": "LayoutModel",
          "state": {
            "_view_name": "LayoutView",
            "grid_template_rows": null,
            "right": null,
            "justify_content": null,
            "_view_module": "@jupyter-widgets/base",
            "overflow": null,
            "_model_module_version": "1.2.0",
            "_view_count": null,
            "flex_flow": null,
            "width": null,
            "min_width": null,
            "border": null,
            "align_items": null,
            "bottom": null,
            "_model_module": "@jupyter-widgets/base",
            "top": null,
            "grid_column": null,
            "overflow_y": null,
            "overflow_x": null,
            "grid_auto_flow": null,
            "grid_area": null,
            "grid_template_columns": null,
            "flex": null,
            "_model_name": "LayoutModel",
            "justify_items": null,
            "grid_row": null,
            "max_height": null,
            "align_content": null,
            "visibility": null,
            "align_self": null,
            "height": null,
            "min_height": null,
            "padding": null,
            "grid_auto_rows": null,
            "grid_gap": null,
            "max_width": null,
            "order": null,
            "_view_module_version": "1.2.0",
            "grid_template_areas": null,
            "object_position": null,
            "object_fit": null,
            "grid_auto_columns": null,
            "margin": null,
            "display": null,
            "left": null
          }
        }
      }
    }
  },
  "cells": [
    {
      "cell_type": "code",
      "metadata": {
        "id": "OvymN0fUzk4M"
      },
      "source": [
        "import sys\n",
        "from collections import OrderedDict\n",
        "import numpy as np\n",
        "import torch\n",
        "import torch.nn as nn\n",
        "import torch.nn.functional as F\n",
        "import torch.optim as optim\n",
        "from torch.nn import Parameter\n",
        "from torch.autograd import grad\n",
        "from torch.utils.data import Dataset, DataLoader\n",
        "from typing import Union, Tuple\n",
        "\n",
        "import pickle as pk\n",
        "\n",
        "from torchsummary import summary\n",
        "import torchvision\n",
        "import torchvision.transforms as transforms\n",
        "import torchvision.datasets as datasets\n",
        "\n",
        "import matplotlib.pyplot as plt"
      ],
      "execution_count": 3,
      "outputs": []
    },
    {
      "cell_type": "code",
      "metadata": {
        "colab": {
          "base_uri": "https://localhost:8080/"
        },
        "id": "owTm7_iXzk4Y",
        "outputId": "e0b51b89-8a3d-48c0-db1d-de6b8d6b2f4c"
      },
      "source": [
        "torch.cuda.is_available()"
      ],
      "execution_count": 4,
      "outputs": [
        {
          "output_type": "execute_result",
          "data": {
            "text/plain": [
              "True"
            ]
          },
          "metadata": {
            "tags": []
          },
          "execution_count": 4
        }
      ]
    },
    {
      "cell_type": "markdown",
      "metadata": {
        "id": "QYlCS-VBzk4Z"
      },
      "source": [
        "# Load the MNIST Dataset"
      ]
    },
    {
      "cell_type": "code",
      "metadata": {
        "id": "_ZO_S4KDzk4a",
        "colab": {
          "base_uri": "https://localhost:8080/",
          "height": 437,
          "referenced_widgets": [
            "3237c47841f74ac28c65d02e742086f5",
            "c3c1574071ac49d293f0a4fb57aae3c8",
            "3a588a79c04546499fc4b9c49ba3c7d6",
            "e669d8ee003d4a918239b874bb3279b9",
            "a8c71f6f956c44c980ae3e71628fea6b",
            "1e1640a2ba894e72b192e9ff6e01d99f",
            "29272b8ed4854aea87f033bc92366a67",
            "db027f8a50924b8eaa2e5a3979c7bf7e",
            "25733e81a9b34d33b8bdd8d1237b1f44",
            "620c5e8dc77545938221f560d48e783c",
            "4d3b47afad324698b3a468abb7fe9584",
            "d33ecfa61a3a42ee8530f28b43eb4699",
            "55e880b3bb444722ac40ea79446f633b",
            "83179eead33f47e4a547bc2bdfe089b7",
            "7a2c1d43a079478dbbc8564b5aa14939",
            "4314dc33485e4d4ebb99384d67325afd",
            "7e01c4d612d6415fab0af8b9e2bf3266",
            "310dee0f68344a7db1a97e0003ee9012",
            "dfddbfb87626480cbd5b5586c2cf8784",
            "390090e6d88b4837ae353ae524dabc76",
            "f88f572900a54c42a9c11fe25b34c678",
            "743c75b64f574ba0b56887f722ca92da",
            "8b69c186a2aa4914b3107afb407df358",
            "90896e7857474edb9fda2896a0c8d2cb",
            "61e99750e0bc4336b7681807231a14af",
            "404f110f962e412a92abccf019ddad0b",
            "2c92482bcf2c40c7bdc1a89a4786827f",
            "f2ef5d2f08af4270b8cadddd538c321e",
            "21f5600f639449e7aa980ee9a0d9d1fa",
            "44dc06f4ba244e9a8838fe441939f4d3",
            "77944b6c0e46475ba205a453e563bce6",
            "dc16bd5c69d14862b376723c48a85e4b"
          ]
        },
        "outputId": "47038e52-13db-4d6c-a971-df371ff2ecad"
      },
      "source": [
        "#DataPath = r\"D:\\PatternRecognition_Data\"\n",
        "DataPath = \"./\"\n",
        "\n",
        "train_data = datasets.MNIST(DataPath, train=True, download=True, transform=transforms.ToTensor())\n",
        "train_loader = DataLoader(train_data, batch_size=len(train_data))\n",
        "batch = next(iter(train_loader))\n",
        "x, y = batch\n",
        "mean, std = torch.mean(x), torch.std(x)\n",
        "transform = transforms.Compose([\n",
        "                                 transforms.ToTensor(),\n",
        "                                 transforms.Normalize((mean,), (std,))\n",
        "])\n",
        "\n",
        "batch_size = 32\n",
        "trainset = datasets.MNIST(root=DataPath, train=True, download=True, transform=transform)\n",
        "train_loader = torch.utils.data.DataLoader(trainset, batch_size=batch_size, shuffle=True)\n",
        "\n",
        "testset = datasets.MNIST(root=DataPath, train=False, download=True, transform=transform)\n",
        "test_loader = torch.utils.data.DataLoader(testset, batch_size=batch_size, shuffle=True)"
      ],
      "execution_count": 5,
      "outputs": [
        {
          "output_type": "stream",
          "text": [
            "Downloading http://yann.lecun.com/exdb/mnist/train-images-idx3-ubyte.gz to ./MNIST/raw/train-images-idx3-ubyte.gz\n"
          ],
          "name": "stdout"
        },
        {
          "output_type": "display_data",
          "data": {
            "application/vnd.jupyter.widget-view+json": {
              "model_id": "3237c47841f74ac28c65d02e742086f5",
              "version_minor": 0,
              "version_major": 2
            },
            "text/plain": [
              "HBox(children=(FloatProgress(value=1.0, bar_style='info', max=1.0), HTML(value='')))"
            ]
          },
          "metadata": {
            "tags": []
          }
        },
        {
          "output_type": "stream",
          "text": [
            "Extracting ./MNIST/raw/train-images-idx3-ubyte.gz to ./MNIST/raw\n",
            "Downloading http://yann.lecun.com/exdb/mnist/train-labels-idx1-ubyte.gz to ./MNIST/raw/train-labels-idx1-ubyte.gz\n"
          ],
          "name": "stdout"
        },
        {
          "output_type": "display_data",
          "data": {
            "application/vnd.jupyter.widget-view+json": {
              "model_id": "25733e81a9b34d33b8bdd8d1237b1f44",
              "version_minor": 0,
              "version_major": 2
            },
            "text/plain": [
              "HBox(children=(FloatProgress(value=1.0, bar_style='info', max=1.0), HTML(value='')))"
            ]
          },
          "metadata": {
            "tags": []
          }
        },
        {
          "output_type": "stream",
          "text": [
            "Extracting ./MNIST/raw/train-labels-idx1-ubyte.gz to ./MNIST/raw\n",
            "Downloading http://yann.lecun.com/exdb/mnist/t10k-images-idx3-ubyte.gz to ./MNIST/raw/t10k-images-idx3-ubyte.gz\n"
          ],
          "name": "stdout"
        },
        {
          "output_type": "display_data",
          "data": {
            "application/vnd.jupyter.widget-view+json": {
              "model_id": "7e01c4d612d6415fab0af8b9e2bf3266",
              "version_minor": 0,
              "version_major": 2
            },
            "text/plain": [
              "HBox(children=(FloatProgress(value=1.0, bar_style='info', max=1.0), HTML(value='')))"
            ]
          },
          "metadata": {
            "tags": []
          }
        },
        {
          "output_type": "stream",
          "text": [
            "Extracting ./MNIST/raw/t10k-images-idx3-ubyte.gz to ./MNIST/raw\n",
            "Downloading http://yann.lecun.com/exdb/mnist/t10k-labels-idx1-ubyte.gz to ./MNIST/raw/t10k-labels-idx1-ubyte.gz\n"
          ],
          "name": "stdout"
        },
        {
          "output_type": "display_data",
          "data": {
            "application/vnd.jupyter.widget-view+json": {
              "model_id": "61e99750e0bc4336b7681807231a14af",
              "version_minor": 0,
              "version_major": 2
            },
            "text/plain": [
              "HBox(children=(FloatProgress(value=1.0, bar_style='info', max=1.0), HTML(value='')))"
            ]
          },
          "metadata": {
            "tags": []
          }
        },
        {
          "output_type": "stream",
          "text": [
            "Extracting ./MNIST/raw/t10k-labels-idx1-ubyte.gz to ./MNIST/raw\n",
            "Processing...\n",
            "Done!\n"
          ],
          "name": "stdout"
        },
        {
          "output_type": "stream",
          "text": [
            "/usr/local/lib/python3.6/dist-packages/torchvision/datasets/mnist.py:480: UserWarning: The given NumPy array is not writeable, and PyTorch does not support non-writeable tensors. This means you can write to the underlying (supposedly non-writeable) NumPy array using the tensor. You may want to copy the array to protect its data or make it writeable before converting it to a tensor. This type of warning will be suppressed for the rest of this program. (Triggered internally at  /pytorch/torch/csrc/utils/tensor_numpy.cpp:141.)\n",
            "  return torch.from_numpy(parsed.astype(m[2], copy=False)).view(*s)\n"
          ],
          "name": "stderr"
        },
        {
          "output_type": "stream",
          "text": [
            "\n",
            "\n",
            "\n",
            "\n"
          ],
          "name": "stdout"
        }
      ]
    },
    {
      "cell_type": "code",
      "metadata": {
        "colab": {
          "base_uri": "https://localhost:8080/"
        },
        "id": "NWlukEK3CxSJ",
        "outputId": "014cea67-6a0f-4e86-b770-ff7269505aba"
      },
      "source": [
        "# 1875 batches\n",
        "len(train_loader)"
      ],
      "execution_count": 10,
      "outputs": [
        {
          "output_type": "execute_result",
          "data": {
            "text/plain": [
              "1875"
            ]
          },
          "metadata": {
            "tags": []
          },
          "execution_count": 10
        }
      ]
    },
    {
      "cell_type": "code",
      "metadata": {
        "colab": {
          "base_uri": "https://localhost:8080/"
        },
        "id": "o2yvjgkOzk4a",
        "outputId": "ee5a4c48-9630-44a3-8742-18bc4672a0a6"
      },
      "source": [
        "# Each batch containing 32 images of shape 28x28\n",
        "next(iter(train_loader))[0].shape"
      ],
      "execution_count": null,
      "outputs": [
        {
          "output_type": "execute_result",
          "data": {
            "text/plain": [
              "torch.Size([32, 1, 28, 28])"
            ]
          },
          "metadata": {
            "tags": []
          },
          "execution_count": 6
        }
      ]
    },
    {
      "cell_type": "markdown",
      "metadata": {
        "id": "EXPQHl72zk4b"
      },
      "source": [
        "# Exercise 1: Autoencoder Network Implementation\n",
        "\n",
        "Implement an Autoencoder that encodes the MNIST dataset to a latent dimension of size m < 784. Use Tranposed Convolutions and/or Unpooling to solve this exercise. Train the Autoencoder and plot the reconstruction training loss. Plot 5 digits (of your choice) before and after reconstruction. Do this for two different latent dimension sizes.\n"
      ]
    },
    {
      "cell_type": "code",
      "metadata": {
        "id": "WDXybZQyzk4b"
      },
      "source": [
        "class Autoencoder(nn.Module):\n",
        "  def __init__(self, latent_width):\n",
        "    # Initialize as subclass of nn.Module inheriting all its functions\n",
        "    super(Autoencoder, self).__init__()\n",
        "    encode = [nn.Conv2d(in_channels=1, out_channels=16, kernel_size=3, stride=2, padding=1),\n",
        "              nn.LeakyReLU(),\n",
        "              nn.BatchNorm2d(16),\n",
        "              nn.Conv2d(in_channels=16, out_channels=32, kernel_size=3, stride=2, padding=1),\n",
        "              nn.LeakyReLU(),\n",
        "              nn.BatchNorm2d(32)]\n",
        "    decode = [nn.ConvTranspose2d(in_channels=32, out_channels=16, kernel_size=2, stride=2, padding=0),\n",
        "              nn.LeakyReLU(),\n",
        "              nn.BatchNorm2d(16),\n",
        "              nn.ConvTranspose2d(in_channels=16, out_channels=1, kernel_size=2, stride=2, padding=0),\n",
        "              nn.LeakyReLU(),\n",
        "              nn.BatchNorm2d(1)]\n",
        "    self.encoder = nn.Sequential(*encode)\n",
        "    self.encoder_end = nn.Linear(32 * 7 * 7, latent_width)\n",
        "    self.decoder_start = nn.Linear(latent_width, 32 * 7 * 7)\n",
        "    self.decoder = nn.Sequential(*decode)\n",
        "                                           \n",
        "\n",
        "  def forward(self, x):\n",
        "    z = self.encoder(x)\n",
        "    z = self.encoder_end(z.reshape([z.shape[0],-1]))\n",
        "    y = self.decoder_start(z)\n",
        "    y = self.decoder(y.reshape([y.shape[0],32,7,7]))\n",
        "    return y"
      ],
      "execution_count": 24,
      "outputs": []
    },
    {
      "cell_type": "code",
      "metadata": {
        "colab": {
          "base_uri": "https://localhost:8080/"
        },
        "id": "jHegBTSvzk4c",
        "outputId": "e184437f-f93c-450e-ebe3-a0ec643a7fa4"
      },
      "source": [
        "autoenc_model = Autoencoder(latent_width=100)\n",
        "summary(autoenc_model, input_size=(1, 28, 28), device='cpu')"
      ],
      "execution_count": 25,
      "outputs": [
        {
          "output_type": "stream",
          "text": [
            "----------------------------------------------------------------\n",
            "        Layer (type)               Output Shape         Param #\n",
            "================================================================\n",
            "            Conv2d-1           [-1, 16, 14, 14]             160\n",
            "         LeakyReLU-2           [-1, 16, 14, 14]               0\n",
            "       BatchNorm2d-3           [-1, 16, 14, 14]              32\n",
            "            Conv2d-4             [-1, 32, 7, 7]           4,640\n",
            "         LeakyReLU-5             [-1, 32, 7, 7]               0\n",
            "       BatchNorm2d-6             [-1, 32, 7, 7]              64\n",
            "            Linear-7                  [-1, 100]         156,900\n",
            "            Linear-8                 [-1, 1568]         158,368\n",
            "   ConvTranspose2d-9           [-1, 16, 14, 14]           2,064\n",
            "        LeakyReLU-10           [-1, 16, 14, 14]               0\n",
            "      BatchNorm2d-11           [-1, 16, 14, 14]              32\n",
            "  ConvTranspose2d-12            [-1, 1, 28, 28]              65\n",
            "        LeakyReLU-13            [-1, 1, 28, 28]               0\n",
            "      BatchNorm2d-14            [-1, 1, 28, 28]               2\n",
            "================================================================\n",
            "Total params: 322,327\n",
            "Trainable params: 322,327\n",
            "Non-trainable params: 0\n",
            "----------------------------------------------------------------\n",
            "Input size (MB): 0.00\n",
            "Forward/backward pass size (MB): 0.21\n",
            "Params size (MB): 1.23\n",
            "Estimated Total Size (MB): 1.44\n",
            "----------------------------------------------------------------\n"
          ],
          "name": "stdout"
        }
      ]
    },
    {
      "cell_type": "code",
      "metadata": {
        "id": "WzngAXYQzk4b"
      },
      "source": [
        "def train(\n",
        "    model: nn.Module, \n",
        "    optimizer: optim.Optimizer, \n",
        "    data: Union[DataLoader, Tuple[DataLoader]], \n",
        "    max_epochs: int, \n",
        "    cuda=True):\n",
        "    \"\"\"\n",
        "    Train a NN 'model' on 'data' in 'max_epochs' many epochs using 'optimizer' optimization method.\n",
        "    \"\"\"\n",
        "  \n",
        "    use_test = False\n",
        "    if isinstance(data, DataLoader):\n",
        "        train_loader = data\n",
        "    elif isinstance(data, tuple):\n",
        "        if len(data) == 2:\n",
        "            train_loader, test_loader = data\n",
        "            if not isinstance(train_loader, DataLoader):\n",
        "                raise TypeError(f'Expected 1st entry of type DataLoader, but got {type(train_loader)}!')\n",
        "            if not isinstance(test_loader, DataLoader):\n",
        "                raise TypeError(f'Expected 2nd entry of type DataLoader, but got {type(test_loader)}!')\n",
        "            use_test = True\n",
        "        else:\n",
        "            raise ValueError(f'Expected tuple of length 2, but got {len(data)}!')\n",
        "  \n",
        "    criterion = nn.MSELoss()\n",
        "    losses = []\n",
        "    model.train()\n",
        "    batch_total = len(train_loader)\n",
        "\n",
        "    for epoch in range(max_epochs):\n",
        "        samples_total = 0\n",
        "        samples_correct = 0\n",
        "        for batch_idx, batch in enumerate(train_loader):\n",
        "            x, y = batch\n",
        "            if cuda:\n",
        "                x, y = x.cuda(), y.cuda()\n",
        "            output = model(x)\n",
        "            loss = criterion(output, x)\n",
        "            loss.backward()\n",
        "            optimizer.step()\n",
        "            losses.append(loss.item())\n",
        "\n",
        "            if batch_idx % 50 == 0:\n",
        "                sys.stdout.write(f'\\rEpoch: {epoch}/{max_epochs} Step: {batch_idx}/{batch_total} Loss: {loss.item():.6f}')\n",
        "    return losses"
      ],
      "execution_count": 26,
      "outputs": []
    },
    {
      "cell_type": "markdown",
      "metadata": {
        "id": "zf3_4vtmzk4c"
      },
      "source": [
        "### Train with latent space size 100:"
      ]
    },
    {
      "cell_type": "code",
      "metadata": {
        "colab": {
          "base_uri": "https://localhost:8080/"
        },
        "id": "CrWkzjoNzk4d",
        "outputId": "b9369bc7-c6b1-4276-e46a-93502d7e7ed0"
      },
      "source": [
        "autoenc_model_100 = Autoencoder(latent_width=100)\n",
        "autoenc_model_100 = autoenc_model_100.cuda()\n",
        "autoenc_optim_100 = optim.Adam(autoenc_model_100.parameters(), lr=1e-5)\n",
        "autoenc_losses_100 = train(autoenc_model_100, autoenc_optim_100, (train_loader, test_loader), max_epochs=10)"
      ],
      "execution_count": null,
      "outputs": [
        {
          "output_type": "stream",
          "text": [
            "Epoch: 9/10 Step: 1850/1875 Loss: 0.126405"
          ],
          "name": "stdout"
        }
      ]
    },
    {
      "cell_type": "code",
      "metadata": {
        "colab": {
          "base_uri": "https://localhost:8080/",
          "height": 295
        },
        "id": "5J9QLGEpzk4d",
        "outputId": "8bd64bd5-e6ed-4b4a-f67d-59d342cfadd0"
      },
      "source": [
        "fig, ax = plt.subplots()\n",
        "ax.plot(autoenc_losses_100)\n",
        "ax.set_title('Reconstruction error for latent dimension n=100')\n",
        "ax.set_xlabel('Training runs')\n",
        "ax.set_ylabel('MSE')\n",
        "plt.show()"
      ],
      "execution_count": null,
      "outputs": [
        {
          "output_type": "display_data",
          "data": {
            "image/png": "[encoded data removed]",
            "text/plain": [
              "<Figure size 432x288 with 1 Axes>"
            ]
          },
          "metadata": {
            "tags": [],
            "needs_background": "light"
          }
        }
      ]
    },
    {
      "cell_type": "code",
      "metadata": {
        "id": "d8NGvIRlzk4e",
        "outputId": "baa31e2e-d2a7-4450-9f66-4bf4f1275da0"
      },
      "source": [
        "x, y = next(iter(train_loader))\n",
        "# img_block = autoenc_model.decoder(torch.rand(32,16,7,7))\n",
        "img_block = autoenc_model_100(x[:5].cuda())\n",
        "\n",
        "fig = plt.figure(figsize=(5, 15))\n",
        "columns = 2\n",
        "rows = 5\n",
        "counter = 0\n",
        "for x, img in zip(x[:5],img_block):\n",
        "    img_new = img[0].detach().cpu().numpy()\n",
        "    fig.add_subplot(rows, columns, counter+1)\n",
        "    plt.imshow(x[0], cmap=\"gray\")\n",
        "    counter += 1\n",
        "    plt.title(\"True\")\n",
        "    fig.add_subplot(rows, columns, counter+1)\n",
        "    plt.imshow(img_new, cmap=\"gray\")\n",
        "    plt.title(\"Reconstruction\")\n",
        "    counter += 1\n",
        "plt.show()"
      ],
      "execution_count": null,
      "outputs": [
        {
          "output_type": "display_data",
          "data": {
            "image/png": "[encoded data removed]",
            "text/plain": [
              "<Figure size 360x1080 with 10 Axes>"
            ]
          },
          "metadata": {
            "tags": [],
            "needs_background": "light"
          }
        }
      ]
    },
    {
      "cell_type": "markdown",
      "metadata": {
        "id": "DGi5stVtzk4e"
      },
      "source": [
        "### Train with latent space size 10:"
      ]
    },
    {
      "cell_type": "code",
      "metadata": {
        "id": "okPpMjeRzk4f",
        "outputId": "aa136010-d88f-4303-9f0e-5187d1644062"
      },
      "source": [
        "autoenc_model_10 = Autoencoder(latent_width=10)\n",
        "\n",
        "autoenc_model_10 = autoenc_model_10.cuda()\n",
        "\n",
        "autoenc_optim_10 = optim.Adam(autoenc_model_10.parameters(), lr=1e-5)\n",
        "\n",
        "autoenc_losses_10 = train(autoenc_model_10, autoenc_optim_10, (train_loader, test_loader), max_epochs=10)"
      ],
      "execution_count": null,
      "outputs": [
        {
          "output_type": "stream",
          "text": [
            "Epoch: 9/10 Step: 1850/1875 Loss: 0.397266"
          ],
          "name": "stdout"
        }
      ]
    },
    {
      "cell_type": "code",
      "metadata": {
        "id": "TqifMM3mzk4g",
        "outputId": "de767401-893d-4fe4-9dca-56aad1f658fa"
      },
      "source": [
        "fig, ax = plt.subplots()\n",
        "ax.plot(autoenc_losses_10)\n",
        "ax.set_title('Reconstruction error for latent dimension n=10')\n",
        "ax.set_xlabel('Training runs')\n",
        "ax.set_ylabel('MSE')\n",
        "plt.show()"
      ],
      "execution_count": null,
      "outputs": [
        {
          "output_type": "execute_result",
          "data": {
            "text/plain": [
              "[<matplotlib.lines.Line2D at 0x18051d2be80>]"
            ]
          },
          "metadata": {
            "tags": []
          },
          "execution_count": 12
        },
        {
          "output_type": "display_data",
          "data": {
            "image/png": "[encoded data removed]",
            "text/plain": [
              "<Figure size 432x288 with 1 Axes>"
            ]
          },
          "metadata": {
            "tags": [],
            "needs_background": "light"
          }
        }
      ]
    },
    {
      "cell_type": "code",
      "metadata": {
        "id": "DewLKBaEzk4h",
        "outputId": "0d8ece7c-d608-48ad-a972-9b164b8baabf"
      },
      "source": [
        "x, y = next(iter(train_loader))\n",
        "# img_block = autoenc_model.decoder(torch.rand(32,16,7,7))\n",
        "img_block = autoenc_model_10(x[:5].cuda())\n",
        "\n",
        "fig = plt.figure(figsize=(5, 15))\n",
        "columns = 2\n",
        "rows = 5\n",
        "counter = 0\n",
        "for x, img in zip(x[:5],img_block):\n",
        "    img_new = img[0].detach().cpu().numpy()\n",
        "    fig.add_subplot(rows, columns, counter+1)\n",
        "    plt.imshow(x[0], cmap=\"gray\")\n",
        "    counter += 1\n",
        "    plt.title(\"True\")\n",
        "    fig.add_subplot(rows, columns, counter+1)\n",
        "    plt.imshow(img_new, cmap=\"gray\")\n",
        "    plt.title(\"Reconstruction\")\n",
        "    counter += 1\n",
        "plt.show()"
      ],
      "execution_count": null,
      "outputs": [
        {
          "output_type": "display_data",
          "data": {
            "image/png": "[encoded data removed]",
            "text/plain": [
              "<Figure size 360x1080 with 10 Axes>"
            ]
          },
          "metadata": {
            "tags": [],
            "needs_background": "light"
          }
        }
      ]
    },
    {
      "cell_type": "markdown",
      "metadata": {
        "id": "_lgDrowbzk4h"
      },
      "source": [
        "### Result:\n",
        "The Autoencoder with a latent space of lower dimension compression showed significantly worse image reconstructions than the Autoencode with a higher dimensional latent space!"
      ]
    },
    {
      "cell_type": "markdown",
      "metadata": {
        "id": "iOci4mrpzk4i"
      },
      "source": [
        "# Exercise 2: Variational Autoencoder Network Implementation\n",
        "Now that you have built an Autoencoder, it is time to implement a Variational Autoencoder. You can use the Autoencoder you trained in the previous exercise and adapt it for this exercise. Do not forget to use the reparametrization trick for sampling from Z-space. (30%)\n",
        "\n",
        "(a) Train a Variational Autoencoder with latent dimension of size 2. Then, plot the digits where their associated position was in latent space similarly as explained in the lecture. (25%)\n",
        "\n",
        "(b) Plot the stdiance vector of the decoder for a single input as an image (in digit space; [3,28,28]). What is the interpretation of that? (25%)\n"
      ]
    },
    {
      "cell_type": "code",
      "metadata": {
        "id": "BtEj5yMbzk4i"
      },
      "source": [
        "\n",
        "class VAE(nn.Module):\n",
        "  def __init__(self, latent_width):\n",
        "    # Initialize as subclass of nn.Module inheriting all its functions\n",
        "    super(VAE, self).__init__()\n",
        "    encode = [nn.Conv2d(in_channels=1, out_channels=16, kernel_size=3, stride=2, padding=1),\n",
        "              nn.LeakyReLU(),\n",
        "              nn.BatchNorm2d(16),\n",
        "              nn.Conv2d(in_channels=16, out_channels=32, kernel_size=3, stride=2, padding=1),\n",
        "              nn.LeakyReLU(),\n",
        "              nn.BatchNorm2d(32)]\n",
        "    decode = [nn.ConvTranspose2d(in_channels=32, out_channels=16, kernel_size=2, stride=2, padding=0),\n",
        "              nn.LeakyReLU(),\n",
        "              nn.BatchNorm2d(16),\n",
        "              nn.ConvTranspose2d(in_channels=16, out_channels=1, kernel_size=2, stride=2, padding=0),\n",
        "              nn.LeakyReLU(),\n",
        "              nn.BatchNorm2d(1)]\n",
        "    self.encoder = nn.Sequential(*encode)\n",
        "    self.encoder_end_mu = nn.Linear(32 * 7 * 7, latent_width)\n",
        "    self.encoder_end_std = nn.Linear(32 * 7 * 7, latent_width)\n",
        "    self.decoder_start = nn.Linear(latent_width, 32 * 7 * 7)\n",
        "    self.decoder = nn.Sequential(*decode)\n",
        "    self.decoder_end_mu = nn.Linear(1 * 28 * 28, 1 * 28 * 28)\n",
        "    self.decoder_end_std = nn.Linear(1 * 28 * 28, 1 * 28 * 28)\n",
        "                                       \n",
        "\n",
        "  def forward(self, x):\n",
        "    mu, std = self.encode_mean_std(x)\n",
        "    mu2, std2 = self.decode_mean_std(mu, std)\n",
        "    # here: return mu as reconstructed xhat\n",
        "    # alternative: generate N(mu,sqrt(std)) and sample xhat\n",
        "    return mu2\n",
        "\n",
        "\n",
        "  def encode_mean_std(self, x):\n",
        "    z = self.encoder(x)\n",
        "    mu = self.encoder_end_mu(z.reshape([z.shape[0],-1]))\n",
        "    std = self.encoder_end_std(z.reshape([z.shape[0],-1]))\n",
        "    return mu, std\n",
        "\n",
        "\n",
        "  def decode_mean_std(self, mu, std):\n",
        "    # Reparametrization\n",
        "    z = self.reparametrize(mu, std)\n",
        "    # Decode\n",
        "    y = self.decoder_start(z)\n",
        "    y = self.decoder(y.reshape([-1,32,7,7]))\n",
        "    mu2 = self.decoder_end_mu(y.reshape([y.shape[0],-1]))\n",
        "    std2 = self.decoder_end_std(y.reshape([y.shape[0],-1]))\n",
        "    return mu2, std2\n",
        "\n",
        "\n",
        "  def reparametrize(self, mu, std):\n",
        "     \"\"\"\n",
        "     :param mu: mean from the encoder's latent space\n",
        "     :param std: standard devitation from the encoder's latent space\n",
        "     \"\"\"\n",
        "     # Sample eps from normal distribution: `randn_like` as we need the same size\n",
        "     eps = torch.randn_like(std) \n",
        "     # Sampling z from q(z|x) being a normal distribution N(mu, sqrt(std))\n",
        "     return mu + (eps * std) \n"
      ],
      "execution_count": 128,
      "outputs": []
    },
    {
      "cell_type": "code",
      "metadata": {
        "colab": {
          "base_uri": "https://localhost:8080/"
        },
        "id": "DPzJfguuCP97",
        "outputId": "58597fa9-1299-4702-a746-a4cfc2de3033"
      },
      "source": [
        "vae_model = VAE(latent_width=2)\n",
        "summary(vae_model, input_size=(1, 28, 28), device='cpu')"
      ],
      "execution_count": 129,
      "outputs": [
        {
          "output_type": "stream",
          "text": [
            "----------------------------------------------------------------\n",
            "        Layer (type)               Output Shape         Param #\n",
            "================================================================\n",
            "            Conv2d-1           [-1, 16, 14, 14]             160\n",
            "         LeakyReLU-2           [-1, 16, 14, 14]               0\n",
            "       BatchNorm2d-3           [-1, 16, 14, 14]              32\n",
            "            Conv2d-4             [-1, 32, 7, 7]           4,640\n",
            "         LeakyReLU-5             [-1, 32, 7, 7]               0\n",
            "       BatchNorm2d-6             [-1, 32, 7, 7]              64\n",
            "            Linear-7                    [-1, 2]           3,138\n",
            "            Linear-8                    [-1, 2]           3,138\n",
            "            Linear-9                 [-1, 1568]           4,704\n",
            "  ConvTranspose2d-10           [-1, 16, 14, 14]           2,064\n",
            "        LeakyReLU-11           [-1, 16, 14, 14]               0\n",
            "      BatchNorm2d-12           [-1, 16, 14, 14]              32\n",
            "  ConvTranspose2d-13            [-1, 1, 28, 28]              65\n",
            "        LeakyReLU-14            [-1, 1, 28, 28]               0\n",
            "      BatchNorm2d-15            [-1, 1, 28, 28]               2\n",
            "           Linear-16                  [-1, 784]         615,440\n",
            "           Linear-17                  [-1, 784]         615,440\n",
            "================================================================\n",
            "Total params: 1,248,919\n",
            "Trainable params: 1,248,919\n",
            "Non-trainable params: 0\n",
            "----------------------------------------------------------------\n",
            "Input size (MB): 0.00\n",
            "Forward/backward pass size (MB): 0.22\n",
            "Params size (MB): 4.76\n",
            "Estimated Total Size (MB): 4.99\n",
            "----------------------------------------------------------------\n"
          ],
          "name": "stdout"
        }
      ]
    },
    {
      "cell_type": "code",
      "metadata": {
        "id": "RGYU0wOy925I"
      },
      "source": [
        "def reconstruction_loss(x, mu, std):\n",
        "  \"\"\"\n",
        "  Implements reconstruction loss.\n",
        "  \"\"\"\n",
        "  x = x.reshape([x.shape[0],-1])\n",
        "  C = torch.sum(-0.5 * np.log(2*np.pi) + torch.log(torch.pow(std,2)))\n",
        "  reconstruction_error = C + torch.sum(torch.pow(x - mu, 2) / torch.pow(std,2))\n",
        "  return torch.mean(reconstruction_error)\n",
        "\n",
        "def KL_divergence(mu, std):\n",
        "  \"\"\"\n",
        "  Implements the Kullback-Leibler divergence.\n",
        "  \"\"\"\n",
        "  KLD = 0.5 * torch.sum(1 + torch.log(torch.pow(std,2)) - torch.pow(mu, 2) - torch.pow(std,2))\n",
        "  return torch.mean(KLD)\n",
        "\n",
        "def train(model: nn.Module, optimizer: optim.Optimizer, data: Union[DataLoader, Tuple[DataLoader]], max_epochs: int, cuda=True):\n",
        "    \"\"\"\n",
        "    Train a NN 'model' on 'data' in 'max_epochs' many epochs using 'optimizer' optimization method.\n",
        "    \"\"\"\n",
        "  \n",
        "    use_test = False\n",
        "    if isinstance(data, DataLoader):\n",
        "        train_loader = data\n",
        "    elif isinstance(data, tuple):\n",
        "        if len(data) == 2:\n",
        "            train_loader, test_loader = data\n",
        "            if not isinstance(train_loader, DataLoader):\n",
        "                raise TypeError(f'Expected 1st entry of type DataLoader, but got {type(train_loader)}!')\n",
        "            if not isinstance(test_loader, DataLoader):\n",
        "                raise TypeError(f'Expected 2nd entry of type DataLoader, but got {type(test_loader)}!')\n",
        "            use_test = True\n",
        "        else:\n",
        "            raise ValueError(f'Expected tuple of length 2, but got {len(data)}!')\n",
        "  \n",
        "    model.train()\n",
        "    losses = []\n",
        "    losses_KL = []\n",
        "    losses_rec = []\n",
        "    batch_total = len(train_loader)\n",
        "\n",
        "    for epoch in range(max_epochs):\n",
        "        samples_total = 0\n",
        "        samples_correct = 0\n",
        "        for batch_idx, batch in enumerate(train_loader):\n",
        "            x, y = batch\n",
        "            if cuda:\n",
        "                x, y = x.cuda(), y.cuda()\n",
        "            #optimizer.zero_grad()\n",
        "            E_mu, E_std = model.encode_mean_std(x) \n",
        "            D_mu, D_std = model.decode_mean_std(E_mu, E_std) \n",
        "\n",
        "            loss1 = KL_divergence(E_mu, E_std)\n",
        "            loss2 = reconstruction_loss(x, D_mu, D_std)\n",
        "            loss = loss1 + loss2\n",
        "            losses.append(loss.item())\n",
        "            losses_KL.append(loss1.item())\n",
        "            losses_rec.append(loss2.item())\n",
        "\n",
        "            loss.backward()\n",
        "            optimizer.step()\n",
        "\n",
        "\n",
        "            if batch_idx % 50 == 0:\n",
        "                sys.stdout.write(f'\\rEpoch: {epoch}/{max_epochs} Step: {batch_idx}/{batch_total} Loss: {loss.item():.6f}')\n",
        "    return losses, losses_KL, losses_rec"
      ],
      "execution_count": 142,
      "outputs": []
    },
    {
      "cell_type": "code",
      "metadata": {
        "colab": {
          "base_uri": "https://localhost:8080/"
        },
        "id": "1gGsg-KF97bZ",
        "outputId": "09888974-a870-4a31-aa37-d1a817feaee7"
      },
      "source": [
        "vae_model = VAE(latent_width=2)\n",
        "vae_model.cuda()\n",
        "vae_optim = optim.Adam(vae_model.parameters(), lr=1e-4)\n",
        "vae_losses = train(vae_model, vae_optim, (train_loader, test_loader), max_epochs=10)"
      ],
      "execution_count": 145,
      "outputs": [
        {
          "output_type": "stream",
          "text": [
            "Epoch: 9/10 Step: 1850/1875 Loss: 1749735808.000000"
          ],
          "name": "stdout"
        }
      ]
    },
    {
      "cell_type": "code",
      "metadata": {
        "colab": {
          "base_uri": "https://localhost:8080/",
          "height": 227
        },
        "id": "v5Bd5CucaxDZ",
        "outputId": "5ab50028-f6a2-40ba-f470-46edaaa99562"
      },
      "source": [
        "fig, ax = plt.subplots(1,3, figsize=(15,3))\n",
        "ax[0].plot(vae_losses[0])\n",
        "ax[0].set_title('Overall loss')\n",
        "ax[1].plot(vae_losses[1])\n",
        "ax[1].set_title('KLD loss')\n",
        "ax[2].plot(vae_losses[2])\n",
        "ax[2].set_title('Reconstruction loss')\n",
        "plt.show()"
      ],
      "execution_count": 146,
      "outputs": [
        {
          "output_type": "display_data",
          "data": {
            "image/png": "[encoded data removed]",
            "text/plain": [
              "<Figure size 1080x216 with 3 Axes>"
            ]
          },
          "metadata": {
            "tags": [],
            "needs_background": "light"
          }
        }
      ]
    },
    {
      "cell_type": "markdown",
      "metadata": {
        "id": "Nczpt9-jaj1f"
      },
      "source": [
        "# Questions\n",
        "- @Paul: why in reconstruction error also take half of the weighted MSE part?"
      ]
    },
    {
      "cell_type": "code",
      "metadata": {
        "id": "CT5ziX7RSS2N"
      },
      "source": [
        ""
      ],
      "execution_count": null,
      "outputs": []
    }
  ]
}