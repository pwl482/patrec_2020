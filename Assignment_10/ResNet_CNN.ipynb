{
  "nbformat": 4,
  "nbformat_minor": 0,
  "metadata": {
    "kernelspec": {
      "display_name": "Python 3",
      "language": "python",
      "name": "python3"
    },
    "language_info": {
      "codemirror_mode": {
        "name": "ipython",
        "version": 3
      },
      "file_extension": ".py",
      "mimetype": "text/x-python",
      "name": "python",
      "nbconvert_exporter": "python",
      "pygments_lexer": "ipython3",
      "version": "3.6.10"
    },
    "colab": {
      "name": "ResNet_CNN.ipynb",
      "provenance": [],
      "collapsed_sections": []
    },
    "accelerator": "GPU",
    "widgets": {
      "application/vnd.jupyter.widget-state+json": {
        "acdc7c66eda24960b07c711eb3d76936": {
          "model_module": "@jupyter-widgets/controls",
          "model_name": "HBoxModel",
          "state": {
            "_view_name": "HBoxView",
            "_dom_classes": [],
            "_model_name": "HBoxModel",
            "_view_module": "@jupyter-widgets/controls",
            "_model_module_version": "1.5.0",
            "_view_count": null,
            "_view_module_version": "1.5.0",
            "box_style": "",
            "layout": "IPY_MODEL_31024914fac2435f8109bdbe8037466c",
            "_model_module": "@jupyter-widgets/controls",
            "children": [
              "IPY_MODEL_a71055bd7eb744628d5c5804edff66c2",
              "IPY_MODEL_606f42ed8a3b4f9c8a44bc781cc2b7d4"
            ]
          }
        },
        "31024914fac2435f8109bdbe8037466c": {
          "model_module": "@jupyter-widgets/base",
          "model_name": "LayoutModel",
          "state": {
            "_view_name": "LayoutView",
            "grid_template_rows": null,
            "right": null,
            "justify_content": null,
            "_view_module": "@jupyter-widgets/base",
            "overflow": null,
            "_model_module_version": "1.2.0",
            "_view_count": null,
            "flex_flow": null,
            "width": null,
            "min_width": null,
            "border": null,
            "align_items": null,
            "bottom": null,
            "_model_module": "@jupyter-widgets/base",
            "top": null,
            "grid_column": null,
            "overflow_y": null,
            "overflow_x": null,
            "grid_auto_flow": null,
            "grid_area": null,
            "grid_template_columns": null,
            "flex": null,
            "_model_name": "LayoutModel",
            "justify_items": null,
            "grid_row": null,
            "max_height": null,
            "align_content": null,
            "visibility": null,
            "align_self": null,
            "height": null,
            "min_height": null,
            "padding": null,
            "grid_auto_rows": null,
            "grid_gap": null,
            "max_width": null,
            "order": null,
            "_view_module_version": "1.2.0",
            "grid_template_areas": null,
            "object_position": null,
            "object_fit": null,
            "grid_auto_columns": null,
            "margin": null,
            "display": null,
            "left": null
          }
        },
        "a71055bd7eb744628d5c5804edff66c2": {
          "model_module": "@jupyter-widgets/controls",
          "model_name": "FloatProgressModel",
          "state": {
            "_view_name": "ProgressView",
            "style": "IPY_MODEL_c47aaf89e2c448cc884fd47f0c494bbc",
            "_dom_classes": [],
            "description": "",
            "_model_name": "FloatProgressModel",
            "bar_style": "info",
            "max": 1,
            "_view_module": "@jupyter-widgets/controls",
            "_model_module_version": "1.5.0",
            "value": 1,
            "_view_count": null,
            "_view_module_version": "1.5.0",
            "orientation": "horizontal",
            "min": 0,
            "description_tooltip": null,
            "_model_module": "@jupyter-widgets/controls",
            "layout": "IPY_MODEL_4e02f69f3a144d70987a5945711dc7d5"
          }
        },
        "606f42ed8a3b4f9c8a44bc781cc2b7d4": {
          "model_module": "@jupyter-widgets/controls",
          "model_name": "HTMLModel",
          "state": {
            "_view_name": "HTMLView",
            "style": "IPY_MODEL_6ae49b8cfdbd42bc837666e93e771f06",
            "_dom_classes": [],
            "description": "",
            "_model_name": "HTMLModel",
            "placeholder": "​",
            "_view_module": "@jupyter-widgets/controls",
            "_model_module_version": "1.5.0",
            "value": " 170500096/? [00:20&lt;00:00, 53642710.79it/s]",
            "_view_count": null,
            "_view_module_version": "1.5.0",
            "description_tooltip": null,
            "_model_module": "@jupyter-widgets/controls",
            "layout": "IPY_MODEL_0c6078f9533147899865b4d785df12b8"
          }
        },
        "c47aaf89e2c448cc884fd47f0c494bbc": {
          "model_module": "@jupyter-widgets/controls",
          "model_name": "ProgressStyleModel",
          "state": {
            "_view_name": "StyleView",
            "_model_name": "ProgressStyleModel",
            "description_width": "initial",
            "_view_module": "@jupyter-widgets/base",
            "_model_module_version": "1.5.0",
            "_view_count": null,
            "_view_module_version": "1.2.0",
            "bar_color": null,
            "_model_module": "@jupyter-widgets/controls"
          }
        },
        "4e02f69f3a144d70987a5945711dc7d5": {
          "model_module": "@jupyter-widgets/base",
          "model_name": "LayoutModel",
          "state": {
            "_view_name": "LayoutView",
            "grid_template_rows": null,
            "right": null,
            "justify_content": null,
            "_view_module": "@jupyter-widgets/base",
            "overflow": null,
            "_model_module_version": "1.2.0",
            "_view_count": null,
            "flex_flow": null,
            "width": null,
            "min_width": null,
            "border": null,
            "align_items": null,
            "bottom": null,
            "_model_module": "@jupyter-widgets/base",
            "top": null,
            "grid_column": null,
            "overflow_y": null,
            "overflow_x": null,
            "grid_auto_flow": null,
            "grid_area": null,
            "grid_template_columns": null,
            "flex": null,
            "_model_name": "LayoutModel",
            "justify_items": null,
            "grid_row": null,
            "max_height": null,
            "align_content": null,
            "visibility": null,
            "align_self": null,
            "height": null,
            "min_height": null,
            "padding": null,
            "grid_auto_rows": null,
            "grid_gap": null,
            "max_width": null,
            "order": null,
            "_view_module_version": "1.2.0",
            "grid_template_areas": null,
            "object_position": null,
            "object_fit": null,
            "grid_auto_columns": null,
            "margin": null,
            "display": null,
            "left": null
          }
        },
        "6ae49b8cfdbd42bc837666e93e771f06": {
          "model_module": "@jupyter-widgets/controls",
          "model_name": "DescriptionStyleModel",
          "state": {
            "_view_name": "StyleView",
            "_model_name": "DescriptionStyleModel",
            "description_width": "",
            "_view_module": "@jupyter-widgets/base",
            "_model_module_version": "1.5.0",
            "_view_count": null,
            "_view_module_version": "1.2.0",
            "_model_module": "@jupyter-widgets/controls"
          }
        },
        "0c6078f9533147899865b4d785df12b8": {
          "model_module": "@jupyter-widgets/base",
          "model_name": "LayoutModel",
          "state": {
            "_view_name": "LayoutView",
            "grid_template_rows": null,
            "right": null,
            "justify_content": null,
            "_view_module": "@jupyter-widgets/base",
            "overflow": null,
            "_model_module_version": "1.2.0",
            "_view_count": null,
            "flex_flow": null,
            "width": null,
            "min_width": null,
            "border": null,
            "align_items": null,
            "bottom": null,
            "_model_module": "@jupyter-widgets/base",
            "top": null,
            "grid_column": null,
            "overflow_y": null,
            "overflow_x": null,
            "grid_auto_flow": null,
            "grid_area": null,
            "grid_template_columns": null,
            "flex": null,
            "_model_name": "LayoutModel",
            "justify_items": null,
            "grid_row": null,
            "max_height": null,
            "align_content": null,
            "visibility": null,
            "align_self": null,
            "height": null,
            "min_height": null,
            "padding": null,
            "grid_auto_rows": null,
            "grid_gap": null,
            "max_width": null,
            "order": null,
            "_view_module_version": "1.2.0",
            "grid_template_areas": null,
            "object_position": null,
            "object_fit": null,
            "grid_auto_columns": null,
            "margin": null,
            "display": null,
            "left": null
          }
        }
      }
    }
  },
  "cells": [
    {
      "cell_type": "code",
      "metadata": {
        "id": "SOWCU3MiM4ys"
      },
      "source": [
        "import sys\n",
        "from collections import OrderedDict\n",
        "import numpy as np\n",
        "import torch\n",
        "import torch.nn as nn\n",
        "import torch.nn.functional as F\n",
        "import torch.optim as optim\n",
        "from torch.nn import Parameter\n",
        "from torch.autograd import grad\n",
        "from torch.utils.data import Dataset, DataLoader\n",
        "from typing import Union, Tuple\n",
        "\n",
        "import pickle as pk\n",
        "\n",
        "from torchsummary import summary\n",
        "import torchvision\n",
        "import torchvision.transforms as transforms\n",
        "import torchvision.datasets as datasets\n",
        "\n",
        "import matplotlib.pyplot as plt"
      ],
      "execution_count": 1,
      "outputs": []
    },
    {
      "cell_type": "code",
      "metadata": {
        "colab": {
          "base_uri": "https://localhost:8080/"
        },
        "id": "DAhTfsDDM4yx",
        "outputId": "b1a1beee-58ff-436e-98b1-0c852ea7b541"
      },
      "source": [
        "torch.cuda.is_available()"
      ],
      "execution_count": 2,
      "outputs": [
        {
          "output_type": "execute_result",
          "data": {
            "text/plain": [
              "True"
            ]
          },
          "metadata": {
            "tags": []
          },
          "execution_count": 2
        }
      ]
    },
    {
      "cell_type": "markdown",
      "metadata": {
        "id": "jF0XjMaOM4yy"
      },
      "source": [
        "# Network\n",
        "**Define the CNN**\n",
        "We implemented the CNN from the assignment with minor adjustments that we took from the ResNet paper:\n",
        "1. We increase number of output channels in the last layer of every i-iteration instead of the first layer."
      ]
    },
    {
      "cell_type": "code",
      "metadata": {
        "id": "1pW0P3DRM4yy"
      },
      "source": [
        "class ResNetLike(nn.Module):\n",
        "  def __init__(self, depth_n):\n",
        "    # Initialize as subclass of nn.Module inheriting all its functions\n",
        "    super(ResNetLike, self).__init__()\n",
        "    # Define intial layer\n",
        "    self.start = nn.Sequential(OrderedDict([('conv0', nn.Conv2d(in_channels=3, out_channels=16, kernel_size=3, stride=1, padding=1)),\n",
        "                ('relu0', nn.LeakyReLU()),\n",
        "                ('bn0', nn.BatchNorm2d(16))]))\n",
        "    self.i_list = [0, 1, 2]\n",
        "    self.depth_n = depth_n\n",
        "    self.block1_list = nn.ModuleList([])\n",
        "    self.block2_list = nn.ModuleList([])\n",
        "    self.identity_scale_list = nn.ModuleList([])\n",
        "    # Store output of each of the i iterations\n",
        "    self.add_channels_list = nn.ModuleList([])\n",
        "    for i in self.i_list:\n",
        "      # Define first block for iteration i (repeated 2n times)\n",
        "      # Only range(2n-1) and not range(2n), because after 2n-1 iterations we add a layer that increases output channel numbers, \n",
        "      # which overall results in 2n iterations\n",
        "        for n in range(2 * self.depth_n - 1):\n",
        "            i_channels = 16 * (2 ** i)\n",
        "            b1 = [nn.Conv2d(in_channels=i_channels, out_channels=i_channels, kernel_size=3, stride=1, padding=1),\n",
        "                  nn.LeakyReLU(),\n",
        "                  nn.BatchNorm2d(i_channels),\n",
        "                  nn.Conv2d(in_channels=i_channels, out_channels=i_channels, kernel_size=3, stride=1, padding=1),\n",
        "                  nn.LeakyReLU(),\n",
        "                  nn.BatchNorm2d(i_channels)]\n",
        "            self.block1_list.append(nn.Sequential(*b1))\n",
        "\n",
        "#         if i != self.i_list[-1]:\n",
        "        # Define closing block for iteration i\n",
        "        i_channels = 16 * (2 ** i)\n",
        "        last_channels = 16 * (2 ** (i+1))\n",
        "        b2 = [nn.Conv2d(in_channels=i_channels, out_channels=i_channels, kernel_size=3, stride=1, padding=1),\n",
        "              nn.LeakyReLU(),\n",
        "              nn.BatchNorm2d(i_channels),\n",
        "              nn.Conv2d(in_channels=i_channels, out_channels=i_channels, kernel_size=3, stride=2, padding=1),\n",
        "              nn.LeakyReLU(),\n",
        "              nn.BatchNorm2d(i_channels)]\n",
        "        self.block2_list.append(nn.Sequential(*b2))\n",
        "        # Skip connection: This layer addresses the issue with skip connections where x and F(x) don't have the same shape.\n",
        "        # Shape of identity x is halfed using 2d average pooling.\n",
        "        self.identity_scale_list.append(nn.AvgPool2d(2, stride=2))\n",
        "        # Increase number of output channels in last layer of current iteration\n",
        "        b3 = [nn.Conv2d(in_channels=i_channels, out_channels=last_channels, kernel_size=1, stride=1, padding=0),\n",
        "                  nn.LeakyReLU(),\n",
        "                  nn.BatchNorm2d(last_channels)]\n",
        "        self.add_channels_list.append(nn.Sequential(*b3))\n",
        "#         else:\n",
        "#             i_channels = 16 * (2 ** i)\n",
        "#             b2 = [nn.Conv2d(in_channels=i_channels, out_channels=i_channels, kernel_size=3, stride=1, padding=1),\n",
        "#                   nn.LeakyReLU(),\n",
        "#                   nn.BatchNorm2d(i_channels),\n",
        "#                   nn.Conv2d(in_channels=i_channels, out_channels=i_channels, kernel_size=3, stride=1, padding=1),\n",
        "#                   nn.LeakyReLU(),\n",
        "#                   nn.BatchNorm2d(last_channels)]\n",
        "#             self.block2_list.append(nn.Sequential(*b2))\n",
        "#     self.end = nn.Sequential(*[nn.Linear(16 * (2 ** 2) * 8 * 8, 10), nn.Softmax(dim=1)])\n",
        "\n",
        "    # Here we require dimension with 16*2^3 channels isntead of 16*2^2 because we just increased the number of output channels with b3\n",
        "    # Possible improvement: add if statement to only increase number of output channels after iterations 0 and 1, but not 2\n",
        "    # or change implementation to increase number of output channels in first layer of every i-iteration, instead of the last layer\n",
        "    self.end = nn.Linear(16 * (2 ** 3) * 4 * 4, 10)\n",
        "                                           \n",
        "\n",
        "  def forward(self, x):\n",
        "    self.MSE_losses = []\n",
        "    MSE_func = nn.MSELoss()\n",
        "    y = self.start(x)\n",
        "    block1_counter = 0\n",
        "    for i in self.i_list:\n",
        "        for n in range(2 * self.depth_n - 1):\n",
        "            identity = y\n",
        "            # Skip connection I: learn F(x)=H(x)-x\n",
        "            y = self.block1_list[block1_counter](y)\n",
        "            # Skip connection II: add F(x)+x\n",
        "            y += identity\n",
        "            block1_counter += 1\n",
        "            # Quantify error of identity mapping\n",
        "            self.MSE_losses.append((i,n,MSE_func(identity, y)))\n",
        "#         if i != self.i_list[-1]:\n",
        "        identity = y\n",
        "        # Skip connection I: learn F(x)=H(x)-x\n",
        "        y = self.block2_list[i](y)\n",
        "        # Skip connection II: scale identity x to shape of F(x) and add\n",
        "        y += self.identity_scale_list[i](identity)\n",
        "        self.MSE_losses.append((i,self.depth_n,MSE_func(self.identity_scale_list[i](identity), y)))\n",
        "        y = self.add_channels_list[i](y)\n",
        "#         else:\n",
        "#             identity = y\n",
        "#             y = self.block2_list[i](y)\n",
        "#             y += identity\n",
        "    return self.end(y.reshape([y.shape[0],-1]))\n",
        "    "
      ],
      "execution_count": 3,
      "outputs": []
    },
    {
      "cell_type": "markdown",
      "metadata": {
        "id": "A92skejNM4yz"
      },
      "source": [
        "# Dataset"
      ]
    },
    {
      "cell_type": "markdown",
      "metadata": {
        "id": "owoEVdNLX19H"
      },
      "source": [
        "**Load CIFAR10 data**"
      ]
    },
    {
      "cell_type": "code",
      "metadata": {
        "colab": {
          "base_uri": "https://localhost:8080/",
          "height": 83,
          "referenced_widgets": [
            "acdc7c66eda24960b07c711eb3d76936",
            "31024914fac2435f8109bdbe8037466c",
            "a71055bd7eb744628d5c5804edff66c2",
            "606f42ed8a3b4f9c8a44bc781cc2b7d4",
            "c47aaf89e2c448cc884fd47f0c494bbc",
            "4e02f69f3a144d70987a5945711dc7d5",
            "6ae49b8cfdbd42bc837666e93e771f06",
            "0c6078f9533147899865b4d785df12b8"
          ]
        },
        "id": "85iAJLIJM4y0",
        "outputId": "2c140b73-2493-4324-f227-6ad874000c34"
      },
      "source": [
        "#DataPath = r\"D:\\PatternRecognition_Data\"\n",
        "DataPath = \".\"\n",
        "train_data = datasets.CIFAR10(DataPath, train=True, download=True, transform=transforms.ToTensor())"
      ],
      "execution_count": 5,
      "outputs": [
        {
          "output_type": "stream",
          "text": [
            "Downloading https://www.cs.toronto.edu/~kriz/cifar-10-python.tar.gz to ./cifar-10-python.tar.gz\n"
          ],
          "name": "stdout"
        },
        {
          "output_type": "display_data",
          "data": {
            "application/vnd.jupyter.widget-view+json": {
              "model_id": "acdc7c66eda24960b07c711eb3d76936",
              "version_minor": 0,
              "version_major": 2
            },
            "text/plain": [
              "HBox(children=(FloatProgress(value=1.0, bar_style='info', max=1.0), HTML(value='')))"
            ]
          },
          "metadata": {
            "tags": []
          }
        },
        {
          "output_type": "stream",
          "text": [
            "Extracting ./cifar-10-python.tar.gz to .\n"
          ],
          "name": "stdout"
        }
      ]
    },
    {
      "cell_type": "code",
      "metadata": {
        "id": "nWjtQTFTM4y0"
      },
      "source": [
        "train_loader = DataLoader(train_data, batch_size=len(train_data))\n",
        "batch = next(iter(train_loader))\n",
        "x, y = batch\n",
        "mean, std = torch.mean(x), torch.std(x)"
      ],
      "execution_count": 6,
      "outputs": []
    },
    {
      "cell_type": "markdown",
      "metadata": {
        "id": "YCJ-N5p6X5XJ"
      },
      "source": [
        "**Normalize data and create train/test sets comprising batches of size 64**"
      ]
    },
    {
      "cell_type": "code",
      "metadata": {
        "colab": {
          "base_uri": "https://localhost:8080/"
        },
        "id": "NAePmSrcM4y0",
        "outputId": "d6f53ac8-416a-4536-c617-ab5002a7ecdd"
      },
      "source": [
        "transform = transforms.Compose([\n",
        "                                 transforms.ToTensor(),\n",
        "                                 transforms.Normalize((mean,), (std,))\n",
        "])\n",
        "\n",
        "batch_size = 64\n",
        "trainset = datasets.CIFAR10(root=DataPath, train=True, download=True, transform=transform)\n",
        "train_loader = torch.utils.data.DataLoader(trainset, batch_size=batch_size, shuffle=True)\n",
        "\n",
        "testset = datasets.CIFAR10(root=DataPath, train=False, download=True, transform=transform)\n",
        "test_loader = torch.utils.data.DataLoader(testset, batch_size=batch_size, shuffle=True)\n",
        "\n",
        "classes = ('plane', 'car', 'bird', 'cat',\n",
        "           'deer', 'dog', 'frog', 'horse', 'ship', 'truck')"
      ],
      "execution_count": 10,
      "outputs": [
        {
          "output_type": "stream",
          "text": [
            "Files already downloaded and verified\n",
            "Files already downloaded and verified\n"
          ],
          "name": "stdout"
        }
      ]
    },
    {
      "cell_type": "markdown",
      "metadata": {
        "id": "k2_fD2RRYDs5"
      },
      "source": [
        "**Show some images from the training set**"
      ]
    },
    {
      "cell_type": "code",
      "metadata": {
        "id": "U1jP9w4eM4y1",
        "outputId": "8900b4b7-a224-4f0b-cf49-1c6ca8a3f5f7"
      },
      "source": [
        "x, y = next(iter(train_loader))\n",
        "print(x.shape, y.shape)\n",
        "plt.imshow(x[0].permute(1, 2, 0))\n",
        "plt.title(classes[y[0].item()])\n",
        "plt.show()\n",
        "plt.imshow(x[1].permute(1, 2, 0))\n",
        "plt.title(classes[y[1].item()])\n",
        "plt.show()\n",
        "plt.imshow(x[2].permute(1, 2, 0))\n",
        "plt.title(classes[y[2].item()])\n",
        "plt.show()"
      ],
      "execution_count": null,
      "outputs": [
        {
          "output_type": "stream",
          "text": [
            "Clipping input data to the valid range for imshow with RGB data ([0..1] for floats or [0..255] for integers).\n"
          ],
          "name": "stderr"
        },
        {
          "output_type": "stream",
          "text": [
            "torch.Size([64, 3, 32, 32]) torch.Size([64])\n"
          ],
          "name": "stdout"
        },
        {
          "output_type": "display_data",
          "data": {
            "image/png": "[encoded data removed]",
            "text/plain": [
              "<Figure size 432x288 with 1 Axes>"
            ]
          },
          "metadata": {
            "tags": [],
            "needs_background": "light"
          }
        },
        {
          "output_type": "stream",
          "text": [
            "Clipping input data to the valid range for imshow with RGB data ([0..1] for floats or [0..255] for integers).\n"
          ],
          "name": "stderr"
        },
        {
          "output_type": "display_data",
          "data": {
            "image/png": "[encoded data removed]",
            "text/plain": [
              "<Figure size 432x288 with 1 Axes>"
            ]
          },
          "metadata": {
            "tags": [],
            "needs_background": "light"
          }
        },
        {
          "output_type": "stream",
          "text": [
            "Clipping input data to the valid range for imshow with RGB data ([0..1] for floats or [0..255] for integers).\n"
          ],
          "name": "stderr"
        },
        {
          "output_type": "display_data",
          "data": {
            "image/png": "[encoded data removed]",
            "text/plain": [
              "<Figure size 432x288 with 1 Axes>"
            ]
          },
          "metadata": {
            "tags": [],
            "needs_background": "light"
          }
        }
      ]
    },
    {
      "cell_type": "markdown",
      "metadata": {
        "id": "Q0z4r_OHM4y1"
      },
      "source": [
        "# Train a CNN with depth 1\n",
        "\n",
        "**For backprop training use cross entropy as loss function and Adam optimzation method**"
      ]
    },
    {
      "cell_type": "code",
      "metadata": {
        "colab": {
          "base_uri": "https://localhost:8080/"
        },
        "id": "UhzWmgwVM4y1",
        "outputId": "eff2e14b-19e0-4276-9cc7-62660e64cfea"
      },
      "source": [
        "# Test train batch size\n",
        "next(iter(train_loader))[0].shape"
      ],
      "execution_count": 11,
      "outputs": [
        {
          "output_type": "execute_result",
          "data": {
            "text/plain": [
              "torch.Size([64, 3, 32, 32])"
            ]
          },
          "metadata": {
            "tags": []
          },
          "execution_count": 11
        }
      ]
    },
    {
      "cell_type": "code",
      "metadata": {
        "id": "7qJjNkR3M4y2"
      },
      "source": [
        "# Initialize\n",
        "resnet_model = ResNetLike(depth_n=1)\n",
        "resnet_model.cuda()\n",
        "resnet_optim = optim.Adam(resnet_model.parameters(), lr=1e-3)\n",
        "criterion = nn.CrossEntropyLoss()\n",
        "probs = nn.Softmax(dim=1)\n",
        "\n",
        "# Train\n",
        "batch = next(iter(train_loader))\n",
        "x, y = batch\n",
        "x, y = x.cuda(), y.cuda()\n",
        "output = resnet_model(x)\n",
        "loss = criterion(output, y)\n",
        "loss.backward()\n",
        "resnet_optim.step()"
      ],
      "execution_count": 12,
      "outputs": []
    },
    {
      "cell_type": "markdown",
      "metadata": {
        "id": "9CCOor_JYy1E"
      },
      "source": [
        "**View classification probabilities and apply argmax classification layer**\n"
      ]
    },
    {
      "cell_type": "code",
      "metadata": {
        "colab": {
          "base_uri": "https://localhost:8080/"
        },
        "id": "FvmIULVAM4y2",
        "outputId": "480b396f-18b5-4af5-b70b-6d748f9006e2"
      },
      "source": [
        "# Softmax dim=1 : Values along the first axos will sum up to 1\n",
        "softmax_output = probs(output)\n",
        "print(softmax_output[0])\n",
        "print(sum(softmax_output[0]))"
      ],
      "execution_count": 13,
      "outputs": [
        {
          "output_type": "stream",
          "text": [
            "tensor([0.2183, 0.0922, 0.1434, 0.0702, 0.0527, 0.0624, 0.0454, 0.0521, 0.1968,\n",
            "        0.0665], device='cuda:0', grad_fn=<SelectBackward>)\n",
            "tensor(1.0000, device='cuda:0', grad_fn=<AddBackward0>)\n"
          ],
          "name": "stdout"
        }
      ]
    },
    {
      "cell_type": "code",
      "metadata": {
        "colab": {
          "base_uri": "https://localhost:8080/"
        },
        "id": "PKNLa3EEM4y5",
        "outputId": "95c8a49a-807a-4b44-b3eb-e5e9f8fcf6b1"
      },
      "source": [
        "torch.argmax(softmax_output, dim=1)"
      ],
      "execution_count": 14,
      "outputs": [
        {
          "output_type": "execute_result",
          "data": {
            "text/plain": [
              "tensor([0, 5, 3, 2, 5, 3, 8, 3, 5, 4, 4, 1, 3, 6, 0, 3, 8, 2, 9, 9, 4, 5, 5, 5,\n",
              "        5, 3, 9, 9, 3, 5, 5, 2, 4, 5, 4, 5, 4, 4, 2, 4, 4, 7, 0, 5, 5, 6, 2, 5,\n",
              "        9, 2, 2, 6, 1, 2, 3, 9, 5, 5, 2, 5, 4, 3, 5, 1], device='cuda:0')"
            ]
          },
          "metadata": {
            "tags": []
          },
          "execution_count": 14
        }
      ]
    },
    {
      "cell_type": "markdown",
      "metadata": {
        "id": "D7BDfsPJZOtP"
      },
      "source": [
        "**Evaluate training accuracy**"
      ]
    },
    {
      "cell_type": "code",
      "metadata": {
        "colab": {
          "base_uri": "https://localhost:8080/"
        },
        "id": "kr5uD8PuM4y5",
        "outputId": "135ac09d-32a6-4119-af6e-8e1b88ecc9c3"
      },
      "source": [
        "print(\"One run accuracy:\")\n",
        "print(torch.sum(torch.argmax(softmax_output, dim=1) == y) / len(y))"
      ],
      "execution_count": 15,
      "outputs": [
        {
          "output_type": "stream",
          "text": [
            "One run accuracy:\n",
            "tensor(0.0312, device='cuda:0')\n"
          ],
          "name": "stdout"
        }
      ]
    },
    {
      "cell_type": "markdown",
      "metadata": {
        "id": "W7UXykOaM4y6"
      },
      "source": [
        "# Define training and validation function"
      ]
    },
    {
      "cell_type": "code",
      "metadata": {
        "id": "Zh4Xx_-qM4y6"
      },
      "source": [
        "def train(\n",
        "    model: nn.Module, \n",
        "    optimizer: optim.Optimizer, \n",
        "    data: Union[DataLoader, Tuple[DataLoader]], \n",
        "    max_epochs: int, \n",
        "    cuda=True):\n",
        "  \"\"\"\n",
        "  Train a NN 'model' on 'data' in 'max_epochs' many epochs using 'optimizer' optimization method.\n",
        "  \"\"\"\n",
        "  \n",
        "  use_test = False\n",
        "  if isinstance(data, DataLoader):\n",
        "    train_loader = data\n",
        "  elif isinstance(data, tuple):\n",
        "    if len(data) == 2:\n",
        "      train_loader, test_loader = data\n",
        "      if not isinstance(train_loader, DataLoader):\n",
        "        raise TypeError(f'Expected 1st entry of type DataLoader, but got {type(train_loader)}!')\n",
        "      if not isinstance(test_loader, DataLoader):\n",
        "        raise TypeError(f'Expected 2nd entry of type DataLoader, but got {type(test_loader)}!')\n",
        "      use_test = True\n",
        "    else:\n",
        "      raise ValueError(f'Expected tuple of length 2, but got {len(data)}!')\n",
        "  \n",
        "  criterion = nn.CrossEntropyLoss()\n",
        "  probs = nn.Softmax(dim=1)\n",
        "  model.train()\n",
        "  losses = []\n",
        "  batch_total = len(train_loader)\n",
        "\n",
        "  for epoch in range(max_epochs):\n",
        "    samples_total = 0\n",
        "    samples_correct = 0\n",
        "    for batch_idx, batch in enumerate(train_loader):\n",
        "      x, y = batch\n",
        "      if cuda:\n",
        "        x, y = x.cuda(), y.cuda()\n",
        "      output = model(x)\n",
        "      loss = criterion(output, y)\n",
        "      loss.backward()\n",
        "      optimizer.step()\n",
        "        \n",
        "      softmax_output = probs(output)\n",
        "      \n",
        "      yhat = torch.argmax(softmax_output, dim=1)\n",
        "\n",
        "      samples_total += len(y)\n",
        "      samples_correct += torch.sum(yhat == y)\n",
        "      losses.append(loss.item())\n",
        "\n",
        "\n",
        "      if batch_idx % 50 == 0:\n",
        "        acc = float(samples_correct) / float(samples_total)\n",
        "\n",
        "        if use_test:\n",
        "          model.eval()\n",
        "\n",
        "          test_x, test_y = next(iter(test_loader))\n",
        "          if cuda:\n",
        "            test_x, test_y = test_x.cuda(), test_y.cuda()\n",
        "          test_output = model(test_x)\n",
        "          test_loss = criterion(test_output, test_y)\n",
        "\n",
        "          test_yhat = torch.argmax(test_output, dim=1)\n",
        "          test_acc = float(torch.sum(test_yhat == test_y)) / float(len(test_y))\n",
        "          \n",
        "          model.train()\n",
        "\n",
        "          sys.stdout.write(f'\\rEpoch: {epoch}/{max_epochs} Step: {batch_idx}/{batch_total} Loss: {loss.item():.6f} Acc: {acc:.2%} Test loss: {test_loss:.6f} Test acc: {test_acc:.2%}')\n",
        "        else:\n",
        "          sys.stdout.write(f'\\rEpoch: {epoch}/{max_epochs} Step: {batch_idx}/{batch_total} Loss: {loss.item():.6f} Acc: {acc:.2%}')\n",
        "\n",
        "  return losses"
      ],
      "execution_count": 16,
      "outputs": []
    },
    {
      "cell_type": "code",
      "metadata": {
        "id": "fWX926R5M4y6"
      },
      "source": [
        "def validate(model: nn.Module, data: DataLoader, cuda=True):\n",
        "  \"\"\"\n",
        "  Evaluate performance of trained NN 'model' on 'data'.\n",
        "  \"\"\"\n",
        "  criterion = nn.CrossEntropyLoss()\n",
        "  probs = nn.Softmax(dim=1)\n",
        "  losses = []\n",
        "  correct_samples = 0\n",
        "  total_samples = 0\n",
        "  for x, y in data:\n",
        "      if cuda:\n",
        "        x, y = x.cuda(), y.cuda()\n",
        "      output = model(x)\n",
        "      loss = criterion(output, y)\n",
        "      softmax_output = probs(output)\n",
        "      yhat = torch.argmax(softmax_output, dim=1)\n",
        "      losses.append(loss.item())\n",
        "      correct_samples += torch.sum(yhat == y)\n",
        "      total_samples += len(y)\n",
        "\n",
        "  mean_losses = np.mean(losses)\n",
        "  acc = float(correct_samples) / float(total_samples)\n",
        "  print(f'Validation complete! Validation loss: {mean_losses:.6f}, Validation accuracy: {acc:.2%}')\n",
        "\n",
        "  return mean_losses, acc"
      ],
      "execution_count": 17,
      "outputs": []
    },
    {
      "cell_type": "markdown",
      "metadata": {
        "id": "J6eCZNlhM4y7"
      },
      "source": [
        "## Train a CNN of depth 3."
      ]
    },
    {
      "cell_type": "code",
      "metadata": {
        "scrolled": true,
        "colab": {
          "base_uri": "https://localhost:8080/"
        },
        "id": "XjclH6YZM4y8",
        "outputId": "f0fe9e86-8e07-4ff6-9655-52853e8f7c04"
      },
      "source": [
        "resnet_model = ResNetLike(depth_n=3)\n",
        "summary(resnet_model, input_size=(3, 32, 32), device='cpu')"
      ],
      "execution_count": 18,
      "outputs": [
        {
          "output_type": "stream",
          "text": [
            "----------------------------------------------------------------\n",
            "        Layer (type)               Output Shape         Param #\n",
            "================================================================\n",
            "            Conv2d-1           [-1, 16, 32, 32]             448\n",
            "         LeakyReLU-2           [-1, 16, 32, 32]               0\n",
            "       BatchNorm2d-3           [-1, 16, 32, 32]              32\n",
            "            Conv2d-4           [-1, 16, 32, 32]           2,320\n",
            "         LeakyReLU-5           [-1, 16, 32, 32]               0\n",
            "       BatchNorm2d-6           [-1, 16, 32, 32]              32\n",
            "            Conv2d-7           [-1, 16, 32, 32]           2,320\n",
            "         LeakyReLU-8           [-1, 16, 32, 32]               0\n",
            "       BatchNorm2d-9           [-1, 16, 32, 32]              32\n",
            "           Conv2d-10           [-1, 16, 32, 32]           2,320\n",
            "        LeakyReLU-11           [-1, 16, 32, 32]               0\n",
            "      BatchNorm2d-12           [-1, 16, 32, 32]              32\n",
            "           Conv2d-13           [-1, 16, 32, 32]           2,320\n",
            "        LeakyReLU-14           [-1, 16, 32, 32]               0\n",
            "      BatchNorm2d-15           [-1, 16, 32, 32]              32\n",
            "           Conv2d-16           [-1, 16, 32, 32]           2,320\n",
            "        LeakyReLU-17           [-1, 16, 32, 32]               0\n",
            "      BatchNorm2d-18           [-1, 16, 32, 32]              32\n",
            "           Conv2d-19           [-1, 16, 32, 32]           2,320\n",
            "        LeakyReLU-20           [-1, 16, 32, 32]               0\n",
            "      BatchNorm2d-21           [-1, 16, 32, 32]              32\n",
            "           Conv2d-22           [-1, 16, 32, 32]           2,320\n",
            "        LeakyReLU-23           [-1, 16, 32, 32]               0\n",
            "      BatchNorm2d-24           [-1, 16, 32, 32]              32\n",
            "           Conv2d-25           [-1, 16, 32, 32]           2,320\n",
            "        LeakyReLU-26           [-1, 16, 32, 32]               0\n",
            "      BatchNorm2d-27           [-1, 16, 32, 32]              32\n",
            "           Conv2d-28           [-1, 16, 32, 32]           2,320\n",
            "        LeakyReLU-29           [-1, 16, 32, 32]               0\n",
            "      BatchNorm2d-30           [-1, 16, 32, 32]              32\n",
            "           Conv2d-31           [-1, 16, 32, 32]           2,320\n",
            "        LeakyReLU-32           [-1, 16, 32, 32]               0\n",
            "      BatchNorm2d-33           [-1, 16, 32, 32]              32\n",
            "           Conv2d-34           [-1, 16, 32, 32]           2,320\n",
            "        LeakyReLU-35           [-1, 16, 32, 32]               0\n",
            "      BatchNorm2d-36           [-1, 16, 32, 32]              32\n",
            "           Conv2d-37           [-1, 16, 16, 16]           2,320\n",
            "        LeakyReLU-38           [-1, 16, 16, 16]               0\n",
            "      BatchNorm2d-39           [-1, 16, 16, 16]              32\n",
            "        AvgPool2d-40           [-1, 16, 16, 16]               0\n",
            "        AvgPool2d-41           [-1, 16, 16, 16]               0\n",
            "           Conv2d-42           [-1, 32, 16, 16]             544\n",
            "        LeakyReLU-43           [-1, 32, 16, 16]               0\n",
            "      BatchNorm2d-44           [-1, 32, 16, 16]              64\n",
            "           Conv2d-45           [-1, 32, 16, 16]           9,248\n",
            "        LeakyReLU-46           [-1, 32, 16, 16]               0\n",
            "      BatchNorm2d-47           [-1, 32, 16, 16]              64\n",
            "           Conv2d-48           [-1, 32, 16, 16]           9,248\n",
            "        LeakyReLU-49           [-1, 32, 16, 16]               0\n",
            "      BatchNorm2d-50           [-1, 32, 16, 16]              64\n",
            "           Conv2d-51           [-1, 32, 16, 16]           9,248\n",
            "        LeakyReLU-52           [-1, 32, 16, 16]               0\n",
            "      BatchNorm2d-53           [-1, 32, 16, 16]              64\n",
            "           Conv2d-54           [-1, 32, 16, 16]           9,248\n",
            "        LeakyReLU-55           [-1, 32, 16, 16]               0\n",
            "      BatchNorm2d-56           [-1, 32, 16, 16]              64\n",
            "           Conv2d-57           [-1, 32, 16, 16]           9,248\n",
            "        LeakyReLU-58           [-1, 32, 16, 16]               0\n",
            "      BatchNorm2d-59           [-1, 32, 16, 16]              64\n",
            "           Conv2d-60           [-1, 32, 16, 16]           9,248\n",
            "        LeakyReLU-61           [-1, 32, 16, 16]               0\n",
            "      BatchNorm2d-62           [-1, 32, 16, 16]              64\n",
            "           Conv2d-63           [-1, 32, 16, 16]           9,248\n",
            "        LeakyReLU-64           [-1, 32, 16, 16]               0\n",
            "      BatchNorm2d-65           [-1, 32, 16, 16]              64\n",
            "           Conv2d-66           [-1, 32, 16, 16]           9,248\n",
            "        LeakyReLU-67           [-1, 32, 16, 16]               0\n",
            "      BatchNorm2d-68           [-1, 32, 16, 16]              64\n",
            "           Conv2d-69           [-1, 32, 16, 16]           9,248\n",
            "        LeakyReLU-70           [-1, 32, 16, 16]               0\n",
            "      BatchNorm2d-71           [-1, 32, 16, 16]              64\n",
            "           Conv2d-72           [-1, 32, 16, 16]           9,248\n",
            "        LeakyReLU-73           [-1, 32, 16, 16]               0\n",
            "      BatchNorm2d-74           [-1, 32, 16, 16]              64\n",
            "           Conv2d-75           [-1, 32, 16, 16]           9,248\n",
            "        LeakyReLU-76           [-1, 32, 16, 16]               0\n",
            "      BatchNorm2d-77           [-1, 32, 16, 16]              64\n",
            "           Conv2d-78             [-1, 32, 8, 8]           9,248\n",
            "        LeakyReLU-79             [-1, 32, 8, 8]               0\n",
            "      BatchNorm2d-80             [-1, 32, 8, 8]              64\n",
            "        AvgPool2d-81             [-1, 32, 8, 8]               0\n",
            "        AvgPool2d-82             [-1, 32, 8, 8]               0\n",
            "           Conv2d-83             [-1, 64, 8, 8]           2,112\n",
            "        LeakyReLU-84             [-1, 64, 8, 8]               0\n",
            "      BatchNorm2d-85             [-1, 64, 8, 8]             128\n",
            "           Conv2d-86             [-1, 64, 8, 8]          36,928\n",
            "        LeakyReLU-87             [-1, 64, 8, 8]               0\n",
            "      BatchNorm2d-88             [-1, 64, 8, 8]             128\n",
            "           Conv2d-89             [-1, 64, 8, 8]          36,928\n",
            "        LeakyReLU-90             [-1, 64, 8, 8]               0\n",
            "      BatchNorm2d-91             [-1, 64, 8, 8]             128\n",
            "           Conv2d-92             [-1, 64, 8, 8]          36,928\n",
            "        LeakyReLU-93             [-1, 64, 8, 8]               0\n",
            "      BatchNorm2d-94             [-1, 64, 8, 8]             128\n",
            "           Conv2d-95             [-1, 64, 8, 8]          36,928\n",
            "        LeakyReLU-96             [-1, 64, 8, 8]               0\n",
            "      BatchNorm2d-97             [-1, 64, 8, 8]             128\n",
            "           Conv2d-98             [-1, 64, 8, 8]          36,928\n",
            "        LeakyReLU-99             [-1, 64, 8, 8]               0\n",
            "     BatchNorm2d-100             [-1, 64, 8, 8]             128\n",
            "          Conv2d-101             [-1, 64, 8, 8]          36,928\n",
            "       LeakyReLU-102             [-1, 64, 8, 8]               0\n",
            "     BatchNorm2d-103             [-1, 64, 8, 8]             128\n",
            "          Conv2d-104             [-1, 64, 8, 8]          36,928\n",
            "       LeakyReLU-105             [-1, 64, 8, 8]               0\n",
            "     BatchNorm2d-106             [-1, 64, 8, 8]             128\n",
            "          Conv2d-107             [-1, 64, 8, 8]          36,928\n",
            "       LeakyReLU-108             [-1, 64, 8, 8]               0\n",
            "     BatchNorm2d-109             [-1, 64, 8, 8]             128\n",
            "          Conv2d-110             [-1, 64, 8, 8]          36,928\n",
            "       LeakyReLU-111             [-1, 64, 8, 8]               0\n",
            "     BatchNorm2d-112             [-1, 64, 8, 8]             128\n",
            "          Conv2d-113             [-1, 64, 8, 8]          36,928\n",
            "       LeakyReLU-114             [-1, 64, 8, 8]               0\n",
            "     BatchNorm2d-115             [-1, 64, 8, 8]             128\n",
            "          Conv2d-116             [-1, 64, 8, 8]          36,928\n",
            "       LeakyReLU-117             [-1, 64, 8, 8]               0\n",
            "     BatchNorm2d-118             [-1, 64, 8, 8]             128\n",
            "          Conv2d-119             [-1, 64, 4, 4]          36,928\n",
            "       LeakyReLU-120             [-1, 64, 4, 4]               0\n",
            "     BatchNorm2d-121             [-1, 64, 4, 4]             128\n",
            "       AvgPool2d-122             [-1, 64, 4, 4]               0\n",
            "       AvgPool2d-123             [-1, 64, 4, 4]               0\n",
            "          Conv2d-124            [-1, 128, 4, 4]           8,320\n",
            "       LeakyReLU-125            [-1, 128, 4, 4]               0\n",
            "     BatchNorm2d-126            [-1, 128, 4, 4]             256\n",
            "          Linear-127                   [-1, 10]          20,490\n",
            "================================================================\n",
            "Total params: 617,034\n",
            "Trainable params: 617,034\n",
            "Non-trainable params: 0\n",
            "----------------------------------------------------------------\n",
            "Input size (MB): 0.01\n",
            "Forward/backward pass size (MB): 8.20\n",
            "Params size (MB): 2.35\n",
            "Estimated Total Size (MB): 10.56\n",
            "----------------------------------------------------------------\n"
          ],
          "name": "stdout"
        }
      ]
    },
    {
      "cell_type": "markdown",
      "metadata": {
        "id": "f_Hu1mQPM4zA"
      },
      "source": [
        "## Run the model training for different depths n\n",
        "**We tested network depths from 1 to 5 and empirically found n=3 to yield the best accuracy**"
      ]
    },
    {
      "cell_type": "code",
      "metadata": {
        "colab": {
          "base_uri": "https://localhost:8080/"
        },
        "id": "yliC7lGQM4zA",
        "outputId": "67c918c9-db83-4881-b18e-10c4d902209d"
      },
      "source": [
        "n = 3 #1-5 tested, 3 was the best in test accuracy\n",
        "resnet_model = ResNetLike(depth_n=n)\n",
        "resnet_model = resnet_model.cuda()\n",
        "resnet_optim = optim.Adam(resnet_model.parameters(), lr=1e-5)\n",
        "resnet_losses = train(resnet_model, resnet_optim, (train_loader, test_loader), max_epochs=20)"
      ],
      "execution_count": 19,
      "outputs": [
        {
          "output_type": "stream",
          "text": [
            "Epoch: 19/20 Step: 750/782 Loss: 0.545656 Acc: 82.02% Test loss: 1.000926 Test acc: 75.00%"
          ],
          "name": "stdout"
        }
      ]
    },
    {
      "cell_type": "code",
      "metadata": {
        "id": "LrJmOcfSM4zA",
        "outputId": "c7c8077c-5391-4471-9587-94c8b692b292"
      },
      "source": [
        "plt.plot(resnet_losses)"
      ],
      "execution_count": null,
      "outputs": [
        {
          "output_type": "execute_result",
          "data": {
            "text/plain": [
              "[<matplotlib.lines.Line2D at 0x21cbeb01588>]"
            ]
          },
          "metadata": {
            "tags": []
          },
          "execution_count": 94
        },
        {
          "output_type": "display_data",
          "data": {
            "image/png": "[encoded data removed]",
            "text/plain": [
              "<Figure size 432x288 with 1 Axes>"
            ]
          },
          "metadata": {
            "tags": [],
            "needs_background": "light"
          }
        }
      ]
    },
    {
      "cell_type": "markdown",
      "metadata": {
        "id": "5SjZx_G4M4zB"
      },
      "source": [
        "### Result Training:\n",
        "n=1: Loss: 0.111714 Acc: 96.81% Test loss: 2.012541 Test acc: 73.44% <br>\n",
        "n=2: Loss: 0.349901 Acc: 86.95% Test loss: 1.573093 Test acc: 67.19% <br>\n",
        "n=3: Loss: 0.323404 Acc: 87.81% Test loss: 0.604898 Test acc: 84.38% <br>\n",
        "n=4: Loss: 0.435157 Acc: 83.01% Test loss: 0.828250 Test acc: 73.44% <br>\n",
        "n=5: Loss: 0.495589 Acc: 80.37% Test loss: 0.883892 Test acc: 68.75% <br>"
      ]
    },
    {
      "cell_type": "markdown",
      "metadata": {
        "id": "JuOHxXlEM4zB"
      },
      "source": [
        "## Run the Testing:"
      ]
    },
    {
      "cell_type": "code",
      "metadata": {
        "id": "mc81iFXNM4zB",
        "outputId": "b910ac71-e4f3-4444-cc09-64b7ddf7ab81"
      },
      "source": [
        "validate(resnet_model, test_loader)"
      ],
      "execution_count": null,
      "outputs": [
        {
          "output_type": "stream",
          "text": [
            "Validation complete! Validation loss: 0.887750, Validation accuracy: 71.27%\n"
          ],
          "name": "stdout"
        },
        {
          "output_type": "execute_result",
          "data": {
            "text/plain": [
              "(0.887749841258784, 0.7127)"
            ]
          },
          "metadata": {
            "tags": []
          },
          "execution_count": 95
        }
      ]
    },
    {
      "cell_type": "markdown",
      "metadata": {
        "id": "uezafcPDM4zB"
      },
      "source": [
        "### Result Testing:\n",
        "n=1: Validation loss: 1.777780, Validation accuracy: 72.34% <br>\n",
        "n=2: Validation loss: 0.953017, Validation accuracy: 72.99% <br>\n",
        "n=3: Validation loss: 0.845809, Validation accuracy: 75.41% <br>\n",
        "n=4: Validation loss: 0.854774, Validation accuracy: 73.53% <br>\n",
        "n=5: Validation loss: 0.887750, Validation accuracy: 71.27% <br>\n",
        "\n",
        "n=3 seems like the best option!"
      ]
    },
    {
      "cell_type": "markdown",
      "metadata": {
        "id": "eE0xV8pGM4zB"
      },
      "source": [
        "# Save Checkpoint"
      ]
    },
    {
      "cell_type": "code",
      "metadata": {
        "id": "Oecqi1GWM4zC"
      },
      "source": [
        "checkpoint = {\n",
        "    'model_state_dict': resnet_model.state_dict(),\n",
        "    'optimizer_state_dict': resnet_optim.state_dict(),\n",
        "    'depth_n': resnet_model.depth_n,\n",
        "    'epoch': 10,\n",
        "    'losses': resnet_losses\n",
        "}"
      ],
      "execution_count": null,
      "outputs": []
    },
    {
      "cell_type": "code",
      "metadata": {
        "id": "nPKsGCjYM4zC"
      },
      "source": [
        "filename = 'resnet_model_n3.pth'"
      ],
      "execution_count": null,
      "outputs": []
    },
    {
      "cell_type": "code",
      "metadata": {
        "id": "z9lDeHghM4zC"
      },
      "source": [
        "\n",
        "# checkpoint_path = os.path.join(root_path, 'My Drive', 'MLVideos', filename)\n",
        "\n",
        "with open(filename, 'wb') as f:\n",
        "  pk.dump(checkpoint, f)"
      ],
      "execution_count": null,
      "outputs": []
    },
    {
      "cell_type": "markdown",
      "metadata": {
        "id": "jzVIo4ckM4zC"
      },
      "source": [
        "# Load Checkpoint"
      ]
    },
    {
      "cell_type": "code",
      "metadata": {
        "id": "bf6-lJTiM4zC"
      },
      "source": [
        "with open(filename, 'rb') as f:\n",
        "  checkpoint_ = pk.load(f)"
      ],
      "execution_count": null,
      "outputs": []
    },
    {
      "cell_type": "code",
      "metadata": {
        "id": "PXnLLtBRM4zC",
        "outputId": "8ebe34a1-1080-49ee-bfed-d7298db92e4c"
      },
      "source": [
        "resnet_model = ResNetLike(depth_n=checkpoint_['depth_n'])\n",
        "resnet_model = resnet_model.cuda()\n",
        "resnet_model.load_state_dict(checkpoint_['model_state_dict'])"
      ],
      "execution_count": null,
      "outputs": [
        {
          "output_type": "execute_result",
          "data": {
            "text/plain": [
              "<All keys matched successfully>"
            ]
          },
          "metadata": {
            "tags": []
          },
          "execution_count": 98
        }
      ]
    },
    {
      "cell_type": "code",
      "metadata": {
        "id": "B8fnsAKnM4zD",
        "outputId": "47ee7876-23e2-4cd2-e4c0-92b36fa2fa96"
      },
      "source": [
        "validate(resnet_model, test_loader)"
      ],
      "execution_count": null,
      "outputs": [
        {
          "output_type": "stream",
          "text": [
            "Validation complete! Validation loss: 0.840928, Validation accuracy: 75.69%\n"
          ],
          "name": "stdout"
        },
        {
          "output_type": "execute_result",
          "data": {
            "text/plain": [
              "(0.8409276942538607, 0.7569)"
            ]
          },
          "metadata": {
            "tags": []
          },
          "execution_count": 99
        }
      ]
    },
    {
      "cell_type": "code",
      "metadata": {
        "id": "QBOAXF0oM4zD",
        "outputId": "c435ba48-7f15-42d8-9405-0a0c59b6d251"
      },
      "source": [
        "plt.plot(checkpoint_['losses'])\n",
        "plt.title(\"Checkpoint Losses n={}\".format(checkpoint_['depth_n']))\n",
        "plt.show()"
      ],
      "execution_count": null,
      "outputs": [
        {
          "output_type": "display_data",
          "data": {
            "image/png": "[encoded data removed]",
            "text/plain": [
              "<Figure size 432x288 with 1 Axes>"
            ]
          },
          "metadata": {
            "tags": [],
            "needs_background": "light"
          }
        }
      ]
    },
    {
      "cell_type": "markdown",
      "metadata": {
        "id": "PTRIX4CpM4zD"
      },
      "source": [
        "# (a) Plot the filters of the first layer. What kind of features do they extract?\n"
      ]
    },
    {
      "cell_type": "code",
      "metadata": {
        "id": "PY59ok72M4zD",
        "outputId": "23a51085-35ff-499f-e417-be46d14e7b62"
      },
      "source": [
        "next(resnet_model.parameters()).data[0]"
      ],
      "execution_count": null,
      "outputs": [
        {
          "output_type": "execute_result",
          "data": {
            "text/plain": [
              "tensor([[[-0.1575, -0.1100, -0.1774],\n",
              "         [-0.1864,  0.0866, -0.1866],\n",
              "         [-0.2408, -0.0061, -0.1600]],\n",
              "\n",
              "        [[ 0.0588,  0.2078, -0.1063],\n",
              "         [ 0.0838,  0.1051,  0.0878],\n",
              "         [-0.1042,  0.1797, -0.2434]],\n",
              "\n",
              "        [[ 0.2823,  0.2907, -0.0433],\n",
              "         [ 0.3508,  0.2243,  0.1754],\n",
              "         [ 0.0619, -0.0339, -0.1188]]], device='cuda:0')"
            ]
          },
          "metadata": {
            "tags": []
          },
          "execution_count": 100
        }
      ]
    },
    {
      "cell_type": "code",
      "metadata": {
        "id": "YatYhX4IM4zE",
        "outputId": "77f1df6e-c264-4a4d-9f03-1e0cf1c9d3a3"
      },
      "source": [
        "fig = plt.figure(figsize=(8, 8))\n",
        "columns = 4\n",
        "rows = 4\n",
        "for i, img in enumerate(next(resnet_model.parameters()).data):\n",
        "    img = img.permute(1, 2, 0).cpu().numpy()\n",
        "    fig.add_subplot(rows, columns, i+1)\n",
        "    plt.imshow((img * 255).astype(np.uint8))\n",
        "plt.show()"
      ],
      "execution_count": null,
      "outputs": [
        {
          "output_type": "display_data",
          "data": {
            "image/png": "[encoded data removed]",
            "text/plain": [
              "<Figure size 576x576 with 16 Axes>"
            ]
          },
          "metadata": {
            "tags": [],
            "needs_background": "light"
          }
        }
      ]
    },
    {
      "cell_type": "markdown",
      "metadata": {
        "id": "M7zu0slmi11M"
      },
      "source": [
        "**Result**:\n",
        "\n",
        "The first layer doesn't seem to extract any specific shapes but rather color patterns."
      ]
    },
    {
      "cell_type": "markdown",
      "metadata": {
        "id": "rPGmP3FmM4zE"
      },
      "source": [
        "# (b) For every two convolutions with skip connection calculate the MSE of the input of those layer xin and the output xout: MSE(xin, xout). Does your network have layers that were learned to be the identity? (Optionally: Check if this happens during training)\n"
      ]
    },
    {
      "cell_type": "code",
      "metadata": {
        "id": "KmHUTJmxM4zE",
        "outputId": "d8b1735f-8d6e-4389-bbea-131fe0974d6e"
      },
      "source": [
        "resnet_model.MSE_losses"
      ],
      "execution_count": null,
      "outputs": [
        {
          "output_type": "execute_result",
          "data": {
            "text/plain": [
              "[(0, 0, tensor(0.9380, device='cuda:0', grad_fn=<MseLossBackward>)),\n",
              " (0, 1, tensor(1.0739, device='cuda:0', grad_fn=<MseLossBackward>)),\n",
              " (0, 2, tensor(0.9321, device='cuda:0', grad_fn=<MseLossBackward>)),\n",
              " (0, 3, tensor(0.9710, device='cuda:0', grad_fn=<MseLossBackward>)),\n",
              " (0, 4, tensor(0.8867, device='cuda:0', grad_fn=<MseLossBackward>)),\n",
              " (0, 3, tensor(0.7907, device='cuda:0', grad_fn=<MseLossBackward>)),\n",
              " (1, 0, tensor(1.0499, device='cuda:0', grad_fn=<MseLossBackward>)),\n",
              " (1, 1, tensor(0.9085, device='cuda:0', grad_fn=<MseLossBackward>)),\n",
              " (1, 2, tensor(0.8428, device='cuda:0', grad_fn=<MseLossBackward>)),\n",
              " (1, 3, tensor(0.8340, device='cuda:0', grad_fn=<MseLossBackward>)),\n",
              " (1, 4, tensor(0.7912, device='cuda:0', grad_fn=<MseLossBackward>)),\n",
              " (1, 3, tensor(0.7344, device='cuda:0', grad_fn=<MseLossBackward>)),\n",
              " (2, 0, tensor(1.0355, device='cuda:0', grad_fn=<MseLossBackward>)),\n",
              " (2, 1, tensor(1.0071, device='cuda:0', grad_fn=<MseLossBackward>)),\n",
              " (2, 2, tensor(0.8953, device='cuda:0', grad_fn=<MseLossBackward>)),\n",
              " (2, 3, tensor(0.8390, device='cuda:0', grad_fn=<MseLossBackward>)),\n",
              " (2, 4, tensor(0.7890, device='cuda:0', grad_fn=<MseLossBackward>)),\n",
              " (2, 3, tensor(0.8305, device='cuda:0', grad_fn=<MseLossBackward>))]"
            ]
          },
          "metadata": {
            "tags": []
          },
          "execution_count": 106
        }
      ]
    },
    {
      "cell_type": "markdown",
      "metadata": {
        "id": "Vyr8J3FfM4zE"
      },
      "source": [
        "**Result:**\n",
        "\n",
        "\n",
        "None of the MSE errors were 0, so none of the tensors before and after a skip connection layers were applied seem to be mapping to the identical values as before the layers."
      ]
    },
    {
      "cell_type": "markdown",
      "metadata": {
        "id": "UDbnQDZTM4zE"
      },
      "source": [
        "# (c) Is deeper always better? Provide some evidence for your answer and explain why that is the case"
      ]
    },
    {
      "cell_type": "markdown",
      "metadata": {
        "id": "1hrbCiM6M4zF"
      },
      "source": [
        "### Taking our results from training/testing again:\n",
        "Train: <br>\n",
        "n=1: Loss: 0.111714 Acc: 96.81% Test loss: 2.012541 Test acc: 73.44% <br>\n",
        "n=2: Loss: 0.349901 Acc: 86.95% Test loss: 1.573093 Test acc: 67.19% <br>\n",
        "n=3: Loss: 0.323404 Acc: 87.81% Test loss: 0.604898 Test acc: 84.38% <br>\n",
        "n=4: Loss: 0.435157 Acc: 83.01% Test loss: 0.828250 Test acc: 73.44% <br>\n",
        "n=5: Loss: 0.495589 Acc: 80.37% Test loss: 0.883892 Test acc: 68.75% <br><br>\n",
        "Test: <br>\n",
        "n=1: Validation loss: 1.777780, Validation accuracy: 72.34% <br>\n",
        "n=2: Validation loss: 0.953017, Validation accuracy: 72.99% <br>\n",
        "n=3: Validation loss: 0.845809, Validation accuracy: 75.41% <br>\n",
        "n=4: Validation loss: 0.854774, Validation accuracy: 73.53% <br>\n",
        "n=5: Validation loss: 0.887750, Validation accuracy: 71.27% <br>\n",
        "\n",
        "### Going deeper does not always mean getting a better prediction:\n",
        "Low n fit the best to the training set, high n fitted worse to the training. <br>\n",
        "But the testing accuracy looked more like a normal distribution around n=3 and got worse again for higher n"
      ]
    },
    {
      "cell_type": "code",
      "metadata": {
        "id": "QRpV7kH8jTLU"
      },
      "source": [
        ""
      ],
      "execution_count": null,
      "outputs": []
    }
  ]
}