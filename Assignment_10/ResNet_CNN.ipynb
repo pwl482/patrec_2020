{
 "cells": [
  {
   "cell_type": "code",
   "execution_count": 81,
   "metadata": {},
   "outputs": [],
   "source": [
    "import sys\n",
    "from collections import OrderedDict\n",
    "import numpy as np\n",
    "import torch\n",
    "import torch.nn as nn\n",
    "import torch.nn.functional as F\n",
    "import torch.optim as optim\n",
    "from torch.nn import Parameter\n",
    "from torch.autograd import grad\n",
    "from torch.utils.data import Dataset, DataLoader\n",
    "from typing import Union, Tuple\n",
    "\n",
    "import pickle as pk\n",
    "\n",
    "from torchsummary import summary\n",
    "import torchvision\n",
    "import torchvision.transforms as transforms\n",
    "import torchvision.datasets as datasets\n",
    "\n",
    "import matplotlib.pyplot as plt"
   ]
  },
  {
   "cell_type": "code",
   "execution_count": 3,
   "metadata": {},
   "outputs": [
    {
     "data": {
      "text/plain": [
       "True"
      ]
     },
     "execution_count": 3,
     "metadata": {},
     "output_type": "execute_result"
    }
   ],
   "source": [
    "torch.cuda.is_available()"
   ]
  },
  {
   "cell_type": "markdown",
   "metadata": {},
   "source": [
    "# Network"
   ]
  },
  {
   "cell_type": "code",
   "execution_count": 64,
   "metadata": {},
   "outputs": [],
   "source": [
    "class ResNetLike(nn.Module):\n",
    "  def __init__(self, depth_n):\n",
    "    super(ResNetLike, self).__init__()\n",
    "    self.start = nn.Sequential(OrderedDict([('conv0', nn.Conv2d(in_channels=3, out_channels=16, kernel_size=3, stride=1, padding=1)),\n",
    "                ('relu0', nn.LeakyReLU()),\n",
    "                ('bn0', nn.BatchNorm2d(16))]))\n",
    "    self.i_list = [0, 1, 2]\n",
    "    self.depth_n = depth_n\n",
    "    self.block1_list = nn.ModuleList([])\n",
    "    self.block2_list = nn.ModuleList([])\n",
    "    self.identity_scale_list = nn.ModuleList([])\n",
    "    for i in self.i_list:\n",
    "        for n in range(2 * self.depth_n - 1):\n",
    "            i_channels = 16 * (2 ** i)\n",
    "            b1 = [nn.Conv2d(in_channels=i_channels, out_channels=i_channels, kernel_size=3, stride=1, padding=1),\n",
    "                  nn.LeakyReLU(),\n",
    "                  nn.BatchNorm2d(i_channels),\n",
    "                  nn.Conv2d(in_channels=i_channels, out_channels=i_channels, kernel_size=3, stride=1, padding=1),\n",
    "                  nn.LeakyReLU(),\n",
    "                  nn.BatchNorm2d(i_channels)]\n",
    "            self.block1_list.append(nn.Sequential(*b1))\n",
    "        if i != self.i_list[-1]:\n",
    "            i_channels = 16 * (2 ** i)\n",
    "            last_channels = 16 * (2 ** (i+1))\n",
    "            b2 = [nn.Conv2d(in_channels=i_channels, out_channels=i_channels, kernel_size=3, stride=1, padding=1),\n",
    "                  nn.LeakyReLU(),\n",
    "                  nn.BatchNorm2d(i_channels),\n",
    "                  nn.Conv2d(in_channels=i_channels, out_channels=last_channels, kernel_size=3, stride=2, padding=1),\n",
    "                  nn.LeakyReLU(),\n",
    "                  nn.BatchNorm2d(last_channels)]\n",
    "            self.block2_list.append(nn.Sequential(*b2))\n",
    "            self.identity_scale_list.append(nn.Conv2d(in_channels=i_channels, out_channels=last_channels, kernel_size=3, stride=2, padding=1))\n",
    "        else:\n",
    "            i_channels = 16 * (2 ** i)\n",
    "            b2 = [nn.Conv2d(in_channels=i_channels, out_channels=i_channels, kernel_size=3, stride=1, padding=1),\n",
    "                  nn.LeakyReLU(),\n",
    "                  nn.BatchNorm2d(i_channels),\n",
    "                  nn.Conv2d(in_channels=i_channels, out_channels=i_channels, kernel_size=3, stride=1, padding=1),\n",
    "                  nn.LeakyReLU(),\n",
    "                  nn.BatchNorm2d(last_channels)]\n",
    "            self.block2_list.append(nn.Sequential(*b2))\n",
    "#     self.end = nn.Sequential(*[nn.Linear(16 * (2 ** 2) * 8 * 8, 10), nn.Softmax(dim=1)])\n",
    "    self.end = nn.Linear(16 * (2 ** 2) * 8 * 8, 10)\n",
    "                                           \n",
    "\n",
    "  def forward(self, x):\n",
    "    y = self.start(x)\n",
    "    block1_counter = 0\n",
    "    for i in self.i_list:\n",
    "        for n in range(2 * self.depth_n - 1):\n",
    "            identity = y\n",
    "            y = self.block1_list[block1_counter](y)\n",
    "            y += identity\n",
    "            block1_counter += 1\n",
    "        if i != self.i_list[-1]:\n",
    "            identity = y\n",
    "            y = self.block2_list[i](y)\n",
    "            y += self.identity_scale_list[i](identity)\n",
    "        else:\n",
    "            identity = y\n",
    "            y = self.block2_list[i](y)\n",
    "            y += identity\n",
    "    return self.end(y.reshape([y.shape[0],-1]))\n",
    "    "
   ]
  },
  {
   "cell_type": "markdown",
   "metadata": {},
   "source": [
    "# Dataset"
   ]
  },
  {
   "cell_type": "code",
   "execution_count": 11,
   "metadata": {},
   "outputs": [
    {
     "name": "stdout",
     "output_type": "stream",
     "text": [
      "Files already downloaded and verified\n"
     ]
    }
   ],
   "source": [
    "train_data = datasets.CIFAR10('./data', train=True, download=True, transform=transforms.ToTensor())"
   ]
  },
  {
   "cell_type": "code",
   "execution_count": 12,
   "metadata": {},
   "outputs": [],
   "source": [
    "train_loader = DataLoader(train_data, batch_size=len(train_data))\n",
    "batch = next(iter(train_loader))\n",
    "x, y = batch\n",
    "mean, std = torch.mean(x), torch.std(x)"
   ]
  },
  {
   "cell_type": "code",
   "execution_count": 13,
   "metadata": {},
   "outputs": [
    {
     "name": "stdout",
     "output_type": "stream",
     "text": [
      "Files already downloaded and verified\n",
      "Files already downloaded and verified\n"
     ]
    }
   ],
   "source": [
    "transform = transforms.Compose([\n",
    "                                 transforms.ToTensor(),\n",
    "                                 transforms.Normalize((mean,), (std,))\n",
    "])\n",
    "\n",
    "batch_size = 32\n",
    "trainset = torchvision.datasets.CIFAR10(root='./data', train=True, download=True, transform=transform)\n",
    "train_loader = torch.utils.data.DataLoader(trainset, batch_size=batch_size, shuffle=True)\n",
    "\n",
    "testset = torchvision.datasets.CIFAR10(root='./data', train=False, download=True, transform=transform)\n",
    "test_loader = torch.utils.data.DataLoader(testset, batch_size=batch_size, shuffle=True)\n",
    "\n",
    "classes = ('plane', 'car', 'bird', 'cat',\n",
    "           'deer', 'dog', 'frog', 'horse', 'ship', 'truck')"
   ]
  },
  {
   "cell_type": "code",
   "execution_count": 14,
   "metadata": {},
   "outputs": [
    {
     "name": "stderr",
     "output_type": "stream",
     "text": [
      "Clipping input data to the valid range for imshow with RGB data ([0..1] for floats or [0..255] for integers).\n"
     ]
    },
    {
     "name": "stdout",
     "output_type": "stream",
     "text": [
      "torch.Size([32, 3, 32, 32]) torch.Size([32])\n"
     ]
    },
    {
     "data": {
      "image/png": "[encoded data removed]",
      "text/plain": [
       "<Figure size 432x288 with 1 Axes>"
      ]
     },
     "metadata": {
      "needs_background": "light"
     },
     "output_type": "display_data"
    }
   ],
   "source": [
    "x, y = next(iter(train_loader))\n",
    "print(x.shape, y.shape)\n",
    "plt.imshow(x[0].permute(1, 2, 0))\n",
    "plt.title(classes[y[0].item()])\n",
    "plt.show()"
   ]
  },
  {
   "cell_type": "markdown",
   "metadata": {},
   "source": [
    "# Train one iteration"
   ]
  },
  {
   "cell_type": "code",
   "execution_count": 42,
   "metadata": {},
   "outputs": [
    {
     "data": {
      "text/plain": [
       "torch.Size([32, 3, 32, 32])"
      ]
     },
     "execution_count": 42,
     "metadata": {},
     "output_type": "execute_result"
    }
   ],
   "source": [
    "#test train batch size\n",
    "next(iter(train_loader))[0].shape"
   ]
  },
  {
   "cell_type": "code",
   "execution_count": 65,
   "metadata": {},
   "outputs": [],
   "source": [
    "resnet_model = ResNetLike(depth_n=1)\n",
    "resnet_model.cuda()\n",
    "resnet_optim = optim.Adam(resnet_model.parameters(), lr=1e-3)\n",
    "criterion = nn.CrossEntropyLoss()\n",
    "probs = nn.Softmax(dim=1)\n",
    "\n",
    "batch = next(iter(train_loader))\n",
    "x, y = batch\n",
    "x, y = x.cuda(), y.cuda()\n",
    "output = resnet_model(x)\n",
    "loss = criterion(output, y)\n",
    "loss.backward()\n",
    "resnet_optim.step()"
   ]
  },
  {
   "cell_type": "code",
   "execution_count": 68,
   "metadata": {},
   "outputs": [
    {
     "name": "stdout",
     "output_type": "stream",
     "text": [
      "tensor([0.0884, 0.5344, 0.0610, 0.0468, 0.0352, 0.0242, 0.0449, 0.1046, 0.0418,\n",
      "        0.0188], device='cuda:0', grad_fn=<SelectBackward>)\n",
      "tensor(1., device='cuda:0', grad_fn=<AddBackward0>)\n"
     ]
    }
   ],
   "source": [
    "#sums to 1 due to softmax\n",
    "softmax_output = probs(output)\n",
    "print(softmax_output[0])\n",
    "print(sum(softmax_output[0]))"
   ]
  },
  {
   "cell_type": "code",
   "execution_count": 69,
   "metadata": {},
   "outputs": [
    {
     "data": {
      "text/plain": [
       "tensor([1, 5, 4, 0, 0, 8, 8, 8, 3, 0, 4, 1, 2, 0, 0, 1, 0, 7, 3, 5, 0, 0, 0, 6,\n",
       "        1, 0, 0, 8, 5, 6, 1, 2], device='cuda:0')"
      ]
     },
     "execution_count": 69,
     "metadata": {},
     "output_type": "execute_result"
    }
   ],
   "source": [
    "torch.argmax(softmax_output, dim=1)"
   ]
  },
  {
   "cell_type": "code",
   "execution_count": 70,
   "metadata": {},
   "outputs": [
    {
     "data": {
      "text/plain": [
       "tensor(0.0938, device='cuda:0')"
      ]
     },
     "execution_count": 70,
     "metadata": {},
     "output_type": "execute_result"
    }
   ],
   "source": [
    "torch.sum(torch.argmax(softmax_output, dim=1) == y) / len(y)"
   ]
  },
  {
   "cell_type": "markdown",
   "metadata": {},
   "source": [
    "# Train"
   ]
  },
  {
   "cell_type": "code",
   "execution_count": 71,
   "metadata": {},
   "outputs": [],
   "source": [
    "def train(\n",
    "    model: nn.Module, \n",
    "    optimizer: optim.Optimizer, \n",
    "    data: Union[DataLoader, Tuple[DataLoader]], \n",
    "    max_epochs: int, \n",
    "    cuda=True):\n",
    "  \n",
    "  use_test = False\n",
    "  if isinstance(data, DataLoader):\n",
    "    train_loader = data\n",
    "  elif isinstance(data, tuple):\n",
    "    if len(data) == 2:\n",
    "      train_loader, test_loader = data\n",
    "      if not isinstance(train_loader, DataLoader):\n",
    "        raise TypeError(f'Expected 1st entry of type DataLoader, but got {type(train_loader)}!')\n",
    "      if not isinstance(test_loader, DataLoader):\n",
    "        raise TypeError(f'Expected 2nd entry of type DataLoader, but got {type(test_loader)}!')\n",
    "      use_test = True\n",
    "    else:\n",
    "      raise ValueError(f'Expected tuple of length 2, but got {len(data)}!')\n",
    "  \n",
    "  \n",
    "  criterion = nn.CrossEntropyLoss()\n",
    "  probs = nn.Softmax(dim=1)\n",
    "  model.train()\n",
    "  losses = []\n",
    "  batch_total = len(train_loader)\n",
    "\n",
    "  for epoch in range(max_epochs):\n",
    "    samples_total = 0\n",
    "    samples_correct = 0\n",
    "    for batch_idx, batch in enumerate(train_loader):\n",
    "      x, y = batch\n",
    "      if cuda:\n",
    "        x, y = x.cuda(), y.cuda()\n",
    "      output = model(x)\n",
    "      loss = criterion(output, y)\n",
    "      loss.backward()\n",
    "      optimizer.step()\n",
    "        \n",
    "      softmax_output = probs(output)\n",
    "      \n",
    "      yhat = torch.argmax(softmax_output, dim=1)\n",
    "\n",
    "      samples_total += len(y)\n",
    "      samples_correct += torch.sum(yhat == y)\n",
    "      losses.append(loss.item())\n",
    "\n",
    "\n",
    "      if batch_idx % 50 == 0:\n",
    "        acc = float(samples_correct) / float(samples_total)\n",
    "\n",
    "        if use_test:\n",
    "          model.eval()\n",
    "\n",
    "          test_x, test_y = next(iter(test_loader))\n",
    "          if cuda:\n",
    "            test_x, test_y = test_x.cuda(), test_y.cuda()\n",
    "          test_output = model(test_x)\n",
    "          test_loss = criterion(test_output, test_y)\n",
    "\n",
    "          test_yhat = torch.argmax(test_output, dim=1)\n",
    "          test_acc = float(torch.sum(test_yhat == test_y)) / float(len(test_y))\n",
    "          \n",
    "          model.train()\n",
    "\n",
    "          sys.stdout.write(f'\\rEpoch: {epoch}/{max_epochs} Step: {batch_idx}/{batch_total} Loss: {loss.item():.6f} Acc: {acc:.2%} Test loss: {test_loss:.6f} Test acc: {test_acc:.2%}')\n",
    "        else:\n",
    "          sys.stdout.write(f'\\rEpoch: {epoch}/{max_epochs} Step: {batch_idx}/{batch_total} Loss: {loss.item():.6f} Acc: {acc:.2%}')\n",
    "\n",
    "  return losses"
   ]
  },
  {
   "cell_type": "code",
   "execution_count": 86,
   "metadata": {},
   "outputs": [],
   "source": [
    "def validate(model: nn.Module, data: DataLoader, cuda=True):\n",
    "  criterion = nn.CrossEntropyLoss()\n",
    "  probs = nn.Softmax(dim=1)\n",
    "  losses = []\n",
    "  correct_samples = 0\n",
    "  total_samples = 0\n",
    "  for x, y in data:\n",
    "      if cuda:\n",
    "        x, y = x.cuda(), y.cuda()\n",
    "      output = model(x)\n",
    "      loss = criterion(output, y)\n",
    "      softmax_output = probs(output)\n",
    "      yhat = torch.argmax(softmax_output, dim=1)\n",
    "      losses.append(loss.item())\n",
    "      correct_samples += torch.sum(yhat == y)\n",
    "      total_samples += len(y)\n",
    "\n",
    "  mean_losses = np.mean(losses)\n",
    "  acc = float(correct_samples) / float(total_samples)\n",
    "  print(f'Validation complete! Validation loss: {mean_losses:.6f}, Validation accuracy: {acc:.2%}')\n",
    "\n",
    "  return mean_losses, acc"
   ]
  },
  {
   "cell_type": "markdown",
   "metadata": {},
   "source": [
    "## Define the model and run the training"
   ]
  },
  {
   "cell_type": "code",
   "execution_count": 76,
   "metadata": {},
   "outputs": [
    {
     "name": "stdout",
     "output_type": "stream",
     "text": [
      "----------------------------------------------------------------\n",
      "        Layer (type)               Output Shape         Param #\n",
      "================================================================\n",
      "            Conv2d-1           [-1, 16, 32, 32]             448\n",
      "         LeakyReLU-2           [-1, 16, 32, 32]               0\n",
      "       BatchNorm2d-3           [-1, 16, 32, 32]              32\n",
      "            Conv2d-4           [-1, 16, 32, 32]           2,320\n",
      "         LeakyReLU-5           [-1, 16, 32, 32]               0\n",
      "       BatchNorm2d-6           [-1, 16, 32, 32]              32\n",
      "            Conv2d-7           [-1, 16, 32, 32]           2,320\n",
      "         LeakyReLU-8           [-1, 16, 32, 32]               0\n",
      "       BatchNorm2d-9           [-1, 16, 32, 32]              32\n",
      "           Conv2d-10           [-1, 16, 32, 32]           2,320\n",
      "        LeakyReLU-11           [-1, 16, 32, 32]               0\n",
      "      BatchNorm2d-12           [-1, 16, 32, 32]              32\n",
      "           Conv2d-13           [-1, 16, 32, 32]           2,320\n",
      "        LeakyReLU-14           [-1, 16, 32, 32]               0\n",
      "      BatchNorm2d-15           [-1, 16, 32, 32]              32\n",
      "           Conv2d-16           [-1, 16, 32, 32]           2,320\n",
      "        LeakyReLU-17           [-1, 16, 32, 32]               0\n",
      "      BatchNorm2d-18           [-1, 16, 32, 32]              32\n",
      "           Conv2d-19           [-1, 16, 32, 32]           2,320\n",
      "        LeakyReLU-20           [-1, 16, 32, 32]               0\n",
      "      BatchNorm2d-21           [-1, 16, 32, 32]              32\n",
      "           Conv2d-22           [-1, 16, 32, 32]           2,320\n",
      "        LeakyReLU-23           [-1, 16, 32, 32]               0\n",
      "      BatchNorm2d-24           [-1, 16, 32, 32]              32\n",
      "           Conv2d-25           [-1, 16, 32, 32]           2,320\n",
      "        LeakyReLU-26           [-1, 16, 32, 32]               0\n",
      "      BatchNorm2d-27           [-1, 16, 32, 32]              32\n",
      "           Conv2d-28           [-1, 16, 32, 32]           2,320\n",
      "        LeakyReLU-29           [-1, 16, 32, 32]               0\n",
      "      BatchNorm2d-30           [-1, 16, 32, 32]              32\n",
      "           Conv2d-31           [-1, 16, 32, 32]           2,320\n",
      "        LeakyReLU-32           [-1, 16, 32, 32]               0\n",
      "      BatchNorm2d-33           [-1, 16, 32, 32]              32\n",
      "           Conv2d-34           [-1, 16, 32, 32]           2,320\n",
      "        LeakyReLU-35           [-1, 16, 32, 32]               0\n",
      "      BatchNorm2d-36           [-1, 16, 32, 32]              32\n",
      "           Conv2d-37           [-1, 32, 16, 16]           4,640\n",
      "        LeakyReLU-38           [-1, 32, 16, 16]               0\n",
      "      BatchNorm2d-39           [-1, 32, 16, 16]              64\n",
      "           Conv2d-40           [-1, 32, 16, 16]           4,640\n",
      "           Conv2d-41           [-1, 32, 16, 16]           9,248\n",
      "        LeakyReLU-42           [-1, 32, 16, 16]               0\n",
      "      BatchNorm2d-43           [-1, 32, 16, 16]              64\n",
      "           Conv2d-44           [-1, 32, 16, 16]           9,248\n",
      "        LeakyReLU-45           [-1, 32, 16, 16]               0\n",
      "      BatchNorm2d-46           [-1, 32, 16, 16]              64\n",
      "           Conv2d-47           [-1, 32, 16, 16]           9,248\n",
      "        LeakyReLU-48           [-1, 32, 16, 16]               0\n",
      "      BatchNorm2d-49           [-1, 32, 16, 16]              64\n",
      "           Conv2d-50           [-1, 32, 16, 16]           9,248\n",
      "        LeakyReLU-51           [-1, 32, 16, 16]               0\n",
      "      BatchNorm2d-52           [-1, 32, 16, 16]              64\n",
      "           Conv2d-53           [-1, 32, 16, 16]           9,248\n",
      "        LeakyReLU-54           [-1, 32, 16, 16]               0\n",
      "      BatchNorm2d-55           [-1, 32, 16, 16]              64\n",
      "           Conv2d-56           [-1, 32, 16, 16]           9,248\n",
      "        LeakyReLU-57           [-1, 32, 16, 16]               0\n",
      "      BatchNorm2d-58           [-1, 32, 16, 16]              64\n",
      "           Conv2d-59           [-1, 32, 16, 16]           9,248\n",
      "        LeakyReLU-60           [-1, 32, 16, 16]               0\n",
      "      BatchNorm2d-61           [-1, 32, 16, 16]              64\n",
      "           Conv2d-62           [-1, 32, 16, 16]           9,248\n",
      "        LeakyReLU-63           [-1, 32, 16, 16]               0\n",
      "      BatchNorm2d-64           [-1, 32, 16, 16]              64\n",
      "           Conv2d-65           [-1, 32, 16, 16]           9,248\n",
      "        LeakyReLU-66           [-1, 32, 16, 16]               0\n",
      "      BatchNorm2d-67           [-1, 32, 16, 16]              64\n",
      "           Conv2d-68           [-1, 32, 16, 16]           9,248\n",
      "        LeakyReLU-69           [-1, 32, 16, 16]               0\n",
      "      BatchNorm2d-70           [-1, 32, 16, 16]              64\n",
      "           Conv2d-71           [-1, 32, 16, 16]           9,248\n",
      "        LeakyReLU-72           [-1, 32, 16, 16]               0\n",
      "      BatchNorm2d-73           [-1, 32, 16, 16]              64\n",
      "           Conv2d-74             [-1, 64, 8, 8]          18,496\n",
      "        LeakyReLU-75             [-1, 64, 8, 8]               0\n",
      "      BatchNorm2d-76             [-1, 64, 8, 8]             128\n",
      "           Conv2d-77             [-1, 64, 8, 8]          18,496\n",
      "           Conv2d-78             [-1, 64, 8, 8]          36,928\n",
      "        LeakyReLU-79             [-1, 64, 8, 8]               0\n",
      "      BatchNorm2d-80             [-1, 64, 8, 8]             128\n",
      "           Conv2d-81             [-1, 64, 8, 8]          36,928\n",
      "        LeakyReLU-82             [-1, 64, 8, 8]               0\n",
      "      BatchNorm2d-83             [-1, 64, 8, 8]             128\n",
      "           Conv2d-84             [-1, 64, 8, 8]          36,928\n",
      "        LeakyReLU-85             [-1, 64, 8, 8]               0\n",
      "      BatchNorm2d-86             [-1, 64, 8, 8]             128\n",
      "           Conv2d-87             [-1, 64, 8, 8]          36,928\n",
      "        LeakyReLU-88             [-1, 64, 8, 8]               0\n",
      "      BatchNorm2d-89             [-1, 64, 8, 8]             128\n",
      "           Conv2d-90             [-1, 64, 8, 8]          36,928\n",
      "        LeakyReLU-91             [-1, 64, 8, 8]               0\n",
      "      BatchNorm2d-92             [-1, 64, 8, 8]             128\n",
      "           Conv2d-93             [-1, 64, 8, 8]          36,928\n",
      "        LeakyReLU-94             [-1, 64, 8, 8]               0\n",
      "      BatchNorm2d-95             [-1, 64, 8, 8]             128\n",
      "           Conv2d-96             [-1, 64, 8, 8]          36,928\n",
      "        LeakyReLU-97             [-1, 64, 8, 8]               0\n",
      "      BatchNorm2d-98             [-1, 64, 8, 8]             128\n",
      "           Conv2d-99             [-1, 64, 8, 8]          36,928\n",
      "       LeakyReLU-100             [-1, 64, 8, 8]               0\n",
      "     BatchNorm2d-101             [-1, 64, 8, 8]             128\n",
      "          Conv2d-102             [-1, 64, 8, 8]          36,928\n",
      "       LeakyReLU-103             [-1, 64, 8, 8]               0\n",
      "     BatchNorm2d-104             [-1, 64, 8, 8]             128\n",
      "          Conv2d-105             [-1, 64, 8, 8]          36,928\n",
      "       LeakyReLU-106             [-1, 64, 8, 8]               0\n",
      "     BatchNorm2d-107             [-1, 64, 8, 8]             128\n",
      "          Conv2d-108             [-1, 64, 8, 8]          36,928\n",
      "       LeakyReLU-109             [-1, 64, 8, 8]               0\n",
      "     BatchNorm2d-110             [-1, 64, 8, 8]             128\n",
      "          Conv2d-111             [-1, 64, 8, 8]          36,928\n",
      "       LeakyReLU-112             [-1, 64, 8, 8]               0\n",
      "     BatchNorm2d-113             [-1, 64, 8, 8]             128\n",
      "          Linear-114                   [-1, 10]          40,970\n",
      "================================================================\n",
      "Total params: 660,890\n",
      "Trainable params: 660,890\n",
      "Non-trainable params: 0\n",
      "----------------------------------------------------------------\n",
      "Input size (MB): 0.01\n",
      "Forward/backward pass size (MB): 8.06\n",
      "Params size (MB): 2.52\n",
      "Estimated Total Size (MB): 10.60\n",
      "----------------------------------------------------------------\n"
     ]
    }
   ],
   "source": [
    "resnet_model = ResNetLike(depth_n=3)\n",
    "summary(resnet_model, input_size=(3, 32, 32), device='cpu')"
   ]
  },
  {
   "cell_type": "code",
   "execution_count": 77,
   "metadata": {},
   "outputs": [
    {
     "name": "stdout",
     "output_type": "stream",
     "text": [
      "Epoch: 9/10 Step: 1550/1563 Loss: 29373920.000000 Acc: 21.46% Test loss: 28385466.000000 Test acc: 25.00%%"
     ]
    }
   ],
   "source": [
    "resnet_model = resnet_model.cuda()\n",
    "resnet_optim = optim.Adam(resnet_model.parameters(), lr=1e-3)\n",
    "resnet_losses = train(resnet_model, resnet_optim, (train_loader, test_loader), max_epochs=10)"
   ]
  },
  {
   "cell_type": "code",
   "execution_count": 78,
   "metadata": {},
   "outputs": [
    {
     "data": {
      "text/plain": [
       "[<matplotlib.lines.Line2D at 0x16808a80748>]"
      ]
     },
     "execution_count": 78,
     "metadata": {},
     "output_type": "execute_result"
    },
    {
     "data": {
      "image/png": "[encoded data removed]",
      "text/plain": [
       "<Figure size 432x288 with 1 Axes>"
      ]
     },
     "metadata": {
      "needs_background": "light"
     },
     "output_type": "display_data"
    }
   ],
   "source": [
    "plt.plot(resnet_losses)"
   ]
  },
  {
   "cell_type": "markdown",
   "metadata": {},
   "source": [
    "# Save Checkpoint"
   ]
  },
  {
   "cell_type": "code",
   "execution_count": 79,
   "metadata": {},
   "outputs": [],
   "source": [
    "checkpoint = {\n",
    "    'model_state_dict': resnet_model.state_dict(),\n",
    "    'optimizer_state_dict': resnet_optim.state_dict(),\n",
    "    'epoch': 10,\n",
    "    'losses': resnet_losses\n",
    "}"
   ]
  },
  {
   "cell_type": "code",
   "execution_count": 82,
   "metadata": {},
   "outputs": [],
   "source": [
    "filename = 'resnet_model:10.pth'\n",
    "# checkpoint_path = os.path.join(root_path, 'My Drive', 'MLVideos', filename)\n",
    "\n",
    "with open(filename, 'wb') as f:\n",
    "  pk.dump(checkpoint, f)"
   ]
  },
  {
   "cell_type": "markdown",
   "metadata": {},
   "source": [
    "# Load Checkpoint"
   ]
  },
  {
   "cell_type": "code",
   "execution_count": 83,
   "metadata": {},
   "outputs": [],
   "source": [
    "with open(filename, 'rb') as f:\n",
    "  checkpoint_ = pk.load(f)"
   ]
  },
  {
   "cell_type": "code",
   "execution_count": 88,
   "metadata": {},
   "outputs": [
    {
     "data": {
      "text/plain": [
       "<All keys matched successfully>"
      ]
     },
     "execution_count": 88,
     "metadata": {},
     "output_type": "execute_result"
    }
   ],
   "source": [
    "resnet_model = ResNetLike(depth_n=3)\n",
    "resnet_model = resnet_model.cuda()\n",
    "resnet_model.load_state_dict(checkpoint_['model_state_dict'])"
   ]
  },
  {
   "cell_type": "code",
   "execution_count": 89,
   "metadata": {},
   "outputs": [
    {
     "name": "stdout",
     "output_type": "stream",
     "text": [
      "Validation complete! Validation loss: 32372072.990415, Validation accuracy: 20.65%\n"
     ]
    },
    {
     "data": {
      "text/plain": [
       "(32372072.990415335, 0.2065)"
      ]
     },
     "execution_count": 89,
     "metadata": {},
     "output_type": "execute_result"
    }
   ],
   "source": [
    "validate(resnet_model, test_loader)"
   ]
  }
 ],
 "metadata": {
  "kernelspec": {
   "display_name": "Python 3",
   "language": "python",
   "name": "python3"
  },
  "language_info": {
   "codemirror_mode": {
    "name": "ipython",
    "version": 3
   },
   "file_extension": ".py",
   "mimetype": "text/x-python",
   "name": "python",
   "nbconvert_exporter": "python",
   "pygments_lexer": "ipython3",
   "version": "3.6.10"
  }
 },
 "nbformat": 4,
 "nbformat_minor": 4
}
