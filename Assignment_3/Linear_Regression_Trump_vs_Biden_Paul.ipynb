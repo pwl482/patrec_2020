{
 "cells": [
  {
   "cell_type": "code",
   "execution_count": 1,
   "metadata": {
    "id": "JiaPQ9h-URsq"
   },
   "outputs": [],
   "source": [
    "import os\n",
    "import numpy as np\n",
    "import pandas as pd\n",
    "import matplotlib\n",
    "import matplotlib.pyplot as plt\n",
    "from enum import Enum"
   ]
  },
  {
   "cell_type": "code",
   "execution_count": 2,
   "metadata": {
    "id": "RA9k0GvvURtB"
   },
   "outputs": [],
   "source": [
    "class Colors(Enum):\n",
    "    blue = '#0A85FF'\n",
    "    darkblue = '#00264D'\n",
    "    green = '#99CC00'\n",
    "    darkgreen = '#739900'"
   ]
  },
  {
   "cell_type": "code",
   "execution_count": 3,
   "metadata": {
    "id": "veSfDjzDURtL"
   },
   "outputs": [],
   "source": [
    "battleground_path = 'battleground-state-changes.csv'\n",
    "df = pd.read_csv(battleground_path)"
   ]
  },
  {
   "cell_type": "markdown",
   "metadata": {},
   "source": [
    "# Data Exploration and Formatting"
   ]
  },
  {
   "cell_type": "code",
   "execution_count": 5,
   "metadata": {},
   "outputs": [
    {
     "data": {
      "text/html": [
       "<div>\n",
       "<style scoped>\n",
       "    .dataframe tbody tr th:only-of-type {\n",
       "        vertical-align: middle;\n",
       "    }\n",
       "\n",
       "    .dataframe tbody tr th {\n",
       "        vertical-align: top;\n",
       "    }\n",
       "\n",
       "    .dataframe thead th {\n",
       "        text-align: right;\n",
       "    }\n",
       "</style>\n",
       "<table border=\"1\" class=\"dataframe\">\n",
       "  <thead>\n",
       "    <tr style=\"text-align: right;\">\n",
       "      <th></th>\n",
       "      <th>state</th>\n",
       "      <th>timestamp</th>\n",
       "      <th>leading_candidate_name</th>\n",
       "      <th>trailing_candidate_name</th>\n",
       "      <th>leading_candidate_votes</th>\n",
       "      <th>trailing_candidate_votes</th>\n",
       "      <th>vote_differential</th>\n",
       "      <th>votes_remaining</th>\n",
       "      <th>new_votes</th>\n",
       "      <th>new_votes_relevant</th>\n",
       "      <th>new_votes_formatted</th>\n",
       "      <th>leading_candidate_partition</th>\n",
       "      <th>trailing_candidate_partition</th>\n",
       "      <th>precincts_reporting</th>\n",
       "      <th>precincts_total</th>\n",
       "      <th>hurdle</th>\n",
       "      <th>hurdle_change</th>\n",
       "      <th>hurdle_mov_avg</th>\n",
       "      <th>counties_partition</th>\n",
       "      <th>total_votes_count</th>\n",
       "    </tr>\n",
       "  </thead>\n",
       "  <tbody>\n",
       "    <tr>\n",
       "      <th>0</th>\n",
       "      <td>Alaska (EV: 3)</td>\n",
       "      <td>2020-11-19 13:18:50.262000</td>\n",
       "      <td>Trump</td>\n",
       "      <td>Biden</td>\n",
       "      <td>189457</td>\n",
       "      <td>153551</td>\n",
       "      <td>35906</td>\n",
       "      <td>9210</td>\n",
       "      <td>7323</td>\n",
       "      <td>6977</td>\n",
       "      <td>6,977</td>\n",
       "      <td>0.528594</td>\n",
       "      <td>0.471406</td>\n",
       "      <td>407</td>\n",
       "      <td>441</td>\n",
       "      <td>2.527651</td>\n",
       "      <td>0.910664</td>\n",
       "      <td>0.489933</td>\n",
       "      <td>{'ED 1': 164, 'ED 10': 312, 'ED 11': 174, 'ED ...</td>\n",
       "      <td>356796</td>\n",
       "    </tr>\n",
       "    <tr>\n",
       "      <th>1</th>\n",
       "      <td>Alaska (EV: 3)</td>\n",
       "      <td>2020-11-18 17:25:33.757000</td>\n",
       "      <td>Trump</td>\n",
       "      <td>Biden</td>\n",
       "      <td>185769</td>\n",
       "      <td>150262</td>\n",
       "      <td>35507</td>\n",
       "      <td>16533</td>\n",
       "      <td>0</td>\n",
       "      <td>0</td>\n",
       "      <td>0</td>\n",
       "      <td>0.000000</td>\n",
       "      <td>0.000000</td>\n",
       "      <td>389</td>\n",
       "      <td>441</td>\n",
       "      <td>1.616987</td>\n",
       "      <td>0.000000</td>\n",
       "      <td>0.514500</td>\n",
       "      <td>{}</td>\n",
       "      <td>349473</td>\n",
       "    </tr>\n",
       "  </tbody>\n",
       "</table>\n",
       "</div>"
      ],
      "text/plain": [
       "            state                   timestamp leading_candidate_name  \\\n",
       "0  Alaska (EV: 3)  2020-11-19 13:18:50.262000                  Trump   \n",
       "1  Alaska (EV: 3)  2020-11-18 17:25:33.757000                  Trump   \n",
       "\n",
       "  trailing_candidate_name  leading_candidate_votes  trailing_candidate_votes  \\\n",
       "0                   Biden                   189457                    153551   \n",
       "1                   Biden                   185769                    150262   \n",
       "\n",
       "   vote_differential  votes_remaining  new_votes  new_votes_relevant  \\\n",
       "0              35906             9210       7323                6977   \n",
       "1              35507            16533          0                   0   \n",
       "\n",
       "  new_votes_formatted  leading_candidate_partition  \\\n",
       "0               6,977                     0.528594   \n",
       "1                   0                     0.000000   \n",
       "\n",
       "   trailing_candidate_partition  precincts_reporting  precincts_total  \\\n",
       "0                      0.471406                  407              441   \n",
       "1                      0.000000                  389              441   \n",
       "\n",
       "     hurdle  hurdle_change  hurdle_mov_avg  \\\n",
       "0  2.527651       0.910664        0.489933   \n",
       "1  1.616987       0.000000        0.514500   \n",
       "\n",
       "                                  counties_partition  total_votes_count  \n",
       "0  {'ED 1': 164, 'ED 10': 312, 'ED 11': 174, 'ED ...             356796  \n",
       "1                                                 {}             349473  "
      ]
     },
     "execution_count": 5,
     "metadata": {},
     "output_type": "execute_result"
    }
   ],
   "source": [
    "df.head(2)"
   ]
  },
  {
   "cell_type": "code",
   "execution_count": 6,
   "metadata": {
    "id": "MYQXlXm0URtT"
   },
   "outputs": [],
   "source": [
    "# Restructure data frame for easier access to Biden and Trump votes\n",
    "\n",
    "def get_candidate_votes(row):\n",
    "    if row['leading_candidate_name'] == 'Biden':\n",
    "        row['biden_votes'] = row['leading_candidate_votes']\n",
    "        row['trump_votes'] = row['trailing_candidate_votes']\n",
    "    elif row['leading_candidate_name'] == 'Trump':\n",
    "        row['biden_votes'] = row['trailing_candidate_votes']\n",
    "        row['trump_votes'] = row['leading_candidate_votes']\n",
    "    return row\n",
    "\n",
    "df = df.apply(get_candidate_votes, axis=1)"
   ]
  },
  {
   "cell_type": "code",
   "execution_count": 7,
   "metadata": {},
   "outputs": [
    {
     "data": {
      "text/html": [
       "<div>\n",
       "<style scoped>\n",
       "    .dataframe tbody tr th:only-of-type {\n",
       "        vertical-align: middle;\n",
       "    }\n",
       "\n",
       "    .dataframe tbody tr th {\n",
       "        vertical-align: top;\n",
       "    }\n",
       "\n",
       "    .dataframe thead th {\n",
       "        text-align: right;\n",
       "    }\n",
       "</style>\n",
       "<table border=\"1\" class=\"dataframe\">\n",
       "  <thead>\n",
       "    <tr style=\"text-align: right;\">\n",
       "      <th></th>\n",
       "      <th>state</th>\n",
       "      <th>timestamp</th>\n",
       "      <th>leading_candidate_name</th>\n",
       "      <th>trailing_candidate_name</th>\n",
       "      <th>leading_candidate_votes</th>\n",
       "      <th>trailing_candidate_votes</th>\n",
       "      <th>vote_differential</th>\n",
       "      <th>votes_remaining</th>\n",
       "      <th>new_votes</th>\n",
       "      <th>new_votes_relevant</th>\n",
       "      <th>...</th>\n",
       "      <th>trailing_candidate_partition</th>\n",
       "      <th>precincts_reporting</th>\n",
       "      <th>precincts_total</th>\n",
       "      <th>hurdle</th>\n",
       "      <th>hurdle_change</th>\n",
       "      <th>hurdle_mov_avg</th>\n",
       "      <th>counties_partition</th>\n",
       "      <th>total_votes_count</th>\n",
       "      <th>biden_votes</th>\n",
       "      <th>trump_votes</th>\n",
       "    </tr>\n",
       "  </thead>\n",
       "  <tbody>\n",
       "    <tr>\n",
       "      <th>0</th>\n",
       "      <td>Alaska (EV: 3)</td>\n",
       "      <td>2020-11-19 13:18:50.262000</td>\n",
       "      <td>Trump</td>\n",
       "      <td>Biden</td>\n",
       "      <td>189457</td>\n",
       "      <td>153551</td>\n",
       "      <td>35906</td>\n",
       "      <td>9210</td>\n",
       "      <td>7323</td>\n",
       "      <td>6977</td>\n",
       "      <td>...</td>\n",
       "      <td>0.471406</td>\n",
       "      <td>407</td>\n",
       "      <td>441</td>\n",
       "      <td>2.527651</td>\n",
       "      <td>0.910664</td>\n",
       "      <td>0.489933</td>\n",
       "      <td>{'ED 1': 164, 'ED 10': 312, 'ED 11': 174, 'ED ...</td>\n",
       "      <td>356796</td>\n",
       "      <td>153551</td>\n",
       "      <td>189457</td>\n",
       "    </tr>\n",
       "    <tr>\n",
       "      <th>1</th>\n",
       "      <td>Alaska (EV: 3)</td>\n",
       "      <td>2020-11-18 17:25:33.757000</td>\n",
       "      <td>Trump</td>\n",
       "      <td>Biden</td>\n",
       "      <td>185769</td>\n",
       "      <td>150262</td>\n",
       "      <td>35507</td>\n",
       "      <td>16533</td>\n",
       "      <td>0</td>\n",
       "      <td>0</td>\n",
       "      <td>...</td>\n",
       "      <td>0.000000</td>\n",
       "      <td>389</td>\n",
       "      <td>441</td>\n",
       "      <td>1.616987</td>\n",
       "      <td>0.000000</td>\n",
       "      <td>0.514500</td>\n",
       "      <td>{}</td>\n",
       "      <td>349473</td>\n",
       "      <td>150262</td>\n",
       "      <td>185769</td>\n",
       "    </tr>\n",
       "  </tbody>\n",
       "</table>\n",
       "<p>2 rows × 22 columns</p>\n",
       "</div>"
      ],
      "text/plain": [
       "            state                   timestamp leading_candidate_name  \\\n",
       "0  Alaska (EV: 3)  2020-11-19 13:18:50.262000                  Trump   \n",
       "1  Alaska (EV: 3)  2020-11-18 17:25:33.757000                  Trump   \n",
       "\n",
       "  trailing_candidate_name  leading_candidate_votes  trailing_candidate_votes  \\\n",
       "0                   Biden                   189457                    153551   \n",
       "1                   Biden                   185769                    150262   \n",
       "\n",
       "   vote_differential  votes_remaining  new_votes  new_votes_relevant  ...  \\\n",
       "0              35906             9210       7323                6977  ...   \n",
       "1              35507            16533          0                   0  ...   \n",
       "\n",
       "  trailing_candidate_partition  precincts_reporting  precincts_total  \\\n",
       "0                     0.471406                  407              441   \n",
       "1                     0.000000                  389              441   \n",
       "\n",
       "     hurdle  hurdle_change  hurdle_mov_avg  \\\n",
       "0  2.527651       0.910664        0.489933   \n",
       "1  1.616987       0.000000        0.514500   \n",
       "\n",
       "                                  counties_partition  total_votes_count  \\\n",
       "0  {'ED 1': 164, 'ED 10': 312, 'ED 11': 174, 'ED ...             356796   \n",
       "1                                                 {}             349473   \n",
       "\n",
       "  biden_votes  trump_votes  \n",
       "0      153551       189457  \n",
       "1      150262       185769  \n",
       "\n",
       "[2 rows x 22 columns]"
      ]
     },
     "execution_count": 7,
     "metadata": {},
     "output_type": "execute_result"
    }
   ],
   "source": [
    "df.head(2)"
   ]
  },
  {
   "cell_type": "code",
   "execution_count": 8,
   "metadata": {},
   "outputs": [
    {
     "data": {
      "text/plain": [
       "array(['Alaska (EV: 3)', 'Arizona (EV: 11)', 'Georgia (EV: 16)',\n",
       "       'North Carolina (EV: 15)', 'Nevada (EV: 6)',\n",
       "       'Pennsylvania (EV: 20)'], dtype=object)"
      ]
     },
     "execution_count": 8,
     "metadata": {},
     "output_type": "execute_result"
    }
   ],
   "source": [
    "df[\"state\"].unique()"
   ]
  },
  {
   "cell_type": "code",
   "execution_count": 9,
   "metadata": {},
   "outputs": [
    {
     "data": {
      "text/plain": [
       "(730, 22)"
      ]
     },
     "execution_count": 9,
     "metadata": {},
     "output_type": "execute_result"
    }
   ],
   "source": [
    "df.shape"
   ]
  },
  {
   "cell_type": "code",
   "execution_count": 33,
   "metadata": {
    "colab": {
     "base_uri": "https://localhost:8080/"
    },
    "id": "9fa-LOm9KwfJ",
    "outputId": "5cfa00ef-ea56-403d-c579-f5d1b4dd0f05"
   },
   "outputs": [],
   "source": [
    "class LinearRegression():\n",
    "  def __init__(self):\n",
    "    # no hyperparameters for linear regression\n",
    "    self.w = None\n",
    "    self.b = None\n",
    "\n",
    "  def fit(self, X, y):\n",
    "    # computes the Linear Regression model parameters\n",
    "    X_hat = np.concatenate((X, np.ones((X.shape[0],1))),axis=1)\n",
    "    #compute SVD\n",
    "    U, S, V = np.linalg.svd(X_hat, full_matrices=False)\n",
    "    #compute S_plus from S\n",
    "    idx = np.where(S > 1e-10)\n",
    "    S_plus = np.zeros(S.shape)\n",
    "    S_plus[idx] = 1 / S[idx]\n",
    "    S_plus = np.diag(S_plus)\n",
    "    #conjugate and transpose V and U and build A_hat_plus\n",
    "    X_hat_plus = (V.conj().T).dot(S_plus).dot(U.conj().T)\n",
    "    #compute the w/b result\n",
    "    w_hat = np.dot(X_hat_plus, y)\n",
    "    self.w = w_hat[:-1]\n",
    "    self.b = w_hat[-1]\n",
    "  \n",
    "  def predict(self, x):\n",
    "    \"\"\" \n",
    "    Define the line here.\n",
    "    Map x to it's y coordinates. The set {(x,y) | x from input, y from output} \n",
    "    should define your line.\n",
    "    In this case x will be percentages reported like\n",
    "    np.linspace(0.94, 1, 100).reshape([-1,1]) from 94% to 100%\n",
    "    in Georgia\n",
    "    \"\"\"\n",
    "    if self.w and self.b:\n",
    "        #wnorm = np.linalg.norm(self.w)\n",
    "        #we = w / wnorm\n",
    "        #y = np.dot(x, we) + self.b\n",
    "        y = np.dot(x, self.w) + self.b\n",
    "    else:\n",
    "        raise Exception(\"No data fit to this Linear Regression Object! Call the 'fit' function first!\")\n",
    "    return y"
   ]
  },
  {
   "cell_type": "markdown",
   "metadata": {},
   "source": [
    "# Fit Pennsylvania"
   ]
  },
  {
   "cell_type": "code",
   "execution_count": 30,
   "metadata": {
    "id": "TUAaDSMxURtZ"
   },
   "outputs": [],
   "source": [
    "#Pennsylvania\n",
    "df_py = df[df['state'] == 'Pennsylvania (EV: 20)'].copy()\n",
    "df_py['percent_reporting'] = df_py['total_votes_count'] / int(7e+6)\n",
    "df_py['trump_lead'] = (df_py['trump_votes'] - df_py['biden_votes']) / df_py['total_votes_count']\n",
    "df_py = df_py.sort_values('percent_reporting', axis=0, ascending=False)\n",
    "\n",
    "# Only view votes that were counted before 90% were reported\n",
    "df_py = df_py[df_py['percent_reporting'] <= 0.9]"
   ]
  },
  {
   "cell_type": "code",
   "execution_count": 31,
   "metadata": {},
   "outputs": [
    {
     "data": {
      "text/html": [
       "<div>\n",
       "<style scoped>\n",
       "    .dataframe tbody tr th:only-of-type {\n",
       "        vertical-align: middle;\n",
       "    }\n",
       "\n",
       "    .dataframe tbody tr th {\n",
       "        vertical-align: top;\n",
       "    }\n",
       "\n",
       "    .dataframe thead th {\n",
       "        text-align: right;\n",
       "    }\n",
       "</style>\n",
       "<table border=\"1\" class=\"dataframe\">\n",
       "  <thead>\n",
       "    <tr style=\"text-align: right;\">\n",
       "      <th></th>\n",
       "      <th>percent_reporting</th>\n",
       "      <th>trump_lead</th>\n",
       "    </tr>\n",
       "  </thead>\n",
       "  <tbody>\n",
       "    <tr>\n",
       "      <th>660</th>\n",
       "      <td>0.899778</td>\n",
       "      <td>0.029651</td>\n",
       "    </tr>\n",
       "    <tr>\n",
       "      <th>661</th>\n",
       "      <td>0.898325</td>\n",
       "      <td>0.030371</td>\n",
       "    </tr>\n",
       "    <tr>\n",
       "      <th>662</th>\n",
       "      <td>0.898141</td>\n",
       "      <td>0.030600</td>\n",
       "    </tr>\n",
       "    <tr>\n",
       "      <th>663</th>\n",
       "      <td>0.898078</td>\n",
       "      <td>0.030602</td>\n",
       "    </tr>\n",
       "    <tr>\n",
       "      <th>664</th>\n",
       "      <td>0.896734</td>\n",
       "      <td>0.031217</td>\n",
       "    </tr>\n",
       "  </tbody>\n",
       "</table>\n",
       "</div>"
      ],
      "text/plain": [
       "     percent_reporting  trump_lead\n",
       "660           0.899778    0.029651\n",
       "661           0.898325    0.030371\n",
       "662           0.898141    0.030600\n",
       "663           0.898078    0.030602\n",
       "664           0.896734    0.031217"
      ]
     },
     "execution_count": 31,
     "metadata": {},
     "output_type": "execute_result"
    }
   ],
   "source": [
    "df_py[[\"percent_reporting\",\"trump_lead\"]].head()"
   ]
  },
  {
   "cell_type": "code",
   "execution_count": 39,
   "metadata": {},
   "outputs": [],
   "source": [
    "X = df_py['percent_reporting'].to_numpy().reshape([-1, 1])\n",
    "y = df_py['trump_lead'].to_numpy()\n",
    "\n",
    "# Fit X to y using Linear Regression\n",
    "linear_py = LinearRegression()\n",
    "linear_py.fit(X, y)"
   ]
  },
  {
   "cell_type": "markdown",
   "metadata": {},
   "source": [
    "# Fit Georgia"
   ]
  },
  {
   "cell_type": "code",
   "execution_count": 35,
   "metadata": {},
   "outputs": [],
   "source": [
    "#Georgia\n",
    "df_ga = df[df['state'] == 'Georgia (EV: 16)'].copy()\n",
    "df_ga['percent_reporting'] = df_ga['total_votes_count'] / int(5.025e+6)\n",
    "df_ga['trump_lead'] = (df_ga['trump_votes'] - df_ga['biden_votes']) / df_ga['total_votes_count']\n",
    "df_ga = df_ga.sort_values('percent_reporting', axis=0, ascending=False)\n",
    "\n",
    "# Only view votes that were counted before 97% were reported\n",
    "df_ga = df_ga[df_ga['percent_reporting'] <= 0.97]"
   ]
  },
  {
   "cell_type": "code",
   "execution_count": 36,
   "metadata": {},
   "outputs": [
    {
     "data": {
      "text/html": [
       "<div>\n",
       "<style scoped>\n",
       "    .dataframe tbody tr th:only-of-type {\n",
       "        vertical-align: middle;\n",
       "    }\n",
       "\n",
       "    .dataframe tbody tr th {\n",
       "        vertical-align: top;\n",
       "    }\n",
       "\n",
       "    .dataframe thead th {\n",
       "        text-align: right;\n",
       "    }\n",
       "</style>\n",
       "<table border=\"1\" class=\"dataframe\">\n",
       "  <thead>\n",
       "    <tr style=\"text-align: right;\">\n",
       "      <th></th>\n",
       "      <th>percent_reporting</th>\n",
       "      <th>trump_lead</th>\n",
       "    </tr>\n",
       "  </thead>\n",
       "  <tbody>\n",
       "    <tr>\n",
       "      <th>283</th>\n",
       "      <td>0.969762</td>\n",
       "      <td>0.007659</td>\n",
       "    </tr>\n",
       "    <tr>\n",
       "      <th>289</th>\n",
       "      <td>0.967424</td>\n",
       "      <td>0.009461</td>\n",
       "    </tr>\n",
       "    <tr>\n",
       "      <th>290</th>\n",
       "      <td>0.967372</td>\n",
       "      <td>0.009451</td>\n",
       "    </tr>\n",
       "    <tr>\n",
       "      <th>291</th>\n",
       "      <td>0.967222</td>\n",
       "      <td>0.009483</td>\n",
       "    </tr>\n",
       "    <tr>\n",
       "      <th>292</th>\n",
       "      <td>0.966666</td>\n",
       "      <td>0.009846</td>\n",
       "    </tr>\n",
       "  </tbody>\n",
       "</table>\n",
       "</div>"
      ],
      "text/plain": [
       "     percent_reporting  trump_lead\n",
       "283           0.969762    0.007659\n",
       "289           0.967424    0.009461\n",
       "290           0.967372    0.009451\n",
       "291           0.967222    0.009483\n",
       "292           0.966666    0.009846"
      ]
     },
     "execution_count": 36,
     "metadata": {},
     "output_type": "execute_result"
    }
   ],
   "source": [
    "df_ga[[\"percent_reporting\",\"trump_lead\"]].head()"
   ]
  },
  {
   "cell_type": "code",
   "execution_count": 40,
   "metadata": {},
   "outputs": [],
   "source": [
    "X = df_ga['percent_reporting'].to_numpy().reshape([-1, 1])\n",
    "y = df_ga['trump_lead'].to_numpy()\n",
    "\n",
    "# Fit X to y using Linear Regression\n",
    "linear_ga = LinearRegression()\n",
    "linear_ga.fit(X, y)"
   ]
  },
  {
   "cell_type": "markdown",
   "metadata": {},
   "source": [
    "# Plot the linear regessions of 'percent reporting' vs 'Trump's percent lead'"
   ]
  },
  {
   "cell_type": "code",
   "execution_count": 57,
   "metadata": {},
   "outputs": [
    {
     "data": {
      "image/png": "[encoded data removed]",
      "text/plain": [
       "<Figure size 1440x720 with 2 Axes>"
      ]
     },
     "metadata": {
      "needs_background": "light"
     },
     "output_type": "display_data"
    }
   ],
   "source": [
    "fig, ax = plt.subplots(1, 2, figsize=(20, 10))\n",
    "ax[0].scatter(df_py['percent_reporting'] * 100, df_py['trump_lead'] * 100, marker='x', s=100, color=Colors.blue.value)\n",
    "x_py = np.linspace(0.8, 1, 100).reshape([-1,1])\n",
    "y_py = linear_py.predict(x_py)\n",
    "ax[0].set_xlim([85, 100])\n",
    "ax[0].set_xticks(range(80, 101, 2))\n",
    "ax[0].plot(x_py * 100, y_py * 100, linestyle='--', color=Colors.darkblue.value)\n",
    "ax[0].hlines(y=0, xmin=80, xmax=100, linestyle='--', color='black')\n",
    "ax[0].set_title('Pennsylvania (Expected total vote = 7.000.000)')\n",
    "\n",
    "ax[1].scatter(df_ga['percent_reporting'] * 100, df_ga['trump_lead'] * 100, marker='x', s=100, color=Colors.green.value)\n",
    "x_ga = np.linspace(0.94, 1, 100).reshape([-1,1])\n",
    "y_ga = linear_ga.predict(x_ga)\n",
    "ax[1].set_xlim([94, 100])\n",
    "ax[1].set_xticks(range(94, 101, 1))\n",
    "ax[1].plot(x_ga * 100, y_ga * 100, linestyle='--', color=Colors.darkgreen.value)\n",
    "ax[1].hlines(y=0, xmin=94, xmax=100, linestyle='--', color='black')\n",
    "ax[1].set_title('Georgia (Expected total vote = 5.025.000)')\n",
    "#x and y abels were swapped from the kvv version, it was wrong before\n",
    "ax[0].set_xlabel(\"Percent reporting\")\n",
    "ax[0].set_ylabel(\"Trump's percentage lead\")\n",
    "ax[1].set_xlabel(\"Percent reporting\")\n",
    "ax[1].set_ylabel(\"Trump's percentage lead\")\n",
    "plt.show()\n",
    "# plt.savefig('trump_lead.svg', transparent=True)"
   ]
  },
  {
   "cell_type": "markdown",
   "metadata": {},
   "source": [
    "# Q: At what percentage of reported votes will Biden lead over Trump?"
   ]
  },
  {
   "cell_type": "markdown",
   "metadata": {},
   "source": [
    "## Pennsylvania"
   ]
  },
  {
   "cell_type": "code",
   "execution_count": 66,
   "metadata": {},
   "outputs": [
    {
     "name": "stdout",
     "output_type": "stream",
     "text": [
      "Biden will lead after 0.9414% of the votes are counted\n"
     ]
    }
   ],
   "source": [
    "print(\"Biden will lead after {:.4f}% of the votes are counted\".format(x_py[np.where(y_py<0)][0][0]))"
   ]
  },
  {
   "cell_type": "markdown",
   "metadata": {},
   "source": [
    "## Georgia"
   ]
  },
  {
   "cell_type": "code",
   "execution_count": 67,
   "metadata": {},
   "outputs": [
    {
     "name": "stdout",
     "output_type": "stream",
     "text": [
      "Biden will lead after 0.9891% of the votes are counted\n"
     ]
    }
   ],
   "source": [
    "print(\"Biden will lead after {:.4f}% of the votes are counted\".format(x_ga[np.where(y_ga<0)][0][0]))"
   ]
  }
 ],
 "metadata": {
  "colab": {
   "collapsed_sections": [],
   "name": "Linear Regression: Trump vs Biden.ipynb",
   "provenance": []
  },
  "kernelspec": {
   "display_name": "Python 3",
   "language": "python",
   "name": "python3"
  },
  "language_info": {
   "codemirror_mode": {
    "name": "ipython",
    "version": 3
   },
   "file_extension": ".py",
   "mimetype": "text/x-python",
   "name": "python",
   "nbconvert_exporter": "python",
   "pygments_lexer": "ipython3",
   "version": "3.6.10"
  }
 },
 "nbformat": 4,
 "nbformat_minor": 1
}
