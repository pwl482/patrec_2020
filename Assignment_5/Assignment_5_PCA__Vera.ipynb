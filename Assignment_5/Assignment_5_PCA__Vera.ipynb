{
 "cells": [
  {
   "cell_type": "code",
   "execution_count": 1,
   "metadata": {},
   "outputs": [],
   "source": [
    "import pandas as pd\n",
    "import numpy as np"
   ]
  },
  {
   "cell_type": "markdown",
   "metadata": {
    "id": "kcoo_KCOFNLJ"
   },
   "source": [
    "**Exercise 1**: \n",
    "\n",
    "(a) Reduce the \"ZIP-code\"-dataset to two dimensions using Oja’s algorithm and plot thepoint cloud of the data set highlighting each class.\n",
    "\n",
    "(b) Try one of the previously implemented classifiers (k-NN or Logistic Regression) on thetwo-dimensional dataset."
   ]
  },
  {
   "cell_type": "code",
   "execution_count": 2,
   "metadata": {
    "id": "da82B9O_FbUb"
   },
   "outputs": [],
   "source": [
    "#train = pd.read_csv('/Users/Eva/Downloads/zip.train', header=None, sep=' ')\n",
    "#train.drop(257,axis=1,inplace=True)\n",
    "#test = pd.read_csv('/Users/Eva/Downloads/zip.test', header=None, sep=' ')\n",
    "\n",
    "train = pd.read_csv('zip.train', header=None, sep=' ')\n",
    "train.drop(257,axis=1,inplace=True)\n",
    "test = pd.read_csv('zip.test', header=None, sep=' ')"
   ]
  },
  {
   "cell_type": "markdown",
   "metadata": {},
   "source": [
    "\n",
    "**Oja's algorithm**"
   ]
  },
  {
   "cell_type": "code",
   "execution_count": 100,
   "metadata": {},
   "outputs": [
    {
     "name": "stdout",
     "output_type": "stream",
     "text": [
      "           1         2         3         4         5             6    \\\n",
      "0    -0.003555 -0.014222 -0.048793 -0.110999 -0.001096 -4.715563e-09   \n",
      "1    -0.003555 -0.014222 -0.048793  0.073896  0.000496 -2.404354e-09   \n",
      "2    -0.003555 -0.014222 -0.048793 -0.110999 -0.001096 -4.715563e-09   \n",
      "3    -0.003555 -0.014222 -0.048793 -0.110999 -0.001096  4.081552e-09   \n",
      "4    -0.003555 -0.014222 -0.048793 -0.110999 -0.001096 -3.844322e-09   \n",
      "...        ...       ...       ...       ...       ...           ...   \n",
      "7286 -0.003555 -0.014222 -0.048793 -0.099134  0.001192  4.868089e-09   \n",
      "7287 -0.003555 -0.014222 -0.048793 -0.101111  0.007166  1.412503e-08   \n",
      "7288 -0.003555 -0.014222 -0.048793  0.103559 -0.001018 -2.622164e-09   \n",
      "7289 -0.003555 -0.014222 -0.048793 -0.110999 -0.001096  7.417944e-10   \n",
      "7290 -0.003555 -0.014222 -0.048793 -0.110999 -0.001096  6.078146e-09   \n",
      "\n",
      "               7             8         9             10   ...           247  \\\n",
      "0    -4.110042e-09 -1.449505e-13  0.000324  2.211973e-24  ...  4.568278e-12   \n",
      "1    -3.374023e-09 -1.548578e-13 -0.000284 -1.346099e-23  ... -4.294723e-12   \n",
      "2    -4.110042e-09 -2.363448e-13 -0.000336 -1.338573e-23  ... -7.285418e-12   \n",
      "3     6.858601e-09  2.491100e-13  0.000178  4.093482e-24  ... -1.085862e-12   \n",
      "4     1.074661e-09  1.973446e-13  0.000184  9.756821e-24  ...  6.040899e-12   \n",
      "...            ...           ...       ...           ...  ...           ...   \n",
      "7286  6.441740e-09  2.590172e-13  0.000184  1.280486e-23  ...  7.503695e-13   \n",
      "7287  4.663569e-09 -1.516568e-14 -0.000250 -1.299061e-23  ...  8.140749e-12   \n",
      "7288  2.846318e-09  2.590172e-13  0.000373  2.416917e-23  ...  9.122497e-12   \n",
      "7289  5.419129e-09  2.587695e-13  0.000373  2.415036e-23  ... -2.950101e-13   \n",
      "7290  8.916849e-09  1.639077e-13 -0.000289 -1.346099e-23  ... -3.958384e-12   \n",
      "\n",
      "           248       249           250       251       252       253  \\\n",
      "0     0.093733  0.002851  2.903471e-08  0.013072 -0.093731 -0.063064   \n",
      "1    -0.111247 -0.000482  3.921007e-08  0.102975  0.589929  0.670466   \n",
      "2    -0.156386 -0.003602  7.480467e-09  0.120286  0.403254 -0.063064   \n",
      "3     0.118018  0.001354 -2.454090e-08 -0.025188 -0.099239 -0.063064   \n",
      "4     0.068488  0.002851  4.792659e-08  0.105084  0.781501  0.586171   \n",
      "...        ...       ...           ...       ...       ...       ...   \n",
      "7286  0.104161  0.000967 -7.144326e-09 -0.025188 -0.099239 -0.063064   \n",
      "7287  0.068077  0.000163 -2.384796e-08 -0.025188 -0.099239 -0.063064   \n",
      "7288  0.118018  0.002851  3.797006e-08  0.022673 -0.058232 -0.063064   \n",
      "7289  0.066019  0.002848  9.924011e-09  0.030747  0.092332 -0.063064   \n",
      "7290  0.090989  0.001525 -2.162324e-08 -0.025188 -0.099239 -0.063064   \n",
      "\n",
      "           254       255       256  \n",
      "0    -0.040759 -0.019923 -0.005315  \n",
      "1     0.273967  0.145540 -0.005315  \n",
      "2    -0.040759 -0.019923 -0.005315  \n",
      "3    -0.040759 -0.019923 -0.005315  \n",
      "4     0.071165 -0.019923 -0.005315  \n",
      "...        ...       ...       ...  \n",
      "7286 -0.040759 -0.019923 -0.005315  \n",
      "7287 -0.040759 -0.019923 -0.005315  \n",
      "7288 -0.040759 -0.019923 -0.005315  \n",
      "7289 -0.040759 -0.019923 -0.005315  \n",
      "7290 -0.040759 -0.019923 -0.005315  \n",
      "\n",
      "[7291 rows x 256 columns]\n"
     ]
    }
   ],
   "source": [
    "X_features = train.iloc[:,1:]\n",
    "\n",
    "X_new = X_features-np.mean(X_features, axis=0).values # VB: i don't know if this is correct\n",
    "gamma = 1\n",
    "# initalize w: \n",
    "w = np.random.uniform(size=(X_new.shape[1]))\n",
    "loop_counter = 0\n",
    "indeces = \n",
    "while X_new.shape[0] > 0:\n",
    "    loop_counter += 1\n",
    "    random_index = np.random.randint(X_new.shape[0])\n",
    "    x = np.array(X_new.iloc[random_index])\n",
    "    #X_new = X_new.drop(X_new.index[random_index])\n",
    "    w = w + (gamma*w)*x*(x-(w*x)*w)\n",
    "    w = w / np.linalg.norm(w)\n",
    "    gamma = 1/loop_counter\n",
    "    X_new = X_new - (w*X_new)*w\n",
    "    \n",
    "    if loop_counter >= 5000:\n",
    "        print(X_new)\n",
    "        break\n",
    "        \n",
    "    # question: how do we use this to get rid of dimensions?"
   ]
  },
  {
   "cell_type": "code",
   "execution_count": 101,
   "metadata": {},
   "outputs": [
    {
     "data": {
      "text/plain": [
       "array([-5.31506450e-03, -4.31640108e-03, -2.31907425e-03, -1.32041083e-03,\n",
       "       -3.21747410e-04,  6.76916008e-04,  1.67557943e-03,  2.67424284e-03,\n",
       "        5.67023310e-03,  9.66488677e-03,  1.06635502e-02,  1.36595404e-02,\n",
       "        1.56568673e-02,  1.66555307e-02,  1.76541941e-02,  2.06501844e-02,\n",
       "        3.36328088e-02,  3.76274625e-02,  4.06234527e-02,  4.46181064e-02,\n",
       "        4.86127601e-02,  5.85993943e-02,  5.95980577e-02,  6.05967211e-02,\n",
       "        6.35927114e-02,  6.75873650e-02,  7.25806821e-02,  7.45780090e-02,\n",
       "        7.65753358e-02,  7.75739992e-02,  8.65619700e-02,  1.00543258e-01,\n",
       "        1.05536575e-01,  1.14524546e-01,  1.21515190e-01,  1.33499151e-01,\n",
       "        1.36495141e-01,  1.37493804e-01,  1.38492468e-01,  1.40489795e-01,\n",
       "        1.42487121e-01,  1.48479102e-01,  1.63459053e-01,  1.73445687e-01,\n",
       "        1.78439004e-01,  1.80436331e-01,  1.85429648e-01,  1.93418956e-01,\n",
       "        1.94417619e-01,  2.03405590e-01,  2.04404253e-01,  2.25376185e-01,\n",
       "        2.52340097e-01,  2.55336088e-01,  2.57333415e-01,  2.61328068e-01,\n",
       "        2.65322722e-01,  2.70316039e-01,  2.76308019e-01,  2.77306683e-01,\n",
       "        2.81301337e-01,  2.99277278e-01,  3.37226488e-01,  3.47213122e-01,\n",
       "        3.81167678e-01,  4.61060752e-01,  4.78038030e-01,  5.19981894e-01,\n",
       "        5.61925757e-01,  5.89888333e-01,  6.07864274e-01,  6.36825513e-01,\n",
       "        6.63789426e-01,  6.83762694e-01,  7.18715914e-01,  7.33695865e-01,\n",
       "        7.84627699e-01,  8.30566217e-01,  8.54534139e-01,  8.62523446e-01,\n",
       "        8.63522109e-01,  8.95479339e-01,  9.25439241e-01,  9.53401817e-01,\n",
       "        1.00433365e+00,  1.00932697e+00,  1.01531895e+00,  1.06125747e+00,\n",
       "        1.07923341e+00,  1.09521202e+00,  1.09621069e+00,  1.14614386e+00,\n",
       "        1.15213584e+00,  1.34387921e+00,  1.41778031e+00,  1.53162794e+00,\n",
       "        1.58455710e+00])"
      ]
     },
     "execution_count": 101,
     "metadata": {},
     "output_type": "execute_result"
    }
   ],
   "source": [
    "np.unique(X_new.iloc[:,255])"
   ]
  },
  {
   "cell_type": "code",
   "execution_count": 3,
   "metadata": {},
   "outputs": [],
   "source": [
    "class oja_pca:\n",
    "    \n",
    "    def __init__(self, eps=1e-8, max_iter=1000, random_state=7):\n",
    "        self.eps = eps\n",
    "        self.lr = None\n",
    "        self.max_iter = max_iter\n",
    "        self.random_state = random_state\n",
    "        self.w = None\n",
    "        \n",
    "    def oja(self, X):\n",
    "        # initialise vector w\n",
    "        #np.random.seed(self.random_state)\n",
    "        #self.w = np.random.uniform(size=(X.shape[1], 1))\n",
    "        self.w = self.w / np.linalg.norm(self.w, ord=2)\n",
    "        # initialise learning rate as lr(t)=1/t where t is the number of iterations\n",
    "        self.lr = 1\n",
    "        for i in range(1,self.max_iter):\n",
    "            # update w\n",
    "            w_last = self.w\n",
    "            a = self.w.T.dot(X.T)\n",
    "            self.w = (self.lr*a.dot(X - a.T.dot(self.w.T))).T.shape\n",
    "            # normalize w\n",
    "            self.w = self.w / np.linalg.norm(self.w, ord=2)\n",
    "            # decrease learning rate\n",
    "            self.lr = 1/i\n",
    "            \n",
    "            # check epsilon threshold\n",
    "            if np.linalg.norm(w_last - self.w) < self.eps:\n",
    "                break\n",
    "                \n",
    "        return self.w\n",
    "    \n",
    "    def pca(self, X, num_pc):\n",
    "        # create output pca matrix\n",
    "        X_pca = np.zeros((X.shape[0], num_pc))\n",
    "        # center the data\n",
    "        centered_X = X-np.mean(X, axis=0).values\n",
    "        #centered_X_self = centered_X.T.dot(centered_X)\n",
    "        X_new = centered_X\n",
    "        # initialise vector w\n",
    "        #np.random.seed(self.random_state)\n",
    "        #self.w = np.random.uniform(size=(X.shape[1], 1))\n",
    "        for d in range(num_pc):\n",
    "            v = self.oja(centered_X)\n",
    "            PC = centered_X.dot(v)\n",
    "            X_new = X_new - PC.dot(v.T)\n",
    "            centered_X_self = X_new.T.dot(X_new)\n",
    "            X_pca[:, d] = PC.flatten()\n",
    "        return X_pca"
   ]
  },
  {
   "cell_type": "code",
   "execution_count": 4,
   "metadata": {},
   "outputs": [],
   "source": [
    "OJA = oja_pca()"
   ]
  },
  {
   "cell_type": "code",
   "execution_count": 5,
   "metadata": {},
   "outputs": [],
   "source": [
    "X_features = train.iloc[:,1:]"
   ]
  },
  {
   "cell_type": "code",
   "execution_count": 6,
   "metadata": {},
   "outputs": [
    {
     "ename": "ValueError",
     "evalue": "shapes (2,) and (256,7291) not aligned: 2 (dim 0) != 256 (dim 0)",
     "output_type": "error",
     "traceback": [
      "\u001b[1;31m---------------------------------------------------------------------------\u001b[0m",
      "\u001b[1;31mValueError\u001b[0m                                Traceback (most recent call last)",
      "\u001b[1;32m<ipython-input-6-043dcb2e1f83>\u001b[0m in \u001b[0;36m<module>\u001b[1;34m\u001b[0m\n\u001b[1;32m----> 1\u001b[1;33m \u001b[0mX_features_2PCs\u001b[0m \u001b[1;33m=\u001b[0m \u001b[0mOJA\u001b[0m\u001b[1;33m.\u001b[0m\u001b[0mpca\u001b[0m\u001b[1;33m(\u001b[0m\u001b[0mX_features\u001b[0m\u001b[1;33m,\u001b[0m \u001b[1;36m2\u001b[0m\u001b[1;33m)\u001b[0m\u001b[1;33m\u001b[0m\u001b[1;33m\u001b[0m\u001b[0m\n\u001b[0m",
      "\u001b[1;32m<ipython-input-3-2830f874c6d6>\u001b[0m in \u001b[0;36mpca\u001b[1;34m(self, X, num_pc)\u001b[0m\n\u001b[0;32m     39\u001b[0m         \u001b[0mX_new\u001b[0m \u001b[1;33m=\u001b[0m \u001b[0mcentered_X\u001b[0m\u001b[1;33m\u001b[0m\u001b[1;33m\u001b[0m\u001b[0m\n\u001b[0;32m     40\u001b[0m         \u001b[1;32mfor\u001b[0m \u001b[0md\u001b[0m \u001b[1;32min\u001b[0m \u001b[0mrange\u001b[0m\u001b[1;33m(\u001b[0m\u001b[0mnum_pc\u001b[0m\u001b[1;33m)\u001b[0m\u001b[1;33m:\u001b[0m\u001b[1;33m\u001b[0m\u001b[1;33m\u001b[0m\u001b[0m\n\u001b[1;32m---> 41\u001b[1;33m             \u001b[0mv\u001b[0m \u001b[1;33m=\u001b[0m \u001b[0mself\u001b[0m\u001b[1;33m.\u001b[0m\u001b[0moja\u001b[0m\u001b[1;33m(\u001b[0m\u001b[0mcentered_X\u001b[0m\u001b[1;33m)\u001b[0m\u001b[1;33m\u001b[0m\u001b[1;33m\u001b[0m\u001b[0m\n\u001b[0m\u001b[0;32m     42\u001b[0m             \u001b[0mPC\u001b[0m \u001b[1;33m=\u001b[0m \u001b[0mcentered_X\u001b[0m\u001b[1;33m.\u001b[0m\u001b[0mdot\u001b[0m\u001b[1;33m(\u001b[0m\u001b[0mv\u001b[0m\u001b[1;33m)\u001b[0m\u001b[1;33m\u001b[0m\u001b[1;33m\u001b[0m\u001b[0m\n\u001b[0;32m     43\u001b[0m             \u001b[0mX_new\u001b[0m \u001b[1;33m=\u001b[0m \u001b[0mX_new\u001b[0m \u001b[1;33m-\u001b[0m \u001b[0mPC\u001b[0m\u001b[1;33m.\u001b[0m\u001b[0mdot\u001b[0m\u001b[1;33m(\u001b[0m\u001b[0mv\u001b[0m\u001b[1;33m.\u001b[0m\u001b[0mT\u001b[0m\u001b[1;33m)\u001b[0m\u001b[1;33m\u001b[0m\u001b[1;33m\u001b[0m\u001b[0m\n",
      "\u001b[1;32m<ipython-input-3-2830f874c6d6>\u001b[0m in \u001b[0;36moja\u001b[1;34m(self, X)\u001b[0m\n\u001b[0;32m     18\u001b[0m             \u001b[1;31m# update w\u001b[0m\u001b[1;33m\u001b[0m\u001b[1;33m\u001b[0m\u001b[1;33m\u001b[0m\u001b[0m\n\u001b[0;32m     19\u001b[0m             \u001b[0mw_last\u001b[0m \u001b[1;33m=\u001b[0m \u001b[0mself\u001b[0m\u001b[1;33m.\u001b[0m\u001b[0mw\u001b[0m\u001b[1;33m\u001b[0m\u001b[1;33m\u001b[0m\u001b[0m\n\u001b[1;32m---> 20\u001b[1;33m             \u001b[0ma\u001b[0m \u001b[1;33m=\u001b[0m \u001b[0mself\u001b[0m\u001b[1;33m.\u001b[0m\u001b[0mw\u001b[0m\u001b[1;33m.\u001b[0m\u001b[0mT\u001b[0m\u001b[1;33m.\u001b[0m\u001b[0mdot\u001b[0m\u001b[1;33m(\u001b[0m\u001b[0mX\u001b[0m\u001b[1;33m.\u001b[0m\u001b[0mT\u001b[0m\u001b[1;33m)\u001b[0m\u001b[1;33m\u001b[0m\u001b[1;33m\u001b[0m\u001b[0m\n\u001b[0m\u001b[0;32m     21\u001b[0m             \u001b[0mself\u001b[0m\u001b[1;33m.\u001b[0m\u001b[0mw\u001b[0m \u001b[1;33m=\u001b[0m \u001b[1;33m(\u001b[0m\u001b[0mself\u001b[0m\u001b[1;33m.\u001b[0m\u001b[0mlr\u001b[0m\u001b[1;33m*\u001b[0m\u001b[0ma\u001b[0m\u001b[1;33m.\u001b[0m\u001b[0mdot\u001b[0m\u001b[1;33m(\u001b[0m\u001b[0mX\u001b[0m \u001b[1;33m-\u001b[0m \u001b[0ma\u001b[0m\u001b[1;33m.\u001b[0m\u001b[0mT\u001b[0m\u001b[1;33m.\u001b[0m\u001b[0mdot\u001b[0m\u001b[1;33m(\u001b[0m\u001b[0mself\u001b[0m\u001b[1;33m.\u001b[0m\u001b[0mw\u001b[0m\u001b[1;33m.\u001b[0m\u001b[0mT\u001b[0m\u001b[1;33m)\u001b[0m\u001b[1;33m)\u001b[0m\u001b[1;33m)\u001b[0m\u001b[1;33m.\u001b[0m\u001b[0mT\u001b[0m\u001b[1;33m.\u001b[0m\u001b[0mshape\u001b[0m\u001b[1;33m\u001b[0m\u001b[1;33m\u001b[0m\u001b[0m\n\u001b[0;32m     22\u001b[0m             \u001b[1;31m# normalize w\u001b[0m\u001b[1;33m\u001b[0m\u001b[1;33m\u001b[0m\u001b[1;33m\u001b[0m\u001b[0m\n",
      "\u001b[1;31mValueError\u001b[0m: shapes (2,) and (256,7291) not aligned: 2 (dim 0) != 256 (dim 0)"
     ]
    }
   ],
   "source": [
    "X_features_2PCs = OJA.pca(X_features, 2)"
   ]
  },
  {
   "cell_type": "markdown",
   "metadata": {
    "id": "VwUAfUo1FcFD"
   },
   "source": [
    "**Exercise 2**: \n",
    "\n",
    "Use your implementation of PCA on the greyscale-version of the \"LFWcrop Face\"-Dataset1.Visualize the first two principal components as Eigenfaces."
   ]
  },
  {
   "cell_type": "code",
   "execution_count": 10,
   "metadata": {
    "colab": {
     "base_uri": "https://localhost:8080/",
     "height": 249
    },
    "id": "FyRnvpPXeyQX",
    "outputId": "fb52fba6-09d9-4972-c7f5-d05b9f5fd11e"
   },
   "outputs": [
    {
     "name": "stdout",
     "output_type": "stream",
     "text": [
      "Total dataset size:\n",
      "n_samples: 1288\n",
      "n_features: 1850\n",
      "n_classes: 7\n",
      "image_height: 50\n",
      "image_width: 37\n",
      "(5,)\n"
     ]
    },
    {
     "data": {
      "image/png": "[encoded data removed]",
      "text/plain": [
       "<Figure size 1440x432 with 5 Axes>"
      ]
     },
     "metadata": {
      "needs_background": "light",
      "tags": []
     },
     "output_type": "display_data"
    }
   ],
   "source": [
    "from sklearn.datasets import fetch_lfw_people\n",
    "import numpy as np\n",
    "from matplotlib import pyplot as plt\n",
    "\n",
    "\n",
    "# #############################################################################\n",
    "# Download the data, if not already on disk and load it as numpy arrays\n",
    "\n",
    "lfw_people = fetch_lfw_people(min_faces_per_person=70, resize=0.4)\n",
    "\n",
    "# introspect the images arrays to find the shapes (for plotting)\n",
    "n_samples, h, w = lfw_people.images.shape\n",
    "\n",
    "# for machine learning we use the 2 data directly (as relative pixel\n",
    "# positions info is ignored by this model)\n",
    "X = lfw_people.data\n",
    "n_features = X.shape[1]\n",
    "\n",
    "# the label to predict is the id of the person\n",
    "y = lfw_people.target\n",
    "target_names = lfw_people.target_names\n",
    "n_classes = target_names.shape[0]\n",
    "\n",
    "print(\"Total dataset size:\")\n",
    "print(\"n_samples: %d\" % n_samples)\n",
    "print(\"n_features: %d\" % n_features)\n",
    "print(\"n_classes: %d\" % n_classes)\n",
    "print(\"image_height: %d\" % h)\n",
    "print(\"image_width: %d\" % w)\n",
    "\n",
    "\n",
    "def show_faces(X):\n",
    "    num_samples = 5\n",
    "    indices = np.random.choice(range(len(X)), num_samples)\n",
    "    print(indices.shape)\n",
    "    sample_digits = X[indices]\n",
    "\n",
    "    fig = plt.figure(figsize=(20, 6))\n",
    "\n",
    "    for i in range(num_samples):\n",
    "        ax = plt.subplot(3, 7.5, i + 1)\n",
    "        img = sample_digits[i].reshape((h, w))\n",
    "        plt.imshow(img, cmap='gray')\n",
    "        plt.axis('off')\n",
    "show_faces(X)"
   ]
  }
 ],
 "metadata": {
  "colab": {
   "name": "PCA.ipynb",
   "provenance": []
  },
  "kernelspec": {
   "display_name": "Python 3",
   "language": "python",
   "name": "python3"
  },
  "language_info": {
   "codemirror_mode": {
    "name": "ipython",
    "version": 3
   },
   "file_extension": ".py",
   "mimetype": "text/x-python",
   "name": "python",
   "nbconvert_exporter": "python",
   "pygments_lexer": "ipython3",
   "version": "3.7.4"
  }
 },
 "nbformat": 4,
 "nbformat_minor": 1
}
