{
 "cells": [
  {
   "cell_type": "markdown",
   "metadata": {
    "id": "xrAyOX0HfCrz"
   },
   "source": [
    "To complete the exercise focus on the parts that are mentioned in questions. You don't need to understand everything to its fullest here. Even if it's nice to know. The following file loads the english/german sentence pairs and prints out an example of what a pair looks like. Note that for fast training we cut the sentences down to pairs where the english text starts with a personal pronoun and the correspoding form of \"to be\"."
   ]
  },
  {
   "cell_type": "code",
   "execution_count": 65,
   "metadata": {
    "id": "eIHvYMZrfNat"
   },
   "outputs": [
    {
     "name": "stdout",
     "output_type": "stream",
     "text": [
      "Reading lines...\n",
      "Read 195847 sentence pairs\n",
      "Trimmed to 11727 sentence pairs\n",
      "Counting words...\n",
      "Counted words:\n",
      "eng 7046\n",
      "ger 4484\n",
      "['Ich bin zutiefst in dich verliebt.', \"I'm deeply in love with you.\"]\n"
     ]
    },
    {
     "data": {
      "text/plain": [
       "<Figure size 432x288 with 0 Axes>"
      ]
     },
     "metadata": {},
     "output_type": "display_data"
    }
   ],
   "source": [
    "%run ./load_languages.py"
   ]
  },
  {
   "cell_type": "code",
   "execution_count": 66,
   "metadata": {
    "id": "igtgOuQSEqEZ"
   },
   "outputs": [],
   "source": [
    "import numpy as np\n",
    "import torch\n",
    "import torch.nn as nn\n",
    "import torch.nn.functional as F\n",
    "import math, copy, time\n",
    "from torch.autograd import Variable\n",
    "import matplotlib.pyplot as plt\n",
    "%matplotlib inline\n",
    "\n",
    "device = torch.device(\"cuda:0\" if torch.cuda.is_available() else \"cpu\")\n"
   ]
  },
  {
   "cell_type": "code",
   "execution_count": 67,
   "metadata": {
    "id": "ciNc4p42fS5_"
   },
   "outputs": [],
   "source": [
    "class EncoderDecoder(nn.Module):\n",
    "    \"\"\"\n",
    "    A standard Encoder-Decoder architecture.\n",
    "    \"\"\"\n",
    "    def __init__(self, encoder, decoder, src_embed, tgt_embed, generator):\n",
    "        super(EncoderDecoder, self).__init__()\n",
    "        self.encoder = encoder\n",
    "        self.decoder = decoder\n",
    "        self.src_embed = src_embed\n",
    "        self.tgt_embed = tgt_embed\n",
    "        self.generator = generator\n",
    "        \n",
    "    def forward(self, src, tgt):\n",
    "        \"Take in and process masked src and target sequences.\"\n",
    "        return self.decode(self.encode(src), tgt)\n",
    "    \n",
    "    def encode(self, src):\n",
    "        return self.encoder(self.src_embed(src))\n",
    "    \n",
    "    def decode(self, memory, tgt):\n",
    "        return self.decoder(self.tgt_embed(tgt), memory)\n",
    "\n",
    "class Generator(nn.Module):\n",
    "    \"Define standard linear + softmax generation step.\"\n",
    "    def __init__(self, d_model, vocab):\n",
    "        super(Generator, self).__init__()\n",
    "        self.proj = nn.Linear(d_model, vocab)\n",
    "\n",
    "    def forward(self, x):\n",
    "        return F.log_softmax(self.proj(x), dim=-1)"
   ]
  },
  {
   "cell_type": "code",
   "execution_count": 68,
   "metadata": {
    "id": "sNcJlQHygpGT"
   },
   "outputs": [],
   "source": [
    "def clones(module, N):\n",
    "    \"Produce N identical layers.\"\n",
    "    return nn.ModuleList([module for _ in range(N)])"
   ]
  },
  {
   "cell_type": "code",
   "execution_count": 69,
   "metadata": {
    "id": "19_UC5JljAcV"
   },
   "outputs": [],
   "source": [
    "class Encoder(nn.Module):\n",
    "    \"Core encoder is a stack of N layers\"\n",
    "    def __init__(self, layer, N):\n",
    "        super(Encoder, self).__init__()\n",
    "        self.layers = clones(layer, N)\n",
    "        self.norm = LayerNorm(layer.size)\n",
    "        \n",
    "    def forward(self, x):\n",
    "        \"Pass the input through each layer in turn.\"\n",
    "        for layer in self.layers:\n",
    "            x = layer(x)\n",
    "        return self.norm(x)"
   ]
  },
  {
   "cell_type": "code",
   "execution_count": 70,
   "metadata": {
    "id": "z3vWNYA_jMbh"
   },
   "outputs": [],
   "source": [
    "class LayerNorm(nn.Module):\n",
    "    \"Construct a layernorm module (See citation for details).\"\n",
    "    def __init__(self, features, eps=1e-6):\n",
    "        super(LayerNorm, self).__init__()\n",
    "        self.a_2 = nn.Parameter(torch.ones(features)).to(device)\n",
    "        self.b_2 = nn.Parameter(torch.zeros(features)).to(device)\n",
    "        self.eps = eps\n",
    "\n",
    "    def forward(self, x):\n",
    "        mean = x.mean(-1, keepdim=True)\n",
    "        std = x.std(-1, keepdim=True)\n",
    "        return self.a_2 * (x - mean) / (std + self.eps) + self.b_2"
   ]
  },
  {
   "cell_type": "code",
   "execution_count": 71,
   "metadata": {
    "id": "uEMdUlL3jfXG"
   },
   "outputs": [],
   "source": [
    "class SublayerConnection(nn.Module):\n",
    "    \"\"\"\n",
    "    A residual connection followed by a layer norm.\n",
    "    Note for code simplicity the norm is first as opposed to last.\n",
    "    \"\"\"\n",
    "    def __init__(self, size, dropout):\n",
    "        super(SublayerConnection, self).__init__()\n",
    "        self.norm = LayerNorm(size)\n",
    "        self.dropout = nn.Dropout(dropout)\n",
    "\n",
    "    def forward(self, x, sublayer):\n",
    "        \"Apply residual connection to any sublayer with the same size.\"\n",
    "        return x + self.dropout(sublayer(self.norm(x)))"
   ]
  },
  {
   "cell_type": "code",
   "execution_count": 72,
   "metadata": {
    "id": "d7xSGjgnkSCH"
   },
   "outputs": [],
   "source": [
    "class EncoderLayer(nn.Module):\n",
    "    \"Encoder is made up of self-attn and feed forward (defined below)\"\n",
    "    def __init__(self, size, self_attn, feed_forward, dropout):\n",
    "        super(EncoderLayer, self).__init__()\n",
    "        self.self_attn = self_attn\n",
    "        self.feed_forward = feed_forward\n",
    "        self.sublayer = [SublayerConnection(size, dropout) for i in range(2)]\n",
    "        self.size = size\n",
    "\n",
    "    def forward(self, x):\n",
    "        \"Follow Figure 1 (left) for connections.\"\n",
    "        x = self.sublayer[0](x, lambda x: self.self_attn(x, x, x))\n",
    "        return self.sublayer[1](x, self.feed_forward)"
   ]
  },
  {
   "cell_type": "code",
   "execution_count": 73,
   "metadata": {
    "id": "-23H2KFLk27a"
   },
   "outputs": [],
   "source": [
    "class Decoder(nn.Module):\n",
    "    \"Generic N layer decoder\"\n",
    "    def __init__(self, layer, N):\n",
    "        super(Decoder, self).__init__()\n",
    "        self.layers = clones(layer, N)\n",
    "        self.norm = LayerNorm(layer.size)\n",
    "        \n",
    "    def forward(self, x, memory):\n",
    "        for layer in self.layers:\n",
    "            x = layer(x, memory)\n",
    "        return self.norm(x)"
   ]
  },
  {
   "cell_type": "code",
   "execution_count": 74,
   "metadata": {
    "id": "7M3Noq7wlCvl"
   },
   "outputs": [],
   "source": [
    "class DecoderLayer(nn.Module):\n",
    "    \"Decoder is made of self-attn, src-attn, and feed forward (defined below)\"\n",
    "    def __init__(self, size, self_attn, src_attn, feed_forward, dropout):\n",
    "        super(DecoderLayer, self).__init__()\n",
    "        self.size = size\n",
    "        self.self_attn = self_attn\n",
    "        self.src_attn = src_attn\n",
    "        self.feed_forward = feed_forward\n",
    "        self.sublayer = clones(SublayerConnection(size, dropout), 3)\n",
    " \n",
    "    def forward(self, x, memory):\n",
    "        \"Follow Figure 1 (right) for connections.\"\n",
    "        m = memory\n",
    "        x = self.sublayer[0](x, lambda x: self.self_attn(x, x, x\n",
    "        , mask=subsequent_mask(x.shape[-2])))\n",
    "        x = self.sublayer[1](x, lambda x: self.src_attn(m, m, x))\n",
    "        return self.sublayer[2](x, self.feed_forward)"
   ]
  },
  {
   "cell_type": "markdown",
   "metadata": {
    "id": "o9fPOqOQe15D"
   },
   "source": [
    "**Exercise 1a)** Complete the attention method"
   ]
  },
  {
   "cell_type": "code",
   "execution_count": 75,
   "metadata": {
    "id": "kiACIq5Vlzgd"
   },
   "outputs": [],
   "source": [
    "def attention(value, key, query, mask = None, dropout=None):\n",
    "    \"Compute 'Scaled Dot Product Attention'\"\n",
    "    # fill in the gaps\n",
    "    d_k = key.shape[3]\n",
    "    # what is inside the softmax\n",
    "    #print(value.shape, key.shape, query.shape)\n",
    "    scores = torch.matmul(query, torch.transpose(key, 2, 3)) / np.sqrt(d_k)\n",
    "    \n",
    "    if mask is not None:\n",
    "        # change all the values where the mask equals 0 to minus infinity (-1e9 is enough)\n",
    "        scores = scores.masked_fill((mask == 0).to(device), -1e9)  \n",
    "    # apply softmax to the right dimension\n",
    "    p_attn = nn.Softmax(dim=1)(scores)\n",
    "    if dropout is not None:\n",
    "        p_attn = dropout(p_attn)\n",
    "    \n",
    "    # multiply with value\n",
    "    attention = torch.matmul(p_attn, value)\n",
    "    \n",
    "    return attention, p_attn\n",
    "\n"
   ]
  },
  {
   "cell_type": "code",
   "execution_count": 76,
   "metadata": {
    "id": "QMvDOtHgtH2l"
   },
   "outputs": [],
   "source": [
    "class MultiHeadedAttention(nn.Module):\n",
    "    def __init__(self, h, d_model, dropout=0.1):\n",
    "        \"Take in model size and number of heads.\"\n",
    "        super(MultiHeadedAttention, self).__init__()\n",
    "        assert d_model % h == 0\n",
    "        # We assume d_v always equals d_k\n",
    "        self.d_k = d_model // h\n",
    "        self.h = h\n",
    "        self.linears = clones(nn.Linear(d_model, d_model), 4)\n",
    "        self.attn = None\n",
    "        self.dropout = nn.Dropout(p=dropout)\n",
    "        \n",
    "    def forward(self, value, key, query, mask = None):\n",
    "        \"Implements Figure 2\"\n",
    "        if mask is not None:\n",
    "            # Same mask applied to all h heads.\n",
    "            mask = mask.unsqueeze(1)\n",
    "        nbatches = query.size(0)\n",
    "        \n",
    "        # 1) Do all the linear projections in batch from d_model => h x d_k \n",
    "        value, key, query = \\\n",
    "            [l(x).view(nbatches, -1, self.h, self.d_k).transpose(1, 2)\n",
    "             for l, x in zip(self.linears, (value, key, query))]\n",
    "        \n",
    "        # 2) Apply attention on all the projected vectors in batch. \n",
    "        x, self.attn = attention(value, key, query, mask=mask, \n",
    "                                 dropout=self.dropout)\n",
    "        # 3) \"Concat\" using a view and apply a final linear. \n",
    "        x = x.transpose(1, 2).contiguous() \\\n",
    "             .view(nbatches, -1, self.h * self.d_k)\n",
    "        return self.linears[-1](x)"
   ]
  },
  {
   "cell_type": "markdown",
   "metadata": {
    "id": "9Gvrm5iseJhd"
   },
   "source": [
    "**Exercise 1d)** Visualize the mask and explain what it does"
   ]
  },
  {
   "cell_type": "code",
   "execution_count": 77,
   "metadata": {
    "id": "o2P0eJrrry7h"
   },
   "outputs": [],
   "source": [
    "def subsequent_mask(size):\n",
    "    \"Mask out subsequent positions.\"\n",
    "    attn_shape = (1, size, size)\n",
    "    subsequent_mask = np.triu(np.ones(attn_shape), k=1).astype('uint8')\n",
    "    return torch.from_numpy(subsequent_mask) == 0"
   ]
  },
  {
   "cell_type": "code",
   "execution_count": 78,
   "metadata": {},
   "outputs": [
    {
     "data": {
      "text/plain": [
       "tensor([[[ True, False, False, False, False, False],\n",
       "         [ True,  True, False, False, False, False],\n",
       "         [ True,  True,  True, False, False, False],\n",
       "         [ True,  True,  True,  True, False, False],\n",
       "         [ True,  True,  True,  True,  True, False],\n",
       "         [ True,  True,  True,  True,  True,  True]]])"
      ]
     },
     "execution_count": 78,
     "metadata": {},
     "output_type": "execute_result"
    }
   ],
   "source": [
    "subsequent_mask(6)"
   ]
  },
  {
   "cell_type": "markdown",
   "metadata": {},
   "source": [
    "**Result 1d):**<br>\n",
    "The mask results in the upper right values over the diagonal to be set to \"-inf\".<br>\n",
    "This is needed, so that the masked self-attention in the decoder does not get information on future words in the same batch during training, that it should not be having information about. <br>\n",
    "The Trues in the lower left corner stand for the prior words, that the decoder should have information about."
   ]
  },
  {
   "cell_type": "code",
   "execution_count": 79,
   "metadata": {
    "id": "wOrELpc4EgmE"
   },
   "outputs": [],
   "source": [
    "class Embeddings(nn.Module):\n",
    "    def __init__(self, d_model, vocab):\n",
    "        super(Embeddings, self).__init__()\n",
    "        self.lut = nn.Embedding(vocab, d_model)\n",
    "        self.d_model = d_model\n",
    "\n",
    "    def forward(self, x):\n",
    "        return self.lut(x) * math.sqrt(self.d_model)\n"
   ]
  },
  {
   "cell_type": "code",
   "execution_count": 80,
   "metadata": {
    "id": "ZxbblmhOVCv0"
   },
   "outputs": [],
   "source": [
    "class PositionwiseFeedForward(nn.Module):\n",
    "    \"Implements FFN equation.\"\n",
    "    def __init__(self, d_model, d_ff, dropout=0.1):\n",
    "        super(PositionwiseFeedForward, self).__init__()\n",
    "        self.w_1 = nn.Linear(d_model, d_ff)\n",
    "        self.w_2 = nn.Linear(d_ff, d_model)\n",
    "        self.dropout = nn.Dropout(dropout)\n",
    "\n",
    "    def forward(self, x):\n",
    "        return self.w_2(self.dropout(F.relu(self.w_1(x))))\n",
    "\n",
    "\n",
    "class PositionalEncoding(nn.Module):\n",
    "    \"Implements the PE function.\"\n",
    "    def __init__(self, d_model, dropout, max_len=5000):\n",
    "        super(PositionalEncoding, self).__init__()\n",
    "        self.dropout = nn.Dropout(p=dropout)\n",
    "        \n",
    "        # Compute the positional encodings once in log space.\n",
    "        pe = torch.zeros(max_len, d_model)\n",
    "        position = torch.arange(0., max_len).unsqueeze(1)\n",
    "        div_term = torch.exp(torch.arange(0., d_model, 2) *\n",
    "                             -(math.log(10000.0) / d_model))\n",
    "        pe[:, 0::2] = torch.sin(position * div_term)\n",
    "        pe[:, 1::2] = torch.cos(position * div_term)\n",
    "        pe = pe.unsqueeze(0)\n",
    "        self.register_buffer('pe', pe)\n",
    "        \n",
    "    def forward(self, x):\n",
    "        x = x + Variable(self.pe[:, :x.size(1)], \n",
    "                         requires_grad=False)\n",
    "        return self.dropout(x)"
   ]
  },
  {
   "cell_type": "code",
   "execution_count": 81,
   "metadata": {
    "id": "BdmdRkFnVN5H"
   },
   "outputs": [],
   "source": [
    "def make_model(src_vocab, tgt_vocab, N=6, \n",
    "               d_model=512, d_ff=2048, h=8, dropout=0.1):\n",
    "    \"Helper: Construct a model from hyperparameters.\"\n",
    "    c = copy.deepcopy\n",
    "    attn = MultiHeadedAttention(h, d_model)\n",
    "    ff = PositionwiseFeedForward(d_model, d_ff, dropout)\n",
    "    position = PositionalEncoding(d_model, dropout)\n",
    "    model = EncoderDecoder(\n",
    "        Encoder(EncoderLayer(d_model, c(attn), c(ff), dropout), N),\n",
    "        Decoder(DecoderLayer(d_model, c(attn), c(attn), \n",
    "                             c(ff), dropout), N),\n",
    "        nn.Sequential(Embeddings(d_model, src_vocab), c(position)),\n",
    "        nn.Sequential(Embeddings(d_model, tgt_vocab), c(position)),\n",
    "        Generator(d_model, tgt_vocab))\n",
    "    print(tgt_vocab)\n",
    "    # This was important from their code. \n",
    "    # Initialize parameters with Glorot / fan_avg.\n",
    "    for p in model.parameters():\n",
    "        if p.dim() > 1:\n",
    "            nn.init.xavier_uniform(p)\n",
    "    return model"
   ]
  },
  {
   "cell_type": "code",
   "execution_count": 82,
   "metadata": {
    "id": "_YqhHqoAHlDo"
   },
   "outputs": [],
   "source": [
    "def indexesFromSentence(lang, sentence):\n",
    "    return [lang.word2index[word] for word in sentence.split(' ')]\n",
    "\n",
    "\n",
    "def tensorFromSentence(lang, sentence):\n",
    "    # converts a string into a tensor\n",
    "    # the options for lang are either input_lang or output_lang\n",
    "    indexes = indexesFromSentence(lang, sentence)\n",
    "    sen_len = len(indexes)\n",
    "    # fill the tensor with EOS_tokens at the end, s.t. it has length 10\n",
    "    indexes.extend([EOS_token for _ in range(10-sen_len)])\n",
    "    return torch.tensor(indexes, dtype=torch.long, device=device).view(-1, 1)\n",
    "\n",
    "\n",
    "def tensorsFromPair(pair):\n",
    "    input_tensor = tensorFromSentence(input_lang, pair[0])\n",
    "    target_tensor = tensorFromSentence(output_lang, pair[1])\n",
    "    input_tensor = input_tensor.permute(1,0)\n",
    "    target_tensor = target_tensor.permute(1,0)\n",
    "    return (input_tensor, target_tensor)\n",
    "\n",
    "def outputTensorFromTGT(tgt):\n",
    "    # converts the tgt to an output tensor, with which we can compute the loss\n",
    "    # think about what happens here. 4484 =  output_lang.n_words is the number of german words in our dictionary\n",
    "    tgt_list = []\n",
    "    bs = tgt.shape[0]\n",
    "    for i in range(bs):\n",
    "        sentdist_tensor = torch.cat([torch.from_numpy(np.eye(1,output_lang.n_words,index.item())).unsqueeze(0)\n",
    "                           for index in tgt[i,:]], dim = 1)\n",
    "        tgt_list.append(sentdist_tensor)\n",
    "    return torch.cat(tgt_list, dim = 0).float()\n",
    "\n",
    "  \n",
    "  \n",
    "  \n",
    "\n",
    "def train(pair, batch_size, sample = False):\n",
    "    src, tgt = pair\n",
    "    src.to(device)\n",
    "    tgt.to(device)\n",
    "    tgt_tensor = outputTensorFromTGT(tgt).to(device)\n",
    "    decoder_input = torch.tensor([[SOS_token] for _ in range(batch_size)], device=device)\n",
    "    if not sample:\n",
    "        decoder_input = torch.cat([decoder_input, tgt], dim = 1)\n",
    "    else:\n",
    "        cat_list = [decoder_input]\n",
    "        gen_list = []\n",
    "    memory = transformer.encode(src)\n",
    "    if sample:\n",
    "        for i in range(MAX_LENGTH):\n",
    "            decoder_output = transformer.decode(memory, decoder_input)\n",
    "            gen = transformer.generator(decoder_output[:,-1])\n",
    "            gen_list.append(gen.unsqueeze(1))\n",
    "            pred = (gen.argmax(dim = 1)).unsqueeze(1)\n",
    "            cat_list.append(pred)\n",
    "            decoder_input = torch.cat(cat_list, dim = 1)\n",
    "        output = torch.cat(gen_list, dim = 1)\n",
    "    else:\n",
    "        decoder_output = transformer.decode(memory, decoder_input)\n",
    "        gen = transformer.generator(decoder_output[:,:10,:])\n",
    "        output = gen\n",
    "    loss = criterion(output, tgt_tensor)\n",
    "    return loss, decoder_input"
   ]
  },
  {
   "cell_type": "code",
   "execution_count": 83,
   "metadata": {
    "id": "R9vypkIXVqz_"
   },
   "outputs": [
    {
     "name": "stdout",
     "output_type": "stream",
     "text": [
      "4484\n"
     ]
    },
    {
     "name": "stderr",
     "output_type": "stream",
     "text": [
      "D:\\Anaconda3\\lib\\site-packages\\ipykernel_launcher.py:20: UserWarning: nn.init.xavier_uniform is now deprecated in favor of nn.init.xavier_uniform_.\n"
     ]
    }
   ],
   "source": [
    "device = torch.device(\"cuda:0\" if torch.cuda.is_available() else \"cpu\")\n",
    "\n",
    "\n",
    "transformer = make_model(input_lang.n_words, output_lang.n_words, 2 , d_model = 512, d_ff = 512, h = 4)\n",
    "transformer.to(device)\n",
    "\n",
    "optimizer = optim.Adam(transformer.parameters())\n",
    "criterion = nn.KLDivLoss(reduction = 'batchmean')\n",
    "\n",
    "n_pairs = 64000 # number of training pairs\n",
    "batch_size = 512 \n",
    "\n",
    "#--------------\n",
    "# Create Batch\n",
    "#--------------\n",
    "\n",
    "\n",
    "training_pairs = []\n",
    "for i in range(n_pairs // batch_size):\n",
    "    batch_pairs = [tensorsFromPair(random.choice(pairs)) for _ in range(batch_size)] \n",
    "    batch_input  = torch.cat([pair[0] for pair in batch_pairs], dim = 0)\n",
    "    batch_tgt = torch.cat([pair[1] for pair in batch_pairs], dim = 0)\n",
    "    training_pairs.append((batch_input, batch_tgt))\n"
   ]
  },
  {
   "cell_type": "code",
   "execution_count": 84,
   "metadata": {
    "id": "S3nbew_TGn-p"
   },
   "outputs": [],
   "source": [
    "def evaluate(pair, showTgt = False, print_ = True):\n",
    "    transformer.eval()      # disable dropout\n",
    "    inputs = tensorsFromPair(pair)\n",
    "    if print_:\n",
    "        print(\"Example: Input -> Output:\")\n",
    "        print(pair[0])\n",
    "        output_sent ='> '\n",
    "        if showTgt:\n",
    "              print('- '+pair[1])\n",
    "    else:\n",
    "        output_sent = ''\n",
    "    _ , output = train(inputs, batch_size = 1, sample = True)\n",
    "    \n",
    "    for word in output.squeeze(0):\n",
    "        if(word.item() == EOS_token):\n",
    "            # don't print EOS at the end\n",
    "            break\n",
    "        if(word.item() != SOS_token):\n",
    "            # don't print SOS at the beginning\n",
    "            output_sent += output_lang.index2word[word.item()]+' '\n",
    "    return (output_sent)"
   ]
  },
  {
   "cell_type": "markdown",
   "metadata": {},
   "source": [
    "**Exercise 1a)** Train the Transformer for 5 epochs. (10 Epochs used here)"
   ]
  },
  {
   "cell_type": "code",
   "execution_count": 85,
   "metadata": {
    "id": "R4mooxOQWMHa",
    "scrolled": true
   },
   "outputs": [
    {
     "name": "stdout",
     "output_type": "stream",
     "text": [
      "[Epoch: 1][25/125][Loss: 39.50674057006836][Time per epoch: 00:01:41]\n",
      "Example: Input -> Output:\n",
      "Ich mache das nicht wegen dem Geld.\n",
      "> I'm I'm I'm I'm I'm \n",
      "[Epoch: 1][50/125][Loss: 29.56402015686035][Time per epoch: 00:01:41]\n",
      "Example: Input -> Output:\n",
      "Ich bin auch hier.\n",
      "> not not not to to to to to to to \n",
      "[Epoch: 1][75/125][Loss: 26.092172622680664][Time per epoch: 00:01:41]\n",
      "Example: Input -> Output:\n",
      "Du bist so ein Feigling!\n",
      "> I'm not a a a a you. \n",
      "[Epoch: 1][100/125][Loss: 22.278085708618164][Time per epoch: 00:01:41]\n",
      "Example: Input -> Output:\n",
      "Sie ist ein sehr schüchternes Mädchen.\n",
      "> I am a a a a a a a a \n",
      "[Epoch: 1][125/125][Loss: 16.4414005279541][Time per epoch: 00:01:41]\n",
      "Example: Input -> Output:\n",
      "Du bist unbegabt.\n",
      "> You're a good good good good good good good good \n",
      "[Epoch: 2][25/125][Loss: 10.861800193786621][Time per epoch: 00:01:42]\n",
      "Example: Input -> Output:\n",
      "Ich bin viel größer als Tom.\n",
      "> I'm taller than I am. \n",
      "[Epoch: 2][50/125][Loss: 7.257593631744385][Time per epoch: 00:01:41]\n",
      "Example: Input -> Output:\n",
      "Er ist inkompetent.\n",
      "> He's not a good at all. \n",
      "[Epoch: 2][75/125][Loss: 4.752066135406494][Time per epoch: 00:01:40]\n",
      "Example: Input -> Output:\n",
      "Ich bin sehr neugierig.\n",
      "> I'm very good at the moment. \n",
      "[Epoch: 2][100/125][Loss: 3.0900158882141113][Time per epoch: 00:01:41]\n",
      "Example: Input -> Output:\n",
      "Ich kämpfe.\n",
      "> I'm not a good at all. \n",
      "[Epoch: 2][125/125][Loss: 2.1047651767730713][Time per epoch: 00:01:41]\n",
      "Example: Input -> Output:\n",
      "Er ist immer ordentlich gekleidet.\n",
      "> He's always always always always always always always always always \n",
      "[Epoch: 3][25/125][Loss: 1.4649925231933594][Time per epoch: 00:01:44]\n",
      "Example: Input -> Output:\n",
      "Ich werde heute Nacht zu Hause bleiben.\n",
      "> I'm going to be here Tom soon. \n",
      "[Epoch: 3][50/125][Loss: 1.117594838142395][Time per epoch: 00:01:43]\n",
      "Example: Input -> Output:\n",
      "Du bist merkwürdig.\n",
      "> You're not a lot of you think of am. \n",
      "[Epoch: 3][75/125][Loss: 0.8384884595870972][Time per epoch: 00:01:44]\n",
      "Example: Input -> Output:\n",
      "Wir sind noch in Boston.\n",
      "> We're not a long as a long as long as \n",
      "[Epoch: 3][100/125][Loss: 0.6127830147743225][Time per epoch: 00:01:43]\n",
      "Example: Input -> Output:\n",
      "Sie sind unter Freunden.\n",
      "> You're not going to be friends. \n",
      "[Epoch: 3][125/125][Loss: 0.504656970500946][Time per epoch: 00:01:43]\n",
      "Example: Input -> Output:\n",
      "Wir gehen nicht ohne euch.\n",
      "> We're not going to be a lot of you. \n",
      "[Epoch: 4][25/125][Loss: 0.3960825502872467][Time per epoch: 00:01:42]\n",
      "Example: Input -> Output:\n",
      "Wir ziehen nächsten Monat um.\n",
      "> We're moving in the next month. \n",
      "[Epoch: 4][50/125][Loss: 0.3557753264904022][Time per epoch: 00:01:42]\n",
      "Example: Input -> Output:\n",
      "Sie sind aggressiv.\n",
      "> You're not in the same age as you. \n",
      "[Epoch: 4][75/125][Loss: 0.2949027419090271][Time per epoch: 00:01:41]\n",
      "Example: Input -> Output:\n",
      "Ich bin nicht die Besitzerin.\n",
      "> I'm not going to do it at all. \n",
      "[Epoch: 4][100/125][Loss: 0.2426959127187729][Time per epoch: 00:01:42]\n",
      "Example: Input -> Output:\n",
      "Ich mische mich da nicht ein.\n",
      "> I'm not going to speak a French now. \n",
      "[Epoch: 4][125/125][Loss: 0.21592718362808228][Time per epoch: 00:01:41]\n",
      "Example: Input -> Output:\n",
      "Wir haben kein Toilettenpapier mehr.\n",
      "> We're not going to be a whole world. \n",
      "[Epoch: 5][25/125][Loss: 0.19935080409049988][Time per epoch: 00:01:40]\n",
      "Example: Input -> Output:\n",
      "Ich bin eine Gefangene.\n",
      "> I'm very much of the same life. \n",
      "[Epoch: 5][50/125][Loss: 0.18859392404556274][Time per epoch: 00:01:42]\n",
      "Example: Input -> Output:\n",
      "Er beneidet sie um ihr Talent.\n",
      "> He's always making that you are. \n",
      "[Epoch: 5][75/125][Loss: 0.16241702437400818][Time per epoch: 00:01:41]\n",
      "Example: Input -> Output:\n",
      "Sie ist äußerst kälteempfindlich.\n",
      "> She's exceedingly sensitive to the cold. \n",
      "[Epoch: 5][100/125][Loss: 0.14008983969688416][Time per epoch: 00:01:42]\n",
      "Example: Input -> Output:\n",
      "Ich bin ein Nichtsnutz.\n",
      "> I'm afraid of you a lot of person. \n",
      "[Epoch: 5][125/125][Loss: 0.12612105906009674][Time per epoch: 00:01:42]\n",
      "Example: Input -> Output:\n",
      "Er ist der geizigste Mensch, den ich kenne.\n",
      "> He's the laziest person I know. \n",
      "[Epoch: 6][25/125][Loss: 0.11784132570028305][Time per epoch: 00:01:44]\n",
      "Example: Input -> Output:\n",
      "Wir verschwenden unsere Zeit.\n",
      "> We're wasting a lot of our lot of our lot \n",
      "[Epoch: 6][50/125][Loss: 0.11750543117523193][Time per epoch: 00:01:44]\n",
      "Example: Input -> Output:\n",
      "Ich fürchte, das verstehe ich nicht.\n",
      "> I'm afraid I can't make it out. \n",
      "[Epoch: 6][75/125][Loss: 0.1086466833949089][Time per epoch: 00:01:45]\n",
      "Example: Input -> Output:\n",
      "Ich bin keine Künstlerin.\n",
      "> I'm not a lot of money. \n",
      "[Epoch: 6][100/125][Loss: 0.09403688460588455][Time per epoch: 00:01:45]\n",
      "Example: Input -> Output:\n",
      "Ich bin sehr froh, wieder zu Hause zu sein.\n",
      "> I'm very glad to be a meeting. \n",
      "[Epoch: 6][125/125][Loss: 0.08932469040155411][Time per epoch: 00:01:44]\n",
      "Example: Input -> Output:\n",
      "Ich bin Englischlehrerin.\n",
      "> I'm a little bit of a little tipsy. \n",
      "[Epoch: 7][25/125][Loss: 0.08479823172092438][Time per epoch: 00:01:45]\n",
      "Example: Input -> Output:\n",
      "Du hast absolut recht bezüglich seines Charakters.\n",
      "> You're absolutely right about his character. \n",
      "[Epoch: 7][50/125][Loss: 0.07834096997976303][Time per epoch: 00:01:47]\n",
      "Example: Input -> Output:\n",
      "Wir freuen uns ja so für euch!\n",
      "> We're so much of so much of so much so \n",
      "[Epoch: 7][75/125][Loss: 0.07385574281215668][Time per epoch: 00:01:45]\n",
      "Example: Input -> Output:\n",
      "Er ist bis an die Zähne bewaffnet.\n",
      "> He's not the same age as you are. \n",
      "[Epoch: 7][100/125][Loss: 0.07183081656694412][Time per epoch: 00:01:45]\n",
      "Example: Input -> Output:\n",
      "Ich bin froh, dass du unversehrt bist.\n",
      "> I'm glad to hear that you came here. \n",
      "[Epoch: 7][125/125][Loss: 0.0746186301112175][Time per epoch: 00:01:45]\n",
      "Example: Input -> Output:\n",
      "Du bist ein braves Mädchen.\n",
      "> You're a good at a good mood. \n",
      "[Epoch: 8][25/125][Loss: 0.06657683849334717][Time per epoch: 00:01:40]\n",
      "Example: Input -> Output:\n",
      "Wir sind in Boston.\n",
      "> We're not in the same age as you are. \n",
      "[Epoch: 8][50/125][Loss: 0.06451529264450073][Time per epoch: 00:01:41]\n",
      "Example: Input -> Output:\n",
      "Er ist ein aggressiver Mensch.\n",
      "> He's a big fan of American cooking. \n",
      "[Epoch: 8][75/125][Loss: 0.05980391055345535][Time per epoch: 00:01:42]\n",
      "Example: Input -> Output:\n",
      "Ich bin so stolz, dass sie die Meine ist.\n",
      "> I'm proud of my son of my success. \n",
      "[Epoch: 8][100/125][Loss: 0.058436471968889236][Time per epoch: 00:01:41]\n",
      "Example: Input -> Output:\n",
      "Ich bin mir nicht sicher, warum.\n",
      "> I'm not sure of his success. \n",
      "[Epoch: 8][125/125][Loss: 0.05335084721446037][Time per epoch: 00:01:42]\n",
      "Example: Input -> Output:\n",
      "Ich werde Ihre Hilfe benötigen.\n",
      "> I'm going to be here for help. \n",
      "[Epoch: 9][25/125][Loss: 0.05354277789592743][Time per epoch: 00:01:42]\n",
      "Example: Input -> Output:\n",
      "Er ist jetzt wohlhabend.\n",
      "> He's a good at the moment. \n",
      "[Epoch: 9][50/125][Loss: 0.054912298917770386][Time per epoch: 00:01:44]\n",
      "Example: Input -> Output:\n",
      "Ihr seid inkompetent.\n",
      "> You're not going to be a Canadian. \n",
      "[Epoch: 9][75/125][Loss: 0.052162304520606995][Time per epoch: 00:01:43]\n",
      "Example: Input -> Output:\n",
      "Wir sind noch nicht so hungrig.\n",
      "> We're not so much of you are. \n",
      "[Epoch: 9][100/125][Loss: 0.04840303957462311][Time per epoch: 00:01:43]\n",
      "Example: Input -> Output:\n",
      "Er ist auch in Japan sehr berühmt.\n",
      "> He's also very famous in Japan. \n",
      "[Epoch: 9][125/125][Loss: 0.041647959500551224][Time per epoch: 00:01:43]\n",
      "Example: Input -> Output:\n",
      "Du siehst gut aus!\n",
      "> You're looking for our passports. \n",
      "[Epoch: 10][25/125][Loss: 0.04301353916525841][Time per epoch: 00:01:42]\n",
      "Example: Input -> Output:\n",
      "Wir sind den Naturgesetzen unterworfen.\n",
      "> We're not a lot of Tom. \n",
      "[Epoch: 10][50/125][Loss: 0.04266117513179779][Time per epoch: 00:01:42]\n",
      "Example: Input -> Output:\n",
      "Sie wird immer hübscher.\n",
      "> You're getting in the piano. \n",
      "[Epoch: 10][75/125][Loss: 0.03960473835468292][Time per epoch: 00:01:43]\n",
      "Example: Input -> Output:\n",
      "Ich bin auf alles eingestellt.\n",
      "> I'm ready to be a relationship. \n",
      "[Epoch: 10][100/125][Loss: 0.0410882905125618][Time per epoch: 00:01:43]\n",
      "Example: Input -> Output:\n",
      "Wir gehen nirgendwohin.\n",
      "> We're not going to leave any younger. \n",
      "[Epoch: 10][125/125][Loss: 0.037673115730285645][Time per epoch: 00:01:43]\n",
      "Example: Input -> Output:\n",
      "Du hast hier keinen Zutritt!\n",
      "> You're not allowed in the whole world. \n",
      "Loss plot:\n"
     ]
    },
    {
     "data": {
      "image/png": "[encoded data removed]",
      "text/plain": [
       "<Figure size 432x288 with 1 Axes>"
      ]
     },
     "metadata": {
      "needs_background": "light"
     },
     "output_type": "display_data"
    }
   ],
   "source": [
    "import time\n",
    "\n",
    "\n",
    "start_time = time.time()\n",
    "def timer(progress, iterations):\n",
    "    now = time.time()-start_time\n",
    "    now = now*iterations/progress\n",
    "    std = now // 3600\n",
    "    min = (now // 60) % 60\n",
    "    sec = now % 60\n",
    "    return int(std), int(min), int(sec)\n",
    "\n",
    "\n",
    "total_loss = 0\n",
    "log = 25       # when to show training status\n",
    "epochs = 10     # how many epochs to train\n",
    "losses = []\n",
    "for epoch in range(epochs):\n",
    "    for i,pair in enumerate(training_pairs):\n",
    "        transformer.train()\n",
    "        optimizer.zero_grad()\n",
    "        loss, _ = train(pair, batch_size = batch_size)\n",
    "        loss.backward()\n",
    "        optimizer.step()\n",
    "        total_loss += loss\n",
    "        losses.append(loss)\n",
    "        if i% log == log-1:\n",
    "            print(\"[Epoch: {}][{}/{}][Loss: {}][Time per epoch: {:02d}:{:02d}:{:02d}]\".format(\n",
    "                epoch+1, i+1, int(n_pairs/batch_size), total_loss/log, *timer(i+1,int(n_pairs/batch_size))))\n",
    "            total_loss = 0\n",
    "            pair = random.choice(pairs)\n",
    "            print(evaluate(pair))\n",
    "    start_time = time.time()\n",
    "print('Loss plot:')\n",
    "plt.plot(losses)\n",
    "plt.show()\n"
   ]
  },
  {
   "cell_type": "code",
   "execution_count": 86,
   "metadata": {
    "id": "Kkf7VW7i5ued"
   },
   "outputs": [
    {
     "name": "stdout",
     "output_type": "stream",
     "text": [
      "Example: Input -> Output:\n",
      "Du bist beharrlich.\n",
      "- You're persevering.\n",
      "> You're persevering. \n"
     ]
    }
   ],
   "source": [
    "pair = random.choice(pairs)\n",
    "print(evaluate(pair, showTgt = True))"
   ]
  },
  {
   "cell_type": "markdown",
   "metadata": {},
   "source": [
    "**Exercise 1b)** Understand input and output: Print the shape of the input and output and explain\n",
    "what each dimension stands for. How does the KL-Divergence compute the loss for the\n",
    "output? Think about how the tensor represents a probability distribution."
   ]
  },
  {
   "cell_type": "code",
   "execution_count": 87,
   "metadata": {},
   "outputs": [
    {
     "name": "stdout",
     "output_type": "stream",
     "text": [
      "Input Shapes: (Sequence: torch.Size([1, 10]) ,Target: torch.Size([1, 10]) )\n",
      "The first dimension is the batch size, the second dimension is the maximal sentence length.\n",
      "Output Shape: torch.Size([1, 11])\n",
      "The first dimension is the batch size, the second dimension is the sentence length.\n"
     ]
    }
   ],
   "source": [
    "pair = random.choice(pairs)\n",
    "transformer.eval()      # disable dropout\n",
    "inputs = tensorsFromPair(pair)\n",
    "print(\"Input Shapes: (Sequence:\",inputs[0].shape, \",Target:\",inputs[1].shape,\")\")\n",
    "print(\"The first dimension is the batch size, the second dimension is the maximal sentence length.\")\n",
    "_ , output = train(inputs, batch_size = 1, sample = True)\n",
    "print(\"Output Shape:\",output.shape)\n",
    "print(\"The first dimension is the batch size, the second dimension is the sentence length.\")"
   ]
  },
  {
   "cell_type": "code",
   "execution_count": 88,
   "metadata": {},
   "outputs": [
    {
     "name": "stdout",
     "output_type": "stream",
     "text": [
      "Output Shape: torch.Size([1, 10, 4484])\n",
      "Target Shape: torch.Size([1, 10, 4484])\n",
      "The Inputs for the KL-Divergence loss criterion are of size:\n",
      "    (batchsize, sentence-length, softmax distribution over tokens)\n",
      "So the KL_Divergence looks at the difference in token-distributions between output and target.\n"
     ]
    }
   ],
   "source": [
    "sample=False\n",
    "src, tgt = inputs\n",
    "src.to(device)\n",
    "tgt.to(device)\n",
    "tgt_tensor = outputTensorFromTGT(tgt).to(device)\n",
    "decoder_input = torch.tensor([[SOS_token] for _ in range(1)], device=device)\n",
    "if not sample:\n",
    "    decoder_input = torch.cat([decoder_input, tgt], dim = 1)\n",
    "else:\n",
    "    cat_list = [decoder_input]\n",
    "    gen_list = []\n",
    "memory = transformer.encode(src)\n",
    "if sample:\n",
    "    for i in range(MAX_LENGTH):\n",
    "        decoder_output = transformer.decode(memory, decoder_input)\n",
    "        gen = transformer.generator(decoder_output[:,-1])\n",
    "        gen_list.append(gen.unsqueeze(1))\n",
    "        pred = (gen.argmax(dim = 1)).unsqueeze(1)\n",
    "        cat_list.append(pred)\n",
    "        decoder_input = torch.cat(cat_list, dim = 1)\n",
    "    output = torch.cat(gen_list, dim = 1)\n",
    "else:\n",
    "    decoder_output = transformer.decode(memory, decoder_input)\n",
    "    gen = transformer.generator(decoder_output[:,:10,:])\n",
    "    output = gen\n",
    "print(\"Output Shape:\",output.shape)\n",
    "print(\"Target Shape:\",tgt_tensor.shape)\n",
    "print(\"The Inputs for the KL-Divergence loss criterion are of size:\")\n",
    "print(\"    (batchsize, sentence-length, softmax distribution over tokens)\")\n",
    "print(\"So the KL_Divergence looks at the difference in token-distributions between output and target.\")\n",
    "#loss = criterion(output, tgt_tensor)"
   ]
  },
  {
   "cell_type": "markdown",
   "metadata": {
    "id": "YQVInITOo4V-"
   },
   "source": [
    "**Exercise 1c)** Translate your own german sentence. You can make use of the evaluate function to achive that."
   ]
  },
  {
   "cell_type": "code",
   "execution_count": 89,
   "metadata": {
    "id": "3ZZHZH-DZGjk"
   },
   "outputs": [
    {
     "name": "stdout",
     "output_type": "stream",
     "text": [
      "Example: Input -> Output:\n",
      "Du bist sauer.\n",
      "- You are angry.\n",
      "> You're a little mad at you. \n"
     ]
    }
   ],
   "source": [
    "pair = [\"Du bist sauer.\", \"You are angry.\"]\n",
    "print(evaluate(pair, showTgt = True))"
   ]
  },
  {
   "cell_type": "markdown",
   "metadata": {
    "id": "Ib3sNDkvajbQ"
   },
   "source": [
    "**Exercise 2a)** Print the distance from your word to sister in embedding space "
   ]
  },
  {
   "cell_type": "code",
   "execution_count": 90,
   "metadata": {
    "id": "TjFm5Z4li9By"
   },
   "outputs": [],
   "source": [
    "word1 = \"woman\"\n",
    "word2 = \"man\"\n",
    "word3 = \"brother\"\n",
    "word4 = \"sister\""
   ]
  },
  {
   "cell_type": "code",
   "execution_count": 91,
   "metadata": {},
   "outputs": [
    {
     "data": {
      "text/plain": [
       "torch.Size([10, 1, 512])"
      ]
     },
     "execution_count": 91,
     "metadata": {},
     "output_type": "execute_result"
    }
   ],
   "source": [
    "word1_embed = transformer.tgt_embed(tensorFromSentence(output_lang, word1))\n",
    "word2_embed = transformer.tgt_embed(tensorFromSentence(output_lang, word2))\n",
    "word3_embed = transformer.tgt_embed(tensorFromSentence(output_lang, word3))\n",
    "word4_embed = transformer.tgt_embed(tensorFromSentence(output_lang, word4))\n",
    "word1_embed.shape"
   ]
  },
  {
   "cell_type": "code",
   "execution_count": 92,
   "metadata": {},
   "outputs": [
    {
     "name": "stdout",
     "output_type": "stream",
     "text": [
      "torch.Size([10, 1, 512]) torch.Size([10, 1, 512])\n"
     ]
    },
    {
     "data": {
      "text/plain": [
       "tensor(1185.0962, device='cuda:0', grad_fn=<SumBackward0>)"
      ]
     },
     "execution_count": 92,
     "metadata": {},
     "output_type": "execute_result"
    }
   ],
   "source": [
    "calc_embed = word3_embed - word2_embed + word1_embed\n",
    "print(calc_embed.shape,word4_embed.shape)\n",
    "torch.sum((calc_embed - word4_embed)**2)"
   ]
  },
  {
   "cell_type": "markdown",
   "metadata": {},
   "source": [
    "**Result 2a):** The Euclidean distance seems to be quite large between the two Embeddings. (But is got smaller by about 600 by changing the epochs from 5 to 10)"
   ]
  },
  {
   "cell_type": "markdown",
   "metadata": {
    "id": "PG4HbnWmgZzj"
   },
   "source": [
    "**Exercise 2b)** Complete the following code. Be aware that there will be 10 values for each word even if the input sentence is shorter than 10 words. Thats because the sentences get filled with EOS_tokens at the end such that they all are the same size. Set the tick_label of the bar plot to be the input sentences words (use string.split() to convert strings to lists)."
   ]
  },
  {
   "cell_type": "code",
   "execution_count": 93,
   "metadata": {},
   "outputs": [
    {
     "data": {
      "text/plain": [
       "DecoderLayer(\n",
       "  (self_attn): MultiHeadedAttention(\n",
       "    (linears): ModuleList(\n",
       "      (0): Linear(in_features=512, out_features=512, bias=True)\n",
       "      (1): Linear(in_features=512, out_features=512, bias=True)\n",
       "      (2): Linear(in_features=512, out_features=512, bias=True)\n",
       "      (3): Linear(in_features=512, out_features=512, bias=True)\n",
       "    )\n",
       "    (dropout): Dropout(p=0.1, inplace=False)\n",
       "  )\n",
       "  (src_attn): MultiHeadedAttention(\n",
       "    (linears): ModuleList(\n",
       "      (0): Linear(in_features=512, out_features=512, bias=True)\n",
       "      (1): Linear(in_features=512, out_features=512, bias=True)\n",
       "      (2): Linear(in_features=512, out_features=512, bias=True)\n",
       "      (3): Linear(in_features=512, out_features=512, bias=True)\n",
       "    )\n",
       "    (dropout): Dropout(p=0.1, inplace=False)\n",
       "  )\n",
       "  (feed_forward): PositionwiseFeedForward(\n",
       "    (w_1): Linear(in_features=512, out_features=512, bias=True)\n",
       "    (w_2): Linear(in_features=512, out_features=512, bias=True)\n",
       "    (dropout): Dropout(p=0.1, inplace=False)\n",
       "  )\n",
       "  (sublayer): ModuleList(\n",
       "    (0): SublayerConnection(\n",
       "      (norm): LayerNorm()\n",
       "      (dropout): Dropout(p=0.1, inplace=False)\n",
       "    )\n",
       "    (1): SublayerConnection(\n",
       "      (norm): LayerNorm()\n",
       "      (dropout): Dropout(p=0.1, inplace=False)\n",
       "    )\n",
       "    (2): SublayerConnection(\n",
       "      (norm): LayerNorm()\n",
       "      (dropout): Dropout(p=0.1, inplace=False)\n",
       "    )\n",
       "  )\n",
       ")"
      ]
     },
     "execution_count": 93,
     "metadata": {},
     "output_type": "execute_result"
    }
   ],
   "source": [
    "transformer.decoder.layers[0]"
   ]
  },
  {
   "cell_type": "code",
   "execution_count": 94,
   "metadata": {
    "scrolled": true
   },
   "outputs": [
    {
     "data": {
      "text/plain": [
       "torch.Size([4, 10, 10])"
      ]
     },
     "execution_count": 94,
     "metadata": {},
     "output_type": "execute_result"
    }
   ],
   "source": [
    "transformer.decoder.layers[0].src_attn.attn[0].shape"
   ]
  },
  {
   "cell_type": "code",
   "execution_count": 95,
   "metadata": {
    "id": "pH2TlFlLZyVZ"
   },
   "outputs": [
    {
     "name": "stdout",
     "output_type": "stream",
     "text": [
      "Input sentence: Ich bin das zweitälteste von drei Kindern.\n",
      "Output sentence: I'm the second oldest of three children. \n",
      "Word for attention:  second\n"
     ]
    },
    {
     "data": {
      "image/png": "[encoded data removed]",
      "text/plain": [
       "<Figure size 1080x360 with 1 Axes>"
      ]
     },
     "metadata": {
      "needs_background": "light"
     },
     "output_type": "display_data"
    }
   ],
   "source": [
    "pair = random.choice(pairs)\n",
    "output = evaluate(pair, showTgt = True, print_ = False)\n",
    "sentence = pair[0].split()\n",
    "which_word = 2\n",
    "output_sentence = output.split()\n",
    "print('Input sentence: {}'.format(pair[0]))\n",
    "print('Output sentence: {}'.format(output))\n",
    "print(\"Word for attention: \",output_sentence[which_word])\n",
    "att_tensor = transformer.decoder.layers[0].src_attn.attn[0].data\n",
    "att_tensor = att_tensor.to('cpu').numpy()\n",
    "fig, ax = plt.subplots(figsize=(15,5))\n",
    "x = np.arange(att_tensor.shape[1])\n",
    "width = 0.2\n",
    "labels = sentence\n",
    "for i in range(len(sentence),att_tensor.shape[1]):\n",
    "    labels.append(\"empty\")\n",
    "\n",
    "dist = att_tensor[0][which_word]\n",
    "rects1 = ax.bar(x - 3*width/2, dist, width, label='head 1')\n",
    "dist = att_tensor[1][which_word]\n",
    "rects2 = ax.bar(x - width/2, dist, width, label='head 2')\n",
    "dist = att_tensor[2][which_word]\n",
    "rects3 = ax.bar(x + width/2, dist, width, label='head 3')\n",
    "dist = att_tensor[3][which_word]\n",
    "rects4 = ax.bar(x + 3*width/2, dist, width, label='head 4')\n",
    "    \n",
    "ax.set_ylabel('Word Attention')\n",
    "ax.set_title('Attention weights per head for word: {}'.format(output_sentence[which_word]))\n",
    "ax.set_xticks(x)\n",
    "ax.set_xticklabels(sentence)\n",
    "ax.legend()\n",
    "plt.show()"
   ]
  }
 ],
 "metadata": {
  "accelerator": "GPU",
  "colab": {
   "collapsed_sections": [],
   "name": "Transformer.ipynb",
   "provenance": [],
   "toc_visible": true
  },
  "kernelspec": {
   "display_name": "Python 3",
   "language": "python",
   "name": "python3"
  },
  "language_info": {
   "codemirror_mode": {
    "name": "ipython",
    "version": 3
   },
   "file_extension": ".py",
   "mimetype": "text/x-python",
   "name": "python",
   "nbconvert_exporter": "python",
   "pygments_lexer": "ipython3",
   "version": "3.6.10"
  }
 },
 "nbformat": 4,
 "nbformat_minor": 1
}
